{
 "cells": [
  {
   "cell_type": "code",
   "execution_count": 1,
   "id": "277d258d",
   "metadata": {},
   "outputs": [],
   "source": [
    "from apyori import apriori"
   ]
  },
  {
   "cell_type": "code",
   "execution_count": 2,
   "id": "c6bc2b25",
   "metadata": {},
   "outputs": [
    {
     "ename": "TypeError",
     "evalue": "apriori() missing 1 required positional argument: 'transactions'",
     "output_type": "error",
     "traceback": [
      "\u001b[0;31m---------------------------------------------------------------------------\u001b[0m",
      "\u001b[0;31mTypeError\u001b[0m                                 Traceback (most recent call last)",
      "Cell \u001b[0;32mIn[2], line 1\u001b[0m\n\u001b[0;32m----> 1\u001b[0m apriori()\n",
      "\u001b[0;31mTypeError\u001b[0m: apriori() missing 1 required positional argument: 'transactions'"
     ]
    }
   ],
   "source": [
    "apriori()"
   ]
  },
  {
   "cell_type": "code",
   "execution_count": null,
   "id": "18bf039c",
   "metadata": {},
   "outputs": [],
   "source": [
    "import pandas as pd\n",
    "from mlxtend.frequent_patterns import apriori"
   ]
  }
 ],
 "metadata": {
  "kernelspec": {
   "display_name": "Python 3 (ipykernel)",
   "language": "python",
   "name": "python3"
  },
  "language_info": {
   "codemirror_mode": {
    "name": "ipython",
    "version": 3
   },
   "file_extension": ".py",
   "mimetype": "text/x-python",
   "name": "python",
   "nbconvert_exporter": "python",
   "pygments_lexer": "ipython3",
   "version": "3.11.5"
  }
 },
 "nbformat": 4,
 "nbformat_minor": 5
}
