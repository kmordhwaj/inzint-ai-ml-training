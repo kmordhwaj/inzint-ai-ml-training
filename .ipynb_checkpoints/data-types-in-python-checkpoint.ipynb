{
 "cells": [
  {
   "cell_type": "markdown",
   "id": "2c9a7530",
   "metadata": {},
   "source": [
    "# numerical data types"
   ]
  },
  {
   "cell_type": "code",
   "execution_count": null,
   "id": "7dc4c105",
   "metadata": {},
   "outputs": [],
   "source": [
    "#number"
   ]
  },
  {
   "cell_type": "code",
   "execution_count": 1,
   "id": "2a3b7bb1",
   "metadata": {},
   "outputs": [
    {
     "data": {
      "text/plain": [
       "int"
      ]
     },
     "execution_count": 1,
     "metadata": {},
     "output_type": "execute_result"
    }
   ],
   "source": [
    "number=89\n",
    "type(number)"
   ]
  },
  {
   "cell_type": "code",
   "execution_count": 2,
   "id": "bddc8bcf",
   "metadata": {},
   "outputs": [
    {
     "name": "stdout",
     "output_type": "stream",
     "text": [
      "89\n"
     ]
    }
   ],
   "source": [
    "print(number)"
   ]
  },
  {
   "cell_type": "code",
   "execution_count": 4,
   "id": "defe1b9c",
   "metadata": {},
   "outputs": [],
   "source": [
    "#float"
   ]
  },
  {
   "cell_type": "code",
   "execution_count": 5,
   "id": "677f7841",
   "metadata": {},
   "outputs": [
    {
     "data": {
      "text/plain": [
       "float"
      ]
     },
     "execution_count": 5,
     "metadata": {},
     "output_type": "execute_result"
    }
   ],
   "source": [
    "f1=34.566\n",
    "type(f1)"
   ]
  },
  {
   "cell_type": "code",
   "execution_count": 6,
   "id": "29ddee86",
   "metadata": {},
   "outputs": [
    {
     "data": {
      "text/plain": [
       "complex"
      ]
     },
     "execution_count": 6,
     "metadata": {},
     "output_type": "execute_result"
    }
   ],
   "source": [
    "#complex number (a+bj) a = real_part; b = imaginary_part\n",
    "comp=4-5j\n",
    "type(comp)"
   ]
  },
  {
   "cell_type": "code",
   "execution_count": 7,
   "id": "d05974c3",
   "metadata": {},
   "outputs": [
    {
     "data": {
      "text/plain": [
       "4.0"
      ]
     },
     "execution_count": 7,
     "metadata": {},
     "output_type": "execute_result"
    }
   ],
   "source": [
    "comp.real"
   ]
  },
  {
   "cell_type": "code",
   "execution_count": 8,
   "id": "650d4564",
   "metadata": {},
   "outputs": [
    {
     "data": {
      "text/plain": [
       "-5.0"
      ]
     },
     "execution_count": 8,
     "metadata": {},
     "output_type": "execute_result"
    }
   ],
   "source": [
    "comp.imag"
   ]
  },
  {
   "cell_type": "markdown",
   "id": "cbf7374b",
   "metadata": {},
   "source": [
    "# text data types"
   ]
  },
  {
   "cell_type": "code",
   "execution_count": 9,
   "id": "1f98c72a",
   "metadata": {},
   "outputs": [
    {
     "name": "stdout",
     "output_type": "stream",
     "text": [
      "Inzint\n"
     ]
    }
   ],
   "source": [
    "# string - sequence of alphaneumeric types\n",
    "company=\"Inzint\"\n",
    "print(company)"
   ]
  },
  {
   "cell_type": "code",
   "execution_count": 11,
   "id": "ea71f925",
   "metadata": {},
   "outputs": [
    {
     "name": "stdout",
     "output_type": "stream",
     "text": [
      "I work at Inzint\n"
     ]
    }
   ],
   "source": [
    "print('I work at', company)"
   ]
  },
  {
   "cell_type": "code",
   "execution_count": 12,
   "id": "cf7ed422",
   "metadata": {},
   "outputs": [
    {
     "name": "stdout",
     "output_type": "stream",
     "text": [
      "I am mordhwaj.\n",
      "I work in inzint\n"
     ]
    }
   ],
   "source": [
    "multi_line_string = \"\"\"I am mordhwaj.\n",
    "I work in inzint\"\"\"\n",
    "print(multi_line_string)"
   ]
  },
  {
   "cell_type": "code",
   "execution_count": 13,
   "id": "ed39d52a",
   "metadata": {},
   "outputs": [
    {
     "name": "stdout",
     "output_type": "stream",
     "text": [
      "34\n"
     ]
    }
   ],
   "source": [
    "\"\"\"I am mordhwaj.\n",
    "I work in inzint\"\"\"\n",
    "number=34\n",
    "print(number)\n",
    "# here multiline string is ignored and treated as comment by compiler"
   ]
  },
  {
   "cell_type": "code",
   "execution_count": 14,
   "id": "faa9d114",
   "metadata": {},
   "outputs": [],
   "source": [
    "# variable name should be in format (h/w)"
   ]
  },
  {
   "cell_type": "code",
   "execution_count": null,
   "id": "c6625cf3",
   "metadata": {},
   "outputs": [],
   "source": []
  },
  {
   "cell_type": "code",
   "execution_count": 15,
   "id": "68ce3998",
   "metadata": {},
   "outputs": [],
   "source": [
    "# indexing in array/list/string\n",
    "\n",
    "#  0   1   2   3   4   5\n",
    "#  p   y   t   h   o   n\n",
    "# -6  -5  -4  -3  -2  -1"
   ]
  },
  {
   "cell_type": "code",
   "execution_count": 16,
   "id": "15971ef3",
   "metadata": {},
   "outputs": [
    {
     "data": {
      "text/plain": [
       "6"
      ]
     },
     "execution_count": 16,
     "metadata": {},
     "output_type": "execute_result"
    }
   ],
   "source": [
    "string1=\"python\"\n",
    "len(string1)"
   ]
  },
  {
   "cell_type": "code",
   "execution_count": 17,
   "id": "afdd0422",
   "metadata": {},
   "outputs": [
    {
     "data": {
      "text/plain": [
       "'p'"
      ]
     },
     "execution_count": 17,
     "metadata": {},
     "output_type": "execute_result"
    }
   ],
   "source": [
    "string1[0]"
   ]
  },
  {
   "cell_type": "code",
   "execution_count": 19,
   "id": "25ce1289",
   "metadata": {},
   "outputs": [
    {
     "data": {
      "text/plain": [
       "'n'"
      ]
     },
     "execution_count": 19,
     "metadata": {},
     "output_type": "execute_result"
    }
   ],
   "source": [
    "string1[-1]"
   ]
  },
  {
   "cell_type": "code",
   "execution_count": 20,
   "id": "ab4c6350",
   "metadata": {},
   "outputs": [],
   "source": [
    "# slicing\n",
    "# variable_name[start:stop:step]"
   ]
  },
  {
   "cell_type": "code",
   "execution_count": 21,
   "id": "6d0a7993",
   "metadata": {},
   "outputs": [
    {
     "data": {
      "text/plain": [
       "'python'"
      ]
     },
     "execution_count": 21,
     "metadata": {},
     "output_type": "execute_result"
    }
   ],
   "source": [
    "string1"
   ]
  },
  {
   "cell_type": "code",
   "execution_count": 22,
   "id": "5e867768",
   "metadata": {},
   "outputs": [
    {
     "data": {
      "text/plain": [
       "'ython'"
      ]
     },
     "execution_count": 22,
     "metadata": {},
     "output_type": "execute_result"
    }
   ],
   "source": [
    "string1[1:] #starting from index 1 all elements will be sliced"
   ]
  },
  {
   "cell_type": "code",
   "execution_count": 23,
   "id": "a2046e1a",
   "metadata": {},
   "outputs": [
    {
     "data": {
      "text/plain": [
       "'yt'"
      ]
     },
     "execution_count": 23,
     "metadata": {},
     "output_type": "execute_result"
    }
   ],
   "source": [
    "string1[1:3] # starting from index 1, index 3 willl be excluded"
   ]
  },
  {
   "cell_type": "code",
   "execution_count": 24,
   "id": "4d9ab65d",
   "metadata": {},
   "outputs": [
    {
     "data": {
      "text/plain": [
       "'pyth'"
      ]
     },
     "execution_count": 24,
     "metadata": {},
     "output_type": "execute_result"
    }
   ],
   "source": [
    "string1[:4] # by default start from index 0, index 4 excluded"
   ]
  },
  {
   "cell_type": "code",
   "execution_count": 26,
   "id": "883a3e8f",
   "metadata": {},
   "outputs": [
    {
     "data": {
      "text/plain": [
       "'pto'"
      ]
     },
     "execution_count": 26,
     "metadata": {},
     "output_type": "execute_result"
    }
   ],
   "source": [
    "string1[::2] # from index 0 started, by default goes at last as no stop index value, step 2,"
   ]
  },
  {
   "cell_type": "code",
   "execution_count": null,
   "id": "4ad7ca0a",
   "metadata": {},
   "outputs": [],
   "source": []
  }
 ],
 "metadata": {
  "kernelspec": {
   "display_name": "Python 3 (ipykernel)",
   "language": "python",
   "name": "python3"
  },
  "language_info": {
   "codemirror_mode": {
    "name": "ipython",
    "version": 3
   },
   "file_extension": ".py",
   "mimetype": "text/x-python",
   "name": "python",
   "nbconvert_exporter": "python",
   "pygments_lexer": "ipython3",
   "version": "3.11.5"
  }
 },
 "nbformat": 4,
 "nbformat_minor": 5
}
