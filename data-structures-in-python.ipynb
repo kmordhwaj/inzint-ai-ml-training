{
 "cells": [
  {
   "cell_type": "markdown",
   "id": "7630f07a",
   "metadata": {},
   "source": [
    "# Data structures"
   ]
  },
  {
   "cell_type": "code",
   "execution_count": 1,
   "id": "1de728fd",
   "metadata": {},
   "outputs": [],
   "source": [
    "# list -> array\n",
    "# tuples\n",
    "# dictionary -> mapping data type\n",
    "# set -> sets in maths"
   ]
  },
  {
   "cell_type": "markdown",
   "id": "33e66ac5",
   "metadata": {},
   "source": [
    "# List"
   ]
  },
  {
   "cell_type": "code",
   "execution_count": 2,
   "id": "369c7d8b",
   "metadata": {},
   "outputs": [],
   "source": [
    "# List --> collection of values --> all data types has constructer, we can declare/assign value.\n",
    "\n",
    "#                list                                                array\n",
    "# heterogeneus(values of diff data types)             homogeneous (values of same data type)\n",
    "# [4,3, \"string\", 4+5j, 4.5, True, [3, 4, [4, 7]]]"
   ]
  },
  {
   "cell_type": "code",
   "execution_count": 3,
   "id": "7e8a3e9f",
   "metadata": {},
   "outputs": [
    {
     "data": {
      "text/plain": [
       "list"
      ]
     },
     "execution_count": 3,
     "metadata": {},
     "output_type": "execute_result"
    }
   ],
   "source": [
    "nums = list([2, 3, 4, 5, 6])\n",
    "type(nums)"
   ]
  },
  {
   "cell_type": "code",
   "execution_count": 4,
   "id": "8151cb5f",
   "metadata": {},
   "outputs": [
    {
     "data": {
      "text/plain": [
       "[4, 3, 5, 6]"
      ]
     },
     "execution_count": 4,
     "metadata": {},
     "output_type": "execute_result"
    }
   ],
   "source": [
    "[4, 3, 5, 6]"
   ]
  },
  {
   "cell_type": "code",
   "execution_count": 5,
   "id": "c525ff36",
   "metadata": {},
   "outputs": [],
   "source": [
    "elem = [4,3, \"string\", 4+5j, 4.5, True, [3, 4, [4, 7]]]"
   ]
  },
  {
   "cell_type": "code",
   "execution_count": 6,
   "id": "8d8df60b",
   "metadata": {},
   "outputs": [
    {
     "data": {
      "text/plain": [
       "list"
      ]
     },
     "execution_count": 6,
     "metadata": {},
     "output_type": "execute_result"
    }
   ],
   "source": [
    "type(elem)"
   ]
  },
  {
   "cell_type": "code",
   "execution_count": 7,
   "id": "5a7d902b",
   "metadata": {},
   "outputs": [
    {
     "data": {
      "text/plain": [
       "4"
      ]
     },
     "execution_count": 7,
     "metadata": {},
     "output_type": "execute_result"
    }
   ],
   "source": [
    "#indexing\n",
    "elem[0]"
   ]
  },
  {
   "cell_type": "code",
   "execution_count": 8,
   "id": "68971379",
   "metadata": {},
   "outputs": [
    {
     "data": {
      "text/plain": [
       "[3, 4, [4, 7]]"
      ]
     },
     "execution_count": 8,
     "metadata": {},
     "output_type": "execute_result"
    }
   ],
   "source": [
    "elem[-1]"
   ]
  },
  {
   "cell_type": "code",
   "execution_count": 9,
   "id": "e85097e4",
   "metadata": {},
   "outputs": [
    {
     "data": {
      "text/plain": [
       "[3, 4, [4, 7]]"
      ]
     },
     "execution_count": 9,
     "metadata": {},
     "output_type": "execute_result"
    }
   ],
   "source": [
    "elem[len(elem) - 1]"
   ]
  },
  {
   "cell_type": "code",
   "execution_count": 10,
   "id": "2e9675ba",
   "metadata": {},
   "outputs": [
    {
     "data": {
      "text/plain": [
       "[4, 7]"
      ]
     },
     "execution_count": 10,
     "metadata": {},
     "output_type": "execute_result"
    }
   ],
   "source": [
    "elem[-1][-1]"
   ]
  },
  {
   "cell_type": "code",
   "execution_count": 11,
   "id": "ea294e3a",
   "metadata": {},
   "outputs": [
    {
     "data": {
      "text/plain": [
       "4"
      ]
     },
     "execution_count": 11,
     "metadata": {},
     "output_type": "execute_result"
    }
   ],
   "source": [
    "elem[-1][-1][0]"
   ]
  },
  {
   "cell_type": "code",
   "execution_count": 12,
   "id": "1f02bcef",
   "metadata": {},
   "outputs": [
    {
     "data": {
      "text/plain": [
       "'string'"
      ]
     },
     "execution_count": 12,
     "metadata": {},
     "output_type": "execute_result"
    }
   ],
   "source": [
    "elem[2]"
   ]
  },
  {
   "cell_type": "code",
   "execution_count": 13,
   "id": "4aac1dcb",
   "metadata": {},
   "outputs": [
    {
     "data": {
      "text/plain": [
       "'n'"
      ]
     },
     "execution_count": 13,
     "metadata": {},
     "output_type": "execute_result"
    }
   ],
   "source": [
    "elem[2][-2]"
   ]
  },
  {
   "cell_type": "code",
   "execution_count": 14,
   "id": "f80558b0",
   "metadata": {},
   "outputs": [],
   "source": [
    "#slicing (h/w) --> variable_name[start:stop:step] \n",
    "# (by default step in right direction with 1) (step +ve ---> positive traversal, -ve --> -ve traversal)"
   ]
  },
  {
   "cell_type": "code",
   "execution_count": 16,
   "id": "606e664b",
   "metadata": {},
   "outputs": [
    {
     "data": {
      "text/plain": [
       "[5000, 3, 'string', (4+5j), 4.5, True, [3, 4, [4, 7]]]"
      ]
     },
     "execution_count": 16,
     "metadata": {},
     "output_type": "execute_result"
    }
   ],
   "source": [
    "#immutability\n",
    "elem[0] = 5000 #mutable\n",
    "elem"
   ]
  },
  {
   "cell_type": "code",
   "execution_count": 17,
   "id": "8b97064e",
   "metadata": {},
   "outputs": [
    {
     "data": {
      "text/plain": [
       "[333, 3, 3, 3]"
      ]
     },
     "execution_count": 17,
     "metadata": {},
     "output_type": "execute_result"
    }
   ],
   "source": [
    "#duplicacy\n",
    "elem=[333, 3, 3, 3]\n",
    "elem"
   ]
  },
  {
   "cell_type": "code",
   "execution_count": 18,
   "id": "c19b69ad",
   "metadata": {},
   "outputs": [
    {
     "data": {
      "text/plain": [
       "[1, 2, 3, 4, 5, 6]"
      ]
     },
     "execution_count": 18,
     "metadata": {},
     "output_type": "execute_result"
    }
   ],
   "source": [
    "#append\n",
    "#two join two lists together\n",
    "l1 = [1, 2, 3]\n",
    "l2=[4, 5, 6]\n",
    "l1 + l2\n",
    "# original lists will not change"
   ]
  },
  {
   "cell_type": "code",
   "execution_count": 19,
   "id": "483eaa67",
   "metadata": {},
   "outputs": [
    {
     "data": {
      "text/plain": [
       "[1, 2, 3]"
      ]
     },
     "execution_count": 19,
     "metadata": {},
     "output_type": "execute_result"
    }
   ],
   "source": [
    "l1"
   ]
  },
  {
   "cell_type": "code",
   "execution_count": 20,
   "id": "04c255c0",
   "metadata": {},
   "outputs": [
    {
     "data": {
      "text/plain": [
       "[4, 5, 6]"
      ]
     },
     "execution_count": 20,
     "metadata": {},
     "output_type": "execute_result"
    }
   ],
   "source": [
    "l2"
   ]
  },
  {
   "cell_type": "code",
   "execution_count": 21,
   "id": "b3948226",
   "metadata": {},
   "outputs": [],
   "source": [
    "l1.append(l2)"
   ]
  },
  {
   "cell_type": "code",
   "execution_count": 22,
   "id": "b07bc24d",
   "metadata": {},
   "outputs": [
    {
     "data": {
      "text/plain": [
       "[1, 2, 3, [4, 5, 6]]"
      ]
     },
     "execution_count": 22,
     "metadata": {},
     "output_type": "execute_result"
    }
   ],
   "source": [
    "l1"
   ]
  },
  {
   "cell_type": "code",
   "execution_count": 23,
   "id": "a7e4f720",
   "metadata": {},
   "outputs": [
    {
     "data": {
      "text/plain": [
       "[4, 5, 6]"
      ]
     },
     "execution_count": 23,
     "metadata": {},
     "output_type": "execute_result"
    }
   ],
   "source": [
    "l2"
   ]
  },
  {
   "cell_type": "code",
   "execution_count": 24,
   "id": "63dd6eb7",
   "metadata": {},
   "outputs": [],
   "source": [
    "l1 = [1, 2, 3]\n",
    "l2 = [4, 5, 6]\n",
    "\n",
    "l1.extend(l2)"
   ]
  },
  {
   "cell_type": "code",
   "execution_count": 25,
   "id": "f0654083",
   "metadata": {},
   "outputs": [
    {
     "data": {
      "text/plain": [
       "[1, 2, 3, 4, 5, 6]"
      ]
     },
     "execution_count": 25,
     "metadata": {},
     "output_type": "execute_result"
    }
   ],
   "source": [
    "l1"
   ]
  },
  {
   "cell_type": "code",
   "execution_count": 26,
   "id": "dbcb48f1",
   "metadata": {},
   "outputs": [
    {
     "data": {
      "text/plain": [
       "[4, 5, 6]"
      ]
     },
     "execution_count": 26,
     "metadata": {},
     "output_type": "execute_result"
    }
   ],
   "source": [
    "l2"
   ]
  },
  {
   "cell_type": "code",
   "execution_count": null,
   "id": "878b0f80",
   "metadata": {},
   "outputs": [],
   "source": [
    "#insert (h/w)\n",
    "# remove element from the list (h/w)"
   ]
  }
 ],
 "metadata": {
  "kernelspec": {
   "display_name": "Python 3 (ipykernel)",
   "language": "python",
   "name": "python3"
  },
  "language_info": {
   "codemirror_mode": {
    "name": "ipython",
    "version": 3
   },
   "file_extension": ".py",
   "mimetype": "text/x-python",
   "name": "python",
   "nbconvert_exporter": "python",
   "pygments_lexer": "ipython3",
   "version": "3.11.5"
  }
 },
 "nbformat": 4,
 "nbformat_minor": 5
}
