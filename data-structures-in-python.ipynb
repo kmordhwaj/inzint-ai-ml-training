{
 "cells": [
  {
   "cell_type": "markdown",
   "id": "7630f07a",
   "metadata": {},
   "source": [
    "# Data structures"
   ]
  },
  {
   "cell_type": "code",
   "execution_count": 1,
   "id": "1de728fd",
   "metadata": {},
   "outputs": [],
   "source": [
    "# list -> array\n",
    "# tuples\n",
    "# dictionary -> mapping data type\n",
    "# set -> sets in maths"
   ]
  },
  {
   "cell_type": "markdown",
   "id": "33e66ac5",
   "metadata": {},
   "source": [
    "# List"
   ]
  },
  {
   "cell_type": "code",
   "execution_count": 2,
   "id": "369c7d8b",
   "metadata": {},
   "outputs": [],
   "source": [
    "# List --> collection of values --> all data types has constructer, we can declare/assign value.\n",
    "\n",
    "#                list                                                array\n",
    "# heterogeneus(values of diff data types)             homogeneous (values of same data type)\n",
    "# [4,3, \"string\", 4+5j, 4.5, True, [3, 4, [4, 7]]]"
   ]
  },
  {
   "cell_type": "code",
   "execution_count": 3,
   "id": "7e8a3e9f",
   "metadata": {},
   "outputs": [
    {
     "data": {
      "text/plain": [
       "list"
      ]
     },
     "execution_count": 3,
     "metadata": {},
     "output_type": "execute_result"
    }
   ],
   "source": [
    "nums = list([2, 3, 4, 5, 6])\n",
    "type(nums)"
   ]
  },
  {
   "cell_type": "code",
   "execution_count": 4,
   "id": "8151cb5f",
   "metadata": {},
   "outputs": [
    {
     "data": {
      "text/plain": [
       "[4, 3, 5, 6]"
      ]
     },
     "execution_count": 4,
     "metadata": {},
     "output_type": "execute_result"
    }
   ],
   "source": [
    "[4, 3, 5, 6]"
   ]
  },
  {
   "cell_type": "code",
   "execution_count": 5,
   "id": "c525ff36",
   "metadata": {},
   "outputs": [],
   "source": [
    "elem = [4,3, \"string\", 4+5j, 4.5, True, [3, 4, [4, 7]]]"
   ]
  },
  {
   "cell_type": "code",
   "execution_count": 6,
   "id": "8d8df60b",
   "metadata": {},
   "outputs": [
    {
     "data": {
      "text/plain": [
       "list"
      ]
     },
     "execution_count": 6,
     "metadata": {},
     "output_type": "execute_result"
    }
   ],
   "source": [
    "type(elem)"
   ]
  },
  {
   "cell_type": "code",
   "execution_count": 7,
   "id": "5a7d902b",
   "metadata": {},
   "outputs": [
    {
     "data": {
      "text/plain": [
       "4"
      ]
     },
     "execution_count": 7,
     "metadata": {},
     "output_type": "execute_result"
    }
   ],
   "source": [
    "#indexing\n",
    "elem[0]"
   ]
  },
  {
   "cell_type": "code",
   "execution_count": 8,
   "id": "68971379",
   "metadata": {},
   "outputs": [
    {
     "data": {
      "text/plain": [
       "[3, 4, [4, 7]]"
      ]
     },
     "execution_count": 8,
     "metadata": {},
     "output_type": "execute_result"
    }
   ],
   "source": [
    "elem[-1]"
   ]
  },
  {
   "cell_type": "code",
   "execution_count": 9,
   "id": "e85097e4",
   "metadata": {},
   "outputs": [
    {
     "data": {
      "text/plain": [
       "[3, 4, [4, 7]]"
      ]
     },
     "execution_count": 9,
     "metadata": {},
     "output_type": "execute_result"
    }
   ],
   "source": [
    "elem[len(elem) - 1]"
   ]
  },
  {
   "cell_type": "code",
   "execution_count": 10,
   "id": "2e9675ba",
   "metadata": {},
   "outputs": [
    {
     "data": {
      "text/plain": [
       "[4, 7]"
      ]
     },
     "execution_count": 10,
     "metadata": {},
     "output_type": "execute_result"
    }
   ],
   "source": [
    "elem[-1][-1]"
   ]
  },
  {
   "cell_type": "code",
   "execution_count": 11,
   "id": "ea294e3a",
   "metadata": {},
   "outputs": [
    {
     "data": {
      "text/plain": [
       "4"
      ]
     },
     "execution_count": 11,
     "metadata": {},
     "output_type": "execute_result"
    }
   ],
   "source": [
    "elem[-1][-1][0]"
   ]
  },
  {
   "cell_type": "code",
   "execution_count": 12,
   "id": "1f02bcef",
   "metadata": {},
   "outputs": [
    {
     "data": {
      "text/plain": [
       "'string'"
      ]
     },
     "execution_count": 12,
     "metadata": {},
     "output_type": "execute_result"
    }
   ],
   "source": [
    "elem[2]"
   ]
  },
  {
   "cell_type": "code",
   "execution_count": 13,
   "id": "4aac1dcb",
   "metadata": {},
   "outputs": [
    {
     "data": {
      "text/plain": [
       "'n'"
      ]
     },
     "execution_count": 13,
     "metadata": {},
     "output_type": "execute_result"
    }
   ],
   "source": [
    "elem[2][-2]"
   ]
  },
  {
   "cell_type": "code",
   "execution_count": 14,
   "id": "f80558b0",
   "metadata": {},
   "outputs": [],
   "source": [
    "#slicing (h/w) --> variable_name[start:stop:step] \n",
    "# (by default step in right direction with 1) (step +ve ---> positive traversal, -ve --> -ve traversal)"
   ]
  },
  {
   "cell_type": "code",
   "execution_count": 16,
   "id": "606e664b",
   "metadata": {},
   "outputs": [
    {
     "data": {
      "text/plain": [
       "[5000, 3, 'string', (4+5j), 4.5, True, [3, 4, [4, 7]]]"
      ]
     },
     "execution_count": 16,
     "metadata": {},
     "output_type": "execute_result"
    }
   ],
   "source": [
    "#immutability\n",
    "elem[0] = 5000 #mutable\n",
    "elem"
   ]
  },
  {
   "cell_type": "code",
   "execution_count": 17,
   "id": "8b97064e",
   "metadata": {},
   "outputs": [
    {
     "data": {
      "text/plain": [
       "[333, 3, 3, 3]"
      ]
     },
     "execution_count": 17,
     "metadata": {},
     "output_type": "execute_result"
    }
   ],
   "source": [
    "#duplicacy\n",
    "elem=[333, 3, 3, 3]\n",
    "elem"
   ]
  },
  {
   "cell_type": "code",
   "execution_count": 18,
   "id": "c19b69ad",
   "metadata": {},
   "outputs": [
    {
     "data": {
      "text/plain": [
       "[1, 2, 3, 4, 5, 6]"
      ]
     },
     "execution_count": 18,
     "metadata": {},
     "output_type": "execute_result"
    }
   ],
   "source": [
    "#append\n",
    "#two join two lists together\n",
    "l1 = [1, 2, 3]\n",
    "l2=[4, 5, 6]\n",
    "l1 + l2\n",
    "# original lists will not change"
   ]
  },
  {
   "cell_type": "code",
   "execution_count": 19,
   "id": "483eaa67",
   "metadata": {},
   "outputs": [
    {
     "data": {
      "text/plain": [
       "[1, 2, 3]"
      ]
     },
     "execution_count": 19,
     "metadata": {},
     "output_type": "execute_result"
    }
   ],
   "source": [
    "l1"
   ]
  },
  {
   "cell_type": "code",
   "execution_count": 20,
   "id": "04c255c0",
   "metadata": {},
   "outputs": [
    {
     "data": {
      "text/plain": [
       "[4, 5, 6]"
      ]
     },
     "execution_count": 20,
     "metadata": {},
     "output_type": "execute_result"
    }
   ],
   "source": [
    "l2"
   ]
  },
  {
   "cell_type": "code",
   "execution_count": 21,
   "id": "b3948226",
   "metadata": {},
   "outputs": [],
   "source": [
    "l1.append(l2)"
   ]
  },
  {
   "cell_type": "code",
   "execution_count": 22,
   "id": "b07bc24d",
   "metadata": {},
   "outputs": [
    {
     "data": {
      "text/plain": [
       "[1, 2, 3, [4, 5, 6]]"
      ]
     },
     "execution_count": 22,
     "metadata": {},
     "output_type": "execute_result"
    }
   ],
   "source": [
    "l1"
   ]
  },
  {
   "cell_type": "code",
   "execution_count": 23,
   "id": "a7e4f720",
   "metadata": {},
   "outputs": [
    {
     "data": {
      "text/plain": [
       "[4, 5, 6]"
      ]
     },
     "execution_count": 23,
     "metadata": {},
     "output_type": "execute_result"
    }
   ],
   "source": [
    "l2"
   ]
  },
  {
   "cell_type": "code",
   "execution_count": 24,
   "id": "63dd6eb7",
   "metadata": {},
   "outputs": [],
   "source": [
    "#extend\n",
    "l1 = [1, 2, 3]\n",
    "l2 = [4, 5, 6]\n",
    "\n",
    "l1.extend(l2)"
   ]
  },
  {
   "cell_type": "code",
   "execution_count": 25,
   "id": "f0654083",
   "metadata": {},
   "outputs": [
    {
     "data": {
      "text/plain": [
       "[1, 2, 3, 4, 5, 6]"
      ]
     },
     "execution_count": 25,
     "metadata": {},
     "output_type": "execute_result"
    }
   ],
   "source": [
    "l1"
   ]
  },
  {
   "cell_type": "code",
   "execution_count": 26,
   "id": "dbcb48f1",
   "metadata": {},
   "outputs": [
    {
     "data": {
      "text/plain": [
       "[4, 5, 6]"
      ]
     },
     "execution_count": 26,
     "metadata": {},
     "output_type": "execute_result"
    }
   ],
   "source": [
    "l2"
   ]
  },
  {
   "cell_type": "code",
   "execution_count": 1,
   "id": "878b0f80",
   "metadata": {},
   "outputs": [],
   "source": [
    "#insert (h/w)\n",
    "# remove element from the list (h/w) --> list.remove(elem), del list[elem_index],list.pop(), list.pop(elem_index)"
   ]
  },
  {
   "cell_type": "code",
   "execution_count": 2,
   "id": "91e4155c",
   "metadata": {},
   "outputs": [
    {
     "data": {
      "text/plain": [
       "[1, 2, 3, 4, 4, 5, 6]"
      ]
     },
     "execution_count": 2,
     "metadata": {},
     "output_type": "execute_result"
    }
   ],
   "source": [
    "#sorting\n",
    "list1=[4, 5, 6, 1, 2, 4, 3]\n",
    "#list.sort()\n",
    "list1.sort()\n",
    "list1"
   ]
  },
  {
   "cell_type": "code",
   "execution_count": 4,
   "id": "2ec75f3b",
   "metadata": {},
   "outputs": [
    {
     "data": {
      "text/plain": [
       "[6, 5, 4, 4, 3, 2, 1]"
      ]
     },
     "execution_count": 4,
     "metadata": {},
     "output_type": "execute_result"
    }
   ],
   "source": [
    "list1.sort(reverse=True)\n",
    "list1"
   ]
  },
  {
   "cell_type": "code",
   "execution_count": 5,
   "id": "cf054d7e",
   "metadata": {},
   "outputs": [
    {
     "data": {
      "text/plain": [
       "[1, 2, 3, 4, 4, 5, 6]"
      ]
     },
     "execution_count": 5,
     "metadata": {},
     "output_type": "execute_result"
    }
   ],
   "source": [
    "#sorted(list)\n",
    "sorted(list1)"
   ]
  },
  {
   "cell_type": "code",
   "execution_count": 6,
   "id": "0f8379bb",
   "metadata": {},
   "outputs": [
    {
     "data": {
      "text/plain": [
       "[6, 5, 4, 4, 3, 2, 1]"
      ]
     },
     "execution_count": 6,
     "metadata": {},
     "output_type": "execute_result"
    }
   ],
   "source": [
    "list1"
   ]
  },
  {
   "cell_type": "markdown",
   "id": "682484d6",
   "metadata": {},
   "source": [
    "# Tuples"
   ]
  },
  {
   "cell_type": "code",
   "execution_count": 7,
   "id": "f44f5e77",
   "metadata": {},
   "outputs": [],
   "source": [
    "#ordered collection of data items\n",
    "#             Tuples            List\n",
    "#          immutable          mutable"
   ]
  },
  {
   "cell_type": "code",
   "execution_count": 8,
   "id": "c97c1caf",
   "metadata": {},
   "outputs": [
    {
     "data": {
      "text/plain": [
       "()"
      ]
     },
     "execution_count": 8,
     "metadata": {},
     "output_type": "execute_result"
    }
   ],
   "source": [
    "t1=()\n",
    "t1"
   ]
  },
  {
   "cell_type": "code",
   "execution_count": 9,
   "id": "4424fee1",
   "metadata": {},
   "outputs": [
    {
     "data": {
      "text/plain": [
       "tuple"
      ]
     },
     "execution_count": 9,
     "metadata": {},
     "output_type": "execute_result"
    }
   ],
   "source": [
    "type(t1)"
   ]
  },
  {
   "cell_type": "code",
   "execution_count": 10,
   "id": "4274bdba",
   "metadata": {},
   "outputs": [
    {
     "data": {
      "text/plain": [
       "()"
      ]
     },
     "execution_count": 10,
     "metadata": {},
     "output_type": "execute_result"
    }
   ],
   "source": [
    "t2 = tuple()\n",
    "t2"
   ]
  },
  {
   "cell_type": "code",
   "execution_count": 11,
   "id": "ceefe4ed",
   "metadata": {},
   "outputs": [
    {
     "data": {
      "text/plain": [
       "(1, 2, 3, 4)"
      ]
     },
     "execution_count": 11,
     "metadata": {},
     "output_type": "execute_result"
    }
   ],
   "source": [
    "t2 = tuple((1, 2, 3, 4))\n",
    "t2"
   ]
  },
  {
   "cell_type": "code",
   "execution_count": 12,
   "id": "b40e2857",
   "metadata": {},
   "outputs": [
    {
     "data": {
      "text/plain": [
       "tuple"
      ]
     },
     "execution_count": 12,
     "metadata": {},
     "output_type": "execute_result"
    }
   ],
   "source": [
    "type(t2)"
   ]
  },
  {
   "cell_type": "code",
   "execution_count": 13,
   "id": "a5acc9a6",
   "metadata": {},
   "outputs": [
    {
     "data": {
      "text/plain": [
       "(1, 2, 3, 'python', 4.5, (4+6j), [2, 34, 5], (3463, 372, 378, (57, 68, 9)))"
      ]
     },
     "execution_count": 13,
     "metadata": {},
     "output_type": "execute_result"
    }
   ],
   "source": [
    "# elements\n",
    "t3 = (1, 2, 3, \"python\", 4.5, 4+6j, [2, 34,5], (3463, 372, 378, (57, 68, 9)))\n",
    "t3"
   ]
  },
  {
   "cell_type": "code",
   "execution_count": 14,
   "id": "7ec0b902",
   "metadata": {},
   "outputs": [
    {
     "data": {
      "text/plain": [
       "tuple"
      ]
     },
     "execution_count": 14,
     "metadata": {},
     "output_type": "execute_result"
    }
   ],
   "source": [
    "type(t3)"
   ]
  },
  {
   "cell_type": "code",
   "execution_count": 15,
   "id": "a4e1ebd9",
   "metadata": {},
   "outputs": [
    {
     "ename": "TypeError",
     "evalue": "'tuple' object does not support item assignment",
     "output_type": "error",
     "traceback": [
      "\u001b[0;31m---------------------------------------------------------------------------\u001b[0m",
      "\u001b[0;31mTypeError\u001b[0m                                 Traceback (most recent call last)",
      "Cell \u001b[0;32mIn[15], line 1\u001b[0m\n\u001b[0;32m----> 1\u001b[0m t3[\u001b[38;5;241m0\u001b[39m] \u001b[38;5;241m=\u001b[39m \u001b[38;5;124m\"\u001b[39m\u001b[38;5;124mone\u001b[39m\u001b[38;5;124m\"\u001b[39m\n",
      "\u001b[0;31mTypeError\u001b[0m: 'tuple' object does not support item assignment"
     ]
    }
   ],
   "source": [
    "t3[0] = \"one\"\n",
    "#immutable"
   ]
  },
  {
   "cell_type": "code",
   "execution_count": 16,
   "id": "7ee81ceb",
   "metadata": {},
   "outputs": [
    {
     "data": {
      "text/plain": [
       "((3463, 372, 378, (57, 68, 9)), [2, 34, 5], (4+6j), 4.5, 'python', 3, 2, 1)"
      ]
     },
     "execution_count": 16,
     "metadata": {},
     "output_type": "execute_result"
    }
   ],
   "source": [
    "#slicing -> possible as it has indexing\n",
    "#reverse --> \n",
    "t3[::-1]"
   ]
  },
  {
   "cell_type": "code",
   "execution_count": 17,
   "id": "0f2e79ab",
   "metadata": {},
   "outputs": [
    {
     "data": {
      "text/plain": [
       "8"
      ]
     },
     "execution_count": 17,
     "metadata": {},
     "output_type": "execute_result"
    }
   ],
   "source": [
    "len(t3) #duplicacy"
   ]
  },
  {
   "cell_type": "code",
   "execution_count": 18,
   "id": "3161363c",
   "metadata": {},
   "outputs": [
    {
     "ename": "ValueError",
     "evalue": "too many values to unpack (expected 3)",
     "output_type": "error",
     "traceback": [
      "\u001b[0;31m---------------------------------------------------------------------------\u001b[0m",
      "\u001b[0;31mValueError\u001b[0m                                Traceback (most recent call last)",
      "Cell \u001b[0;32mIn[18], line 2\u001b[0m\n\u001b[1;32m      1\u001b[0m \u001b[38;5;66;03m#destructuring/unpacking of tuple\u001b[39;00m\n\u001b[0;32m----> 2\u001b[0m a,b,c \u001b[38;5;241m=\u001b[39m (\u001b[38;5;241m11\u001b[39m, \u001b[38;5;241m22\u001b[39m, \u001b[38;5;241m13\u001b[39m, \u001b[38;5;241m14\u001b[39m)\n",
      "\u001b[0;31mValueError\u001b[0m: too many values to unpack (expected 3)"
     ]
    }
   ],
   "source": [
    "#destructuring/unpacking of tuple\n",
    "a,b,c = (11, 22, 13, 14)"
   ]
  },
  {
   "cell_type": "code",
   "execution_count": 19,
   "id": "be52aa7e",
   "metadata": {},
   "outputs": [],
   "source": [
    "a,b,c,_ = (11, 22, 13, 14)"
   ]
  },
  {
   "cell_type": "code",
   "execution_count": 20,
   "id": "a466fc11",
   "metadata": {},
   "outputs": [
    {
     "data": {
      "text/plain": [
       "11"
      ]
     },
     "execution_count": 20,
     "metadata": {},
     "output_type": "execute_result"
    }
   ],
   "source": [
    "a"
   ]
  },
  {
   "cell_type": "code",
   "execution_count": 21,
   "id": "cf0c62d3",
   "metadata": {},
   "outputs": [
    {
     "data": {
      "text/plain": [
       "22"
      ]
     },
     "execution_count": 21,
     "metadata": {},
     "output_type": "execute_result"
    }
   ],
   "source": [
    "b"
   ]
  },
  {
   "cell_type": "code",
   "execution_count": 22,
   "id": "80cb1fa3",
   "metadata": {},
   "outputs": [
    {
     "data": {
      "text/plain": [
       "13"
      ]
     },
     "execution_count": 22,
     "metadata": {},
     "output_type": "execute_result"
    }
   ],
   "source": [
    "c"
   ]
  },
  {
   "cell_type": "code",
   "execution_count": 23,
   "id": "f76b468b",
   "metadata": {},
   "outputs": [
    {
     "data": {
      "text/plain": [
       "14"
      ]
     },
     "execution_count": 23,
     "metadata": {},
     "output_type": "execute_result"
    }
   ],
   "source": [
    "_"
   ]
  },
  {
   "cell_type": "code",
   "execution_count": 24,
   "id": "b44e4120",
   "metadata": {},
   "outputs": [
    {
     "data": {
      "text/plain": [
       "'apples'"
      ]
     },
     "execution_count": 24,
     "metadata": {},
     "output_type": "execute_result"
    }
   ],
   "source": [
    "#one item in it\n",
    "fruits=(\"apples\") #one element at tuple, then data type is not treated as tuple\n",
    "fruits"
   ]
  },
  {
   "cell_type": "code",
   "execution_count": 25,
   "id": "bc8bec87",
   "metadata": {},
   "outputs": [
    {
     "data": {
      "text/plain": [
       "str"
      ]
     },
     "execution_count": 25,
     "metadata": {},
     "output_type": "execute_result"
    }
   ],
   "source": [
    "type(fruits)"
   ]
  },
  {
   "cell_type": "code",
   "execution_count": 26,
   "id": "5a87e885",
   "metadata": {},
   "outputs": [
    {
     "data": {
      "text/plain": [
       "tuple"
      ]
     },
     "execution_count": 26,
     "metadata": {},
     "output_type": "execute_result"
    }
   ],
   "source": [
    "fruits=(\"apples\",) #one element at tuple,comma then data type is treated as tuple\n",
    "fruits\n",
    "type(fruits)"
   ]
  },
  {
   "cell_type": "code",
   "execution_count": 27,
   "id": "230d0991",
   "metadata": {},
   "outputs": [],
   "source": [
    "#count --> occurance of any element (h/w)\n",
    "#index --> index of an element (h/w)"
   ]
  },
  {
   "cell_type": "code",
   "execution_count": 28,
   "id": "5d7e8873",
   "metadata": {},
   "outputs": [],
   "source": [
    "#casting --> casting into list ---> then mutable --> then recast into tuple"
   ]
  },
  {
   "cell_type": "code",
   "execution_count": 29,
   "id": "ebec4a72",
   "metadata": {},
   "outputs": [
    {
     "data": {
      "text/plain": [
       "(1, 2, 3, 'python', 4.5, (4+6j), [2, 34, 5], (3463, 372, 378, (57, 68, 9)))"
      ]
     },
     "execution_count": 29,
     "metadata": {},
     "output_type": "execute_result"
    }
   ],
   "source": [
    "t3"
   ]
  },
  {
   "cell_type": "code",
   "execution_count": 30,
   "id": "77e9e7cb",
   "metadata": {},
   "outputs": [
    {
     "ename": "TypeError",
     "evalue": "'tuple' object does not support item assignment",
     "output_type": "error",
     "traceback": [
      "\u001b[0;31m---------------------------------------------------------------------------\u001b[0m",
      "\u001b[0;31mTypeError\u001b[0m                                 Traceback (most recent call last)",
      "Cell \u001b[0;32mIn[30], line 1\u001b[0m\n\u001b[0;32m----> 1\u001b[0m t3[\u001b[38;5;241m3\u001b[39m]\u001b[38;5;241m=\u001b[39m\u001b[38;5;241m6\u001b[39m\n",
      "\u001b[0;31mTypeError\u001b[0m: 'tuple' object does not support item assignment"
     ]
    }
   ],
   "source": [
    "t3[3]=6"
   ]
  },
  {
   "cell_type": "code",
   "execution_count": 31,
   "id": "a4708479",
   "metadata": {},
   "outputs": [],
   "source": [
    "converted_list = list(t3)"
   ]
  },
  {
   "cell_type": "code",
   "execution_count": 33,
   "id": "411ecf49",
   "metadata": {},
   "outputs": [
    {
     "data": {
      "text/plain": [
       "[1, 2, 3, 6, 4.5, (4+6j), [2, 34, 5], (3463, 372, 378, (57, 68, 9))]"
      ]
     },
     "execution_count": 33,
     "metadata": {},
     "output_type": "execute_result"
    }
   ],
   "source": [
    "converted_list[3] = 6\n",
    "converted_list"
   ]
  },
  {
   "cell_type": "code",
   "execution_count": 34,
   "id": "58554c63",
   "metadata": {},
   "outputs": [
    {
     "data": {
      "text/plain": [
       "(1, 2, 3, 6, 4.5, (4+6j), [2, 34, 5], (3463, 372, 378, (57, 68, 9)))"
      ]
     },
     "execution_count": 34,
     "metadata": {},
     "output_type": "execute_result"
    }
   ],
   "source": [
    "t3 = tuple(converted_list)\n",
    "t3"
   ]
  },
  {
   "cell_type": "code",
   "execution_count": 35,
   "id": "82b1430a",
   "metadata": {},
   "outputs": [
    {
     "data": {
      "text/plain": [
       "(1, 2, 3, 4)"
      ]
     },
     "execution_count": 35,
     "metadata": {},
     "output_type": "execute_result"
    }
   ],
   "source": [
    "#mathematical operations\n",
    "t2"
   ]
  },
  {
   "cell_type": "code",
   "execution_count": 36,
   "id": "92dc5a65",
   "metadata": {},
   "outputs": [
    {
     "data": {
      "text/plain": [
       "(1, 2, 3, 6, 4.5, (4+6j), [2, 34, 5], (3463, 372, 378, (57, 68, 9)))"
      ]
     },
     "execution_count": 36,
     "metadata": {},
     "output_type": "execute_result"
    }
   ],
   "source": [
    "t3"
   ]
  },
  {
   "cell_type": "code",
   "execution_count": 37,
   "id": "b36b575c",
   "metadata": {},
   "outputs": [
    {
     "data": {
      "text/plain": [
       "(1,\n",
       " 2,\n",
       " 3,\n",
       " 4,\n",
       " 1,\n",
       " 2,\n",
       " 3,\n",
       " 6,\n",
       " 4.5,\n",
       " (4+6j),\n",
       " [2, 34, 5],\n",
       " (3463, 372, 378, (57, 68, 9)))"
      ]
     },
     "execution_count": 37,
     "metadata": {},
     "output_type": "execute_result"
    }
   ],
   "source": [
    "t2 + t3"
   ]
  },
  {
   "cell_type": "code",
   "execution_count": 38,
   "id": "bf10073c",
   "metadata": {},
   "outputs": [
    {
     "ename": "TypeError",
     "evalue": "can't multiply sequence by non-int of type 'tuple'",
     "output_type": "error",
     "traceback": [
      "\u001b[0;31m---------------------------------------------------------------------------\u001b[0m",
      "\u001b[0;31mTypeError\u001b[0m                                 Traceback (most recent call last)",
      "Cell \u001b[0;32mIn[38], line 1\u001b[0m\n\u001b[0;32m----> 1\u001b[0m t2\u001b[38;5;241m*\u001b[39mt3\n",
      "\u001b[0;31mTypeError\u001b[0m: can't multiply sequence by non-int of type 'tuple'"
     ]
    }
   ],
   "source": [
    "t2*t3"
   ]
  },
  {
   "cell_type": "code",
   "execution_count": 39,
   "id": "5a9fe3a2",
   "metadata": {},
   "outputs": [
    {
     "data": {
      "text/plain": [
       "(1, 2, 3, 4, 1, 2, 3, 4, 1, 2, 3, 4)"
      ]
     },
     "execution_count": 39,
     "metadata": {},
     "output_type": "execute_result"
    }
   ],
   "source": [
    "t2*3"
   ]
  },
  {
   "cell_type": "markdown",
   "id": "0cd63853",
   "metadata": {},
   "source": [
    "# Dictionary"
   ]
  },
  {
   "cell_type": "code",
   "execution_count": 40,
   "id": "d1cec9f5",
   "metadata": {},
   "outputs": [],
   "source": [
    "#just like object in javascript, key-value pair"
   ]
  },
  {
   "cell_type": "code",
   "execution_count": 41,
   "id": "8ea5947d",
   "metadata": {},
   "outputs": [],
   "source": [
    "d1={}"
   ]
  },
  {
   "cell_type": "code",
   "execution_count": 42,
   "id": "e087edab",
   "metadata": {},
   "outputs": [
    {
     "data": {
      "text/plain": [
       "dict"
      ]
     },
     "execution_count": 42,
     "metadata": {},
     "output_type": "execute_result"
    }
   ],
   "source": [
    "type(d1)"
   ]
  },
  {
   "cell_type": "code",
   "execution_count": 43,
   "id": "d61e4fe6",
   "metadata": {},
   "outputs": [],
   "source": [
    "d2=dict()"
   ]
  },
  {
   "cell_type": "code",
   "execution_count": 44,
   "id": "ac5baa09",
   "metadata": {},
   "outputs": [
    {
     "data": {
      "text/plain": [
       "{}"
      ]
     },
     "execution_count": 44,
     "metadata": {},
     "output_type": "execute_result"
    }
   ],
   "source": [
    "d2"
   ]
  },
  {
   "cell_type": "code",
   "execution_count": 45,
   "id": "53ffb537",
   "metadata": {},
   "outputs": [
    {
     "data": {
      "text/plain": [
       "dict"
      ]
     },
     "execution_count": 45,
     "metadata": {},
     "output_type": "execute_result"
    }
   ],
   "source": [
    "type(d2)"
   ]
  },
  {
   "cell_type": "code",
   "execution_count": 46,
   "id": "c64bd97d",
   "metadata": {},
   "outputs": [],
   "source": [
    "info={\"company\":\"Inzint\", \"location\":\"Noida\"}"
   ]
  },
  {
   "cell_type": "code",
   "execution_count": 47,
   "id": "48334d3b",
   "metadata": {},
   "outputs": [
    {
     "data": {
      "text/plain": [
       "{'company': 'Inzint', 'location': 'Noida'}"
      ]
     },
     "execution_count": 47,
     "metadata": {},
     "output_type": "execute_result"
    }
   ],
   "source": [
    "info"
   ]
  },
  {
   "cell_type": "code",
   "execution_count": 48,
   "id": "16b8ccaf",
   "metadata": {},
   "outputs": [
    {
     "data": {
      "text/plain": [
       "{'company': 'Inzint', 'location': 'Noida', 1: 'one', 'one': 12}"
      ]
     },
     "execution_count": 48,
     "metadata": {},
     "output_type": "execute_result"
    }
   ],
   "source": [
    "info={\"company\":\"Inzint\", \"location\":\"Noida\", 1:\"one\", \"one\":12}\n",
    "info"
   ]
  },
  {
   "cell_type": "code",
   "execution_count": 49,
   "id": "3fd82255",
   "metadata": {},
   "outputs": [
    {
     "data": {
      "text/plain": [
       "{'company': 'Inzint', 'location': 'Noida', 1: 'abc', 'one': 12}"
      ]
     },
     "execution_count": 49,
     "metadata": {},
     "output_type": "execute_result"
    }
   ],
   "source": [
    "info={\"company\":\"Inzint\", \"location\":\"Noida\", 1:\"one\", \"one\":12, True: \"abc\"}\n",
    "info"
   ]
  },
  {
   "cell_type": "code",
   "execution_count": 50,
   "id": "c90064bd",
   "metadata": {},
   "outputs": [
    {
     "data": {
      "text/plain": [
       "{'company': 'Inzint', 'location': 'Delhi', 1: 'abc', 'one': 12}"
      ]
     },
     "execution_count": 50,
     "metadata": {},
     "output_type": "execute_result"
    }
   ],
   "source": [
    "info={\"company\":\"Inzint\", \"location\":\"Noida\", 1:\"one\", \"one\":12, True: \"abc\", \"location\":\"Delhi\"}\n",
    "info"
   ]
  },
  {
   "cell_type": "code",
   "execution_count": 51,
   "id": "41464b21",
   "metadata": {},
   "outputs": [
    {
     "data": {
      "text/plain": [
       "{'company': 'Inzint', 'location': 'Noida', 1: 'abc', 'one': 12, 0: 'abc'}"
      ]
     },
     "execution_count": 51,
     "metadata": {},
     "output_type": "execute_result"
    }
   ],
   "source": [
    "info={\"company\":\"Inzint\", \"location\":\"Noida\", 1:\"one\", \"one\":12, True: \"abc\", 0:\"abc\"}\n",
    "info"
   ]
  },
  {
   "cell_type": "code",
   "execution_count": 52,
   "id": "37b300d7",
   "metadata": {},
   "outputs": [
    {
     "data": {
      "text/plain": [
       "'abc'"
      ]
     },
     "execution_count": 52,
     "metadata": {},
     "output_type": "execute_result"
    }
   ],
   "source": [
    "#indexing\n",
    "info[0]"
   ]
  },
  {
   "cell_type": "code",
   "execution_count": 53,
   "id": "8cfb3aec",
   "metadata": {},
   "outputs": [
    {
     "data": {
      "text/plain": [
       "{'company': 'Inzint', 'location': 'Noida', 1: 'abc', 'one': 12}"
      ]
     },
     "execution_count": 53,
     "metadata": {},
     "output_type": "execute_result"
    }
   ],
   "source": [
    "info={\"company\":\"Inzint\", \"location\":\"Noida\", 1:\"one\", \"one\":12, True: \"abc\"}\n",
    "info"
   ]
  },
  {
   "cell_type": "code",
   "execution_count": 54,
   "id": "59aeeddb",
   "metadata": {},
   "outputs": [
    {
     "ename": "KeyError",
     "evalue": "0",
     "output_type": "error",
     "traceback": [
      "\u001b[0;31m---------------------------------------------------------------------------\u001b[0m",
      "\u001b[0;31mKeyError\u001b[0m                                  Traceback (most recent call last)",
      "Cell \u001b[0;32mIn[54], line 1\u001b[0m\n\u001b[0;32m----> 1\u001b[0m info[\u001b[38;5;241m0\u001b[39m]\n",
      "\u001b[0;31mKeyError\u001b[0m: 0"
     ]
    }
   ],
   "source": [
    "info[0]"
   ]
  },
  {
   "cell_type": "code",
   "execution_count": 55,
   "id": "ac5675bf",
   "metadata": {},
   "outputs": [
    {
     "data": {
      "text/plain": [
       "'Noida'"
      ]
     },
     "execution_count": 55,
     "metadata": {},
     "output_type": "execute_result"
    }
   ],
   "source": [
    "info[\"location\"]"
   ]
  },
  {
   "cell_type": "code",
   "execution_count": 56,
   "id": "faa76470",
   "metadata": {},
   "outputs": [
    {
     "ename": "TypeError",
     "evalue": "'dict' object is not callable",
     "output_type": "error",
     "traceback": [
      "\u001b[0;31m---------------------------------------------------------------------------\u001b[0m",
      "\u001b[0;31mTypeError\u001b[0m                                 Traceback (most recent call last)",
      "Cell \u001b[0;32mIn[56], line 1\u001b[0m\n\u001b[0;32m----> 1\u001b[0m info(\u001b[38;5;28;01mTrue\u001b[39;00m)\n",
      "\u001b[0;31mTypeError\u001b[0m: 'dict' object is not callable"
     ]
    }
   ],
   "source": [
    "info(True)"
   ]
  },
  {
   "cell_type": "code",
   "execution_count": 57,
   "id": "0a4f706a",
   "metadata": {},
   "outputs": [
    {
     "data": {
      "text/plain": [
       "dict_keys(['company', 'location', 1, 'one'])"
      ]
     },
     "execution_count": 57,
     "metadata": {},
     "output_type": "execute_result"
    }
   ],
   "source": [
    "info.keys()"
   ]
  },
  {
   "cell_type": "code",
   "execution_count": 58,
   "id": "703c305a",
   "metadata": {},
   "outputs": [
    {
     "data": {
      "text/plain": [
       "dict_values(['Inzint', 'Noida', 'abc', 12])"
      ]
     },
     "execution_count": 58,
     "metadata": {},
     "output_type": "execute_result"
    }
   ],
   "source": [
    "info.values()"
   ]
  },
  {
   "cell_type": "code",
   "execution_count": 59,
   "id": "99a2f402",
   "metadata": {},
   "outputs": [
    {
     "data": {
      "text/plain": [
       "dict_items([('company', 'Inzint'), ('location', 'Noida'), (1, 'abc'), ('one', 12)])"
      ]
     },
     "execution_count": 59,
     "metadata": {},
     "output_type": "execute_result"
    }
   ],
   "source": [
    "info.items() # a list of tuples of key value pair"
   ]
  },
  {
   "cell_type": "code",
   "execution_count": 60,
   "id": "1b085d85",
   "metadata": {},
   "outputs": [],
   "source": [
    "# adding/updating value inside dictionary"
   ]
  },
  {
   "cell_type": "code",
   "execution_count": 61,
   "id": "22a7cf5e",
   "metadata": {},
   "outputs": [
    {
     "data": {
      "text/plain": [
       "{'company': 'Inzint', 'location': 'Noida', 1: 'abc', 'one': 12}"
      ]
     },
     "execution_count": 61,
     "metadata": {},
     "output_type": "execute_result"
    }
   ],
   "source": [
    "info"
   ]
  },
  {
   "cell_type": "code",
   "execution_count": 62,
   "id": "a516eac6",
   "metadata": {},
   "outputs": [
    {
     "data": {
      "text/plain": [
       "{'company': 'Inzint', 'location': 'Noida', 1: 100, 'one': 12}"
      ]
     },
     "execution_count": 62,
     "metadata": {},
     "output_type": "execute_result"
    }
   ],
   "source": [
    "info[1] = 100\n",
    "info"
   ]
  },
  {
   "cell_type": "code",
   "execution_count": 63,
   "id": "1f2bdedf",
   "metadata": {},
   "outputs": [
    {
     "data": {
      "text/plain": [
       "{'company': 'Inzint',\n",
       " 'location': 'Noida',\n",
       " 1: 100,\n",
       " 'one': 12,\n",
       " 'number of employees': 42}"
      ]
     },
     "execution_count": 63,
     "metadata": {},
     "output_type": "execute_result"
    }
   ],
   "source": [
    "info[\"number of employees\"] = 42\n",
    "info"
   ]
  },
  {
   "cell_type": "code",
   "execution_count": 64,
   "id": "ac04a0da",
   "metadata": {},
   "outputs": [],
   "source": [
    "# update --> h/w"
   ]
  },
  {
   "cell_type": "code",
   "execution_count": 65,
   "id": "0b2fda89",
   "metadata": {},
   "outputs": [],
   "source": [
    "# delete"
   ]
  },
  {
   "cell_type": "code",
   "execution_count": 66,
   "id": "dce25f39",
   "metadata": {},
   "outputs": [
    {
     "data": {
      "text/plain": [
       "{'company': 'Inzint',\n",
       " 'location': 'Noida',\n",
       " 1: 100,\n",
       " 'one': 12,\n",
       " 'number of employees': 42}"
      ]
     },
     "execution_count": 66,
     "metadata": {},
     "output_type": "execute_result"
    }
   ],
   "source": [
    "info"
   ]
  },
  {
   "cell_type": "code",
   "execution_count": 67,
   "id": "c102d41d",
   "metadata": {},
   "outputs": [
    {
     "data": {
      "text/plain": [
       "100"
      ]
     },
     "execution_count": 67,
     "metadata": {},
     "output_type": "execute_result"
    }
   ],
   "source": [
    "info.pop(1)"
   ]
  },
  {
   "cell_type": "code",
   "execution_count": 68,
   "id": "c7e3d934",
   "metadata": {},
   "outputs": [
    {
     "data": {
      "text/plain": [
       "{'company': 'Inzint',\n",
       " 'location': 'Noida',\n",
       " 'one': 12,\n",
       " 'number of employees': 42}"
      ]
     },
     "execution_count": 68,
     "metadata": {},
     "output_type": "execute_result"
    }
   ],
   "source": [
    "info"
   ]
  },
  {
   "cell_type": "code",
   "execution_count": 69,
   "id": "666e4222",
   "metadata": {},
   "outputs": [
    {
     "data": {
      "text/plain": [
       "('number of employees', 42)"
      ]
     },
     "execution_count": 69,
     "metadata": {},
     "output_type": "execute_result"
    }
   ],
   "source": [
    "info.popitem()"
   ]
  },
  {
   "cell_type": "code",
   "execution_count": 70,
   "id": "a1e0fa61",
   "metadata": {},
   "outputs": [
    {
     "data": {
      "text/plain": [
       "{'company': 'Inzint', 'location': 'Noida', 'one': 12}"
      ]
     },
     "execution_count": 70,
     "metadata": {},
     "output_type": "execute_result"
    }
   ],
   "source": [
    "info"
   ]
  },
  {
   "cell_type": "code",
   "execution_count": 71,
   "id": "42f093be",
   "metadata": {},
   "outputs": [],
   "source": [
    "info.clear()"
   ]
  },
  {
   "cell_type": "code",
   "execution_count": 72,
   "id": "5a66f5dc",
   "metadata": {},
   "outputs": [
    {
     "data": {
      "text/plain": [
       "{}"
      ]
     },
     "execution_count": 72,
     "metadata": {},
     "output_type": "execute_result"
    }
   ],
   "source": [
    "info"
   ]
  },
  {
   "cell_type": "code",
   "execution_count": 73,
   "id": "5b197e0a",
   "metadata": {},
   "outputs": [],
   "source": [
    "del info"
   ]
  },
  {
   "cell_type": "code",
   "execution_count": 74,
   "id": "a398e29b",
   "metadata": {},
   "outputs": [
    {
     "ename": "NameError",
     "evalue": "name 'info' is not defined",
     "output_type": "error",
     "traceback": [
      "\u001b[0;31m---------------------------------------------------------------------------\u001b[0m",
      "\u001b[0;31mNameError\u001b[0m                                 Traceback (most recent call last)",
      "Cell \u001b[0;32mIn[74], line 1\u001b[0m\n\u001b[0;32m----> 1\u001b[0m info\n",
      "\u001b[0;31mNameError\u001b[0m: name 'info' is not defined"
     ]
    }
   ],
   "source": [
    "info"
   ]
  },
  {
   "cell_type": "markdown",
   "id": "0964c5d1",
   "metadata": {},
   "source": [
    "# set"
   ]
  },
  {
   "cell_type": "code",
   "execution_count": 75,
   "id": "8d86befd",
   "metadata": {},
   "outputs": [],
   "source": [
    "#multiple elemnts\n",
    "#unordered\n",
    "#unchangable\n",
    "#non-duplicate elements\n",
    "#{}\n",
    "#set()"
   ]
  },
  {
   "cell_type": "code",
   "execution_count": 76,
   "id": "8c2ea3c9",
   "metadata": {},
   "outputs": [
    {
     "data": {
      "text/plain": [
       "dict"
      ]
     },
     "execution_count": 76,
     "metadata": {},
     "output_type": "execute_result"
    }
   ],
   "source": [
    "#empty\n",
    "s1={}\n",
    "type(s1)"
   ]
  },
  {
   "cell_type": "code",
   "execution_count": 77,
   "id": "51eb5395",
   "metadata": {},
   "outputs": [
    {
     "data": {
      "text/plain": [
       "set"
      ]
     },
     "execution_count": 77,
     "metadata": {},
     "output_type": "execute_result"
    }
   ],
   "source": [
    "s2=set()\n",
    "type(s2)"
   ]
  },
  {
   "cell_type": "code",
   "execution_count": 79,
   "id": "ca9c1923",
   "metadata": {},
   "outputs": [
    {
     "data": {
      "text/plain": [
       "{2, 3, 5, 6, 7, 8, 45}"
      ]
     },
     "execution_count": 79,
     "metadata": {},
     "output_type": "execute_result"
    }
   ],
   "source": [
    "s3={2, 3, 5,45, 6, 7, 6, 8, 2}\n",
    "s3 #non duplicate came, sorted came (so order changed - unordered)"
   ]
  },
  {
   "cell_type": "code",
   "execution_count": 80,
   "id": "78887f3e",
   "metadata": {},
   "outputs": [
    {
     "ename": "TypeError",
     "evalue": "'set' object is not subscriptable",
     "output_type": "error",
     "traceback": [
      "\u001b[0;31m---------------------------------------------------------------------------\u001b[0m",
      "\u001b[0;31mTypeError\u001b[0m                                 Traceback (most recent call last)",
      "Cell \u001b[0;32mIn[80], line 2\u001b[0m\n\u001b[1;32m      1\u001b[0m \u001b[38;5;66;03m# set cant be indexed or sliced (as unordered)\u001b[39;00m\n\u001b[0;32m----> 2\u001b[0m s3[\u001b[38;5;241m0\u001b[39m]\n",
      "\u001b[0;31mTypeError\u001b[0m: 'set' object is not subscriptable"
     ]
    }
   ],
   "source": [
    "# set cant be indexed or sliced (as unordered)\n",
    "s3[0]"
   ]
  },
  {
   "cell_type": "code",
   "execution_count": 81,
   "id": "ecc6f8df",
   "metadata": {},
   "outputs": [
    {
     "data": {
      "text/plain": [
       "7"
      ]
     },
     "execution_count": 81,
     "metadata": {},
     "output_type": "execute_result"
    }
   ],
   "source": [
    "#checking length (duplicacy)\n",
    "len(s3)"
   ]
  },
  {
   "cell_type": "code",
   "execution_count": 82,
   "id": "e73a526c",
   "metadata": {},
   "outputs": [],
   "source": [
    "# what all elements can be sorted -> h/w"
   ]
  },
  {
   "cell_type": "code",
   "execution_count": 83,
   "id": "3ba2cf1d",
   "metadata": {},
   "outputs": [],
   "source": [
    "# add/remove elements\n",
    "s1={1, 2, 3, 4}\n",
    "s2={4, 5, 6, 7}\n",
    "s1.add(55)"
   ]
  },
  {
   "cell_type": "code",
   "execution_count": 84,
   "id": "1d20d76d",
   "metadata": {},
   "outputs": [
    {
     "data": {
      "text/plain": [
       "{1, 2, 3, 4, 55}"
      ]
     },
     "execution_count": 84,
     "metadata": {},
     "output_type": "execute_result"
    }
   ],
   "source": [
    "s1"
   ]
  },
  {
   "cell_type": "code",
   "execution_count": 85,
   "id": "3fa4f393",
   "metadata": {},
   "outputs": [],
   "source": [
    "s1.update(s2)"
   ]
  },
  {
   "cell_type": "code",
   "execution_count": 86,
   "id": "4647c75d",
   "metadata": {},
   "outputs": [
    {
     "data": {
      "text/plain": [
       "{1, 2, 3, 4, 5, 6, 7, 55}"
      ]
     },
     "execution_count": 86,
     "metadata": {},
     "output_type": "execute_result"
    }
   ],
   "source": [
    "s1"
   ]
  },
  {
   "cell_type": "code",
   "execution_count": 87,
   "id": "7f1a45a0",
   "metadata": {},
   "outputs": [],
   "source": [
    "#remove\n",
    "s1.remove(55)"
   ]
  },
  {
   "cell_type": "code",
   "execution_count": 88,
   "id": "066023cc",
   "metadata": {},
   "outputs": [
    {
     "data": {
      "text/plain": [
       "{1, 2, 3, 4, 5, 6, 7}"
      ]
     },
     "execution_count": 88,
     "metadata": {},
     "output_type": "execute_result"
    }
   ],
   "source": [
    "s1"
   ]
  },
  {
   "cell_type": "code",
   "execution_count": 89,
   "id": "897f3d2c",
   "metadata": {},
   "outputs": [],
   "source": [
    "s1.discard(1)"
   ]
  },
  {
   "cell_type": "code",
   "execution_count": 90,
   "id": "e2afffea",
   "metadata": {},
   "outputs": [
    {
     "data": {
      "text/plain": [
       "{2, 3, 4, 5, 6, 7}"
      ]
     },
     "execution_count": 90,
     "metadata": {},
     "output_type": "execute_result"
    }
   ],
   "source": [
    "s1"
   ]
  },
  {
   "cell_type": "code",
   "execution_count": 91,
   "id": "bbaeba3c",
   "metadata": {},
   "outputs": [],
   "source": [
    "# frozen sets --> h/w"
   ]
  },
  {
   "cell_type": "code",
   "execution_count": 92,
   "id": "1a618c82",
   "metadata": {},
   "outputs": [],
   "source": [
    "#input()\n",
    "#user input\n",
    "a=10"
   ]
  },
  {
   "cell_type": "code",
   "execution_count": 93,
   "id": "e4f80a92",
   "metadata": {},
   "outputs": [
    {
     "name": "stdout",
     "output_type": "stream",
     "text": [
      "abc\n"
     ]
    },
    {
     "data": {
      "text/plain": [
       "'abc'"
      ]
     },
     "execution_count": 93,
     "metadata": {},
     "output_type": "execute_result"
    }
   ],
   "source": [
    "input()"
   ]
  },
  {
   "cell_type": "code",
   "execution_count": 94,
   "id": "14755121",
   "metadata": {},
   "outputs": [
    {
     "name": "stdout",
     "output_type": "stream",
     "text": [
      "enter any value78\n"
     ]
    },
    {
     "data": {
      "text/plain": [
       "'78'"
      ]
     },
     "execution_count": 94,
     "metadata": {},
     "output_type": "execute_result"
    }
   ],
   "source": [
    "value=input('enter any value')\n",
    "value  "
   ]
  },
  {
   "cell_type": "code",
   "execution_count": 95,
   "id": "ad464403",
   "metadata": {},
   "outputs": [],
   "source": [
    "# input always comes in string\n",
    "#type cast to int if want"
   ]
  },
  {
   "cell_type": "code",
   "execution_count": 96,
   "id": "3414a5b0",
   "metadata": {},
   "outputs": [
    {
     "name": "stdout",
     "output_type": "stream",
     "text": [
      "enter any value56\n"
     ]
    },
    {
     "data": {
      "text/plain": [
       "56"
      ]
     },
     "execution_count": 96,
     "metadata": {},
     "output_type": "execute_result"
    }
   ],
   "source": [
    "value=int(input('enter any value'))\n",
    "value "
   ]
  },
  {
   "cell_type": "code",
   "execution_count": 97,
   "id": "ee29f072",
   "metadata": {},
   "outputs": [],
   "source": [
    "#user defined list --> h/w"
   ]
  },
  {
   "cell_type": "code",
   "execution_count": 98,
   "id": "b022473c",
   "metadata": {},
   "outputs": [],
   "source": [
    "# /, //, %"
   ]
  },
  {
   "cell_type": "code",
   "execution_count": 99,
   "id": "f31a1dd6",
   "metadata": {},
   "outputs": [],
   "source": [
    "a= 6/2"
   ]
  },
  {
   "cell_type": "code",
   "execution_count": 100,
   "id": "c6b5ab69",
   "metadata": {},
   "outputs": [
    {
     "data": {
      "text/plain": [
       "3.0"
      ]
     },
     "execution_count": 100,
     "metadata": {},
     "output_type": "execute_result"
    }
   ],
   "source": [
    "a"
   ]
  },
  {
   "cell_type": "code",
   "execution_count": 101,
   "id": "3d161c64",
   "metadata": {},
   "outputs": [],
   "source": [
    "a = 6//2"
   ]
  },
  {
   "cell_type": "code",
   "execution_count": 102,
   "id": "cebca8cb",
   "metadata": {},
   "outputs": [
    {
     "data": {
      "text/plain": [
       "3"
      ]
     },
     "execution_count": 102,
     "metadata": {},
     "output_type": "execute_result"
    }
   ],
   "source": [
    "a"
   ]
  },
  {
   "cell_type": "code",
   "execution_count": 1,
   "id": "0572f17b",
   "metadata": {},
   "outputs": [
    {
     "data": {
      "text/plain": [
       "frozenset"
      ]
     },
     "execution_count": 1,
     "metadata": {},
     "output_type": "execute_result"
    }
   ],
   "source": [
    "#frozen sets\n",
    "l1=[1,2,3,2, 4]\n",
    "f1=frozenset(l1)\n",
    "type(f1)"
   ]
  },
  {
   "cell_type": "code",
   "execution_count": 2,
   "id": "af965447",
   "metadata": {},
   "outputs": [
    {
     "data": {
      "text/plain": [
       "{1: 'Boolean', 'string': 'python'}"
      ]
     },
     "execution_count": 2,
     "metadata": {},
     "output_type": "execute_result"
    }
   ],
   "source": [
    "{1:\"integer\", \"string\":\"python\", True:\"Boolean\"}"
   ]
  },
  {
   "cell_type": "code",
   "execution_count": 3,
   "id": "0f81cbf2",
   "metadata": {},
   "outputs": [
    {
     "data": {
      "text/plain": [
       "{1: 'Boolean', 'string': 'python', 0: 'Boolean'}"
      ]
     },
     "execution_count": 3,
     "metadata": {},
     "output_type": "execute_result"
    }
   ],
   "source": [
    "{1:\"integer\", \"string\":\"python\", True:\"Boolean\", 0:\"integer\", False:\"Boolean\"}"
   ]
  },
  {
   "cell_type": "markdown",
   "id": "336f8742",
   "metadata": {},
   "source": [
    "# if-elif-else statement"
   ]
  },
  {
   "cell_type": "code",
   "execution_count": 4,
   "id": "6bb3251f",
   "metadata": {},
   "outputs": [
    {
     "name": "stdout",
     "output_type": "stream",
     "text": [
      "enter a number 76\n",
      "enter a number 34\n",
      "76 is greater than 34\n"
     ]
    }
   ],
   "source": [
    "num1=int(input('enter a number '))\n",
    "num2=int(input('enter a number '))\n",
    "if num1 > num2:\n",
    "    print(f'{num1} is greater than {num2}')"
   ]
  },
  {
   "cell_type": "code",
   "execution_count": 5,
   "id": "3a35b36a",
   "metadata": {},
   "outputs": [
    {
     "name": "stdout",
     "output_type": "stream",
     "text": [
      "enter a number 56\n",
      "enter a number 67\n",
      "56 is less than 67\n"
     ]
    }
   ],
   "source": [
    "num1=int(input('enter a number '))\n",
    "num2=int(input('enter a number '))\n",
    "if num1 > num2:\n",
    "    print(f'{num1} is greater than {num2}')\n",
    "else:\n",
    "    print(f'{num1} is less than {num2}')"
   ]
  },
  {
   "cell_type": "code",
   "execution_count": 6,
   "id": "aec3e415",
   "metadata": {},
   "outputs": [
    {
     "name": "stdout",
     "output_type": "stream",
     "text": [
      "enter a number 7\n",
      "enter a number 7\n",
      "7 is less than 7\n"
     ]
    }
   ],
   "source": [
    "num1=int(input('enter a number '))\n",
    "num2=int(input('enter a number '))\n",
    "if num1 > num2:\n",
    "    print(f'{num1} is greater than {num2}')\n",
    "else:\n",
    "    print(f'{num1} is less than {num2}')"
   ]
  },
  {
   "cell_type": "code",
   "execution_count": 7,
   "id": "0ddf161a",
   "metadata": {},
   "outputs": [
    {
     "name": "stdout",
     "output_type": "stream",
     "text": [
      "enter a number 7\n",
      "enter a number 7\n",
      "7 is equal to 7\n"
     ]
    }
   ],
   "source": [
    "num1=int(input('enter a number '))\n",
    "num2=int(input('enter a number '))\n",
    "if num1 > num2:\n",
    "    print(f'{num1} is greater than {num2}')\n",
    "elif num1 == num2:\n",
    "    print(f'{num1} is equal to {num2}')\n",
    "else:\n",
    "    print(f'{num1} is less than {num2}')"
   ]
  },
  {
   "cell_type": "code",
   "execution_count": 8,
   "id": "d403861c",
   "metadata": {},
   "outputs": [],
   "source": [
    "#nested sequence"
   ]
  },
  {
   "cell_type": "code",
   "execution_count": 9,
   "id": "1b26b941",
   "metadata": {},
   "outputs": [],
   "source": [
    "#short hand if-else"
   ]
  },
  {
   "cell_type": "code",
   "execution_count": 10,
   "id": "b5cfe8eb",
   "metadata": {},
   "outputs": [
    {
     "data": {
      "text/plain": [
       "(7, 7)"
      ]
     },
     "execution_count": 10,
     "metadata": {},
     "output_type": "execute_result"
    }
   ],
   "source": [
    "num1, num2"
   ]
  },
  {
   "cell_type": "code",
   "execution_count": 11,
   "id": "7a7a93a3",
   "metadata": {},
   "outputs": [
    {
     "name": "stdout",
     "output_type": "stream",
     "text": [
      "both numbers are equal\n"
     ]
    }
   ],
   "source": [
    "if num1==num2:print(\"both numbers are equal\")"
   ]
  },
  {
   "cell_type": "code",
   "execution_count": 12,
   "id": "0ef61641",
   "metadata": {},
   "outputs": [
    {
     "name": "stdout",
     "output_type": "stream",
     "text": [
      "23 is less than 35\n"
     ]
    }
   ],
   "source": [
    "num1=23\n",
    "num2=35\n",
    "print(f'{num1} is less than {num2}') if num1 < num2 else print(f'{num1} is greater than {num2}')"
   ]
  },
  {
   "cell_type": "code",
   "execution_count": 13,
   "id": "5ba6e48a",
   "metadata": {},
   "outputs": [
    {
     "name": "stdout",
     "output_type": "stream",
     "text": [
      "23 is less than 35\n"
     ]
    }
   ],
   "source": [
    "#3 conditions\n",
    "print(f'{num1} is less than {num2}') if num1 < num2 else print(\"both numbers are equal\") if num1 == num2 else print(f'{num1} is greater than {num2}')"
   ]
  },
  {
   "cell_type": "code",
   "execution_count": 14,
   "id": "39e5aee5",
   "metadata": {},
   "outputs": [
    {
     "name": "stdout",
     "output_type": "stream",
     "text": [
      "both numbers are equal\n"
     ]
    }
   ],
   "source": [
    "num1=7\n",
    "num2=7\n",
    "print(f'{num1} is less than {num2}') if num1 < num2 else print(\"both numbers are equal\") if num1 == num2 else print(f'{num1} is greater than {num2}')"
   ]
  },
  {
   "cell_type": "code",
   "execution_count": 15,
   "id": "6de4da57",
   "metadata": {},
   "outputs": [
    {
     "name": "stdout",
     "output_type": "stream",
     "text": [
      "70 is greater than 7\n"
     ]
    }
   ],
   "source": [
    "num1=70\n",
    "num2=7\n",
    "print(f'{num1} is less than {num2}') if num1 < num2 else print(\"both numbers are equal\") if num1 == num2 else print(f'{num1} is greater than {num2}')"
   ]
  },
  {
   "cell_type": "code",
   "execution_count": 16,
   "id": "cb0db315",
   "metadata": {},
   "outputs": [
    {
     "name": "stdout",
     "output_type": "stream",
     "text": [
      "-5\n",
      "-ve\n"
     ]
    }
   ],
   "source": [
    "# nested if\n",
    "# check the number -> +ve, -ve, zero\n",
    "number=int(input())\n",
    "if number >=0:\n",
    "    if number == 0:\n",
    "        print('Zero')\n",
    "    else:\n",
    "        print('+ve')\n",
    "else:\n",
    "    print('-ve')"
   ]
  },
  {
   "cell_type": "code",
   "execution_count": 17,
   "id": "d38feb83",
   "metadata": {},
   "outputs": [],
   "source": [
    "# Equal to ==\n",
    "# Not equal to !=\n",
    "# Greater than >\n",
    "# Less than <\n",
    "# Greater than or equal to >=\n",
    "# Less than or equal to <="
   ]
  },
  {
   "cell_type": "code",
   "execution_count": 18,
   "id": "5c55c9b7",
   "metadata": {},
   "outputs": [
    {
     "name": "stdout",
     "output_type": "stream",
     "text": [
      "Go to admin page\n"
     ]
    }
   ],
   "source": [
    "# Logical operators -> and, or, not\n",
    "user=\"Admin\"\n",
    "logged_in=True\n",
    "if user == \"Admin\" and logged_in:\n",
    "    print(\"Go to admin page\")\n",
    "else:\n",
    "    print('Wrong credentials')"
   ]
  },
  {
   "cell_type": "code",
   "execution_count": 19,
   "id": "d6b1bd3f",
   "metadata": {},
   "outputs": [
    {
     "name": "stdout",
     "output_type": "stream",
     "text": [
      "Go to admin page\n"
     ]
    }
   ],
   "source": [
    "user=\"Admin\"\n",
    "logged_in=True\n",
    "if user == \"Admin\" or logged_in:\n",
    "    print(\"Go to admin page\")\n",
    "else:\n",
    "    print('Wrong credentials')"
   ]
  },
  {
   "cell_type": "code",
   "execution_count": 20,
   "id": "a0e421b0",
   "metadata": {},
   "outputs": [
    {
     "name": "stdout",
     "output_type": "stream",
     "text": [
      "Wrong credentials\n"
     ]
    }
   ],
   "source": [
    "user=\"Admin\"\n",
    "logged_in=False\n",
    "if user == \"Admin\" and logged_in:\n",
    "    print(\"Go to admin page\")\n",
    "else:\n",
    "    print('Wrong credentials')"
   ]
  },
  {
   "cell_type": "code",
   "execution_count": 21,
   "id": "0eefbc76",
   "metadata": {},
   "outputs": [
    {
     "name": "stdout",
     "output_type": "stream",
     "text": [
      "Go to admin page\n"
     ]
    }
   ],
   "source": [
    "user=\"Admin\"\n",
    "logged_in=False\n",
    "if user == \"Admin\" or logged_in:\n",
    "    print(\"Go to admin page\")\n",
    "else:\n",
    "    print('Wrong credentials')"
   ]
  },
  {
   "cell_type": "code",
   "execution_count": 22,
   "id": "6acf6c00",
   "metadata": {},
   "outputs": [],
   "source": [
    "# == -> value equal or not\n",
    "# is, not is --> memory location equal or not"
   ]
  },
  {
   "cell_type": "code",
   "execution_count": 23,
   "id": "e46154d1",
   "metadata": {},
   "outputs": [],
   "source": [
    "a = [1, 2, 3]\n",
    "b= [1,2, 3]"
   ]
  },
  {
   "cell_type": "code",
   "execution_count": 24,
   "id": "247ee9b1",
   "metadata": {},
   "outputs": [
    {
     "data": {
      "text/plain": [
       "True"
      ]
     },
     "execution_count": 24,
     "metadata": {},
     "output_type": "execute_result"
    }
   ],
   "source": [
    "a==b"
   ]
  },
  {
   "cell_type": "code",
   "execution_count": 25,
   "id": "e9e9a5dc",
   "metadata": {},
   "outputs": [
    {
     "data": {
      "text/plain": [
       "False"
      ]
     },
     "execution_count": 25,
     "metadata": {},
     "output_type": "execute_result"
    }
   ],
   "source": [
    "a is b"
   ]
  },
  {
   "cell_type": "code",
   "execution_count": 26,
   "id": "7591b657",
   "metadata": {},
   "outputs": [
    {
     "data": {
      "text/plain": [
       "4432268992"
      ]
     },
     "execution_count": 26,
     "metadata": {},
     "output_type": "execute_result"
    }
   ],
   "source": [
    "id(a)"
   ]
  },
  {
   "cell_type": "code",
   "execution_count": 27,
   "id": "53915aaa",
   "metadata": {},
   "outputs": [
    {
     "data": {
      "text/plain": [
       "4432362944"
      ]
     },
     "execution_count": 27,
     "metadata": {},
     "output_type": "execute_result"
    }
   ],
   "source": [
    "id(b)"
   ]
  },
  {
   "cell_type": "code",
   "execution_count": 28,
   "id": "3671734c",
   "metadata": {},
   "outputs": [
    {
     "data": {
      "text/plain": [
       "False"
      ]
     },
     "execution_count": 28,
     "metadata": {},
     "output_type": "execute_result"
    }
   ],
   "source": [
    "id(a)==id(b)"
   ]
  },
  {
   "cell_type": "markdown",
   "id": "bd3a6844",
   "metadata": {},
   "source": [
    "# Loops\n"
   ]
  },
  {
   "cell_type": "code",
   "execution_count": 29,
   "id": "8660f010",
   "metadata": {},
   "outputs": [],
   "source": [
    "# for, while"
   ]
  },
  {
   "cell_type": "code",
   "execution_count": 30,
   "id": "964c8489",
   "metadata": {},
   "outputs": [],
   "source": [
    "# iterables --> strings, lists, tuples, sets, dicts"
   ]
  },
  {
   "cell_type": "code",
   "execution_count": 31,
   "id": "6162d24e",
   "metadata": {},
   "outputs": [
    {
     "name": "stdout",
     "output_type": "stream",
     "text": [
      "p\n",
      "r\n",
      "o\n",
      "g\n",
      "r\n",
      "a\n",
      "m\n",
      "m\n",
      "i\n",
      "n\n",
      "g\n"
     ]
    }
   ],
   "source": [
    "for i in \"programming\":\n",
    "    print(i)"
   ]
  },
  {
   "cell_type": "code",
   "execution_count": 32,
   "id": "0349a2a8",
   "metadata": {},
   "outputs": [
    {
     "name": "stdout",
     "output_type": "stream",
     "text": [
      "p r o g r a m m i n g "
     ]
    }
   ],
   "source": [
    "for i in \"programming\":\n",
    "    print(i, end=\" \")"
   ]
  },
  {
   "cell_type": "code",
   "execution_count": 33,
   "id": "95d5b28e",
   "metadata": {},
   "outputs": [
    {
     "ename": "SyntaxError",
     "evalue": "incomplete input (3602100297.py, line 1)",
     "output_type": "error",
     "traceback": [
      "\u001b[0;36m  Cell \u001b[0;32mIn[33], line 1\u001b[0;36m\u001b[0m\n\u001b[0;31m    for i in \"programming\":\u001b[0m\n\u001b[0m                           ^\u001b[0m\n\u001b[0;31mSyntaxError\u001b[0m\u001b[0;31m:\u001b[0m incomplete input\n"
     ]
    }
   ],
   "source": [
    "for i in \"programming\":"
   ]
  },
  {
   "cell_type": "code",
   "execution_count": 34,
   "id": "6c85d893",
   "metadata": {},
   "outputs": [],
   "source": [
    "for i in \"programming\":\n",
    "    pass"
   ]
  },
  {
   "cell_type": "code",
   "execution_count": 35,
   "id": "09a55d9f",
   "metadata": {},
   "outputs": [
    {
     "ename": "TypeError",
     "evalue": "'int' object is not iterable",
     "output_type": "error",
     "traceback": [
      "\u001b[0;31m---------------------------------------------------------------------------\u001b[0m",
      "\u001b[0;31mTypeError\u001b[0m                                 Traceback (most recent call last)",
      "Cell \u001b[0;32mIn[35], line 1\u001b[0m\n\u001b[0;32m----> 1\u001b[0m \u001b[38;5;28;01mfor\u001b[39;00m i \u001b[38;5;129;01min\u001b[39;00m \u001b[38;5;241m10\u001b[39m:\n\u001b[1;32m      2\u001b[0m     \u001b[38;5;28mprint\u001b[39m(\u001b[38;5;241m1\u001b[39m)\n",
      "\u001b[0;31mTypeError\u001b[0m: 'int' object is not iterable"
     ]
    }
   ],
   "source": [
    "for i in 10:\n",
    "    print(1)"
   ]
  },
  {
   "cell_type": "code",
   "execution_count": 36,
   "id": "1d57a46d",
   "metadata": {},
   "outputs": [
    {
     "ename": "TypeError",
     "evalue": "'int' object is not iterable",
     "output_type": "error",
     "traceback": [
      "\u001b[0;31m---------------------------------------------------------------------------\u001b[0m",
      "\u001b[0;31mTypeError\u001b[0m                                 Traceback (most recent call last)",
      "Cell \u001b[0;32mIn[36], line 1\u001b[0m\n\u001b[0;32m----> 1\u001b[0m \u001b[38;5;28;01mfor\u001b[39;00m i \u001b[38;5;129;01min\u001b[39;00m \u001b[38;5;241m10\u001b[39m:\n\u001b[1;32m      2\u001b[0m     \u001b[38;5;28mprint\u001b[39m(i)\n",
      "\u001b[0;31mTypeError\u001b[0m: 'int' object is not iterable"
     ]
    }
   ],
   "source": [
    "for i in 10:\n",
    "    print(i)"
   ]
  },
  {
   "cell_type": "code",
   "execution_count": 37,
   "id": "f47dab87",
   "metadata": {},
   "outputs": [
    {
     "data": {
      "text/plain": [
       "[1, 2, 3, 4, 5, 6, 7, 8, 9]"
      ]
     },
     "execution_count": 37,
     "metadata": {},
     "output_type": "execute_result"
    }
   ],
   "source": [
    "list(range(1, 10)) #start, stop, step"
   ]
  },
  {
   "cell_type": "code",
   "execution_count": 38,
   "id": "79dc3315",
   "metadata": {},
   "outputs": [
    {
     "data": {
      "text/plain": [
       "[1, 3, 5, 7, 9]"
      ]
     },
     "execution_count": 38,
     "metadata": {},
     "output_type": "execute_result"
    }
   ],
   "source": [
    "list(range(1, 10, 2))"
   ]
  },
  {
   "cell_type": "code",
   "execution_count": 39,
   "id": "650937b6",
   "metadata": {},
   "outputs": [
    {
     "data": {
      "text/plain": [
       "[]"
      ]
     },
     "execution_count": 39,
     "metadata": {},
     "output_type": "execute_result"
    }
   ],
   "source": [
    "list(range(-1,-10))"
   ]
  },
  {
   "cell_type": "code",
   "execution_count": 40,
   "id": "42527a36",
   "metadata": {},
   "outputs": [
    {
     "data": {
      "text/plain": [
       "[-1, -2, -3, -4, -5, -6, -7, -8, -9]"
      ]
     },
     "execution_count": 40,
     "metadata": {},
     "output_type": "execute_result"
    }
   ],
   "source": [
    "list(range(-1, -10, -1))"
   ]
  },
  {
   "cell_type": "code",
   "execution_count": 41,
   "id": "ba22522b",
   "metadata": {},
   "outputs": [
    {
     "data": {
      "text/plain": [
       "[]"
      ]
     },
     "execution_count": 41,
     "metadata": {},
     "output_type": "execute_result"
    }
   ],
   "source": [
    "list(range(-1, -10, 1))"
   ]
  },
  {
   "cell_type": "code",
   "execution_count": 42,
   "id": "cc6e2532",
   "metadata": {},
   "outputs": [
    {
     "name": "stdout",
     "output_type": "stream",
     "text": [
      "1\n",
      "1\n",
      "1\n",
      "1\n",
      "1\n",
      "1\n",
      "1\n",
      "1\n",
      "1\n",
      "1\n"
     ]
    }
   ],
   "source": [
    "for i in range(10):\n",
    "    print(1)"
   ]
  },
  {
   "cell_type": "code",
   "execution_count": 43,
   "id": "60758315",
   "metadata": {},
   "outputs": [
    {
     "name": "stdout",
     "output_type": "stream",
     "text": [
      "0\n",
      "1\n",
      "2\n",
      "3\n",
      "4\n",
      "5\n",
      "6\n",
      "7\n",
      "8\n",
      "9\n"
     ]
    }
   ],
   "source": [
    "for i in range(10):\n",
    "    print(i)"
   ]
  },
  {
   "cell_type": "code",
   "execution_count": 44,
   "id": "fb8d2796",
   "metadata": {},
   "outputs": [
    {
     "data": {
      "text/plain": [
       "[0, 1, 2, 3, 4, 5, 6, 7, 8, 9]"
      ]
     },
     "execution_count": 44,
     "metadata": {},
     "output_type": "execute_result"
    }
   ],
   "source": [
    "nums=[] #append, extend\n",
    "for i in range(10):\n",
    "    nums.append(i)\n",
    "nums"
   ]
  },
  {
   "cell_type": "code",
   "execution_count": 45,
   "id": "1dbf617e",
   "metadata": {},
   "outputs": [
    {
     "ename": "TypeError",
     "evalue": "'int' object is not iterable",
     "output_type": "error",
     "traceback": [
      "\u001b[0;31m---------------------------------------------------------------------------\u001b[0m",
      "\u001b[0;31mTypeError\u001b[0m                                 Traceback (most recent call last)",
      "Cell \u001b[0;32mIn[45], line 3\u001b[0m\n\u001b[1;32m      1\u001b[0m nums\u001b[38;5;241m=\u001b[39m[] \u001b[38;5;66;03m#append, extend\u001b[39;00m\n\u001b[1;32m      2\u001b[0m \u001b[38;5;28;01mfor\u001b[39;00m i \u001b[38;5;129;01min\u001b[39;00m \u001b[38;5;28mrange\u001b[39m(\u001b[38;5;241m10\u001b[39m):\n\u001b[0;32m----> 3\u001b[0m     nums\u001b[38;5;241m.\u001b[39mextend(i)\n\u001b[1;32m      4\u001b[0m nums\n",
      "\u001b[0;31mTypeError\u001b[0m: 'int' object is not iterable"
     ]
    }
   ],
   "source": [
    "nums=[] #append, extend\n",
    "for i in range(10):\n",
    "    nums.extend(i)\n",
    "nums"
   ]
  },
  {
   "cell_type": "code",
   "execution_count": 46,
   "id": "d1b0cfc7",
   "metadata": {},
   "outputs": [
    {
     "name": "stdout",
     "output_type": "stream",
     "text": [
      "number of elemnts in list3\n",
      "number1\n"
     ]
    },
    {
     "ename": "AttributeError",
     "evalue": "'list' object has no attribute 'appned'",
     "output_type": "error",
     "traceback": [
      "\u001b[0;31m---------------------------------------------------------------------------\u001b[0m",
      "\u001b[0;31mAttributeError\u001b[0m                            Traceback (most recent call last)",
      "Cell \u001b[0;32mIn[46], line 9\u001b[0m\n\u001b[1;32m      7\u001b[0m \u001b[38;5;28;01mfor\u001b[39;00m i \u001b[38;5;129;01min\u001b[39;00m \u001b[38;5;28mrange\u001b[39m(nums_of_list):\n\u001b[1;32m      8\u001b[0m     a \u001b[38;5;241m=\u001b[39m \u001b[38;5;28mint\u001b[39m(\u001b[38;5;28minput\u001b[39m(\u001b[38;5;124m\"\u001b[39m\u001b[38;5;124mnumber\u001b[39m\u001b[38;5;124m\"\u001b[39m))\n\u001b[0;32m----> 9\u001b[0m     nums\u001b[38;5;241m.\u001b[39mappned(a)\n\u001b[1;32m     10\u001b[0m nums\n",
      "\u001b[0;31mAttributeError\u001b[0m: 'list' object has no attribute 'appned'"
     ]
    }
   ],
   "source": [
    "# user defined list\n",
    "# number=?\n",
    "# each element\n",
    "\n",
    "nums = []\n",
    "nums_of_list = int(input('number of elemnts in list'))\n",
    "for i in range(nums_of_list):\n",
    "    a = int(input(\"number\"))\n",
    "    nums.append(a)\n",
    "nums"
   ]
  },
  {
   "cell_type": "code",
   "execution_count": 47,
   "id": "7e99e6df",
   "metadata": {},
   "outputs": [
    {
     "name": "stdout",
     "output_type": "stream",
     "text": [
      "number of elemnts in list3\n",
      "number1\n",
      "number2\n",
      "number3\n"
     ]
    },
    {
     "data": {
      "text/plain": [
       "[1, 2, 3]"
      ]
     },
     "execution_count": 47,
     "metadata": {},
     "output_type": "execute_result"
    }
   ],
   "source": [
    "nums = []\n",
    "nums_of_list = int(input('number of elemnts in list'))\n",
    "for i in range(nums_of_list):\n",
    "    a = int(input(\"number\"))\n",
    "    nums.append(a)\n",
    "nums\n",
    "# do same to generate dictionary"
   ]
  },
  {
   "cell_type": "code",
   "execution_count": 48,
   "id": "0655e398",
   "metadata": {},
   "outputs": [],
   "source": [
    "# comprehension"
   ]
  },
  {
   "cell_type": "code",
   "execution_count": 49,
   "id": "2a1ba841",
   "metadata": {},
   "outputs": [],
   "source": [
    " nums=[i for i in range(10)]"
   ]
  },
  {
   "cell_type": "code",
   "execution_count": 50,
   "id": "83954d76",
   "metadata": {},
   "outputs": [
    {
     "data": {
      "text/plain": [
       "[0, 1, 2, 3, 4, 5, 6, 7, 8, 9]"
      ]
     },
     "execution_count": 50,
     "metadata": {},
     "output_type": "execute_result"
    }
   ],
   "source": [
    "nums"
   ]
  },
  {
   "cell_type": "code",
   "execution_count": 51,
   "id": "3197b105",
   "metadata": {},
   "outputs": [
    {
     "data": {
      "text/plain": [
       "[(1, 1), (2, 4), (3, 9)]"
      ]
     },
     "execution_count": 51,
     "metadata": {},
     "output_type": "execute_result"
    }
   ],
   "source": [
    "k=[1, 2, 3]\n",
    "v=[1, 4, 9]\n",
    "list(zip(k,v))"
   ]
  },
  {
   "cell_type": "code",
   "execution_count": 53,
   "id": "a45cd1f8",
   "metadata": {},
   "outputs": [
    {
     "ename": "TypeError",
     "evalue": "unhashable type: 'list'",
     "output_type": "error",
     "traceback": [
      "\u001b[0;31m---------------------------------------------------------------------------\u001b[0m",
      "\u001b[0;31mTypeError\u001b[0m                                 Traceback (most recent call last)",
      "Cell \u001b[0;32mIn[53], line 1\u001b[0m\n\u001b[0;32m----> 1\u001b[0m dict1 \u001b[38;5;241m=\u001b[39m {k:v \u001b[38;5;28;01mfor\u001b[39;00m (key, value) \u001b[38;5;129;01min\u001b[39;00m \u001b[38;5;28mlist\u001b[39m(\u001b[38;5;28mzip\u001b[39m(k,v))}\n",
      "Cell \u001b[0;32mIn[53], line 1\u001b[0m, in \u001b[0;36m<dictcomp>\u001b[0;34m(.0)\u001b[0m\n\u001b[0;32m----> 1\u001b[0m dict1 \u001b[38;5;241m=\u001b[39m {k:v \u001b[38;5;28;01mfor\u001b[39;00m (key, value) \u001b[38;5;129;01min\u001b[39;00m \u001b[38;5;28mlist\u001b[39m(\u001b[38;5;28mzip\u001b[39m(k,v))}\n",
      "\u001b[0;31mTypeError\u001b[0m: unhashable type: 'list'"
     ]
    }
   ],
   "source": [
    "dict1 = {k:v for (key, value) in list(zip(k,v))}"
   ]
  },
  {
   "cell_type": "code",
   "execution_count": 54,
   "id": "3dfa209a",
   "metadata": {},
   "outputs": [],
   "source": [
    "dict1 = {key:value for (key, value) in list(zip(k,v))}"
   ]
  },
  {
   "cell_type": "code",
   "execution_count": 55,
   "id": "fb2ec966",
   "metadata": {},
   "outputs": [
    {
     "data": {
      "text/plain": [
       "{1: 1, 2: 4, 3: 9}"
      ]
     },
     "execution_count": 55,
     "metadata": {},
     "output_type": "execute_result"
    }
   ],
   "source": [
    "dict1"
   ]
  },
  {
   "cell_type": "code",
   "execution_count": 1,
   "id": "820f8a2c",
   "metadata": {},
   "outputs": [],
   "source": [
    "#List/Dict comprehension"
   ]
  },
  {
   "cell_type": "code",
   "execution_count": 2,
   "id": "e6ecb106",
   "metadata": {},
   "outputs": [
    {
     "data": {
      "text/plain": [
       "[1, 4, 9, 16, 25, 36, 49, 64, 81]"
      ]
     },
     "execution_count": 2,
     "metadata": {},
     "output_type": "execute_result"
    }
   ],
   "source": [
    "squares = [i**2 for i in range(1,10)]\n",
    "squares"
   ]
  },
  {
   "cell_type": "code",
   "execution_count": 3,
   "id": "66655309",
   "metadata": {},
   "outputs": [
    {
     "data": {
      "text/plain": [
       "[4, 16, 36, 64]"
      ]
     },
     "execution_count": 3,
     "metadata": {},
     "output_type": "execute_result"
    }
   ],
   "source": [
    "even_squares = [i**2 for i in range(1,10) if i%2 ==0]\n",
    "even_squares"
   ]
  },
  {
   "cell_type": "code",
   "execution_count": 1,
   "id": "1fbaeada",
   "metadata": {},
   "outputs": [],
   "source": [
    "#nested list comprehensonimpor"
   ]
  },
  {
   "cell_type": "code",
   "execution_count": 2,
   "id": "5cfb9e89",
   "metadata": {},
   "outputs": [],
   "source": [
    "import random as r"
   ]
  },
  {
   "cell_type": "code",
   "execution_count": 3,
   "id": "e93d4945",
   "metadata": {},
   "outputs": [
    {
     "data": {
      "text/plain": [
       "8"
      ]
     },
     "execution_count": 3,
     "metadata": {},
     "output_type": "execute_result"
    }
   ],
   "source": [
    "r.randint(1, 10)"
   ]
  },
  {
   "cell_type": "code",
   "execution_count": null,
   "id": "f5499320",
   "metadata": {},
   "outputs": [],
   "source": [
    "int(input())"
   ]
  }
 ],
 "metadata": {
  "kernelspec": {
   "display_name": "Python 3 (ipykernel)",
   "language": "python",
   "name": "python3"
  },
  "language_info": {
   "codemirror_mode": {
    "name": "ipython",
    "version": 3
   },
   "file_extension": ".py",
   "mimetype": "text/x-python",
   "name": "python",
   "nbconvert_exporter": "python",
   "pygments_lexer": "ipython3",
   "version": "3.11.5"
  }
 },
 "nbformat": 4,
 "nbformat_minor": 5
}
