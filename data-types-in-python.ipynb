{
 "cells": [
  {
   "cell_type": "markdown",
   "id": "4ef2a0f7",
   "metadata": {},
   "source": [
    "# numerical data types"
   ]
  },
  {
   "cell_type": "code",
   "execution_count": null,
   "id": "9027773a",
   "metadata": {},
   "outputs": [],
   "source": [
    "#number"
   ]
  },
  {
   "cell_type": "code",
   "execution_count": 1,
   "id": "a68bdd3a",
   "metadata": {},
   "outputs": [
    {
     "data": {
      "text/plain": [
       "int"
      ]
     },
     "execution_count": 1,
     "metadata": {},
     "output_type": "execute_result"
    }
   ],
   "source": [
    "number=89\n",
    "type(number)"
   ]
  },
  {
   "cell_type": "code",
   "execution_count": 2,
   "id": "11e713be",
   "metadata": {},
   "outputs": [
    {
     "name": "stdout",
     "output_type": "stream",
     "text": [
      "89\n"
     ]
    }
   ],
   "source": [
    "print(number)"
   ]
  },
  {
   "cell_type": "code",
   "execution_count": 4,
   "id": "eff48020",
   "metadata": {},
   "outputs": [],
   "source": [
    "#float"
   ]
  },
  {
   "cell_type": "code",
   "execution_count": 5,
   "id": "d6b66c6a",
   "metadata": {},
   "outputs": [
    {
     "data": {
      "text/plain": [
       "float"
      ]
     },
     "execution_count": 5,
     "metadata": {},
     "output_type": "execute_result"
    }
   ],
   "source": [
    "f1=34.566\n",
    "type(f1)"
   ]
  },
  {
   "cell_type": "code",
   "execution_count": 6,
   "id": "fafe63f0",
   "metadata": {},
   "outputs": [
    {
     "data": {
      "text/plain": [
       "complex"
      ]
     },
     "execution_count": 6,
     "metadata": {},
     "output_type": "execute_result"
    }
   ],
   "source": [
    "#complex number (a+bj) a = real_part; b = imaginary_part\n",
    "comp=4-5j\n",
    "type(comp)"
   ]
  },
  {
   "cell_type": "code",
   "execution_count": 7,
   "id": "fd021a7a",
   "metadata": {},
   "outputs": [
    {
     "data": {
      "text/plain": [
       "4.0"
      ]
     },
     "execution_count": 7,
     "metadata": {},
     "output_type": "execute_result"
    }
   ],
   "source": [
    "comp.real"
   ]
  },
  {
   "cell_type": "code",
   "execution_count": 8,
   "id": "1231fac6",
   "metadata": {},
   "outputs": [
    {
     "data": {
      "text/plain": [
       "-5.0"
      ]
     },
     "execution_count": 8,
     "metadata": {},
     "output_type": "execute_result"
    }
   ],
   "source": [
    "comp.imag"
   ]
  },
  {
   "cell_type": "markdown",
   "id": "ab6afec4",
   "metadata": {},
   "source": [
    "# text data types"
   ]
  },
  {
   "cell_type": "code",
   "execution_count": 9,
   "id": "f58cc9d3",
   "metadata": {},
   "outputs": [
    {
     "name": "stdout",
     "output_type": "stream",
     "text": [
      "Inzint\n"
     ]
    }
   ],
   "source": [
    "# string - sequence of alphaneumeric types\n",
    "company=\"Inzint\"\n",
    "print(company)"
   ]
  },
  {
   "cell_type": "code",
   "execution_count": 11,
   "id": "0761c5f4",
   "metadata": {},
   "outputs": [
    {
     "name": "stdout",
     "output_type": "stream",
     "text": [
      "I work at Inzint\n"
     ]
    }
   ],
   "source": [
    "print('I work at', company)"
   ]
  },
  {
   "cell_type": "code",
   "execution_count": 12,
   "id": "044eeae2",
   "metadata": {},
   "outputs": [
    {
     "name": "stdout",
     "output_type": "stream",
     "text": [
      "I am mordhwaj.\n",
      "I work in inzint\n"
     ]
    }
   ],
   "source": [
    "multi_line_string = \"\"\"I am mordhwaj.\n",
    "I work in inzint\"\"\"\n",
    "print(multi_line_string)"
   ]
  },
  {
   "cell_type": "code",
   "execution_count": 13,
   "id": "757c4bf7",
   "metadata": {},
   "outputs": [
    {
     "name": "stdout",
     "output_type": "stream",
     "text": [
      "34\n"
     ]
    }
   ],
   "source": [
    "\"\"\"I am mordhwaj.\n",
    "I work in inzint\"\"\"\n",
    "number=34\n",
    "print(number)\n",
    "# here multiline string is ignored and treated as comment by compiler"
   ]
  },
  {
   "cell_type": "code",
   "execution_count": 14,
   "id": "b10d1db8",
   "metadata": {},
   "outputs": [],
   "source": [
    "# variable name should be in format (h/w)"
   ]
  },
  {
   "cell_type": "code",
   "execution_count": null,
   "id": "f9c8093f",
   "metadata": {},
   "outputs": [],
   "source": []
  },
  {
   "cell_type": "code",
   "execution_count": 15,
   "id": "f1e08896",
   "metadata": {},
   "outputs": [],
   "source": [
    "# indexing in array/list/string\n",
    "\n",
    "#  0   1   2   3   4   5\n",
    "#  p   y   t   h   o   n\n",
    "# -6  -5  -4  -3  -2  -1"
   ]
  },
  {
   "cell_type": "code",
   "execution_count": 16,
   "id": "4bef62b8",
   "metadata": {},
   "outputs": [
    {
     "data": {
      "text/plain": [
       "6"
      ]
     },
     "execution_count": 16,
     "metadata": {},
     "output_type": "execute_result"
    }
   ],
   "source": [
    "string1=\"python\"\n",
    "len(string1)"
   ]
  },
  {
   "cell_type": "code",
   "execution_count": 17,
   "id": "2598f116",
   "metadata": {},
   "outputs": [
    {
     "data": {
      "text/plain": [
       "'p'"
      ]
     },
     "execution_count": 17,
     "metadata": {},
     "output_type": "execute_result"
    }
   ],
   "source": [
    "string1[0]"
   ]
  },
  {
   "cell_type": "code",
   "execution_count": 19,
   "id": "b06b6293",
   "metadata": {},
   "outputs": [
    {
     "data": {
      "text/plain": [
       "'n'"
      ]
     },
     "execution_count": 19,
     "metadata": {},
     "output_type": "execute_result"
    }
   ],
   "source": [
    "string1[-1]"
   ]
  },
  {
   "cell_type": "code",
   "execution_count": 20,
   "id": "e11cda0b",
   "metadata": {},
   "outputs": [],
   "source": [
    "# slicing\n",
    "# variable_name[start:stop:step]"
   ]
  },
  {
   "cell_type": "code",
   "execution_count": 21,
   "id": "45a9213d",
   "metadata": {},
   "outputs": [
    {
     "data": {
      "text/plain": [
       "'python'"
      ]
     },
     "execution_count": 21,
     "metadata": {},
     "output_type": "execute_result"
    }
   ],
   "source": [
    "string1"
   ]
  },
  {
   "cell_type": "code",
   "execution_count": 22,
   "id": "33854cd2",
   "metadata": {},
   "outputs": [
    {
     "data": {
      "text/plain": [
       "'ython'"
      ]
     },
     "execution_count": 22,
     "metadata": {},
     "output_type": "execute_result"
    }
   ],
   "source": [
    "string1[1:] #starting from index 1 all elements will be sliced"
   ]
  },
  {
   "cell_type": "code",
   "execution_count": 23,
   "id": "ff07f008",
   "metadata": {},
   "outputs": [
    {
     "data": {
      "text/plain": [
       "'yt'"
      ]
     },
     "execution_count": 23,
     "metadata": {},
     "output_type": "execute_result"
    }
   ],
   "source": [
    "string1[1:3] # starting from index 1, index 3 willl be excluded"
   ]
  },
  {
   "cell_type": "code",
   "execution_count": 24,
   "id": "f2d24ab6",
   "metadata": {},
   "outputs": [
    {
     "data": {
      "text/plain": [
       "'pyth'"
      ]
     },
     "execution_count": 24,
     "metadata": {},
     "output_type": "execute_result"
    }
   ],
   "source": [
    "string1[:4] # by default start from index 0, index 4 excluded"
   ]
  },
  {
   "cell_type": "code",
   "execution_count": 26,
   "id": "31e9232f",
   "metadata": {},
   "outputs": [
    {
     "data": {
      "text/plain": [
       "'pto'"
      ]
     },
     "execution_count": 26,
     "metadata": {},
     "output_type": "execute_result"
    }
   ],
   "source": [
    "string1[::2] # from index 0 started, by default goes at last as no stop index value, step 2,"
   ]
  },
  {
   "cell_type": "raw",
   "id": "7d11349c",
   "metadata": {},
   "source": [
    "string1[-5:-2]"
   ]
  },
  {
   "cell_type": "code",
   "execution_count": 27,
   "id": "35c05f57",
   "metadata": {},
   "outputs": [
    {
     "data": {
      "text/plain": [
       "'yth'"
      ]
     },
     "execution_count": 27,
     "metadata": {},
     "output_type": "execute_result"
    }
   ],
   "source": [
    "string1[-5:-2]"
   ]
  },
  {
   "cell_type": "code",
   "execution_count": 28,
   "id": "256f3c46",
   "metadata": {},
   "outputs": [
    {
     "data": {
      "text/plain": [
       "''"
      ]
     },
     "execution_count": 28,
     "metadata": {},
     "output_type": "execute_result"
    }
   ],
   "source": [
    "#hty\n",
    "string1[-2:-5]"
   ]
  },
  {
   "cell_type": "code",
   "execution_count": 29,
   "id": "6c884a36",
   "metadata": {},
   "outputs": [
    {
     "data": {
      "text/plain": [
       "'nohtyp'"
      ]
     },
     "execution_count": 29,
     "metadata": {},
     "output_type": "execute_result"
    }
   ],
   "source": [
    "string1[::-1]"
   ]
  },
  {
   "cell_type": "code",
   "execution_count": 30,
   "id": "d304a89d",
   "metadata": {},
   "outputs": [
    {
     "data": {
      "text/plain": [
       "'hty'"
      ]
     },
     "execution_count": 30,
     "metadata": {},
     "output_type": "execute_result"
    }
   ],
   "source": [
    "string1[-3:-6:-1] # step if -ve then it will traverse in -ve direction"
   ]
  },
  {
   "cell_type": "code",
   "execution_count": 31,
   "id": "644ad3c2",
   "metadata": {},
   "outputs": [],
   "source": [
    "#modifying string"
   ]
  },
  {
   "cell_type": "code",
   "execution_count": 32,
   "id": "13b2b66e",
   "metadata": {},
   "outputs": [],
   "source": [
    "a=20"
   ]
  },
  {
   "cell_type": "code",
   "execution_count": 33,
   "id": "89e283fa",
   "metadata": {},
   "outputs": [
    {
     "ename": "TypeError",
     "evalue": "'str' object does not support item assignment",
     "output_type": "error",
     "traceback": [
      "\u001b[0;31m---------------------------------------------------------------------------\u001b[0m",
      "\u001b[0;31mTypeError\u001b[0m                                 Traceback (most recent call last)",
      "Cell \u001b[0;32mIn[33], line 1\u001b[0m\n\u001b[0;32m----> 1\u001b[0m string1[\u001b[38;5;241m0\u001b[39m] \u001b[38;5;241m=\u001b[39m \u001b[38;5;124m\"\u001b[39m\u001b[38;5;124mP\u001b[39m\u001b[38;5;124m\"\u001b[39m\n",
      "\u001b[0;31mTypeError\u001b[0m: 'str' object does not support item assignment"
     ]
    }
   ],
   "source": [
    "string1[0] = \"P\" #immutability"
   ]
  },
  {
   "cell_type": "code",
   "execution_count": 34,
   "id": "bbe83fac",
   "metadata": {},
   "outputs": [
    {
     "data": {
      "text/plain": [
       "'Python'"
      ]
     },
     "execution_count": 34,
     "metadata": {},
     "output_type": "execute_result"
    }
   ],
   "source": [
    "string1.replace('p', 'P') #string1.replace(old, new, count)"
   ]
  },
  {
   "cell_type": "code",
   "execution_count": 35,
   "id": "43a1113a",
   "metadata": {},
   "outputs": [
    {
     "data": {
      "text/plain": [
       "'python'"
      ]
     },
     "execution_count": 35,
     "metadata": {},
     "output_type": "execute_result"
    }
   ],
   "source": [
    "string1"
   ]
  },
  {
   "cell_type": "code",
   "execution_count": 36,
   "id": "f931e1de",
   "metadata": {},
   "outputs": [],
   "source": [
    "# by using replace new string (view) dummy string created, original string was not modified"
   ]
  },
  {
   "cell_type": "code",
   "execution_count": 37,
   "id": "9c7c0823",
   "metadata": {},
   "outputs": [],
   "source": [
    "string1=string1.replace('p','P') #reassign for changing value"
   ]
  },
  {
   "cell_type": "code",
   "execution_count": 39,
   "id": "3c34f0c6",
   "metadata": {},
   "outputs": [
    {
     "data": {
      "text/plain": [
       "'Python'"
      ]
     },
     "execution_count": 39,
     "metadata": {},
     "output_type": "execute_result"
    }
   ],
   "source": [
    "string1"
   ]
  },
  {
   "cell_type": "code",
   "execution_count": null,
   "id": "02f08598",
   "metadata": {},
   "outputs": [],
   "source": [
    "#variable naming conventions\n",
    "\n",
    "#not start with digit\n",
    "#cannot contain spaces\n",
    "#cannot be keywords, for, while\n",
    "#no special characters is allowed except _"
   ]
  },
  {
   "cell_type": "code",
   "execution_count": 1,
   "id": "e5861850",
   "metadata": {},
   "outputs": [
    {
     "data": {
      "text/plain": [
       "' Good  Morning  all!'"
      ]
     },
     "execution_count": 1,
     "metadata": {},
     "output_type": "execute_result"
    }
   ],
   "source": [
    "# concatenation\n",
    "#string + string\n",
    "str1=\" Good \"\n",
    "str2=\" Morning \"\n",
    "str1 + str2 + \" all!\""
   ]
  },
  {
   "cell_type": "code",
   "execution_count": 2,
   "id": "5fccdd6a",
   "metadata": {},
   "outputs": [
    {
     "ename": "TypeError",
     "evalue": "can only concatenate str (not \"int\") to str",
     "output_type": "error",
     "traceback": [
      "\u001b[0;31m---------------------------------------------------------------------------\u001b[0m",
      "\u001b[0;31mTypeError\u001b[0m                                 Traceback (most recent call last)",
      "Cell \u001b[0;32mIn[2], line 2\u001b[0m\n\u001b[1;32m      1\u001b[0m \u001b[38;5;66;03m#string + int\u001b[39;00m\n\u001b[0;32m----> 2\u001b[0m \u001b[38;5;124m\"\u001b[39m\u001b[38;5;124m good\u001b[39m\u001b[38;5;124m\"\u001b[39m \u001b[38;5;241m+\u001b[39m \u001b[38;5;241m4\u001b[39m\n",
      "\u001b[0;31mTypeError\u001b[0m: can only concatenate str (not \"int\") to str"
     ]
    }
   ],
   "source": [
    "#string + int\n",
    "\" good\" + 4"
   ]
  },
  {
   "cell_type": "code",
   "execution_count": 3,
   "id": "87754750",
   "metadata": {},
   "outputs": [
    {
     "data": {
      "text/plain": [
       "' good4'"
      ]
     },
     "execution_count": 3,
     "metadata": {},
     "output_type": "execute_result"
    }
   ],
   "source": [
    "\" good\" + \"4\""
   ]
  },
  {
   "cell_type": "code",
   "execution_count": 4,
   "id": "3060a427",
   "metadata": {},
   "outputs": [
    {
     "data": {
      "text/plain": [
       "'Hi, I am Mordhwaj, I work at Inzint. I live in Noida.'"
      ]
     },
     "execution_count": 4,
     "metadata": {},
     "output_type": "execute_result"
    }
   ],
   "source": [
    "#format strings\n",
    "place=\"Noida\"\n",
    "company=\"Inzint\"\n",
    "sentence=\"Hi, I am Mordhwaj, I work at {}. I live in {}.\"\n",
    "sentence.format(company, place)"
   ]
  },
  {
   "cell_type": "code",
   "execution_count": 5,
   "id": "2019c6b8",
   "metadata": {},
   "outputs": [
    {
     "data": {
      "text/plain": [
       "'Hi, I am Mordhwaj, I work at Noida. I live in Inzint.'"
      ]
     },
     "execution_count": 5,
     "metadata": {},
     "output_type": "execute_result"
    }
   ],
   "source": [
    "sentence.format(place, company)"
   ]
  },
  {
   "cell_type": "code",
   "execution_count": 6,
   "id": "7478181a",
   "metadata": {},
   "outputs": [
    {
     "data": {
      "text/plain": [
       "'Hi, I am Mordhwaj, I work at Inzint. I live in Noida.'"
      ]
     },
     "execution_count": 6,
     "metadata": {},
     "output_type": "execute_result"
    }
   ],
   "source": [
    "sentence=\"Hi, I am Mordhwaj, I work at {1}. I live in {0}.\"\n",
    "sentence.format(place, company)"
   ]
  },
  {
   "cell_type": "code",
   "execution_count": 8,
   "id": "589b980c",
   "metadata": {},
   "outputs": [
    {
     "data": {
      "text/plain": [
       "'10 apples, 20 bananas, 30 cherries.'"
      ]
     },
     "execution_count": 8,
     "metadata": {},
     "output_type": "execute_result"
    }
   ],
   "source": [
    "a,b,c=10,20,30\n",
    "type(a)\n",
    "info=\"{} apples, {} bananas, {} cherries.\"\n",
    "info.format(a,b,c)"
   ]
  },
  {
   "cell_type": "code",
   "execution_count": 10,
   "id": "cd9a707b",
   "metadata": {},
   "outputs": [
    {
     "data": {
      "text/plain": [
       "4"
      ]
     },
     "execution_count": 10,
     "metadata": {},
     "output_type": "execute_result"
    }
   ],
   "source": [
    "#casting\n",
    "#constructor -> can declare variable and assign, specify the data type of any value\n",
    "#casting -> change the data type of any variable\n",
    "4\n",
    "int(4)"
   ]
  },
  {
   "cell_type": "code",
   "execution_count": 11,
   "id": "5a9fcd15",
   "metadata": {},
   "outputs": [
    {
     "data": {
      "text/plain": [
       "int"
      ]
     },
     "execution_count": 11,
     "metadata": {},
     "output_type": "execute_result"
    }
   ],
   "source": [
    "number=4\n",
    "type(number)"
   ]
  },
  {
   "cell_type": "code",
   "execution_count": 12,
   "id": "afe3b8e9",
   "metadata": {},
   "outputs": [
    {
     "data": {
      "text/plain": [
       "str"
      ]
     },
     "execution_count": 12,
     "metadata": {},
     "output_type": "execute_result"
    }
   ],
   "source": [
    "fruit=\"cherries\"\n",
    "type(fruit)"
   ]
  },
  {
   "cell_type": "code",
   "execution_count": 13,
   "id": "67f0cc49",
   "metadata": {},
   "outputs": [
    {
     "ename": "TypeError",
     "evalue": "unsupported operand type(s) for +: 'int' and 'str'",
     "output_type": "error",
     "traceback": [
      "\u001b[0;31m---------------------------------------------------------------------------\u001b[0m",
      "\u001b[0;31mTypeError\u001b[0m                                 Traceback (most recent call last)",
      "Cell \u001b[0;32mIn[13], line 1\u001b[0m\n\u001b[0;32m----> 1\u001b[0m number \u001b[38;5;241m+\u001b[39m fruit\n",
      "\u001b[0;31mTypeError\u001b[0m: unsupported operand type(s) for +: 'int' and 'str'"
     ]
    }
   ],
   "source": [
    "number + fruit"
   ]
  },
  {
   "cell_type": "code",
   "execution_count": 15,
   "id": "dec47146",
   "metadata": {},
   "outputs": [
    {
     "data": {
      "text/plain": [
       "'4cherries'"
      ]
     },
     "execution_count": 15,
     "metadata": {},
     "output_type": "execute_result"
    }
   ],
   "source": [
    "str(number) + fruit"
   ]
  },
  {
   "cell_type": "code",
   "execution_count": 16,
   "id": "3fb17744",
   "metadata": {},
   "outputs": [
    {
     "data": {
      "text/plain": [
       "'4 cherries'"
      ]
     },
     "execution_count": 16,
     "metadata": {},
     "output_type": "execute_result"
    }
   ],
   "source": [
    "str(number) + \" \" + fruit"
   ]
  },
  {
   "cell_type": "code",
   "execution_count": 18,
   "id": "b390d533",
   "metadata": {},
   "outputs": [
    {
     "data": {
      "text/plain": [
       "float"
      ]
     },
     "execution_count": 18,
     "metadata": {},
     "output_type": "execute_result"
    }
   ],
   "source": [
    "float_val = 4.5556\n",
    "type(float_val)\n"
   ]
  },
  {
   "cell_type": "code",
   "execution_count": 19,
   "id": "cbe1ce18",
   "metadata": {},
   "outputs": [
    {
     "data": {
      "text/plain": [
       "4"
      ]
     },
     "execution_count": 19,
     "metadata": {},
     "output_type": "execute_result"
    }
   ],
   "source": [
    "int(float_val)"
   ]
  },
  {
   "cell_type": "code",
   "execution_count": 20,
   "id": "cf3fde67",
   "metadata": {},
   "outputs": [
    {
     "ename": "ValueError",
     "evalue": "invalid literal for int() with base 10: 'cherries'",
     "output_type": "error",
     "traceback": [
      "\u001b[0;31m---------------------------------------------------------------------------\u001b[0m",
      "\u001b[0;31mValueError\u001b[0m                                Traceback (most recent call last)",
      "Cell \u001b[0;32mIn[20], line 1\u001b[0m\n\u001b[0;32m----> 1\u001b[0m \u001b[38;5;28mint\u001b[39m(fruit)\n",
      "\u001b[0;31mValueError\u001b[0m: invalid literal for int() with base 10: 'cherries'"
     ]
    }
   ],
   "source": [
    "int(fruit)"
   ]
  },
  {
   "cell_type": "markdown",
   "id": "558b9653",
   "metadata": {},
   "source": [
    "# Boolean"
   ]
  },
  {
   "cell_type": "code",
   "execution_count": 21,
   "id": "9e7fda0c",
   "metadata": {},
   "outputs": [],
   "source": [
    "# True | False (can be value)"
   ]
  },
  {
   "cell_type": "code",
   "execution_count": 22,
   "id": "e285261e",
   "metadata": {},
   "outputs": [
    {
     "data": {
      "text/plain": [
       "bool"
      ]
     },
     "execution_count": 22,
     "metadata": {},
     "output_type": "execute_result"
    }
   ],
   "source": [
    "bool1=True\n",
    "type(bool1)"
   ]
  },
  {
   "cell_type": "code",
   "execution_count": 23,
   "id": "9b0b449e",
   "metadata": {},
   "outputs": [
    {
     "data": {
      "text/plain": [
       "False"
      ]
     },
     "execution_count": 23,
     "metadata": {},
     "output_type": "execute_result"
    }
   ],
   "source": [
    "4>5"
   ]
  },
  {
   "cell_type": "code",
   "execution_count": 24,
   "id": "a47437f3",
   "metadata": {},
   "outputs": [
    {
     "data": {
      "text/plain": [
       "True"
      ]
     },
     "execution_count": 24,
     "metadata": {},
     "output_type": "execute_result"
    }
   ],
   "source": [
    "4==4"
   ]
  },
  {
   "cell_type": "code",
   "execution_count": 25,
   "id": "e586c74a",
   "metadata": {},
   "outputs": [
    {
     "ename": "SyntaxError",
     "evalue": "cannot assign to literal here. Maybe you meant '==' instead of '='? (555856018.py, line 1)",
     "output_type": "error",
     "traceback": [
      "\u001b[0;36m  Cell \u001b[0;32mIn[25], line 1\u001b[0;36m\u001b[0m\n\u001b[0;31m    4=4\u001b[0m\n\u001b[0m    ^\u001b[0m\n\u001b[0;31mSyntaxError\u001b[0m\u001b[0;31m:\u001b[0m cannot assign to literal here. Maybe you meant '==' instead of '='?\n"
     ]
    }
   ],
   "source": [
    "4=4"
   ]
  },
  {
   "cell_type": "code",
   "execution_count": 26,
   "id": "29a547b9",
   "metadata": {},
   "outputs": [
    {
     "data": {
      "text/plain": [
       "False"
      ]
     },
     "execution_count": 26,
     "metadata": {},
     "output_type": "execute_result"
    }
   ],
   "source": [
    "4==56"
   ]
  },
  {
   "cell_type": "code",
   "execution_count": 27,
   "id": "f4e64eae",
   "metadata": {},
   "outputs": [
    {
     "data": {
      "text/plain": [
       "101"
      ]
     },
     "execution_count": 27,
     "metadata": {},
     "output_type": "execute_result"
    }
   ],
   "source": [
    "str1=\"101\"\n",
    "int(str1)"
   ]
  },
  {
   "cell_type": "code",
   "execution_count": 28,
   "id": "7034f4f9",
   "metadata": {},
   "outputs": [
    {
     "data": {
      "text/plain": [
       "102"
      ]
     },
     "execution_count": 28,
     "metadata": {},
     "output_type": "execute_result"
    }
   ],
   "source": [
    "ord('f') #ascii code"
   ]
  },
  {
   "cell_type": "code",
   "execution_count": 29,
   "id": "d6b8dc9f",
   "metadata": {},
   "outputs": [
    {
     "data": {
      "text/plain": [
       "True"
      ]
     },
     "execution_count": 29,
     "metadata": {},
     "output_type": "execute_result"
    }
   ],
   "source": [
    "bool(\"abcd\")"
   ]
  },
  {
   "cell_type": "code",
   "execution_count": 30,
   "id": "b29c393d",
   "metadata": {},
   "outputs": [
    {
     "data": {
      "text/plain": [
       "True"
      ]
     },
     "execution_count": 30,
     "metadata": {},
     "output_type": "execute_result"
    }
   ],
   "source": [
    "bool(34)"
   ]
  },
  {
   "cell_type": "code",
   "execution_count": 31,
   "id": "78ed28f0",
   "metadata": {},
   "outputs": [
    {
     "data": {
      "text/plain": [
       "True"
      ]
     },
     "execution_count": 31,
     "metadata": {},
     "output_type": "execute_result"
    }
   ],
   "source": [
    "bool(45.7)"
   ]
  },
  {
   "cell_type": "code",
   "execution_count": 32,
   "id": "d9aa262f",
   "metadata": {},
   "outputs": [
    {
     "data": {
      "text/plain": [
       "False"
      ]
     },
     "execution_count": 32,
     "metadata": {},
     "output_type": "execute_result"
    }
   ],
   "source": [
    "bool('')"
   ]
  },
  {
   "cell_type": "code",
   "execution_count": 33,
   "id": "1470a58d",
   "metadata": {},
   "outputs": [
    {
     "data": {
      "text/plain": [
       "False"
      ]
     },
     "execution_count": 33,
     "metadata": {},
     "output_type": "execute_result"
    }
   ],
   "source": [
    "bool(0)"
   ]
  },
  {
   "cell_type": "code",
   "execution_count": null,
   "id": "0055d87d",
   "metadata": {},
   "outputs": [],
   "source": [
    "#operations (+, -, *, /, %) we can perform on int/floats"
   ]
  }
 ],
 "metadata": {
  "kernelspec": {
   "display_name": "Python 3 (ipykernel)",
   "language": "python",
   "name": "python3"
  },
  "language_info": {
   "codemirror_mode": {
    "name": "ipython",
    "version": 3
   },
   "file_extension": ".py",
   "mimetype": "text/x-python",
   "name": "python",
   "nbconvert_exporter": "python",
   "pygments_lexer": "ipython3",
   "version": "3.11.5"
  }
 },
 "nbformat": 4,
 "nbformat_minor": 5
}
