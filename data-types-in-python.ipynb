{
 "cells": [
  {
   "cell_type": "markdown",
   "id": "4ef2a0f7",
   "metadata": {},
   "source": [
    "# numerical data types"
   ]
  },
  {
   "cell_type": "code",
   "execution_count": null,
   "id": "9027773a",
   "metadata": {},
   "outputs": [],
   "source": [
    "#number"
   ]
  },
  {
   "cell_type": "code",
   "execution_count": 1,
   "id": "a68bdd3a",
   "metadata": {},
   "outputs": [
    {
     "data": {
      "text/plain": [
       "int"
      ]
     },
     "execution_count": 1,
     "metadata": {},
     "output_type": "execute_result"
    }
   ],
   "source": [
    "number=89\n",
    "type(number)"
   ]
  },
  {
   "cell_type": "code",
   "execution_count": 2,
   "id": "11e713be",
   "metadata": {},
   "outputs": [
    {
     "name": "stdout",
     "output_type": "stream",
     "text": [
      "89\n"
     ]
    }
   ],
   "source": [
    "print(number)"
   ]
  },
  {
   "cell_type": "code",
   "execution_count": 4,
   "id": "eff48020",
   "metadata": {},
   "outputs": [],
   "source": [
    "#float"
   ]
  },
  {
   "cell_type": "code",
   "execution_count": 5,
   "id": "d6b66c6a",
   "metadata": {},
   "outputs": [
    {
     "data": {
      "text/plain": [
       "float"
      ]
     },
     "execution_count": 5,
     "metadata": {},
     "output_type": "execute_result"
    }
   ],
   "source": [
    "f1=34.566\n",
    "type(f1)"
   ]
  },
  {
   "cell_type": "code",
   "execution_count": 6,
   "id": "fafe63f0",
   "metadata": {},
   "outputs": [
    {
     "data": {
      "text/plain": [
       "complex"
      ]
     },
     "execution_count": 6,
     "metadata": {},
     "output_type": "execute_result"
    }
   ],
   "source": [
    "#complex number (a+bj) a = real_part; b = imaginary_part\n",
    "comp=4-5j\n",
    "type(comp)"
   ]
  },
  {
   "cell_type": "code",
   "execution_count": 7,
   "id": "fd021a7a",
   "metadata": {},
   "outputs": [
    {
     "data": {
      "text/plain": [
       "4.0"
      ]
     },
     "execution_count": 7,
     "metadata": {},
     "output_type": "execute_result"
    }
   ],
   "source": [
    "comp.real"
   ]
  },
  {
   "cell_type": "code",
   "execution_count": 8,
   "id": "1231fac6",
   "metadata": {},
   "outputs": [
    {
     "data": {
      "text/plain": [
       "-5.0"
      ]
     },
     "execution_count": 8,
     "metadata": {},
     "output_type": "execute_result"
    }
   ],
   "source": [
    "comp.imag"
   ]
  },
  {
   "cell_type": "markdown",
   "id": "ab6afec4",
   "metadata": {},
   "source": [
    "# text data types"
   ]
  },
  {
   "cell_type": "code",
   "execution_count": 9,
   "id": "f58cc9d3",
   "metadata": {},
   "outputs": [
    {
     "name": "stdout",
     "output_type": "stream",
     "text": [
      "Inzint\n"
     ]
    }
   ],
   "source": [
    "# string - sequence of alphaneumeric types\n",
    "company=\"Inzint\"\n",
    "print(company)"
   ]
  },
  {
   "cell_type": "code",
   "execution_count": 11,
   "id": "0761c5f4",
   "metadata": {},
   "outputs": [
    {
     "name": "stdout",
     "output_type": "stream",
     "text": [
      "I work at Inzint\n"
     ]
    }
   ],
   "source": [
    "print('I work at', company)"
   ]
  },
  {
   "cell_type": "code",
   "execution_count": 12,
   "id": "044eeae2",
   "metadata": {},
   "outputs": [
    {
     "name": "stdout",
     "output_type": "stream",
     "text": [
      "I am mordhwaj.\n",
      "I work in inzint\n"
     ]
    }
   ],
   "source": [
    "multi_line_string = \"\"\"I am mordhwaj.\n",
    "I work in inzint\"\"\"\n",
    "print(multi_line_string)"
   ]
  },
  {
   "cell_type": "code",
   "execution_count": 13,
   "id": "757c4bf7",
   "metadata": {},
   "outputs": [
    {
     "name": "stdout",
     "output_type": "stream",
     "text": [
      "34\n"
     ]
    }
   ],
   "source": [
    "\"\"\"I am mordhwaj.\n",
    "I work in inzint\"\"\"\n",
    "number=34\n",
    "print(number)\n",
    "# here multiline string is ignored and treated as comment by compiler"
   ]
  },
  {
   "cell_type": "code",
   "execution_count": 14,
   "id": "b10d1db8",
   "metadata": {},
   "outputs": [],
   "source": [
    "# variable name should be in format (h/w)"
   ]
  },
  {
   "cell_type": "code",
   "execution_count": null,
   "id": "f9c8093f",
   "metadata": {},
   "outputs": [],
   "source": []
  },
  {
   "cell_type": "code",
   "execution_count": 15,
   "id": "f1e08896",
   "metadata": {},
   "outputs": [],
   "source": [
    "# indexing in array/list/string\n",
    "\n",
    "#  0   1   2   3   4   5\n",
    "#  p   y   t   h   o   n\n",
    "# -6  -5  -4  -3  -2  -1"
   ]
  },
  {
   "cell_type": "code",
   "execution_count": 16,
   "id": "4bef62b8",
   "metadata": {},
   "outputs": [
    {
     "data": {
      "text/plain": [
       "6"
      ]
     },
     "execution_count": 16,
     "metadata": {},
     "output_type": "execute_result"
    }
   ],
   "source": [
    "string1=\"python\"\n",
    "len(string1)"
   ]
  },
  {
   "cell_type": "code",
   "execution_count": 17,
   "id": "2598f116",
   "metadata": {},
   "outputs": [
    {
     "data": {
      "text/plain": [
       "'p'"
      ]
     },
     "execution_count": 17,
     "metadata": {},
     "output_type": "execute_result"
    }
   ],
   "source": [
    "string1[0]"
   ]
  },
  {
   "cell_type": "code",
   "execution_count": 19,
   "id": "b06b6293",
   "metadata": {},
   "outputs": [
    {
     "data": {
      "text/plain": [
       "'n'"
      ]
     },
     "execution_count": 19,
     "metadata": {},
     "output_type": "execute_result"
    }
   ],
   "source": [
    "string1[-1]"
   ]
  },
  {
   "cell_type": "code",
   "execution_count": 20,
   "id": "e11cda0b",
   "metadata": {},
   "outputs": [],
   "source": [
    "# slicing\n",
    "# variable_name[start:stop:step]"
   ]
  },
  {
   "cell_type": "code",
   "execution_count": 21,
   "id": "45a9213d",
   "metadata": {},
   "outputs": [
    {
     "data": {
      "text/plain": [
       "'python'"
      ]
     },
     "execution_count": 21,
     "metadata": {},
     "output_type": "execute_result"
    }
   ],
   "source": [
    "string1"
   ]
  },
  {
   "cell_type": "code",
   "execution_count": 22,
   "id": "33854cd2",
   "metadata": {},
   "outputs": [
    {
     "data": {
      "text/plain": [
       "'ython'"
      ]
     },
     "execution_count": 22,
     "metadata": {},
     "output_type": "execute_result"
    }
   ],
   "source": [
    "string1[1:] #starting from index 1 all elements will be sliced"
   ]
  },
  {
   "cell_type": "code",
   "execution_count": 23,
   "id": "ff07f008",
   "metadata": {},
   "outputs": [
    {
     "data": {
      "text/plain": [
       "'yt'"
      ]
     },
     "execution_count": 23,
     "metadata": {},
     "output_type": "execute_result"
    }
   ],
   "source": [
    "string1[1:3] # starting from index 1, index 3 willl be excluded"
   ]
  },
  {
   "cell_type": "code",
   "execution_count": 24,
   "id": "f2d24ab6",
   "metadata": {},
   "outputs": [
    {
     "data": {
      "text/plain": [
       "'pyth'"
      ]
     },
     "execution_count": 24,
     "metadata": {},
     "output_type": "execute_result"
    }
   ],
   "source": [
    "string1[:4] # by default start from index 0, index 4 excluded"
   ]
  },
  {
   "cell_type": "code",
   "execution_count": 26,
   "id": "31e9232f",
   "metadata": {},
   "outputs": [
    {
     "data": {
      "text/plain": [
       "'pto'"
      ]
     },
     "execution_count": 26,
     "metadata": {},
     "output_type": "execute_result"
    }
   ],
   "source": [
    "string1[::2] # from index 0 started, by default goes at last as no stop index value, step 2,"
   ]
  },
  {
   "cell_type": "raw",
   "id": "7d11349c",
   "metadata": {},
   "source": [
    "string1[-5:-2]"
   ]
  },
  {
   "cell_type": "code",
   "execution_count": 27,
   "id": "35c05f57",
   "metadata": {},
   "outputs": [
    {
     "data": {
      "text/plain": [
       "'yth'"
      ]
     },
     "execution_count": 27,
     "metadata": {},
     "output_type": "execute_result"
    }
   ],
   "source": [
    "string1[-5:-2]"
   ]
  },
  {
   "cell_type": "code",
   "execution_count": 28,
   "id": "256f3c46",
   "metadata": {},
   "outputs": [
    {
     "data": {
      "text/plain": [
       "''"
      ]
     },
     "execution_count": 28,
     "metadata": {},
     "output_type": "execute_result"
    }
   ],
   "source": [
    "#hty\n",
    "string1[-2:-5]"
   ]
  },
  {
   "cell_type": "code",
   "execution_count": 29,
   "id": "6c884a36",
   "metadata": {},
   "outputs": [
    {
     "data": {
      "text/plain": [
       "'nohtyp'"
      ]
     },
     "execution_count": 29,
     "metadata": {},
     "output_type": "execute_result"
    }
   ],
   "source": [
    "string1[::-1]"
   ]
  },
  {
   "cell_type": "code",
   "execution_count": 30,
   "id": "d304a89d",
   "metadata": {},
   "outputs": [
    {
     "data": {
      "text/plain": [
       "'hty'"
      ]
     },
     "execution_count": 30,
     "metadata": {},
     "output_type": "execute_result"
    }
   ],
   "source": [
    "string1[-3:-6:-1] # step if -ve then it will traverse in -ve direction"
   ]
  },
  {
   "cell_type": "code",
   "execution_count": 31,
   "id": "644ad3c2",
   "metadata": {},
   "outputs": [],
   "source": [
    "#modifying string"
   ]
  },
  {
   "cell_type": "code",
   "execution_count": 32,
   "id": "13b2b66e",
   "metadata": {},
   "outputs": [],
   "source": [
    "a=20"
   ]
  },
  {
   "cell_type": "code",
   "execution_count": 33,
   "id": "89e283fa",
   "metadata": {},
   "outputs": [
    {
     "ename": "TypeError",
     "evalue": "'str' object does not support item assignment",
     "output_type": "error",
     "traceback": [
      "\u001b[0;31m---------------------------------------------------------------------------\u001b[0m",
      "\u001b[0;31mTypeError\u001b[0m                                 Traceback (most recent call last)",
      "Cell \u001b[0;32mIn[33], line 1\u001b[0m\n\u001b[0;32m----> 1\u001b[0m string1[\u001b[38;5;241m0\u001b[39m] \u001b[38;5;241m=\u001b[39m \u001b[38;5;124m\"\u001b[39m\u001b[38;5;124mP\u001b[39m\u001b[38;5;124m\"\u001b[39m\n",
      "\u001b[0;31mTypeError\u001b[0m: 'str' object does not support item assignment"
     ]
    }
   ],
   "source": [
    "string1[0] = \"P\" #immutability"
   ]
  },
  {
   "cell_type": "code",
   "execution_count": 34,
   "id": "bbe83fac",
   "metadata": {},
   "outputs": [
    {
     "data": {
      "text/plain": [
       "'Python'"
      ]
     },
     "execution_count": 34,
     "metadata": {},
     "output_type": "execute_result"
    }
   ],
   "source": [
    "string1.replace('p', 'P') #string1.replace(old, new, count)"
   ]
  },
  {
   "cell_type": "code",
   "execution_count": 35,
   "id": "43a1113a",
   "metadata": {},
   "outputs": [
    {
     "data": {
      "text/plain": [
       "'python'"
      ]
     },
     "execution_count": 35,
     "metadata": {},
     "output_type": "execute_result"
    }
   ],
   "source": [
    "string1"
   ]
  },
  {
   "cell_type": "code",
   "execution_count": 36,
   "id": "f931e1de",
   "metadata": {},
   "outputs": [],
   "source": [
    "# by using replace new string (view) dummy string created, original string was not modified"
   ]
  },
  {
   "cell_type": "code",
   "execution_count": 37,
   "id": "9c7c0823",
   "metadata": {},
   "outputs": [],
   "source": [
    "string1=string1.replace('p','P') #reassign for changing value"
   ]
  },
  {
   "cell_type": "code",
   "execution_count": 39,
   "id": "3c34f0c6",
   "metadata": {},
   "outputs": [
    {
     "data": {
      "text/plain": [
       "'Python'"
      ]
     },
     "execution_count": 39,
     "metadata": {},
     "output_type": "execute_result"
    }
   ],
   "source": [
    "string1"
   ]
  },
  {
   "cell_type": "code",
   "execution_count": null,
   "id": "e5861850",
   "metadata": {},
   "outputs": [],
   "source": []
  }
 ],
 "metadata": {
  "kernelspec": {
   "display_name": "Python 3 (ipykernel)",
   "language": "python",
   "name": "python3"
  },
  "language_info": {
   "codemirror_mode": {
    "name": "ipython",
    "version": 3
   },
   "file_extension": ".py",
   "mimetype": "text/x-python",
   "name": "python",
   "nbconvert_exporter": "python",
   "pygments_lexer": "ipython3",
   "version": "3.11.5"
  }
 },
 "nbformat": 4,
 "nbformat_minor": 5
}
