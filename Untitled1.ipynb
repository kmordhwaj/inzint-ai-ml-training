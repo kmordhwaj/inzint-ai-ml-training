{
 "cells": [
  {
   "cell_type": "code",
   "execution_count": 1,
   "id": "5651cb4a",
   "metadata": {},
   "outputs": [],
   "source": [
    "import seaborn as sns\n",
    "import pandas as pd\n",
    "import numpy as np"
   ]
  },
  {
   "cell_type": "code",
   "execution_count": 3,
   "id": "751c90ce",
   "metadata": {},
   "outputs": [
    {
     "data": {
      "text/html": [
       "<div>\n",
       "<style scoped>\n",
       "    .dataframe tbody tr th:only-of-type {\n",
       "        vertical-align: middle;\n",
       "    }\n",
       "\n",
       "    .dataframe tbody tr th {\n",
       "        vertical-align: top;\n",
       "    }\n",
       "\n",
       "    .dataframe thead th {\n",
       "        text-align: right;\n",
       "    }\n",
       "</style>\n",
       "<table border=\"1\" class=\"dataframe\">\n",
       "  <thead>\n",
       "    <tr style=\"text-align: right;\">\n",
       "      <th></th>\n",
       "      <th>stud.id</th>\n",
       "      <th>name</th>\n",
       "      <th>gender</th>\n",
       "      <th>age</th>\n",
       "      <th>height</th>\n",
       "      <th>weight</th>\n",
       "      <th>religion</th>\n",
       "      <th>nc.score</th>\n",
       "      <th>semester</th>\n",
       "      <th>major</th>\n",
       "      <th>minor</th>\n",
       "      <th>score1</th>\n",
       "      <th>score2</th>\n",
       "      <th>online.tutorial</th>\n",
       "      <th>graduated</th>\n",
       "      <th>salary</th>\n",
       "    </tr>\n",
       "  </thead>\n",
       "  <tbody>\n",
       "    <tr>\n",
       "      <th>1</th>\n",
       "      <td>833917</td>\n",
       "      <td>Gonzales, Christina</td>\n",
       "      <td>Female</td>\n",
       "      <td>19</td>\n",
       "      <td>160</td>\n",
       "      <td>64.8</td>\n",
       "      <td>Muslim</td>\n",
       "      <td>1.91</td>\n",
       "      <td>1st</td>\n",
       "      <td>Political Science</td>\n",
       "      <td>Social Sciences</td>\n",
       "      <td>NaN</td>\n",
       "      <td>NaN</td>\n",
       "      <td>0</td>\n",
       "      <td>0</td>\n",
       "      <td>NaN</td>\n",
       "    </tr>\n",
       "    <tr>\n",
       "      <th>2</th>\n",
       "      <td>898539</td>\n",
       "      <td>Lozano, T'Hani</td>\n",
       "      <td>Female</td>\n",
       "      <td>19</td>\n",
       "      <td>172</td>\n",
       "      <td>73.0</td>\n",
       "      <td>Other</td>\n",
       "      <td>1.56</td>\n",
       "      <td>2nd</td>\n",
       "      <td>Social Sciences</td>\n",
       "      <td>Mathematics and Statistics</td>\n",
       "      <td>NaN</td>\n",
       "      <td>NaN</td>\n",
       "      <td>0</td>\n",
       "      <td>0</td>\n",
       "      <td>NaN</td>\n",
       "    </tr>\n",
       "    <tr>\n",
       "      <th>3</th>\n",
       "      <td>379678</td>\n",
       "      <td>Williams, Hanh</td>\n",
       "      <td>Female</td>\n",
       "      <td>22</td>\n",
       "      <td>168</td>\n",
       "      <td>70.6</td>\n",
       "      <td>Protestant</td>\n",
       "      <td>1.24</td>\n",
       "      <td>3rd</td>\n",
       "      <td>Social Sciences</td>\n",
       "      <td>Mathematics and Statistics</td>\n",
       "      <td>45.0</td>\n",
       "      <td>46.0</td>\n",
       "      <td>0</td>\n",
       "      <td>0</td>\n",
       "      <td>NaN</td>\n",
       "    </tr>\n",
       "    <tr>\n",
       "      <th>4</th>\n",
       "      <td>807564</td>\n",
       "      <td>Nem, Denzel</td>\n",
       "      <td>Male</td>\n",
       "      <td>19</td>\n",
       "      <td>183</td>\n",
       "      <td>79.7</td>\n",
       "      <td>Other</td>\n",
       "      <td>1.37</td>\n",
       "      <td>2nd</td>\n",
       "      <td>Environmental Sciences</td>\n",
       "      <td>Mathematics and Statistics</td>\n",
       "      <td>NaN</td>\n",
       "      <td>NaN</td>\n",
       "      <td>0</td>\n",
       "      <td>0</td>\n",
       "      <td>NaN</td>\n",
       "    </tr>\n",
       "    <tr>\n",
       "      <th>5</th>\n",
       "      <td>383291</td>\n",
       "      <td>Powell, Heather</td>\n",
       "      <td>Female</td>\n",
       "      <td>21</td>\n",
       "      <td>175</td>\n",
       "      <td>71.4</td>\n",
       "      <td>Catholic</td>\n",
       "      <td>1.46</td>\n",
       "      <td>1st</td>\n",
       "      <td>Environmental Sciences</td>\n",
       "      <td>Mathematics and Statistics</td>\n",
       "      <td>NaN</td>\n",
       "      <td>NaN</td>\n",
       "      <td>0</td>\n",
       "      <td>0</td>\n",
       "      <td>NaN</td>\n",
       "    </tr>\n",
       "  </tbody>\n",
       "</table>\n",
       "</div>"
      ],
      "text/plain": [
       "   stud.id                 name  gender  age  height  weight    religion  \\\n",
       "1   833917  Gonzales, Christina  Female   19     160    64.8      Muslim   \n",
       "2   898539       Lozano, T'Hani  Female   19     172    73.0       Other   \n",
       "3   379678       Williams, Hanh  Female   22     168    70.6  Protestant   \n",
       "4   807564          Nem, Denzel    Male   19     183    79.7       Other   \n",
       "5   383291      Powell, Heather  Female   21     175    71.4    Catholic   \n",
       "\n",
       "   nc.score semester                   major                       minor  \\\n",
       "1      1.91      1st       Political Science             Social Sciences   \n",
       "2      1.56      2nd         Social Sciences  Mathematics and Statistics   \n",
       "3      1.24      3rd         Social Sciences  Mathematics and Statistics   \n",
       "4      1.37      2nd  Environmental Sciences  Mathematics and Statistics   \n",
       "5      1.46      1st  Environmental Sciences  Mathematics and Statistics   \n",
       "\n",
       "   score1  score2  online.tutorial  graduated  salary  \n",
       "1     NaN     NaN                0          0     NaN  \n",
       "2     NaN     NaN                0          0     NaN  \n",
       "3    45.0    46.0                0          0     NaN  \n",
       "4     NaN     NaN                0          0     NaN  \n",
       "5     NaN     NaN                0          0     NaN  "
      ]
     },
     "execution_count": 3,
     "metadata": {},
     "output_type": "execute_result"
    }
   ],
   "source": [
    "df=pd.read_csv(\"students.csv\")\n",
    "df.head()"
   ]
  },
  {
   "cell_type": "code",
   "execution_count": 4,
   "id": "747ad70f",
   "metadata": {},
   "outputs": [],
   "source": [
    "#try remove outlier"
   ]
  },
  {
   "cell_type": "code",
   "execution_count": 5,
   "id": "41dd3e41",
   "metadata": {},
   "outputs": [],
   "source": [
    "weights = df['weight']"
   ]
  },
  {
   "cell_type": "code",
   "execution_count": 6,
   "id": "7fa47c6a",
   "metadata": {},
   "outputs": [
    {
     "data": {
      "text/plain": [
       "72.99813084112151"
      ]
     },
     "execution_count": 6,
     "metadata": {},
     "output_type": "execute_result"
    }
   ],
   "source": [
    "weights.mean()"
   ]
  },
  {
   "cell_type": "code",
   "execution_count": 7,
   "id": "f8f48399",
   "metadata": {},
   "outputs": [
    {
     "data": {
      "text/plain": [
       "0    67.1\n",
       "Name: weight, dtype: float64"
      ]
     },
     "execution_count": 7,
     "metadata": {},
     "output_type": "execute_result"
    }
   ],
   "source": [
    "weights.mode()"
   ]
  },
  {
   "cell_type": "code",
   "execution_count": 8,
   "id": "0729b6c3",
   "metadata": {},
   "outputs": [
    {
     "data": {
      "text/plain": [
       "71.8"
      ]
     },
     "execution_count": 8,
     "metadata": {},
     "output_type": "execute_result"
    }
   ],
   "source": [
    "weights.median()"
   ]
  },
  {
   "cell_type": "code",
   "execution_count": 15,
   "id": "17689b19",
   "metadata": {},
   "outputs": [],
   "source": [
    "from scipy.stats import skew, kurtosis, zscore"
   ]
  },
  {
   "cell_type": "code",
   "execution_count": 11,
   "id": "88dbab85",
   "metadata": {},
   "outputs": [
    {
     "data": {
      "text/plain": [
       "0.6508854364719628"
      ]
     },
     "execution_count": 11,
     "metadata": {},
     "output_type": "execute_result"
    }
   ],
   "source": [
    "skew(weights)"
   ]
  },
  {
   "cell_type": "code",
   "execution_count": 12,
   "id": "6e0b53f3",
   "metadata": {},
   "outputs": [
    {
     "data": {
      "text/plain": [
       "0.2921368367627899"
      ]
     },
     "execution_count": 12,
     "metadata": {},
     "output_type": "execute_result"
    }
   ],
   "source": [
    "kurtosis(weights)"
   ]
  },
  {
   "cell_type": "code",
   "execution_count": 13,
   "id": "80f6bf15",
   "metadata": {},
   "outputs": [],
   "source": [
    "#zscore -> 3sd to -3sd"
   ]
  },
  {
   "cell_type": "code",
   "execution_count": 16,
   "id": "a73a5a40",
   "metadata": {},
   "outputs": [
    {
     "data": {
      "text/plain": [
       "1      -0.949447\n",
       "2       0.000216\n",
       "3      -0.277734\n",
       "4       0.776161\n",
       "5      -0.185084\n",
       "          ...   \n",
       "8235    0.706673\n",
       "8236   -0.046109\n",
       "8237   -0.613590\n",
       "8238    2.965020\n",
       "8239   -0.463034\n",
       "Name: weight, Length: 8239, dtype: float64"
      ]
     },
     "execution_count": 16,
     "metadata": {},
     "output_type": "execute_result"
    }
   ],
   "source": [
    "zscores = zscore(weights)"
   ]
  },
  {
   "cell_type": "code",
   "execution_count": 19,
   "id": "0e0cd93c",
   "metadata": {},
   "outputs": [
    {
     "ename": "AttributeError",
     "evalue": "module 'seaborn' has no attribute 'plot'",
     "output_type": "error",
     "traceback": [
      "\u001b[0;31m---------------------------------------------------------------------------\u001b[0m",
      "\u001b[0;31mAttributeError\u001b[0m                            Traceback (most recent call last)",
      "Cell \u001b[0;32mIn[19], line 1\u001b[0m\n\u001b[0;32m----> 1\u001b[0m sns\u001b[38;5;241m.\u001b[39mplot(zscores)\n",
      "\u001b[0;31mAttributeError\u001b[0m: module 'seaborn' has no attribute 'plot'"
     ]
    }
   ],
   "source": [
    "sns.plot(zscores)"
   ]
  },
  {
   "cell_type": "code",
   "execution_count": 20,
   "id": "b46f82ad",
   "metadata": {},
   "outputs": [
    {
     "ename": "SyntaxError",
     "evalue": "cannot assign to literal here. Maybe you meant '==' instead of '='? (939357142.py, line 1)",
     "output_type": "error",
     "traceback": [
      "\u001b[0;36m  Cell \u001b[0;32mIn[20], line 1\u001b[0;36m\u001b[0m\n\u001b[0;31m    8.63 = 72.9 + z/3\u001b[0m\n\u001b[0m    ^\u001b[0m\n\u001b[0;31mSyntaxError\u001b[0m\u001b[0;31m:\u001b[0m cannot assign to literal here. Maybe you meant '==' instead of '='?\n"
     ]
    }
   ],
   "source": [
    "8.63 = 72.9 + z/3"
   ]
  },
  {
   "cell_type": "code",
   "execution_count": 21,
   "id": "9c221320",
   "metadata": {},
   "outputs": [
    {
     "data": {
      "text/plain": [
       "75.77666666666667"
      ]
     },
     "execution_count": 21,
     "metadata": {},
     "output_type": "execute_result"
    }
   ],
   "source": [
    "a = 72.9 + 8.63/3\n",
    "a"
   ]
  },
  {
   "cell_type": "code",
   "execution_count": 22,
   "id": "05956354",
   "metadata": {},
   "outputs": [],
   "source": [
    "from scipy.stats import binom\n",
    "n=20\n",
    "p=0.5"
   ]
  },
  {
   "cell_type": "code",
   "execution_count": 24,
   "id": "159a9ddd",
   "metadata": {},
   "outputs": [],
   "source": [
    "b_dist = binom(n,p)"
   ]
  },
  {
   "cell_type": "code",
   "execution_count": 25,
   "id": "f31320b3",
   "metadata": {},
   "outputs": [
    {
     "data": {
      "text/plain": [
       "array([ 0,  1,  2,  3,  4,  5,  6,  7,  8,  9, 10, 11, 12, 13, 14, 15, 16,\n",
       "       17, 18, 19, 20])"
      ]
     },
     "execution_count": 25,
     "metadata": {},
     "output_type": "execute_result"
    }
   ],
   "source": [
    "x=np.arange(0, n+1)\n",
    "x"
   ]
  },
  {
   "cell_type": "code",
   "execution_count": 28,
   "id": "42dc82bd",
   "metadata": {},
   "outputs": [
    {
     "data": {
      "text/plain": [
       "array([9.53674316e-07, 1.90734863e-05, 1.81198120e-04, 1.08718872e-03,\n",
       "       4.62055206e-03, 1.47857666e-02, 3.69644165e-02, 7.39288330e-02,\n",
       "       1.20134354e-01, 1.60179138e-01, 1.76197052e-01, 1.60179138e-01,\n",
       "       1.20134354e-01, 7.39288330e-02, 3.69644165e-02, 1.47857666e-02,\n",
       "       4.62055206e-03, 1.08718872e-03, 1.81198120e-04, 1.90734863e-05,\n",
       "       9.53674316e-07])"
      ]
     },
     "execution_count": 28,
     "metadata": {},
     "output_type": "execute_result"
    }
   ],
   "source": [
    "b_dist.pmf(x) #pmf->discreate, pdf-->continuous"
   ]
  },
  {
   "cell_type": "code",
   "execution_count": 29,
   "id": "77dc1837",
   "metadata": {},
   "outputs": [
    {
     "ename": "NameError",
     "evalue": "name 'plt' is not defined",
     "output_type": "error",
     "traceback": [
      "\u001b[0;31m---------------------------------------------------------------------------\u001b[0m",
      "\u001b[0;31mNameError\u001b[0m                                 Traceback (most recent call last)",
      "Cell \u001b[0;32mIn[29], line 2\u001b[0m\n\u001b[1;32m      1\u001b[0m sns\u001b[38;5;241m.\u001b[39mlineplot(x\u001b[38;5;241m=\u001b[39mx, y\u001b[38;5;241m=\u001b[39mb_dist\u001b[38;5;241m.\u001b[39mpmf(x) , color\u001b[38;5;241m=\u001b[39m\u001b[38;5;124m\"\u001b[39m\u001b[38;5;124mskyblue\u001b[39m\u001b[38;5;124m\"\u001b[39m, marker\u001b[38;5;241m=\u001b[39m\u001b[38;5;124m\"\u001b[39m\u001b[38;5;124mo\u001b[39m\u001b[38;5;124m\"\u001b[39m)\n\u001b[0;32m----> 2\u001b[0m plt\u001b[38;5;241m.\u001b[39mgrid()\n\u001b[1;32m      3\u001b[0m plt\u001b[38;5;241m.\u001b[39mshow()\n",
      "\u001b[0;31mNameError\u001b[0m: name 'plt' is not defined"
     ]
    },
    {
     "data": {
      "image/png": "[encoded data removed]",
      "text/plain": [
       "<Figure size 640x480 with 1 Axes>"
      ]
     },
     "metadata": {},
     "output_type": "display_data"
    }
   ],
   "source": [
    "sns.lineplot(x=x, y=b_dist.pmf(x) , color=\"skyblue\", marker=\"o\")\n",
    "plt.grid(True)\n",
    "plt.show()"
   ]
  },
  {
   "cell_type": "code",
   "execution_count": 30,
   "id": "c4f07ad0",
   "metadata": {},
   "outputs": [],
   "source": [
    "#poisson distribution"
   ]
  },
  {
   "cell_type": "code",
   "execution_count": 31,
   "id": "d5bf4e12",
   "metadata": {},
   "outputs": [],
   "source": [
    "#binomial --> n (finite)\n",
    "#poissson --> n (infinite)"
   ]
  },
  {
   "cell_type": "code",
   "execution_count": null,
   "id": "2d2d2040",
   "metadata": {},
   "outputs": [],
   "source": []
  },
  {
   "cell_type": "code",
   "execution_count": 1,
   "id": "0d85e2c0",
   "metadata": {},
   "outputs": [],
   "source": [
    "import numpy as np\n",
    "import matplotlib.pyplot as plt\n",
    "import seaborn as sns\n",
    "from scipy.stats import poisson"
   ]
  },
  {
   "cell_type": "code",
   "execution_count": 2,
   "id": "e52f2bae",
   "metadata": {},
   "outputs": [],
   "source": [
    "accidents_per_hour = np.array([10,8, 7, 4, 11, 14, 16, 7, 10, 16, 10, 14, 4, 2, 4])\n",
    "mean_per_hour = np.mean(accidents_per_hour) #lambda"
   ]
  },
  {
   "cell_type": "code",
   "execution_count": 3,
   "id": "30d7c3b1",
   "metadata": {},
   "outputs": [
    {
     "data": {
      "text/plain": [
       "9.133333333333333"
      ]
     },
     "execution_count": 3,
     "metadata": {},
     "output_type": "execute_result"
    }
   ],
   "source": [
    "mean_per_hour"
   ]
  },
  {
   "cell_type": "code",
   "execution_count": 6,
   "id": "15f7c2ac",
   "metadata": {},
   "outputs": [],
   "source": [
    "p_dist = poisson(mean_per_hour)"
   ]
  },
  {
   "cell_type": "code",
   "execution_count": 8,
   "id": "adcee091",
   "metadata": {},
   "outputs": [],
   "source": [
    "samples_dist = p_dist.rvs(size=1000)"
   ]
  },
  {
   "cell_type": "code",
   "execution_count": 10,
   "id": "43243243",
   "metadata": {},
   "outputs": [
    {
     "name": "stderr",
     "output_type": "stream",
     "text": [
      "/var/folders/b0/frtzry9s6b32vg4gz127642h0000gn/T/ipykernel_729/2327861367.py:1: UserWarning: \n",
      "\n",
      "`distplot` is a deprecated function and will be removed in seaborn v0.14.0.\n",
      "\n",
      "Please adapt your code to use either `displot` (a figure-level function with\n",
      "similar flexibility) or `histplot` (an axes-level function for histograms).\n",
      "\n",
      "For a guide to updating your code to use the new functions, please see\n",
      "https://gist.github.com/mwaskom/de44147ed2974457ad6372750bbe5751\n",
      "\n",
      "  sns.distplot(samples_dist, kde=True)\n"
     ]
    },
    {
     "data": {
      "image/png": "[encoded data removed]",
      "text/plain": [
       "<Figure size 640x480 with 1 Axes>"
      ]
     },
     "metadata": {},
     "output_type": "display_data"
    }
   ],
   "source": [
    "sns.distplot(samples_dist, kde=True)\n",
    "plt.xticks(np.arange(0,15))\n",
    "plt.grid(True)\n",
    "plt.show()"
   ]
  },
  {
   "cell_type": "code",
   "execution_count": 11,
   "id": "a0d5c73a",
   "metadata": {},
   "outputs": [],
   "source": [
    "# sampling\n",
    "# random sampling \n",
    "# stratified sampling\n",
    "# systematic sampling -> periodic\n",
    "# cluster sampling --> domain specific\n"
   ]
  },
  {
   "cell_type": "code",
   "execution_count": 14,
   "id": "9c4da0e3",
   "metadata": {},
   "outputs": [
    {
     "data": {
      "text/html": [
       "<div>\n",
       "<style scoped>\n",
       "    .dataframe tbody tr th:only-of-type {\n",
       "        vertical-align: middle;\n",
       "    }\n",
       "\n",
       "    .dataframe tbody tr th {\n",
       "        vertical-align: top;\n",
       "    }\n",
       "\n",
       "    .dataframe thead th {\n",
       "        text-align: right;\n",
       "    }\n",
       "</style>\n",
       "<table border=\"1\" class=\"dataframe\">\n",
       "  <thead>\n",
       "    <tr style=\"text-align: right;\">\n",
       "      <th></th>\n",
       "      <th>stud.id</th>\n",
       "      <th>name</th>\n",
       "      <th>gender</th>\n",
       "      <th>age</th>\n",
       "      <th>height</th>\n",
       "      <th>weight</th>\n",
       "      <th>religion</th>\n",
       "      <th>nc.score</th>\n",
       "      <th>semester</th>\n",
       "      <th>major</th>\n",
       "      <th>minor</th>\n",
       "      <th>score1</th>\n",
       "      <th>score2</th>\n",
       "      <th>online.tutorial</th>\n",
       "      <th>graduated</th>\n",
       "      <th>salary</th>\n",
       "    </tr>\n",
       "  </thead>\n",
       "  <tbody>\n",
       "    <tr>\n",
       "      <th>1</th>\n",
       "      <td>833917</td>\n",
       "      <td>Gonzales, Christina</td>\n",
       "      <td>Female</td>\n",
       "      <td>19</td>\n",
       "      <td>160</td>\n",
       "      <td>64.8</td>\n",
       "      <td>Muslim</td>\n",
       "      <td>1.91</td>\n",
       "      <td>1st</td>\n",
       "      <td>Political Science</td>\n",
       "      <td>Social Sciences</td>\n",
       "      <td>NaN</td>\n",
       "      <td>NaN</td>\n",
       "      <td>0</td>\n",
       "      <td>0</td>\n",
       "      <td>NaN</td>\n",
       "    </tr>\n",
       "    <tr>\n",
       "      <th>2</th>\n",
       "      <td>898539</td>\n",
       "      <td>Lozano, T'Hani</td>\n",
       "      <td>Female</td>\n",
       "      <td>19</td>\n",
       "      <td>172</td>\n",
       "      <td>73.0</td>\n",
       "      <td>Other</td>\n",
       "      <td>1.56</td>\n",
       "      <td>2nd</td>\n",
       "      <td>Social Sciences</td>\n",
       "      <td>Mathematics and Statistics</td>\n",
       "      <td>NaN</td>\n",
       "      <td>NaN</td>\n",
       "      <td>0</td>\n",
       "      <td>0</td>\n",
       "      <td>NaN</td>\n",
       "    </tr>\n",
       "    <tr>\n",
       "      <th>3</th>\n",
       "      <td>379678</td>\n",
       "      <td>Williams, Hanh</td>\n",
       "      <td>Female</td>\n",
       "      <td>22</td>\n",
       "      <td>168</td>\n",
       "      <td>70.6</td>\n",
       "      <td>Protestant</td>\n",
       "      <td>1.24</td>\n",
       "      <td>3rd</td>\n",
       "      <td>Social Sciences</td>\n",
       "      <td>Mathematics and Statistics</td>\n",
       "      <td>45.0</td>\n",
       "      <td>46.0</td>\n",
       "      <td>0</td>\n",
       "      <td>0</td>\n",
       "      <td>NaN</td>\n",
       "    </tr>\n",
       "    <tr>\n",
       "      <th>4</th>\n",
       "      <td>807564</td>\n",
       "      <td>Nem, Denzel</td>\n",
       "      <td>Male</td>\n",
       "      <td>19</td>\n",
       "      <td>183</td>\n",
       "      <td>79.7</td>\n",
       "      <td>Other</td>\n",
       "      <td>1.37</td>\n",
       "      <td>2nd</td>\n",
       "      <td>Environmental Sciences</td>\n",
       "      <td>Mathematics and Statistics</td>\n",
       "      <td>NaN</td>\n",
       "      <td>NaN</td>\n",
       "      <td>0</td>\n",
       "      <td>0</td>\n",
       "      <td>NaN</td>\n",
       "    </tr>\n",
       "    <tr>\n",
       "      <th>5</th>\n",
       "      <td>383291</td>\n",
       "      <td>Powell, Heather</td>\n",
       "      <td>Female</td>\n",
       "      <td>21</td>\n",
       "      <td>175</td>\n",
       "      <td>71.4</td>\n",
       "      <td>Catholic</td>\n",
       "      <td>1.46</td>\n",
       "      <td>1st</td>\n",
       "      <td>Environmental Sciences</td>\n",
       "      <td>Mathematics and Statistics</td>\n",
       "      <td>NaN</td>\n",
       "      <td>NaN</td>\n",
       "      <td>0</td>\n",
       "      <td>0</td>\n",
       "      <td>NaN</td>\n",
       "    </tr>\n",
       "    <tr>\n",
       "      <th>...</th>\n",
       "      <td>...</td>\n",
       "      <td>...</td>\n",
       "      <td>...</td>\n",
       "      <td>...</td>\n",
       "      <td>...</td>\n",
       "      <td>...</td>\n",
       "      <td>...</td>\n",
       "      <td>...</td>\n",
       "      <td>...</td>\n",
       "      <td>...</td>\n",
       "      <td>...</td>\n",
       "      <td>...</td>\n",
       "      <td>...</td>\n",
       "      <td>...</td>\n",
       "      <td>...</td>\n",
       "      <td>...</td>\n",
       "    </tr>\n",
       "    <tr>\n",
       "      <th>8235</th>\n",
       "      <td>818044</td>\n",
       "      <td>Her, Joshua</td>\n",
       "      <td>Male</td>\n",
       "      <td>22</td>\n",
       "      <td>181</td>\n",
       "      <td>79.1</td>\n",
       "      <td>Protestant</td>\n",
       "      <td>2.91</td>\n",
       "      <td>6th</td>\n",
       "      <td>Environmental Sciences</td>\n",
       "      <td>Social Sciences</td>\n",
       "      <td>73.0</td>\n",
       "      <td>71.0</td>\n",
       "      <td>0</td>\n",
       "      <td>1</td>\n",
       "      <td>36750.087135</td>\n",
       "    </tr>\n",
       "    <tr>\n",
       "      <th>8236</th>\n",
       "      <td>560166</td>\n",
       "      <td>Reid, Jose</td>\n",
       "      <td>Male</td>\n",
       "      <td>23</td>\n",
       "      <td>178</td>\n",
       "      <td>72.6</td>\n",
       "      <td>Catholic</td>\n",
       "      <td>2.03</td>\n",
       "      <td>2nd</td>\n",
       "      <td>Environmental Sciences</td>\n",
       "      <td>Mathematics and Statistics</td>\n",
       "      <td>NaN</td>\n",
       "      <td>NaN</td>\n",
       "      <td>0</td>\n",
       "      <td>0</td>\n",
       "      <td>NaN</td>\n",
       "    </tr>\n",
       "    <tr>\n",
       "      <th>8237</th>\n",
       "      <td>380174</td>\n",
       "      <td>Villa, Raechelle</td>\n",
       "      <td>Female</td>\n",
       "      <td>20</td>\n",
       "      <td>169</td>\n",
       "      <td>67.7</td>\n",
       "      <td>Other</td>\n",
       "      <td>3.72</td>\n",
       "      <td>3rd</td>\n",
       "      <td>Environmental Sciences</td>\n",
       "      <td>Economics and Finance</td>\n",
       "      <td>77.0</td>\n",
       "      <td>75.0</td>\n",
       "      <td>1</td>\n",
       "      <td>0</td>\n",
       "      <td>NaN</td>\n",
       "    </tr>\n",
       "    <tr>\n",
       "      <th>8238</th>\n",
       "      <td>540967</td>\n",
       "      <td>Ngo, Preston</td>\n",
       "      <td>Male</td>\n",
       "      <td>23</td>\n",
       "      <td>195</td>\n",
       "      <td>98.6</td>\n",
       "      <td>Other</td>\n",
       "      <td>2.74</td>\n",
       "      <td>4th</td>\n",
       "      <td>Social Sciences</td>\n",
       "      <td>Political Science</td>\n",
       "      <td>50.0</td>\n",
       "      <td>46.0</td>\n",
       "      <td>1</td>\n",
       "      <td>1</td>\n",
       "      <td>40112.041834</td>\n",
       "    </tr>\n",
       "    <tr>\n",
       "      <th>8239</th>\n",
       "      <td>413207</td>\n",
       "      <td>Bernhard, Estela</td>\n",
       "      <td>Female</td>\n",
       "      <td>19</td>\n",
       "      <td>170</td>\n",
       "      <td>69.0</td>\n",
       "      <td>Muslim</td>\n",
       "      <td>3.29</td>\n",
       "      <td>&gt;6th</td>\n",
       "      <td>Political Science</td>\n",
       "      <td>Biology</td>\n",
       "      <td>47.0</td>\n",
       "      <td>59.0</td>\n",
       "      <td>1</td>\n",
       "      <td>1</td>\n",
       "      <td>45900.134459</td>\n",
       "    </tr>\n",
       "  </tbody>\n",
       "</table>\n",
       "<p>8239 rows × 16 columns</p>\n",
       "</div>"
      ],
      "text/plain": [
       "      stud.id                 name  gender  age  height  weight    religion  \\\n",
       "1      833917  Gonzales, Christina  Female   19     160    64.8      Muslim   \n",
       "2      898539       Lozano, T'Hani  Female   19     172    73.0       Other   \n",
       "3      379678       Williams, Hanh  Female   22     168    70.6  Protestant   \n",
       "4      807564          Nem, Denzel    Male   19     183    79.7       Other   \n",
       "5      383291      Powell, Heather  Female   21     175    71.4    Catholic   \n",
       "...       ...                  ...     ...  ...     ...     ...         ...   \n",
       "8235   818044          Her, Joshua    Male   22     181    79.1  Protestant   \n",
       "8236   560166           Reid, Jose    Male   23     178    72.6    Catholic   \n",
       "8237   380174     Villa, Raechelle  Female   20     169    67.7       Other   \n",
       "8238   540967         Ngo, Preston    Male   23     195    98.6       Other   \n",
       "8239   413207     Bernhard, Estela  Female   19     170    69.0      Muslim   \n",
       "\n",
       "      nc.score semester                   major                       minor  \\\n",
       "1         1.91      1st       Political Science             Social Sciences   \n",
       "2         1.56      2nd         Social Sciences  Mathematics and Statistics   \n",
       "3         1.24      3rd         Social Sciences  Mathematics and Statistics   \n",
       "4         1.37      2nd  Environmental Sciences  Mathematics and Statistics   \n",
       "5         1.46      1st  Environmental Sciences  Mathematics and Statistics   \n",
       "...        ...      ...                     ...                         ...   \n",
       "8235      2.91      6th  Environmental Sciences             Social Sciences   \n",
       "8236      2.03      2nd  Environmental Sciences  Mathematics and Statistics   \n",
       "8237      3.72      3rd  Environmental Sciences       Economics and Finance   \n",
       "8238      2.74      4th         Social Sciences           Political Science   \n",
       "8239      3.29     >6th       Political Science                     Biology   \n",
       "\n",
       "      score1  score2  online.tutorial  graduated        salary  \n",
       "1        NaN     NaN                0          0           NaN  \n",
       "2        NaN     NaN                0          0           NaN  \n",
       "3       45.0    46.0                0          0           NaN  \n",
       "4        NaN     NaN                0          0           NaN  \n",
       "5        NaN     NaN                0          0           NaN  \n",
       "...      ...     ...              ...        ...           ...  \n",
       "8235    73.0    71.0                0          1  36750.087135  \n",
       "8236     NaN     NaN                0          0           NaN  \n",
       "8237    77.0    75.0                1          0           NaN  \n",
       "8238    50.0    46.0                1          1  40112.041834  \n",
       "8239    47.0    59.0                1          1  45900.134459  \n",
       "\n",
       "[8239 rows x 16 columns]"
      ]
     },
     "execution_count": 14,
     "metadata": {},
     "output_type": "execute_result"
    }
   ],
   "source": [
    "import pandas as pd\n",
    "df = pd.read_csv('students.csv')\n",
    "df"
   ]
  },
  {
   "cell_type": "code",
   "execution_count": 15,
   "id": "05470a66",
   "metadata": {},
   "outputs": [
    {
     "data": {
      "text/plain": [
       "(8239, 16)"
      ]
     },
     "execution_count": 15,
     "metadata": {},
     "output_type": "execute_result"
    }
   ],
   "source": [
    "df.shape"
   ]
  },
  {
   "cell_type": "code",
   "execution_count": 16,
   "id": "04633450",
   "metadata": {},
   "outputs": [],
   "source": [
    "weights = df['weight']"
   ]
  },
  {
   "cell_type": "code",
   "execution_count": 17,
   "id": "01ea994e",
   "metadata": {},
   "outputs": [
    {
     "data": {
      "text/plain": [
       "72.99813084112151"
      ]
     },
     "execution_count": 17,
     "metadata": {},
     "output_type": "execute_result"
    }
   ],
   "source": [
    "weights.mean()"
   ]
  },
  {
   "cell_type": "code",
   "execution_count": 18,
   "id": "c123e9ae",
   "metadata": {},
   "outputs": [
    {
     "data": {
      "text/plain": [
       "8.63516168839209"
      ]
     },
     "execution_count": 18,
     "metadata": {},
     "output_type": "execute_result"
    }
   ],
   "source": [
    "weights.std()"
   ]
  },
  {
   "cell_type": "code",
   "execution_count": 19,
   "id": "5e9a0653",
   "metadata": {},
   "outputs": [
    {
     "data": {
      "text/plain": [
       "74.56601738467454"
      ]
     },
     "execution_count": 19,
     "metadata": {},
     "output_type": "execute_result"
    }
   ],
   "source": [
    "weights.var()"
   ]
  },
  {
   "cell_type": "code",
   "execution_count": 20,
   "id": "1af28006",
   "metadata": {},
   "outputs": [
    {
     "data": {
      "text/plain": [
       "8018    80.1\n",
       "48      72.1\n",
       "2685    74.8\n",
       "2630    74.3\n",
       "4104    85.9\n",
       "        ... \n",
       "7294    61.1\n",
       "3570    62.8\n",
       "3824    71.1\n",
       "5319    69.9\n",
       "2597    61.5\n",
       "Name: weight, Length: 1000, dtype: float64"
      ]
     },
     "execution_count": 20,
     "metadata": {},
     "output_type": "execute_result"
    }
   ],
   "source": [
    "weights.sample(n=1000) #random sapmle will be generated"
   ]
  },
  {
   "cell_type": "code",
   "execution_count": 22,
   "id": "9ea8d70d",
   "metadata": {},
   "outputs": [],
   "source": [
    "sample_w = weights.sample(n=1000, random_state=1) # fixed"
   ]
  },
  {
   "cell_type": "code",
   "execution_count": 23,
   "id": "478d4f15",
   "metadata": {},
   "outputs": [
    {
     "data": {
      "text/plain": [
       "7005    56.5\n",
       "3206    86.5\n",
       "4544    62.9\n",
       "2104    62.4\n",
       "3510    64.4\n",
       "        ... \n",
       "4555    79.3\n",
       "3987    65.6\n",
       "5931    76.8\n",
       "1914    85.4\n",
       "2386    84.9\n",
       "Name: weight, Length: 1000, dtype: float64"
      ]
     },
     "execution_count": 23,
     "metadata": {},
     "output_type": "execute_result"
    }
   ],
   "source": [
    "sample_w"
   ]
  },
  {
   "cell_type": "code",
   "execution_count": 24,
   "id": "db662e35",
   "metadata": {},
   "outputs": [
    {
     "data": {
      "text/plain": [
       "(72.6303, 8.484775974257262, 71.99142333333327)"
      ]
     },
     "execution_count": 24,
     "metadata": {},
     "output_type": "execute_result"
    }
   ],
   "source": [
    "(sample_w.mean(), sample_w.std(), sample_w.var())"
   ]
  },
  {
   "cell_type": "code",
   "execution_count": 25,
   "id": "3fb5a671",
   "metadata": {},
   "outputs": [
    {
     "data": {
      "text/plain": [
       "(72.99813084112151, 8.63516168839209, 74.56601738467454)"
      ]
     },
     "execution_count": 25,
     "metadata": {},
     "output_type": "execute_result"
    }
   ],
   "source": [
    "(weights.mean(), weights.std(), weights.var())"
   ]
  },
  {
   "cell_type": "code",
   "execution_count": 26,
   "id": "dadd7b79",
   "metadata": {},
   "outputs": [
    {
     "data": {
      "text/plain": [
       "[73.428,\n",
       " 73.29829999999998,\n",
       " 72.95639999999999,\n",
       " 73.56520000000002,\n",
       " 73.2209,\n",
       " 72.7641,\n",
       " 73.1255,\n",
       " 72.337,\n",
       " 72.77489999999999,\n",
       " 72.93070000000002,\n",
       " 72.4681,\n",
       " 72.8202,\n",
       " 73.1514,\n",
       " 72.6873,\n",
       " 73.30789999999999,\n",
       " 72.8756,\n",
       " 72.82549999999999,\n",
       " 72.8745,\n",
       " 72.87389999999999,\n",
       " 73.1537]"
      ]
     },
     "execution_count": 26,
     "metadata": {},
     "output_type": "execute_result"
    }
   ],
   "source": [
    "means=[]\n",
    "for i in range(20):\n",
    "    sample_w = weights.sample(n=1000)\n",
    "    means.append(sample_w.mean())\n",
    "means"
   ]
  },
  {
   "cell_type": "code",
   "execution_count": 27,
   "id": "95a0f9a7",
   "metadata": {},
   "outputs": [
    {
     "name": "stderr",
     "output_type": "stream",
     "text": [
      "/var/folders/b0/frtzry9s6b32vg4gz127642h0000gn/T/ipykernel_729/946336474.py:1: UserWarning: \n",
      "\n",
      "`distplot` is a deprecated function and will be removed in seaborn v0.14.0.\n",
      "\n",
      "Please adapt your code to use either `displot` (a figure-level function with\n",
      "similar flexibility) or `histplot` (an axes-level function for histograms).\n",
      "\n",
      "For a guide to updating your code to use the new functions, please see\n",
      "https://gist.github.com/mwaskom/de44147ed2974457ad6372750bbe5751\n",
      "\n",
      "  sns.distplot(means)\n"
     ]
    },
    {
     "data": {
      "text/plain": [
       "<Axes: ylabel='Density'>"
      ]
     },
     "execution_count": 27,
     "metadata": {},
     "output_type": "execute_result"
    },
    {
     "data": {
      "image/png": "[encoded data removed]",
      "text/plain": [
       "<Figure size 640x480 with 1 Axes>"
      ]
     },
     "metadata": {},
     "output_type": "display_data"
    }
   ],
   "source": [
    "sns.distplot(means)"
   ]
  },
  {
   "cell_type": "code",
   "execution_count": 28,
   "id": "e00ce269",
   "metadata": {},
   "outputs": [],
   "source": [
    "#standard error -> how many std away your sample mean is from the pop mean\n",
    "# SE = sigma/sqrt(n)"
   ]
  },
  {
   "cell_type": "code",
   "execution_count": 29,
   "id": "9c22db17",
   "metadata": {},
   "outputs": [
    {
     "data": {
      "text/plain": [
       "0.2730677889914417"
      ]
     },
     "execution_count": 29,
     "metadata": {},
     "output_type": "execute_result"
    }
   ],
   "source": [
    "weights.std()/np.sqrt(1000)"
   ]
  },
  {
   "cell_type": "code",
   "execution_count": 30,
   "id": "82be0e0b",
   "metadata": {},
   "outputs": [
    {
     "data": {
      "text/plain": [
       "0.30207431945632196"
      ]
     },
     "execution_count": 30,
     "metadata": {},
     "output_type": "execute_result"
    }
   ],
   "source": [
    "np.array(means).std()"
   ]
  },
  {
   "cell_type": "code",
   "execution_count": 1,
   "id": "be5934b2",
   "metadata": {},
   "outputs": [],
   "source": [
    "# confidence interval --> 95% -> 1 - alpha -> .95\n",
    "# xmean +- z .se"
   ]
  },
  {
   "cell_type": "code",
   "execution_count": 5,
   "id": "48012d0f",
   "metadata": {},
   "outputs": [
    {
     "data": {
      "text/plain": [
       "464.2154595763291"
      ]
     },
     "execution_count": 5,
     "metadata": {},
     "output_type": "execute_result"
    }
   ],
   "source": [
    "# find the avg wts of sharks in the sea\n",
    "# n=30, sd = 100, sample mean = 500, 95%ci?\n",
    "import numpy as np\n",
    "a = 500 - (1.96 * 100)/ np.sqrt(30)\n",
    "a"
   ]
  },
  {
   "cell_type": "code",
   "execution_count": null,
   "id": "d6d381fa",
   "metadata": {},
   "outputs": [],
   "source": []
  },
  {
   "cell_type": "code",
   "execution_count": 6,
   "id": "a80c0734",
   "metadata": {},
   "outputs": [],
   "source": [
    "import pandas as pd\n",
    "import seaborn as sns\n",
    "from sklearn.datasets import fetch_california_housing"
   ]
  },
  {
   "cell_type": "code",
   "execution_count": 7,
   "id": "be3a033e",
   "metadata": {},
   "outputs": [],
   "source": [
    "cal = fetch_california_housing()"
   ]
  },
  {
   "cell_type": "code",
   "execution_count": 12,
   "id": "cf29c247",
   "metadata": {},
   "outputs": [
    {
     "data": {
      "text/html": [
       "<div>\n",
       "<style scoped>\n",
       "    .dataframe tbody tr th:only-of-type {\n",
       "        vertical-align: middle;\n",
       "    }\n",
       "\n",
       "    .dataframe tbody tr th {\n",
       "        vertical-align: top;\n",
       "    }\n",
       "\n",
       "    .dataframe thead th {\n",
       "        text-align: right;\n",
       "    }\n",
       "</style>\n",
       "<table border=\"1\" class=\"dataframe\">\n",
       "  <thead>\n",
       "    <tr style=\"text-align: right;\">\n",
       "      <th></th>\n",
       "      <th>MedInc</th>\n",
       "      <th>HouseAge</th>\n",
       "      <th>AveRooms</th>\n",
       "      <th>AveBedrms</th>\n",
       "      <th>Population</th>\n",
       "      <th>AveOccup</th>\n",
       "      <th>Latitude</th>\n",
       "      <th>Longitude</th>\n",
       "    </tr>\n",
       "  </thead>\n",
       "  <tbody>\n",
       "    <tr>\n",
       "      <th>0</th>\n",
       "      <td>8.3252</td>\n",
       "      <td>41.0</td>\n",
       "      <td>6.984127</td>\n",
       "      <td>1.023810</td>\n",
       "      <td>322.0</td>\n",
       "      <td>2.555556</td>\n",
       "      <td>37.88</td>\n",
       "      <td>-122.23</td>\n",
       "    </tr>\n",
       "    <tr>\n",
       "      <th>1</th>\n",
       "      <td>8.3014</td>\n",
       "      <td>21.0</td>\n",
       "      <td>6.238137</td>\n",
       "      <td>0.971880</td>\n",
       "      <td>2401.0</td>\n",
       "      <td>2.109842</td>\n",
       "      <td>37.86</td>\n",
       "      <td>-122.22</td>\n",
       "    </tr>\n",
       "    <tr>\n",
       "      <th>2</th>\n",
       "      <td>7.2574</td>\n",
       "      <td>52.0</td>\n",
       "      <td>8.288136</td>\n",
       "      <td>1.073446</td>\n",
       "      <td>496.0</td>\n",
       "      <td>2.802260</td>\n",
       "      <td>37.85</td>\n",
       "      <td>-122.24</td>\n",
       "    </tr>\n",
       "    <tr>\n",
       "      <th>3</th>\n",
       "      <td>5.6431</td>\n",
       "      <td>52.0</td>\n",
       "      <td>5.817352</td>\n",
       "      <td>1.073059</td>\n",
       "      <td>558.0</td>\n",
       "      <td>2.547945</td>\n",
       "      <td>37.85</td>\n",
       "      <td>-122.25</td>\n",
       "    </tr>\n",
       "    <tr>\n",
       "      <th>4</th>\n",
       "      <td>3.8462</td>\n",
       "      <td>52.0</td>\n",
       "      <td>6.281853</td>\n",
       "      <td>1.081081</td>\n",
       "      <td>565.0</td>\n",
       "      <td>2.181467</td>\n",
       "      <td>37.85</td>\n",
       "      <td>-122.25</td>\n",
       "    </tr>\n",
       "    <tr>\n",
       "      <th>...</th>\n",
       "      <td>...</td>\n",
       "      <td>...</td>\n",
       "      <td>...</td>\n",
       "      <td>...</td>\n",
       "      <td>...</td>\n",
       "      <td>...</td>\n",
       "      <td>...</td>\n",
       "      <td>...</td>\n",
       "    </tr>\n",
       "    <tr>\n",
       "      <th>20635</th>\n",
       "      <td>1.5603</td>\n",
       "      <td>25.0</td>\n",
       "      <td>5.045455</td>\n",
       "      <td>1.133333</td>\n",
       "      <td>845.0</td>\n",
       "      <td>2.560606</td>\n",
       "      <td>39.48</td>\n",
       "      <td>-121.09</td>\n",
       "    </tr>\n",
       "    <tr>\n",
       "      <th>20636</th>\n",
       "      <td>2.5568</td>\n",
       "      <td>18.0</td>\n",
       "      <td>6.114035</td>\n",
       "      <td>1.315789</td>\n",
       "      <td>356.0</td>\n",
       "      <td>3.122807</td>\n",
       "      <td>39.49</td>\n",
       "      <td>-121.21</td>\n",
       "    </tr>\n",
       "    <tr>\n",
       "      <th>20637</th>\n",
       "      <td>1.7000</td>\n",
       "      <td>17.0</td>\n",
       "      <td>5.205543</td>\n",
       "      <td>1.120092</td>\n",
       "      <td>1007.0</td>\n",
       "      <td>2.325635</td>\n",
       "      <td>39.43</td>\n",
       "      <td>-121.22</td>\n",
       "    </tr>\n",
       "    <tr>\n",
       "      <th>20638</th>\n",
       "      <td>1.8672</td>\n",
       "      <td>18.0</td>\n",
       "      <td>5.329513</td>\n",
       "      <td>1.171920</td>\n",
       "      <td>741.0</td>\n",
       "      <td>2.123209</td>\n",
       "      <td>39.43</td>\n",
       "      <td>-121.32</td>\n",
       "    </tr>\n",
       "    <tr>\n",
       "      <th>20639</th>\n",
       "      <td>2.3886</td>\n",
       "      <td>16.0</td>\n",
       "      <td>5.254717</td>\n",
       "      <td>1.162264</td>\n",
       "      <td>1387.0</td>\n",
       "      <td>2.616981</td>\n",
       "      <td>39.37</td>\n",
       "      <td>-121.24</td>\n",
       "    </tr>\n",
       "  </tbody>\n",
       "</table>\n",
       "<p>20640 rows × 8 columns</p>\n",
       "</div>"
      ],
      "text/plain": [
       "       MedInc  HouseAge  AveRooms  AveBedrms  Population  AveOccup  Latitude  \\\n",
       "0      8.3252      41.0  6.984127   1.023810       322.0  2.555556     37.88   \n",
       "1      8.3014      21.0  6.238137   0.971880      2401.0  2.109842     37.86   \n",
       "2      7.2574      52.0  8.288136   1.073446       496.0  2.802260     37.85   \n",
       "3      5.6431      52.0  5.817352   1.073059       558.0  2.547945     37.85   \n",
       "4      3.8462      52.0  6.281853   1.081081       565.0  2.181467     37.85   \n",
       "...       ...       ...       ...        ...         ...       ...       ...   \n",
       "20635  1.5603      25.0  5.045455   1.133333       845.0  2.560606     39.48   \n",
       "20636  2.5568      18.0  6.114035   1.315789       356.0  3.122807     39.49   \n",
       "20637  1.7000      17.0  5.205543   1.120092      1007.0  2.325635     39.43   \n",
       "20638  1.8672      18.0  5.329513   1.171920       741.0  2.123209     39.43   \n",
       "20639  2.3886      16.0  5.254717   1.162264      1387.0  2.616981     39.37   \n",
       "\n",
       "       Longitude  \n",
       "0        -122.23  \n",
       "1        -122.22  \n",
       "2        -122.24  \n",
       "3        -122.25  \n",
       "4        -122.25  \n",
       "...          ...  \n",
       "20635    -121.09  \n",
       "20636    -121.21  \n",
       "20637    -121.22  \n",
       "20638    -121.32  \n",
       "20639    -121.24  \n",
       "\n",
       "[20640 rows x 8 columns]"
      ]
     },
     "execution_count": 12,
     "metadata": {},
     "output_type": "execute_result"
    }
   ],
   "source": [
    "df =pd.DataFrame(cal.data, columns=cal.feature_names)\n",
    "df"
   ]
  },
  {
   "cell_type": "code",
   "execution_count": 11,
   "id": "62519454",
   "metadata": {},
   "outputs": [
    {
     "ename": "AttributeError",
     "evalue": "'DataFrame' object has no attribute 'smaple'",
     "output_type": "error",
     "traceback": [
      "\u001b[0;31m---------------------------------------------------------------------------\u001b[0m",
      "\u001b[0;31mAttributeError\u001b[0m                            Traceback (most recent call last)",
      "\u001b[0;32m/var/folders/b0/frtzry9s6b32vg4gz127642h0000gn/T/ipykernel_811/2698505498.py\u001b[0m in \u001b[0;36m?\u001b[0;34m()\u001b[0m\n\u001b[0;32m----> 1\u001b[0;31m \u001b[0msamp\u001b[0m \u001b[0;34m=\u001b[0m \u001b[0mdf\u001b[0m\u001b[0;34m.\u001b[0m\u001b[0msmaple\u001b[0m\u001b[0;34m(\u001b[0m\u001b[0mn\u001b[0m\u001b[0;34m=\u001b[0m\u001b[0;36m200\u001b[0m\u001b[0;34m,\u001b[0m\u001b[0mrandom_state\u001b[0m\u001b[0;34m=\u001b[0m\u001b[0;36m1\u001b[0m\u001b[0;34m)\u001b[0m\u001b[0;34m\u001b[0m\u001b[0;34m\u001b[0m\u001b[0m\n\u001b[0m\u001b[1;32m      2\u001b[0m \u001b[0msamp\u001b[0m\u001b[0;34m\u001b[0m\u001b[0;34m\u001b[0m\u001b[0m\n",
      "\u001b[0;32m~/anaconda3/lib/python3.11/site-packages/pandas/core/generic.py\u001b[0m in \u001b[0;36m?\u001b[0;34m(self, name)\u001b[0m\n\u001b[1;32m   5985\u001b[0m             \u001b[0;32mand\u001b[0m \u001b[0mname\u001b[0m \u001b[0;32mnot\u001b[0m \u001b[0;32min\u001b[0m \u001b[0mself\u001b[0m\u001b[0;34m.\u001b[0m\u001b[0m_accessors\u001b[0m\u001b[0;34m\u001b[0m\u001b[0;34m\u001b[0m\u001b[0m\n\u001b[1;32m   5986\u001b[0m             \u001b[0;32mand\u001b[0m \u001b[0mself\u001b[0m\u001b[0;34m.\u001b[0m\u001b[0m_info_axis\u001b[0m\u001b[0;34m.\u001b[0m\u001b[0m_can_hold_identifiers_and_holds_name\u001b[0m\u001b[0;34m(\u001b[0m\u001b[0mname\u001b[0m\u001b[0;34m)\u001b[0m\u001b[0;34m\u001b[0m\u001b[0;34m\u001b[0m\u001b[0m\n\u001b[1;32m   5987\u001b[0m         ):\n\u001b[1;32m   5988\u001b[0m             \u001b[0;32mreturn\u001b[0m \u001b[0mself\u001b[0m\u001b[0;34m[\u001b[0m\u001b[0mname\u001b[0m\u001b[0;34m]\u001b[0m\u001b[0;34m\u001b[0m\u001b[0;34m\u001b[0m\u001b[0m\n\u001b[0;32m-> 5989\u001b[0;31m         \u001b[0;32mreturn\u001b[0m \u001b[0mobject\u001b[0m\u001b[0;34m.\u001b[0m\u001b[0m__getattribute__\u001b[0m\u001b[0;34m(\u001b[0m\u001b[0mself\u001b[0m\u001b[0;34m,\u001b[0m \u001b[0mname\u001b[0m\u001b[0;34m)\u001b[0m\u001b[0;34m\u001b[0m\u001b[0;34m\u001b[0m\u001b[0m\n\u001b[0m",
      "\u001b[0;31mAttributeError\u001b[0m: 'DataFrame' object has no attribute 'smaple'"
     ]
    }
   ],
   "source": [
    "samp = df.smaple(n=200,random_state=1)\n",
    "samp"
   ]
  },
  {
   "cell_type": "code",
   "execution_count": 4,
   "id": "99315813",
   "metadata": {},
   "outputs": [
    {
     "data": {
      "text/plain": [
       "2.83155757467538"
      ]
     },
     "execution_count": 4,
     "metadata": {},
     "output_type": "execute_result"
    }
   ],
   "source": [
    "#t test --> sd unknown\n",
    "import numpy as np\n",
    "pop_mean=5\n",
    "sample_mean=2\n",
    "p_std = 3\n",
    "n=50\n",
    "#95%\n",
    "z_critical=1.96\n",
    "#margin_of_error\n",
    "a = 2 + (1.96 * 3)/ np.sqrt(50)\n",
    "a"
   ]
  },
  {
   "cell_type": "code",
   "execution_count": 5,
   "id": "b3ecd142",
   "metadata": {},
   "outputs": [],
   "source": [
    "a_low = 1.17\n",
    "a_up = 2.83"
   ]
  },
  {
   "cell_type": "code",
   "execution_count": 6,
   "id": "8cf04662",
   "metadata": {},
   "outputs": [],
   "source": [
    "#null -> employee earn approx 5 on average\n",
    "#alternate -> employee not earn approx 5 on average"
   ]
  },
  {
   "cell_type": "code",
   "execution_count": 7,
   "id": "7b306c48",
   "metadata": {},
   "outputs": [],
   "source": [
    "# null -> rejected"
   ]
  },
  {
   "cell_type": "code",
   "execution_count": 8,
   "id": "0dc63fac",
   "metadata": {},
   "outputs": [],
   "source": [
    "#zstatistic"
   ]
  },
  {
   "cell_type": "code",
   "execution_count": 9,
   "id": "f8200abc",
   "metadata": {},
   "outputs": [],
   "source": [
    "from sklearn.datasets import fetch_california_housing"
   ]
  },
  {
   "cell_type": "code",
   "execution_count": 10,
   "id": "7d54ed84",
   "metadata": {},
   "outputs": [],
   "source": [
    "cal = fetch_california_housing()"
   ]
  },
  {
   "cell_type": "code",
   "execution_count": 11,
   "id": "2e3dad00",
   "metadata": {},
   "outputs": [
    {
     "data": {
      "text/html": [
       "<div>\n",
       "<style scoped>\n",
       "    .dataframe tbody tr th:only-of-type {\n",
       "        vertical-align: middle;\n",
       "    }\n",
       "\n",
       "    .dataframe tbody tr th {\n",
       "        vertical-align: top;\n",
       "    }\n",
       "\n",
       "    .dataframe thead th {\n",
       "        text-align: right;\n",
       "    }\n",
       "</style>\n",
       "<table border=\"1\" class=\"dataframe\">\n",
       "  <thead>\n",
       "    <tr style=\"text-align: right;\">\n",
       "      <th></th>\n",
       "      <th>MedInc</th>\n",
       "      <th>HouseAge</th>\n",
       "      <th>AveRooms</th>\n",
       "      <th>AveBedrms</th>\n",
       "      <th>Population</th>\n",
       "      <th>AveOccup</th>\n",
       "      <th>Latitude</th>\n",
       "      <th>Longitude</th>\n",
       "      <th>target</th>\n",
       "    </tr>\n",
       "  </thead>\n",
       "  <tbody>\n",
       "    <tr>\n",
       "      <th>0</th>\n",
       "      <td>8.3252</td>\n",
       "      <td>41.0</td>\n",
       "      <td>6.984127</td>\n",
       "      <td>1.023810</td>\n",
       "      <td>322.0</td>\n",
       "      <td>2.555556</td>\n",
       "      <td>37.88</td>\n",
       "      <td>-122.23</td>\n",
       "      <td>4.526</td>\n",
       "    </tr>\n",
       "    <tr>\n",
       "      <th>1</th>\n",
       "      <td>8.3014</td>\n",
       "      <td>21.0</td>\n",
       "      <td>6.238137</td>\n",
       "      <td>0.971880</td>\n",
       "      <td>2401.0</td>\n",
       "      <td>2.109842</td>\n",
       "      <td>37.86</td>\n",
       "      <td>-122.22</td>\n",
       "      <td>3.585</td>\n",
       "    </tr>\n",
       "    <tr>\n",
       "      <th>2</th>\n",
       "      <td>7.2574</td>\n",
       "      <td>52.0</td>\n",
       "      <td>8.288136</td>\n",
       "      <td>1.073446</td>\n",
       "      <td>496.0</td>\n",
       "      <td>2.802260</td>\n",
       "      <td>37.85</td>\n",
       "      <td>-122.24</td>\n",
       "      <td>3.521</td>\n",
       "    </tr>\n",
       "    <tr>\n",
       "      <th>3</th>\n",
       "      <td>5.6431</td>\n",
       "      <td>52.0</td>\n",
       "      <td>5.817352</td>\n",
       "      <td>1.073059</td>\n",
       "      <td>558.0</td>\n",
       "      <td>2.547945</td>\n",
       "      <td>37.85</td>\n",
       "      <td>-122.25</td>\n",
       "      <td>3.413</td>\n",
       "    </tr>\n",
       "    <tr>\n",
       "      <th>4</th>\n",
       "      <td>3.8462</td>\n",
       "      <td>52.0</td>\n",
       "      <td>6.281853</td>\n",
       "      <td>1.081081</td>\n",
       "      <td>565.0</td>\n",
       "      <td>2.181467</td>\n",
       "      <td>37.85</td>\n",
       "      <td>-122.25</td>\n",
       "      <td>3.422</td>\n",
       "    </tr>\n",
       "    <tr>\n",
       "      <th>...</th>\n",
       "      <td>...</td>\n",
       "      <td>...</td>\n",
       "      <td>...</td>\n",
       "      <td>...</td>\n",
       "      <td>...</td>\n",
       "      <td>...</td>\n",
       "      <td>...</td>\n",
       "      <td>...</td>\n",
       "      <td>...</td>\n",
       "    </tr>\n",
       "    <tr>\n",
       "      <th>20635</th>\n",
       "      <td>1.5603</td>\n",
       "      <td>25.0</td>\n",
       "      <td>5.045455</td>\n",
       "      <td>1.133333</td>\n",
       "      <td>845.0</td>\n",
       "      <td>2.560606</td>\n",
       "      <td>39.48</td>\n",
       "      <td>-121.09</td>\n",
       "      <td>0.781</td>\n",
       "    </tr>\n",
       "    <tr>\n",
       "      <th>20636</th>\n",
       "      <td>2.5568</td>\n",
       "      <td>18.0</td>\n",
       "      <td>6.114035</td>\n",
       "      <td>1.315789</td>\n",
       "      <td>356.0</td>\n",
       "      <td>3.122807</td>\n",
       "      <td>39.49</td>\n",
       "      <td>-121.21</td>\n",
       "      <td>0.771</td>\n",
       "    </tr>\n",
       "    <tr>\n",
       "      <th>20637</th>\n",
       "      <td>1.7000</td>\n",
       "      <td>17.0</td>\n",
       "      <td>5.205543</td>\n",
       "      <td>1.120092</td>\n",
       "      <td>1007.0</td>\n",
       "      <td>2.325635</td>\n",
       "      <td>39.43</td>\n",
       "      <td>-121.22</td>\n",
       "      <td>0.923</td>\n",
       "    </tr>\n",
       "    <tr>\n",
       "      <th>20638</th>\n",
       "      <td>1.8672</td>\n",
       "      <td>18.0</td>\n",
       "      <td>5.329513</td>\n",
       "      <td>1.171920</td>\n",
       "      <td>741.0</td>\n",
       "      <td>2.123209</td>\n",
       "      <td>39.43</td>\n",
       "      <td>-121.32</td>\n",
       "      <td>0.847</td>\n",
       "    </tr>\n",
       "    <tr>\n",
       "      <th>20639</th>\n",
       "      <td>2.3886</td>\n",
       "      <td>16.0</td>\n",
       "      <td>5.254717</td>\n",
       "      <td>1.162264</td>\n",
       "      <td>1387.0</td>\n",
       "      <td>2.616981</td>\n",
       "      <td>39.37</td>\n",
       "      <td>-121.24</td>\n",
       "      <td>0.894</td>\n",
       "    </tr>\n",
       "  </tbody>\n",
       "</table>\n",
       "<p>20640 rows × 9 columns</p>\n",
       "</div>"
      ],
      "text/plain": [
       "       MedInc  HouseAge  AveRooms  AveBedrms  Population  AveOccup  Latitude  \\\n",
       "0      8.3252      41.0  6.984127   1.023810       322.0  2.555556     37.88   \n",
       "1      8.3014      21.0  6.238137   0.971880      2401.0  2.109842     37.86   \n",
       "2      7.2574      52.0  8.288136   1.073446       496.0  2.802260     37.85   \n",
       "3      5.6431      52.0  5.817352   1.073059       558.0  2.547945     37.85   \n",
       "4      3.8462      52.0  6.281853   1.081081       565.0  2.181467     37.85   \n",
       "...       ...       ...       ...        ...         ...       ...       ...   \n",
       "20635  1.5603      25.0  5.045455   1.133333       845.0  2.560606     39.48   \n",
       "20636  2.5568      18.0  6.114035   1.315789       356.0  3.122807     39.49   \n",
       "20637  1.7000      17.0  5.205543   1.120092      1007.0  2.325635     39.43   \n",
       "20638  1.8672      18.0  5.329513   1.171920       741.0  2.123209     39.43   \n",
       "20639  2.3886      16.0  5.254717   1.162264      1387.0  2.616981     39.37   \n",
       "\n",
       "       Longitude  target  \n",
       "0        -122.23   4.526  \n",
       "1        -122.22   3.585  \n",
       "2        -122.24   3.521  \n",
       "3        -122.25   3.413  \n",
       "4        -122.25   3.422  \n",
       "...          ...     ...  \n",
       "20635    -121.09   0.781  \n",
       "20636    -121.21   0.771  \n",
       "20637    -121.22   0.923  \n",
       "20638    -121.32   0.847  \n",
       "20639    -121.24   0.894  \n",
       "\n",
       "[20640 rows x 9 columns]"
      ]
     },
     "execution_count": 11,
     "metadata": {},
     "output_type": "execute_result"
    }
   ],
   "source": [
    "import pandas as pd\n",
    "df = pd.DataFrame(cal.data, columns=cal.feature_names)\n",
    "df['target'] = cal.target\n",
    "df"
   ]
  },
  {
   "cell_type": "markdown",
   "id": "886a35dc",
   "metadata": {},
   "source": []
  },
  {
   "cell_type": "code",
   "execution_count": 12,
   "id": "269f71e6",
   "metadata": {},
   "outputs": [],
   "source": [
    "# CHECK WEATHER sample mean differs from pop mean or npt\n",
    "pop_mean = df.target.mean()\n",
    "pop_std = df.target.std()"
   ]
  },
  {
   "cell_type": "code",
   "execution_count": 13,
   "id": "23e0caaf",
   "metadata": {},
   "outputs": [
    {
     "data": {
      "text/plain": [
       "(2.068558169089147, 1.1539561587441483)"
      ]
     },
     "execution_count": 13,
     "metadata": {},
     "output_type": "execute_result"
    }
   ],
   "source": [
    "pop_mean, pop_std"
   ]
  },
  {
   "cell_type": "code",
   "execution_count": 20,
   "id": "eb740b87",
   "metadata": {},
   "outputs": [
    {
     "data": {
      "text/plain": [
       "(2.1278905, 1.1927737599558186)"
      ]
     },
     "execution_count": 20,
     "metadata": {},
     "output_type": "execute_result"
    }
   ],
   "source": [
    "n=100\n",
    "samp = df.sample(n=100, random_state=2)\n",
    "samp_avg = samp.target.mean()\n",
    "samp_std = samp.target.std()\n",
    "samp_avg, samp_std"
   ]
  },
  {
   "cell_type": "code",
   "execution_count": 21,
   "id": "c1251595",
   "metadata": {},
   "outputs": [],
   "source": [
    "null_hypo = \"sample mean and pop mean are same\"\n",
    "alt_hypo = \"sample mean and pop mean are not same\""
   ]
  },
  {
   "cell_type": "code",
   "execution_count": 22,
   "id": "1d5bdaa0",
   "metadata": {},
   "outputs": [],
   "source": [
    "#zcritical, #zstattistic\n",
    "zcrit = 1.96 # for 95%"
   ]
  },
  {
   "cell_type": "code",
   "execution_count": 27,
   "id": "3cb5df35",
   "metadata": {},
   "outputs": [],
   "source": [
    "up = samp_avg + 1.96 * 1.19/np.sqrt(100)\n",
    "low = samp_avg - 1.96 * 1.19/np.sqrt(100)"
   ]
  },
  {
   "cell_type": "code",
   "execution_count": 28,
   "id": "e2d95c21",
   "metadata": {},
   "outputs": [
    {
     "data": {
      "text/plain": [
       "(2.3611305, 1.8946505)"
      ]
     },
     "execution_count": 28,
     "metadata": {},
     "output_type": "execute_result"
    }
   ],
   "source": [
    "up, low"
   ]
  },
  {
   "cell_type": "code",
   "execution_count": 29,
   "id": "b49f8d6c",
   "metadata": {},
   "outputs": [
    {
     "data": {
      "text/plain": [
       "0.4974315574568861"
      ]
     },
     "execution_count": 29,
     "metadata": {},
     "output_type": "execute_result"
    }
   ],
   "source": [
    "zstat = (samp_avg - pop_mean)/(samp_std/np.sqrt(100))\n",
    "zstat"
   ]
  },
  {
   "cell_type": "code",
   "execution_count": 30,
   "id": "53fcf07f",
   "metadata": {},
   "outputs": [],
   "source": [
    "# t distribution --> sample size less, <= 30, pop std is unknown"
   ]
  },
  {
   "cell_type": "code",
   "execution_count": 1,
   "id": "75364435",
   "metadata": {},
   "outputs": [],
   "source": [
    "# degree of freedom\n",
    "# n-1\n",
    "# dof is more, t dist narrower\n",
    "# dof increases --> t distb tends to normal distb"
   ]
  },
  {
   "cell_type": "code",
   "execution_count": 2,
   "id": "84f5b6ef",
   "metadata": {},
   "outputs": [
    {
     "data": {
      "text/html": [
       "<div>\n",
       "<style scoped>\n",
       "    .dataframe tbody tr th:only-of-type {\n",
       "        vertical-align: middle;\n",
       "    }\n",
       "\n",
       "    .dataframe tbody tr th {\n",
       "        vertical-align: top;\n",
       "    }\n",
       "\n",
       "    .dataframe thead th {\n",
       "        text-align: right;\n",
       "    }\n",
       "</style>\n",
       "<table border=\"1\" class=\"dataframe\">\n",
       "  <thead>\n",
       "    <tr style=\"text-align: right;\">\n",
       "      <th></th>\n",
       "      <th>stud.id</th>\n",
       "      <th>name</th>\n",
       "      <th>gender</th>\n",
       "      <th>age</th>\n",
       "      <th>height</th>\n",
       "      <th>weight</th>\n",
       "      <th>religion</th>\n",
       "      <th>nc.score</th>\n",
       "      <th>semester</th>\n",
       "      <th>major</th>\n",
       "      <th>minor</th>\n",
       "      <th>score1</th>\n",
       "      <th>score2</th>\n",
       "      <th>online.tutorial</th>\n",
       "      <th>graduated</th>\n",
       "      <th>salary</th>\n",
       "    </tr>\n",
       "  </thead>\n",
       "  <tbody>\n",
       "    <tr>\n",
       "      <th>1</th>\n",
       "      <td>833917</td>\n",
       "      <td>Gonzales, Christina</td>\n",
       "      <td>Female</td>\n",
       "      <td>19</td>\n",
       "      <td>160</td>\n",
       "      <td>64.8</td>\n",
       "      <td>Muslim</td>\n",
       "      <td>1.91</td>\n",
       "      <td>1st</td>\n",
       "      <td>Political Science</td>\n",
       "      <td>Social Sciences</td>\n",
       "      <td>NaN</td>\n",
       "      <td>NaN</td>\n",
       "      <td>0</td>\n",
       "      <td>0</td>\n",
       "      <td>NaN</td>\n",
       "    </tr>\n",
       "    <tr>\n",
       "      <th>2</th>\n",
       "      <td>898539</td>\n",
       "      <td>Lozano, T'Hani</td>\n",
       "      <td>Female</td>\n",
       "      <td>19</td>\n",
       "      <td>172</td>\n",
       "      <td>73.0</td>\n",
       "      <td>Other</td>\n",
       "      <td>1.56</td>\n",
       "      <td>2nd</td>\n",
       "      <td>Social Sciences</td>\n",
       "      <td>Mathematics and Statistics</td>\n",
       "      <td>NaN</td>\n",
       "      <td>NaN</td>\n",
       "      <td>0</td>\n",
       "      <td>0</td>\n",
       "      <td>NaN</td>\n",
       "    </tr>\n",
       "    <tr>\n",
       "      <th>3</th>\n",
       "      <td>379678</td>\n",
       "      <td>Williams, Hanh</td>\n",
       "      <td>Female</td>\n",
       "      <td>22</td>\n",
       "      <td>168</td>\n",
       "      <td>70.6</td>\n",
       "      <td>Protestant</td>\n",
       "      <td>1.24</td>\n",
       "      <td>3rd</td>\n",
       "      <td>Social Sciences</td>\n",
       "      <td>Mathematics and Statistics</td>\n",
       "      <td>45.0</td>\n",
       "      <td>46.0</td>\n",
       "      <td>0</td>\n",
       "      <td>0</td>\n",
       "      <td>NaN</td>\n",
       "    </tr>\n",
       "    <tr>\n",
       "      <th>4</th>\n",
       "      <td>807564</td>\n",
       "      <td>Nem, Denzel</td>\n",
       "      <td>Male</td>\n",
       "      <td>19</td>\n",
       "      <td>183</td>\n",
       "      <td>79.7</td>\n",
       "      <td>Other</td>\n",
       "      <td>1.37</td>\n",
       "      <td>2nd</td>\n",
       "      <td>Environmental Sciences</td>\n",
       "      <td>Mathematics and Statistics</td>\n",
       "      <td>NaN</td>\n",
       "      <td>NaN</td>\n",
       "      <td>0</td>\n",
       "      <td>0</td>\n",
       "      <td>NaN</td>\n",
       "    </tr>\n",
       "    <tr>\n",
       "      <th>5</th>\n",
       "      <td>383291</td>\n",
       "      <td>Powell, Heather</td>\n",
       "      <td>Female</td>\n",
       "      <td>21</td>\n",
       "      <td>175</td>\n",
       "      <td>71.4</td>\n",
       "      <td>Catholic</td>\n",
       "      <td>1.46</td>\n",
       "      <td>1st</td>\n",
       "      <td>Environmental Sciences</td>\n",
       "      <td>Mathematics and Statistics</td>\n",
       "      <td>NaN</td>\n",
       "      <td>NaN</td>\n",
       "      <td>0</td>\n",
       "      <td>0</td>\n",
       "      <td>NaN</td>\n",
       "    </tr>\n",
       "    <tr>\n",
       "      <th>...</th>\n",
       "      <td>...</td>\n",
       "      <td>...</td>\n",
       "      <td>...</td>\n",
       "      <td>...</td>\n",
       "      <td>...</td>\n",
       "      <td>...</td>\n",
       "      <td>...</td>\n",
       "      <td>...</td>\n",
       "      <td>...</td>\n",
       "      <td>...</td>\n",
       "      <td>...</td>\n",
       "      <td>...</td>\n",
       "      <td>...</td>\n",
       "      <td>...</td>\n",
       "      <td>...</td>\n",
       "      <td>...</td>\n",
       "    </tr>\n",
       "    <tr>\n",
       "      <th>8235</th>\n",
       "      <td>818044</td>\n",
       "      <td>Her, Joshua</td>\n",
       "      <td>Male</td>\n",
       "      <td>22</td>\n",
       "      <td>181</td>\n",
       "      <td>79.1</td>\n",
       "      <td>Protestant</td>\n",
       "      <td>2.91</td>\n",
       "      <td>6th</td>\n",
       "      <td>Environmental Sciences</td>\n",
       "      <td>Social Sciences</td>\n",
       "      <td>73.0</td>\n",
       "      <td>71.0</td>\n",
       "      <td>0</td>\n",
       "      <td>1</td>\n",
       "      <td>36750.087135</td>\n",
       "    </tr>\n",
       "    <tr>\n",
       "      <th>8236</th>\n",
       "      <td>560166</td>\n",
       "      <td>Reid, Jose</td>\n",
       "      <td>Male</td>\n",
       "      <td>23</td>\n",
       "      <td>178</td>\n",
       "      <td>72.6</td>\n",
       "      <td>Catholic</td>\n",
       "      <td>2.03</td>\n",
       "      <td>2nd</td>\n",
       "      <td>Environmental Sciences</td>\n",
       "      <td>Mathematics and Statistics</td>\n",
       "      <td>NaN</td>\n",
       "      <td>NaN</td>\n",
       "      <td>0</td>\n",
       "      <td>0</td>\n",
       "      <td>NaN</td>\n",
       "    </tr>\n",
       "    <tr>\n",
       "      <th>8237</th>\n",
       "      <td>380174</td>\n",
       "      <td>Villa, Raechelle</td>\n",
       "      <td>Female</td>\n",
       "      <td>20</td>\n",
       "      <td>169</td>\n",
       "      <td>67.7</td>\n",
       "      <td>Other</td>\n",
       "      <td>3.72</td>\n",
       "      <td>3rd</td>\n",
       "      <td>Environmental Sciences</td>\n",
       "      <td>Economics and Finance</td>\n",
       "      <td>77.0</td>\n",
       "      <td>75.0</td>\n",
       "      <td>1</td>\n",
       "      <td>0</td>\n",
       "      <td>NaN</td>\n",
       "    </tr>\n",
       "    <tr>\n",
       "      <th>8238</th>\n",
       "      <td>540967</td>\n",
       "      <td>Ngo, Preston</td>\n",
       "      <td>Male</td>\n",
       "      <td>23</td>\n",
       "      <td>195</td>\n",
       "      <td>98.6</td>\n",
       "      <td>Other</td>\n",
       "      <td>2.74</td>\n",
       "      <td>4th</td>\n",
       "      <td>Social Sciences</td>\n",
       "      <td>Political Science</td>\n",
       "      <td>50.0</td>\n",
       "      <td>46.0</td>\n",
       "      <td>1</td>\n",
       "      <td>1</td>\n",
       "      <td>40112.041834</td>\n",
       "    </tr>\n",
       "    <tr>\n",
       "      <th>8239</th>\n",
       "      <td>413207</td>\n",
       "      <td>Bernhard, Estela</td>\n",
       "      <td>Female</td>\n",
       "      <td>19</td>\n",
       "      <td>170</td>\n",
       "      <td>69.0</td>\n",
       "      <td>Muslim</td>\n",
       "      <td>3.29</td>\n",
       "      <td>&gt;6th</td>\n",
       "      <td>Political Science</td>\n",
       "      <td>Biology</td>\n",
       "      <td>47.0</td>\n",
       "      <td>59.0</td>\n",
       "      <td>1</td>\n",
       "      <td>1</td>\n",
       "      <td>45900.134459</td>\n",
       "    </tr>\n",
       "  </tbody>\n",
       "</table>\n",
       "<p>8239 rows × 16 columns</p>\n",
       "</div>"
      ],
      "text/plain": [
       "      stud.id                 name  gender  age  height  weight    religion  \\\n",
       "1      833917  Gonzales, Christina  Female   19     160    64.8      Muslim   \n",
       "2      898539       Lozano, T'Hani  Female   19     172    73.0       Other   \n",
       "3      379678       Williams, Hanh  Female   22     168    70.6  Protestant   \n",
       "4      807564          Nem, Denzel    Male   19     183    79.7       Other   \n",
       "5      383291      Powell, Heather  Female   21     175    71.4    Catholic   \n",
       "...       ...                  ...     ...  ...     ...     ...         ...   \n",
       "8235   818044          Her, Joshua    Male   22     181    79.1  Protestant   \n",
       "8236   560166           Reid, Jose    Male   23     178    72.6    Catholic   \n",
       "8237   380174     Villa, Raechelle  Female   20     169    67.7       Other   \n",
       "8238   540967         Ngo, Preston    Male   23     195    98.6       Other   \n",
       "8239   413207     Bernhard, Estela  Female   19     170    69.0      Muslim   \n",
       "\n",
       "      nc.score semester                   major                       minor  \\\n",
       "1         1.91      1st       Political Science             Social Sciences   \n",
       "2         1.56      2nd         Social Sciences  Mathematics and Statistics   \n",
       "3         1.24      3rd         Social Sciences  Mathematics and Statistics   \n",
       "4         1.37      2nd  Environmental Sciences  Mathematics and Statistics   \n",
       "5         1.46      1st  Environmental Sciences  Mathematics and Statistics   \n",
       "...        ...      ...                     ...                         ...   \n",
       "8235      2.91      6th  Environmental Sciences             Social Sciences   \n",
       "8236      2.03      2nd  Environmental Sciences  Mathematics and Statistics   \n",
       "8237      3.72      3rd  Environmental Sciences       Economics and Finance   \n",
       "8238      2.74      4th         Social Sciences           Political Science   \n",
       "8239      3.29     >6th       Political Science                     Biology   \n",
       "\n",
       "      score1  score2  online.tutorial  graduated        salary  \n",
       "1        NaN     NaN                0          0           NaN  \n",
       "2        NaN     NaN                0          0           NaN  \n",
       "3       45.0    46.0                0          0           NaN  \n",
       "4        NaN     NaN                0          0           NaN  \n",
       "5        NaN     NaN                0          0           NaN  \n",
       "...      ...     ...              ...        ...           ...  \n",
       "8235    73.0    71.0                0          1  36750.087135  \n",
       "8236     NaN     NaN                0          0           NaN  \n",
       "8237    77.0    75.0                1          0           NaN  \n",
       "8238    50.0    46.0                1          1  40112.041834  \n",
       "8239    47.0    59.0                1          1  45900.134459  \n",
       "\n",
       "[8239 rows x 16 columns]"
      ]
     },
     "execution_count": 2,
     "metadata": {},
     "output_type": "execute_result"
    }
   ],
   "source": [
    "import pandas as pd\n",
    "import seaborn as sns\n",
    "import numpy as np\n",
    "df = pd.read_csv('students.csv')\n",
    "df"
   ]
  },
  {
   "cell_type": "code",
   "execution_count": 4,
   "id": "7f5a7266",
   "metadata": {},
   "outputs": [
    {
     "data": {
      "text/plain": [
       "stud.id               0\n",
       "name                  0\n",
       "gender                0\n",
       "age                   0\n",
       "height                0\n",
       "weight                0\n",
       "religion              0\n",
       "nc.score              0\n",
       "semester              0\n",
       "major                 0\n",
       "minor                 0\n",
       "score1             3347\n",
       "score2             3347\n",
       "online.tutorial       0\n",
       "graduated             0\n",
       "salary             6486\n",
       "dtype: int64"
      ]
     },
     "execution_count": 4,
     "metadata": {},
     "output_type": "execute_result"
    }
   ],
   "source": [
    "# we will remove null values first from a column\n",
    "#impute null values\n",
    "#duplicacy\n",
    "#outliers\n",
    "#scaling\n",
    "df.isnull().sum()"
   ]
  },
  {
   "cell_type": "code",
   "execution_count": 5,
   "id": "19c09571",
   "metadata": {},
   "outputs": [
    {
     "data": {
      "text/plain": [
       "(8239, 16)"
      ]
     },
     "execution_count": 5,
     "metadata": {},
     "output_type": "execute_result"
    }
   ],
   "source": [
    "df.shape"
   ]
  },
  {
   "cell_type": "code",
   "execution_count": 6,
   "id": "2a090a43",
   "metadata": {},
   "outputs": [],
   "source": [
    "df.dropna(inplace=True)"
   ]
  },
  {
   "cell_type": "code",
   "execution_count": 7,
   "id": "371402c2",
   "metadata": {},
   "outputs": [
    {
     "data": {
      "text/plain": [
       "stud.id            0\n",
       "name               0\n",
       "gender             0\n",
       "age                0\n",
       "height             0\n",
       "weight             0\n",
       "religion           0\n",
       "nc.score           0\n",
       "semester           0\n",
       "major              0\n",
       "minor              0\n",
       "score1             0\n",
       "score2             0\n",
       "online.tutorial    0\n",
       "graduated          0\n",
       "salary             0\n",
       "dtype: int64"
      ]
     },
     "execution_count": 7,
     "metadata": {},
     "output_type": "execute_result"
    }
   ],
   "source": [
    "df.isnull().sum()"
   ]
  },
  {
   "cell_type": "code",
   "execution_count": 8,
   "id": "68ef949b",
   "metadata": {},
   "outputs": [
    {
     "data": {
      "text/plain": [
       "(1753, 16)"
      ]
     },
     "execution_count": 8,
     "metadata": {},
     "output_type": "execute_result"
    }
   ],
   "source": [
    "df.shape"
   ]
  },
  {
   "cell_type": "code",
   "execution_count": 9,
   "id": "6321642c",
   "metadata": {},
   "outputs": [
    {
     "data": {
      "text/plain": [
       "11      162\n",
       "13      185\n",
       "14      158\n",
       "17      156\n",
       "28      182\n",
       "       ... \n",
       "8229    155\n",
       "8234    184\n",
       "8235    181\n",
       "8238    195\n",
       "8239    170\n",
       "Name: height, Length: 1753, dtype: int64"
      ]
     },
     "execution_count": 9,
     "metadata": {},
     "output_type": "execute_result"
    }
   ],
   "source": [
    "# one sample t test\n",
    "df.height"
   ]
  },
  {
   "cell_type": "code",
   "execution_count": 11,
   "id": "7b873870",
   "metadata": {},
   "outputs": [
    {
     "data": {
      "text/plain": [
       "5019    187\n",
       "4477    162\n",
       "241     184\n",
       "7166    175\n",
       "2489    184\n",
       "1194    186\n",
       "242     183\n",
       "2969    183\n",
       "1476    181\n",
       "6765    185\n",
       "1965    180\n",
       "4372    182\n",
       "7076    188\n",
       "3440    166\n",
       "1892    176\n",
       "2665    158\n",
       "3820    151\n",
       "5413    178\n",
       "1088    172\n",
       "3477    189\n",
       "Name: height, dtype: int64"
      ]
     },
     "execution_count": 11,
     "metadata": {},
     "output_type": "execute_result"
    }
   ],
   "source": [
    "#\n",
    "# null hypo H0 -> avg ht\n",
    "heights = df.height.sample(20, random_state=1)\n",
    "heights #plot and analyze"
   ]
  },
  {
   "cell_type": "code",
   "execution_count": 12,
   "id": "3d656b0d",
   "metadata": {},
   "outputs": [
    {
     "data": {
      "text/plain": [
       "0.975"
      ]
     },
     "execution_count": 12,
     "metadata": {},
     "output_type": "execute_result"
    }
   ],
   "source": [
    "alpha = 0.05 #95% confidence\n",
    "p=1-alpha/2 #t-table\n",
    "p"
   ]
  },
  {
   "cell_type": "code",
   "execution_count": 13,
   "id": "dd769ec6",
   "metadata": {},
   "outputs": [],
   "source": [
    "dof=20-1"
   ]
  },
  {
   "cell_type": "code",
   "execution_count": 14,
   "id": "d9e0d3a7",
   "metadata": {},
   "outputs": [
    {
     "data": {
      "text/plain": [
       "2.093024054408263"
      ]
     },
     "execution_count": 14,
     "metadata": {},
     "output_type": "execute_result"
    }
   ],
   "source": [
    "from scipy.stats import t\n",
    "t_critical = t.ppf(p, dof)"
   ]
  },
  {
   "cell_type": "code",
   "execution_count": 15,
   "id": "b4fb1719",
   "metadata": {},
   "outputs": [],
   "source": [
    "# -2.09, 2.09 range for t\n",
    "# -1.96, 1.96 range for z/normal"
   ]
  },
  {
   "cell_type": "code",
   "execution_count": 19,
   "id": "1eb62919",
   "metadata": {},
   "outputs": [],
   "source": [
    "from scipy.stats import ttest_1samp\n",
    "t_stats, p_val = ttest_1samp(heights,170)"
   ]
  },
  {
   "cell_type": "code",
   "execution_count": 20,
   "id": "42d2212c",
   "metadata": {},
   "outputs": [
    {
     "data": {
      "text/plain": [
       "3.1611686727030404"
      ]
     },
     "execution_count": 20,
     "metadata": {},
     "output_type": "execute_result"
    }
   ],
   "source": [
    "t_stats"
   ]
  },
  {
   "cell_type": "code",
   "execution_count": 21,
   "id": "961747ab",
   "metadata": {},
   "outputs": [
    {
     "data": {
      "text/plain": [
       "0.0051424776421412485"
      ]
     },
     "execution_count": 21,
     "metadata": {},
     "output_type": "execute_result"
    }
   ],
   "source": [
    "p_val"
   ]
  },
  {
   "cell_type": "code",
   "execution_count": 25,
   "id": "fbe1a29d",
   "metadata": {},
   "outputs": [],
   "source": [
    "# p_value < alpha -> rejected"
   ]
  },
  {
   "cell_type": "code",
   "execution_count": 23,
   "id": "89dd3142",
   "metadata": {},
   "outputs": [],
   "source": [
    "#independent two sample t test"
   ]
  },
  {
   "cell_type": "code",
   "execution_count": 24,
   "id": "cf8c3265",
   "metadata": {},
   "outputs": [],
   "source": [
    "# null hypo H0 -> the avg scores of males and females in a university is equal\n",
    "# alternative hypo H1 -> the avg scores of males and females in a university is not equal"
   ]
  },
  {
   "cell_type": "code",
   "execution_count": 27,
   "id": "73de200f",
   "metadata": {},
   "outputs": [
    {
     "data": {
      "text/plain": [
       "11      1.04\n",
       "13      1.00\n",
       "14      2.50\n",
       "17      2.27\n",
       "28      1.09\n",
       "        ... \n",
       "8229    1.60\n",
       "8234    3.42\n",
       "8235    2.91\n",
       "8238    2.74\n",
       "8239    3.29\n",
       "Name: nc.score, Length: 1753, dtype: float64"
      ]
     },
     "execution_count": 27,
     "metadata": {},
     "output_type": "execute_result"
    }
   ],
   "source": [
    "df['nc.score']"
   ]
  },
  {
   "cell_type": "code",
   "execution_count": 28,
   "id": "054edce2",
   "metadata": {},
   "outputs": [
    {
     "data": {
      "text/plain": [
       "11      1.04\n",
       "14      2.50\n",
       "17      2.27\n",
       "39      2.12\n",
       "61      2.51\n",
       "        ... \n",
       "8185    2.53\n",
       "8189    1.30\n",
       "8228    1.80\n",
       "8229    1.60\n",
       "8239    3.29\n",
       "Name: nc.score, Length: 674, dtype: float64"
      ]
     },
     "execution_count": 28,
     "metadata": {},
     "output_type": "execute_result"
    }
   ],
   "source": [
    "nc = df[df['gender'] == 'Female']['nc.score']\n",
    "nc"
   ]
  },
  {
   "cell_type": "code",
   "execution_count": 31,
   "id": "fd680b9d",
   "metadata": {},
   "outputs": [],
   "source": [
    "females = nc.sample(n=30, random_state=2)\n",
    "males = df[df['gender'] == 'Male']['nc.score'].sample(n=30, random_state=2)"
   ]
  },
  {
   "cell_type": "code",
   "execution_count": 30,
   "id": "637779e9",
   "metadata": {},
   "outputs": [
    {
     "data": {
      "text/plain": [
       "3071    3.40\n",
       "2438    3.85\n",
       "7950    1.34\n",
       "892     2.52\n",
       "1391    2.63\n",
       "3601    2.08\n",
       "7129    3.57\n",
       "569     2.99\n",
       "3081    2.06\n",
       "1776    2.06\n",
       "1128    3.17\n",
       "885     1.05\n",
       "1396    2.69\n",
       "2810    1.63\n",
       "5645    1.24\n",
       "7079    3.17\n",
       "2684    1.04\n",
       "1086    1.22\n",
       "7708    3.75\n",
       "7418    3.44\n",
       "501     2.39\n",
       "2672    3.36\n",
       "14      2.50\n",
       "2444    2.80\n",
       "3240    1.75\n",
       "3388    2.81\n",
       "5074    3.05\n",
       "3738    2.50\n",
       "4803    2.73\n",
       "2918    1.28\n",
       "Name: nc.score, dtype: float64"
      ]
     },
     "execution_count": 30,
     "metadata": {},
     "output_type": "execute_result"
    }
   ],
   "source": [
    "females"
   ]
  },
  {
   "cell_type": "code",
   "execution_count": 32,
   "id": "75b7bb09",
   "metadata": {},
   "outputs": [
    {
     "data": {
      "text/plain": [
       "731     1.25\n",
       "3584    1.18\n",
       "6699    2.10\n",
       "6487    1.14\n",
       "3338    1.88\n",
       "5115    1.06\n",
       "2213    2.94\n",
       "3772    2.65\n",
       "3714    2.77\n",
       "6623    2.04\n",
       "4830    1.03\n",
       "1833    2.07\n",
       "2386    2.83\n",
       "522     1.27\n",
       "5718    2.84\n",
       "4946    1.21\n",
       "7654    1.96\n",
       "3204    1.24\n",
       "2139    2.86\n",
       "4124    1.81\n",
       "6132    1.23\n",
       "4266    1.29\n",
       "1914    2.13\n",
       "1194    1.54\n",
       "1092    2.02\n",
       "6189    2.21\n",
       "1753    2.90\n",
       "2004    2.58\n",
       "5549    3.95\n",
       "7490    1.95\n",
       "Name: nc.score, dtype: float64"
      ]
     },
     "execution_count": 32,
     "metadata": {},
     "output_type": "execute_result"
    }
   ],
   "source": [
    "males"
   ]
  },
  {
   "cell_type": "code",
   "execution_count": 33,
   "id": "1fd700a3",
   "metadata": {},
   "outputs": [
    {
     "data": {
      "text/plain": [
       "0.05"
      ]
     },
     "execution_count": 33,
     "metadata": {},
     "output_type": "execute_result"
    }
   ],
   "source": [
    "alpha"
   ]
  },
  {
   "cell_type": "code",
   "execution_count": 34,
   "id": "b0e9d49e",
   "metadata": {},
   "outputs": [
    {
     "data": {
      "text/plain": [
       "0.975"
      ]
     },
     "execution_count": 34,
     "metadata": {},
     "output_type": "execute_result"
    }
   ],
   "source": [
    "p"
   ]
  },
  {
   "cell_type": "code",
   "execution_count": 35,
   "id": "06750cf7",
   "metadata": {},
   "outputs": [
    {
     "data": {
      "text/plain": [
       "58"
      ]
     },
     "execution_count": 35,
     "metadata": {},
     "output_type": "execute_result"
    }
   ],
   "source": [
    "#dof\n",
    "dof = (30-1)+(30-1)\n",
    "dof"
   ]
  },
  {
   "cell_type": "code",
   "execution_count": 36,
   "id": "fca73ecf",
   "metadata": {},
   "outputs": [
    {
     "data": {
      "text/plain": [
       "2.0017174830120923"
      ]
     },
     "execution_count": 36,
     "metadata": {},
     "output_type": "execute_result"
    }
   ],
   "source": [
    "t.ppf(p,dof)"
   ]
  },
  {
   "cell_type": "code",
   "execution_count": 37,
   "id": "2d4bed83",
   "metadata": {},
   "outputs": [
    {
     "data": {
      "text/plain": [
       "(-2.0017174830120923, 2.0017174830120923)"
      ]
     },
     "execution_count": 37,
     "metadata": {},
     "output_type": "execute_result"
    }
   ],
   "source": [
    "(-t.ppf(p,dof), t.ppf(p,dof))"
   ]
  },
  {
   "cell_type": "code",
   "execution_count": 40,
   "id": "0edcf056",
   "metadata": {},
   "outputs": [],
   "source": [
    "from scipy.stats import ttest_ind\n",
    "t_stat,p_value=ttest_ind(males,females)"
   ]
  },
  {
   "cell_type": "code",
   "execution_count": 41,
   "id": "4a7ff281",
   "metadata": {},
   "outputs": [
    {
     "data": {
      "text/plain": [
       "-2.2913335600164664"
      ]
     },
     "execution_count": 41,
     "metadata": {},
     "output_type": "execute_result"
    }
   ],
   "source": [
    "t_stat"
   ]
  },
  {
   "cell_type": "code",
   "execution_count": 42,
   "id": "fc2a9447",
   "metadata": {},
   "outputs": [
    {
     "data": {
      "text/plain": [
       "0.025594771709564857"
      ]
     },
     "execution_count": 42,
     "metadata": {},
     "output_type": "execute_result"
    }
   ],
   "source": [
    "p_value"
   ]
  },
  {
   "cell_type": "code",
   "execution_count": 43,
   "id": "ee4aeb0e",
   "metadata": {},
   "outputs": [],
   "source": [
    "#paired sample"
   ]
  },
  {
   "cell_type": "code",
   "execution_count": 44,
   "id": "4a805a2a",
   "metadata": {},
   "outputs": [],
   "source": [
    "#find whether there is any difference in avg scores of test1 and test2"
   ]
  },
  {
   "cell_type": "code",
   "execution_count": 45,
   "id": "aa439423",
   "metadata": {},
   "outputs": [],
   "source": [
    "#H0 -> there is no diff\n",
    "#H1"
   ]
  },
  {
   "cell_type": "code",
   "execution_count": 1,
   "id": "d63fdd32",
   "metadata": {},
   "outputs": [
    {
     "ename": "NameError",
     "evalue": "name 'df' is not defined",
     "output_type": "error",
     "traceback": [
      "\u001b[0;31m---------------------------------------------------------------------------\u001b[0m",
      "\u001b[0;31mNameError\u001b[0m                                 Traceback (most recent call last)",
      "Cell \u001b[0;32mIn[1], line 1\u001b[0m\n\u001b[0;32m----> 1\u001b[0m scores\u001b[38;5;241m=\u001b[39mdf\u001b[38;5;241m.\u001b[39msample(\u001b[38;5;241m20\u001b[39m, )\n",
      "\u001b[0;31mNameError\u001b[0m: name 'df' is not defined"
     ]
    }
   ],
   "source": [
    "scores=df.sample(20, )"
   ]
  },
  {
   "cell_type": "code",
   "execution_count": 2,
   "id": "203e5681",
   "metadata": {},
   "outputs": [],
   "source": [
    "# Chi square"
   ]
  },
  {
   "cell_type": "code",
   "execution_count": 3,
   "id": "fed5aab8",
   "metadata": {},
   "outputs": [],
   "source": [
    "#goodness of fit\n",
    "#independence"
   ]
  },
  {
   "cell_type": "code",
   "execution_count": 4,
   "id": "1dec35d3",
   "metadata": {},
   "outputs": [
    {
     "data": {
      "text/html": [
       "<div>\n",
       "<style scoped>\n",
       "    .dataframe tbody tr th:only-of-type {\n",
       "        vertical-align: middle;\n",
       "    }\n",
       "\n",
       "    .dataframe tbody tr th {\n",
       "        vertical-align: top;\n",
       "    }\n",
       "\n",
       "    .dataframe thead th {\n",
       "        text-align: right;\n",
       "    }\n",
       "</style>\n",
       "<table border=\"1\" class=\"dataframe\">\n",
       "  <thead>\n",
       "    <tr style=\"text-align: right;\">\n",
       "      <th></th>\n",
       "      <th>stud.id</th>\n",
       "      <th>name</th>\n",
       "      <th>gender</th>\n",
       "      <th>age</th>\n",
       "      <th>height</th>\n",
       "      <th>weight</th>\n",
       "      <th>religion</th>\n",
       "      <th>nc.score</th>\n",
       "      <th>semester</th>\n",
       "      <th>major</th>\n",
       "      <th>minor</th>\n",
       "      <th>score1</th>\n",
       "      <th>score2</th>\n",
       "      <th>online.tutorial</th>\n",
       "      <th>graduated</th>\n",
       "      <th>salary</th>\n",
       "    </tr>\n",
       "  </thead>\n",
       "  <tbody>\n",
       "    <tr>\n",
       "      <th>1</th>\n",
       "      <td>833917</td>\n",
       "      <td>Gonzales, Christina</td>\n",
       "      <td>Female</td>\n",
       "      <td>19</td>\n",
       "      <td>160</td>\n",
       "      <td>64.8</td>\n",
       "      <td>Muslim</td>\n",
       "      <td>1.91</td>\n",
       "      <td>1st</td>\n",
       "      <td>Political Science</td>\n",
       "      <td>Social Sciences</td>\n",
       "      <td>NaN</td>\n",
       "      <td>NaN</td>\n",
       "      <td>0</td>\n",
       "      <td>0</td>\n",
       "      <td>NaN</td>\n",
       "    </tr>\n",
       "    <tr>\n",
       "      <th>2</th>\n",
       "      <td>898539</td>\n",
       "      <td>Lozano, T'Hani</td>\n",
       "      <td>Female</td>\n",
       "      <td>19</td>\n",
       "      <td>172</td>\n",
       "      <td>73.0</td>\n",
       "      <td>Other</td>\n",
       "      <td>1.56</td>\n",
       "      <td>2nd</td>\n",
       "      <td>Social Sciences</td>\n",
       "      <td>Mathematics and Statistics</td>\n",
       "      <td>NaN</td>\n",
       "      <td>NaN</td>\n",
       "      <td>0</td>\n",
       "      <td>0</td>\n",
       "      <td>NaN</td>\n",
       "    </tr>\n",
       "    <tr>\n",
       "      <th>3</th>\n",
       "      <td>379678</td>\n",
       "      <td>Williams, Hanh</td>\n",
       "      <td>Female</td>\n",
       "      <td>22</td>\n",
       "      <td>168</td>\n",
       "      <td>70.6</td>\n",
       "      <td>Protestant</td>\n",
       "      <td>1.24</td>\n",
       "      <td>3rd</td>\n",
       "      <td>Social Sciences</td>\n",
       "      <td>Mathematics and Statistics</td>\n",
       "      <td>45.0</td>\n",
       "      <td>46.0</td>\n",
       "      <td>0</td>\n",
       "      <td>0</td>\n",
       "      <td>NaN</td>\n",
       "    </tr>\n",
       "    <tr>\n",
       "      <th>4</th>\n",
       "      <td>807564</td>\n",
       "      <td>Nem, Denzel</td>\n",
       "      <td>Male</td>\n",
       "      <td>19</td>\n",
       "      <td>183</td>\n",
       "      <td>79.7</td>\n",
       "      <td>Other</td>\n",
       "      <td>1.37</td>\n",
       "      <td>2nd</td>\n",
       "      <td>Environmental Sciences</td>\n",
       "      <td>Mathematics and Statistics</td>\n",
       "      <td>NaN</td>\n",
       "      <td>NaN</td>\n",
       "      <td>0</td>\n",
       "      <td>0</td>\n",
       "      <td>NaN</td>\n",
       "    </tr>\n",
       "    <tr>\n",
       "      <th>5</th>\n",
       "      <td>383291</td>\n",
       "      <td>Powell, Heather</td>\n",
       "      <td>Female</td>\n",
       "      <td>21</td>\n",
       "      <td>175</td>\n",
       "      <td>71.4</td>\n",
       "      <td>Catholic</td>\n",
       "      <td>1.46</td>\n",
       "      <td>1st</td>\n",
       "      <td>Environmental Sciences</td>\n",
       "      <td>Mathematics and Statistics</td>\n",
       "      <td>NaN</td>\n",
       "      <td>NaN</td>\n",
       "      <td>0</td>\n",
       "      <td>0</td>\n",
       "      <td>NaN</td>\n",
       "    </tr>\n",
       "    <tr>\n",
       "      <th>...</th>\n",
       "      <td>...</td>\n",
       "      <td>...</td>\n",
       "      <td>...</td>\n",
       "      <td>...</td>\n",
       "      <td>...</td>\n",
       "      <td>...</td>\n",
       "      <td>...</td>\n",
       "      <td>...</td>\n",
       "      <td>...</td>\n",
       "      <td>...</td>\n",
       "      <td>...</td>\n",
       "      <td>...</td>\n",
       "      <td>...</td>\n",
       "      <td>...</td>\n",
       "      <td>...</td>\n",
       "      <td>...</td>\n",
       "    </tr>\n",
       "    <tr>\n",
       "      <th>8235</th>\n",
       "      <td>818044</td>\n",
       "      <td>Her, Joshua</td>\n",
       "      <td>Male</td>\n",
       "      <td>22</td>\n",
       "      <td>181</td>\n",
       "      <td>79.1</td>\n",
       "      <td>Protestant</td>\n",
       "      <td>2.91</td>\n",
       "      <td>6th</td>\n",
       "      <td>Environmental Sciences</td>\n",
       "      <td>Social Sciences</td>\n",
       "      <td>73.0</td>\n",
       "      <td>71.0</td>\n",
       "      <td>0</td>\n",
       "      <td>1</td>\n",
       "      <td>36750.087135</td>\n",
       "    </tr>\n",
       "    <tr>\n",
       "      <th>8236</th>\n",
       "      <td>560166</td>\n",
       "      <td>Reid, Jose</td>\n",
       "      <td>Male</td>\n",
       "      <td>23</td>\n",
       "      <td>178</td>\n",
       "      <td>72.6</td>\n",
       "      <td>Catholic</td>\n",
       "      <td>2.03</td>\n",
       "      <td>2nd</td>\n",
       "      <td>Environmental Sciences</td>\n",
       "      <td>Mathematics and Statistics</td>\n",
       "      <td>NaN</td>\n",
       "      <td>NaN</td>\n",
       "      <td>0</td>\n",
       "      <td>0</td>\n",
       "      <td>NaN</td>\n",
       "    </tr>\n",
       "    <tr>\n",
       "      <th>8237</th>\n",
       "      <td>380174</td>\n",
       "      <td>Villa, Raechelle</td>\n",
       "      <td>Female</td>\n",
       "      <td>20</td>\n",
       "      <td>169</td>\n",
       "      <td>67.7</td>\n",
       "      <td>Other</td>\n",
       "      <td>3.72</td>\n",
       "      <td>3rd</td>\n",
       "      <td>Environmental Sciences</td>\n",
       "      <td>Economics and Finance</td>\n",
       "      <td>77.0</td>\n",
       "      <td>75.0</td>\n",
       "      <td>1</td>\n",
       "      <td>0</td>\n",
       "      <td>NaN</td>\n",
       "    </tr>\n",
       "    <tr>\n",
       "      <th>8238</th>\n",
       "      <td>540967</td>\n",
       "      <td>Ngo, Preston</td>\n",
       "      <td>Male</td>\n",
       "      <td>23</td>\n",
       "      <td>195</td>\n",
       "      <td>98.6</td>\n",
       "      <td>Other</td>\n",
       "      <td>2.74</td>\n",
       "      <td>4th</td>\n",
       "      <td>Social Sciences</td>\n",
       "      <td>Political Science</td>\n",
       "      <td>50.0</td>\n",
       "      <td>46.0</td>\n",
       "      <td>1</td>\n",
       "      <td>1</td>\n",
       "      <td>40112.041834</td>\n",
       "    </tr>\n",
       "    <tr>\n",
       "      <th>8239</th>\n",
       "      <td>413207</td>\n",
       "      <td>Bernhard, Estela</td>\n",
       "      <td>Female</td>\n",
       "      <td>19</td>\n",
       "      <td>170</td>\n",
       "      <td>69.0</td>\n",
       "      <td>Muslim</td>\n",
       "      <td>3.29</td>\n",
       "      <td>&gt;6th</td>\n",
       "      <td>Political Science</td>\n",
       "      <td>Biology</td>\n",
       "      <td>47.0</td>\n",
       "      <td>59.0</td>\n",
       "      <td>1</td>\n",
       "      <td>1</td>\n",
       "      <td>45900.134459</td>\n",
       "    </tr>\n",
       "  </tbody>\n",
       "</table>\n",
       "<p>8239 rows × 16 columns</p>\n",
       "</div>"
      ],
      "text/plain": [
       "      stud.id                 name  gender  age  height  weight    religion  \\\n",
       "1      833917  Gonzales, Christina  Female   19     160    64.8      Muslim   \n",
       "2      898539       Lozano, T'Hani  Female   19     172    73.0       Other   \n",
       "3      379678       Williams, Hanh  Female   22     168    70.6  Protestant   \n",
       "4      807564          Nem, Denzel    Male   19     183    79.7       Other   \n",
       "5      383291      Powell, Heather  Female   21     175    71.4    Catholic   \n",
       "...       ...                  ...     ...  ...     ...     ...         ...   \n",
       "8235   818044          Her, Joshua    Male   22     181    79.1  Protestant   \n",
       "8236   560166           Reid, Jose    Male   23     178    72.6    Catholic   \n",
       "8237   380174     Villa, Raechelle  Female   20     169    67.7       Other   \n",
       "8238   540967         Ngo, Preston    Male   23     195    98.6       Other   \n",
       "8239   413207     Bernhard, Estela  Female   19     170    69.0      Muslim   \n",
       "\n",
       "      nc.score semester                   major                       minor  \\\n",
       "1         1.91      1st       Political Science             Social Sciences   \n",
       "2         1.56      2nd         Social Sciences  Mathematics and Statistics   \n",
       "3         1.24      3rd         Social Sciences  Mathematics and Statistics   \n",
       "4         1.37      2nd  Environmental Sciences  Mathematics and Statistics   \n",
       "5         1.46      1st  Environmental Sciences  Mathematics and Statistics   \n",
       "...        ...      ...                     ...                         ...   \n",
       "8235      2.91      6th  Environmental Sciences             Social Sciences   \n",
       "8236      2.03      2nd  Environmental Sciences  Mathematics and Statistics   \n",
       "8237      3.72      3rd  Environmental Sciences       Economics and Finance   \n",
       "8238      2.74      4th         Social Sciences           Political Science   \n",
       "8239      3.29     >6th       Political Science                     Biology   \n",
       "\n",
       "      score1  score2  online.tutorial  graduated        salary  \n",
       "1        NaN     NaN                0          0           NaN  \n",
       "2        NaN     NaN                0          0           NaN  \n",
       "3       45.0    46.0                0          0           NaN  \n",
       "4        NaN     NaN                0          0           NaN  \n",
       "5        NaN     NaN                0          0           NaN  \n",
       "...      ...     ...              ...        ...           ...  \n",
       "8235    73.0    71.0                0          1  36750.087135  \n",
       "8236     NaN     NaN                0          0           NaN  \n",
       "8237    77.0    75.0                1          0           NaN  \n",
       "8238    50.0    46.0                1          1  40112.041834  \n",
       "8239    47.0    59.0                1          1  45900.134459  \n",
       "\n",
       "[8239 rows x 16 columns]"
      ]
     },
     "execution_count": 4,
     "metadata": {},
     "output_type": "execute_result"
    }
   ],
   "source": [
    "import pandas as pd\n",
    "import numpy as np\n",
    "\n",
    "df = pd.read_csv('students.csv')\n",
    "df"
   ]
  },
  {
   "cell_type": "code",
   "execution_count": 5,
   "id": "454726fe",
   "metadata": {},
   "outputs": [],
   "source": [
    "# find wheather there is equal proportion of males and females in university?"
   ]
  },
  {
   "cell_type": "code",
   "execution_count": 6,
   "id": "6efeb310",
   "metadata": {},
   "outputs": [],
   "source": [
    "# goodness of fit"
   ]
  },
  {
   "cell_type": "code",
   "execution_count": 7,
   "id": "ef71159e",
   "metadata": {},
   "outputs": [],
   "source": [
    "#H0 -> proportion of males and females same\n",
    "#H1 -> proportion of males and females different"
   ]
  },
  {
   "cell_type": "code",
   "execution_count": 8,
   "id": "ea69efad",
   "metadata": {},
   "outputs": [],
   "source": [
    "df.dropna(inplace=True)"
   ]
  },
  {
   "cell_type": "code",
   "execution_count": 9,
   "id": "225f6ebb",
   "metadata": {},
   "outputs": [
    {
     "data": {
      "text/html": [
       "<div>\n",
       "<style scoped>\n",
       "    .dataframe tbody tr th:only-of-type {\n",
       "        vertical-align: middle;\n",
       "    }\n",
       "\n",
       "    .dataframe tbody tr th {\n",
       "        vertical-align: top;\n",
       "    }\n",
       "\n",
       "    .dataframe thead th {\n",
       "        text-align: right;\n",
       "    }\n",
       "</style>\n",
       "<table border=\"1\" class=\"dataframe\">\n",
       "  <thead>\n",
       "    <tr style=\"text-align: right;\">\n",
       "      <th></th>\n",
       "      <th>stud.id</th>\n",
       "      <th>name</th>\n",
       "      <th>gender</th>\n",
       "      <th>age</th>\n",
       "      <th>height</th>\n",
       "      <th>weight</th>\n",
       "      <th>religion</th>\n",
       "      <th>nc.score</th>\n",
       "      <th>semester</th>\n",
       "      <th>major</th>\n",
       "      <th>minor</th>\n",
       "      <th>score1</th>\n",
       "      <th>score2</th>\n",
       "      <th>online.tutorial</th>\n",
       "      <th>graduated</th>\n",
       "      <th>salary</th>\n",
       "    </tr>\n",
       "  </thead>\n",
       "  <tbody>\n",
       "    <tr>\n",
       "      <th>11</th>\n",
       "      <td>200803</td>\n",
       "      <td>Lang, Mackenzie</td>\n",
       "      <td>Female</td>\n",
       "      <td>22</td>\n",
       "      <td>162</td>\n",
       "      <td>66.8</td>\n",
       "      <td>Other</td>\n",
       "      <td>1.04</td>\n",
       "      <td>4th</td>\n",
       "      <td>Economics and Finance</td>\n",
       "      <td>Environmental Sciences</td>\n",
       "      <td>62.0</td>\n",
       "      <td>61.0</td>\n",
       "      <td>1</td>\n",
       "      <td>1</td>\n",
       "      <td>45254.108021</td>\n",
       "    </tr>\n",
       "    <tr>\n",
       "      <th>13</th>\n",
       "      <td>354271</td>\n",
       "      <td>Covar Orendain, Christopher</td>\n",
       "      <td>Male</td>\n",
       "      <td>23</td>\n",
       "      <td>185</td>\n",
       "      <td>84.6</td>\n",
       "      <td>Orthodox</td>\n",
       "      <td>1.00</td>\n",
       "      <td>4th</td>\n",
       "      <td>Environmental Sciences</td>\n",
       "      <td>Mathematics and Statistics</td>\n",
       "      <td>71.0</td>\n",
       "      <td>76.0</td>\n",
       "      <td>1</td>\n",
       "      <td>1</td>\n",
       "      <td>40552.790243</td>\n",
       "    </tr>\n",
       "    <tr>\n",
       "      <th>14</th>\n",
       "      <td>317812</td>\n",
       "      <td>Lopez, Monique</td>\n",
       "      <td>Female</td>\n",
       "      <td>20</td>\n",
       "      <td>158</td>\n",
       "      <td>64.4</td>\n",
       "      <td>Catholic</td>\n",
       "      <td>2.50</td>\n",
       "      <td>6th</td>\n",
       "      <td>Environmental Sciences</td>\n",
       "      <td>Social Sciences</td>\n",
       "      <td>66.0</td>\n",
       "      <td>70.0</td>\n",
       "      <td>1</td>\n",
       "      <td>1</td>\n",
       "      <td>27007.030294</td>\n",
       "    </tr>\n",
       "    <tr>\n",
       "      <th>17</th>\n",
       "      <td>350040</td>\n",
       "      <td>Hines, Haileigh</td>\n",
       "      <td>Female</td>\n",
       "      <td>22</td>\n",
       "      <td>156</td>\n",
       "      <td>61.7</td>\n",
       "      <td>Other</td>\n",
       "      <td>2.27</td>\n",
       "      <td>6th</td>\n",
       "      <td>Political Science</td>\n",
       "      <td>Biology</td>\n",
       "      <td>57.0</td>\n",
       "      <td>54.0</td>\n",
       "      <td>0</td>\n",
       "      <td>1</td>\n",
       "      <td>33969.159268</td>\n",
       "    </tr>\n",
       "    <tr>\n",
       "      <th>28</th>\n",
       "      <td>763393</td>\n",
       "      <td>Woolsey, Bronson</td>\n",
       "      <td>Male</td>\n",
       "      <td>24</td>\n",
       "      <td>182</td>\n",
       "      <td>80.1</td>\n",
       "      <td>Protestant</td>\n",
       "      <td>1.09</td>\n",
       "      <td>5th</td>\n",
       "      <td>Economics and Finance</td>\n",
       "      <td>Social Sciences</td>\n",
       "      <td>61.0</td>\n",
       "      <td>73.0</td>\n",
       "      <td>1</td>\n",
       "      <td>1</td>\n",
       "      <td>50617.641870</td>\n",
       "    </tr>\n",
       "    <tr>\n",
       "      <th>...</th>\n",
       "      <td>...</td>\n",
       "      <td>...</td>\n",
       "      <td>...</td>\n",
       "      <td>...</td>\n",
       "      <td>...</td>\n",
       "      <td>...</td>\n",
       "      <td>...</td>\n",
       "      <td>...</td>\n",
       "      <td>...</td>\n",
       "      <td>...</td>\n",
       "      <td>...</td>\n",
       "      <td>...</td>\n",
       "      <td>...</td>\n",
       "      <td>...</td>\n",
       "      <td>...</td>\n",
       "      <td>...</td>\n",
       "    </tr>\n",
       "    <tr>\n",
       "      <th>8229</th>\n",
       "      <td>205242</td>\n",
       "      <td>Hill, Anissa</td>\n",
       "      <td>Female</td>\n",
       "      <td>21</td>\n",
       "      <td>155</td>\n",
       "      <td>63.5</td>\n",
       "      <td>Protestant</td>\n",
       "      <td>1.60</td>\n",
       "      <td>4th</td>\n",
       "      <td>Mathematics and Statistics</td>\n",
       "      <td>Political Science</td>\n",
       "      <td>87.0</td>\n",
       "      <td>86.0</td>\n",
       "      <td>0</td>\n",
       "      <td>1</td>\n",
       "      <td>33259.703079</td>\n",
       "    </tr>\n",
       "    <tr>\n",
       "      <th>8234</th>\n",
       "      <td>643038</td>\n",
       "      <td>Marler, Jalen</td>\n",
       "      <td>Male</td>\n",
       "      <td>24</td>\n",
       "      <td>184</td>\n",
       "      <td>85.1</td>\n",
       "      <td>Other</td>\n",
       "      <td>3.42</td>\n",
       "      <td>5th</td>\n",
       "      <td>Environmental Sciences</td>\n",
       "      <td>Social Sciences</td>\n",
       "      <td>71.0</td>\n",
       "      <td>77.0</td>\n",
       "      <td>1</td>\n",
       "      <td>1</td>\n",
       "      <td>41028.241341</td>\n",
       "    </tr>\n",
       "    <tr>\n",
       "      <th>8235</th>\n",
       "      <td>818044</td>\n",
       "      <td>Her, Joshua</td>\n",
       "      <td>Male</td>\n",
       "      <td>22</td>\n",
       "      <td>181</td>\n",
       "      <td>79.1</td>\n",
       "      <td>Protestant</td>\n",
       "      <td>2.91</td>\n",
       "      <td>6th</td>\n",
       "      <td>Environmental Sciences</td>\n",
       "      <td>Social Sciences</td>\n",
       "      <td>73.0</td>\n",
       "      <td>71.0</td>\n",
       "      <td>0</td>\n",
       "      <td>1</td>\n",
       "      <td>36750.087135</td>\n",
       "    </tr>\n",
       "    <tr>\n",
       "      <th>8238</th>\n",
       "      <td>540967</td>\n",
       "      <td>Ngo, Preston</td>\n",
       "      <td>Male</td>\n",
       "      <td>23</td>\n",
       "      <td>195</td>\n",
       "      <td>98.6</td>\n",
       "      <td>Other</td>\n",
       "      <td>2.74</td>\n",
       "      <td>4th</td>\n",
       "      <td>Social Sciences</td>\n",
       "      <td>Political Science</td>\n",
       "      <td>50.0</td>\n",
       "      <td>46.0</td>\n",
       "      <td>1</td>\n",
       "      <td>1</td>\n",
       "      <td>40112.041834</td>\n",
       "    </tr>\n",
       "    <tr>\n",
       "      <th>8239</th>\n",
       "      <td>413207</td>\n",
       "      <td>Bernhard, Estela</td>\n",
       "      <td>Female</td>\n",
       "      <td>19</td>\n",
       "      <td>170</td>\n",
       "      <td>69.0</td>\n",
       "      <td>Muslim</td>\n",
       "      <td>3.29</td>\n",
       "      <td>&gt;6th</td>\n",
       "      <td>Political Science</td>\n",
       "      <td>Biology</td>\n",
       "      <td>47.0</td>\n",
       "      <td>59.0</td>\n",
       "      <td>1</td>\n",
       "      <td>1</td>\n",
       "      <td>45900.134459</td>\n",
       "    </tr>\n",
       "  </tbody>\n",
       "</table>\n",
       "<p>1753 rows × 16 columns</p>\n",
       "</div>"
      ],
      "text/plain": [
       "      stud.id                         name  gender  age  height  weight  \\\n",
       "11     200803              Lang, Mackenzie  Female   22     162    66.8   \n",
       "13     354271  Covar Orendain, Christopher    Male   23     185    84.6   \n",
       "14     317812               Lopez, Monique  Female   20     158    64.4   \n",
       "17     350040              Hines, Haileigh  Female   22     156    61.7   \n",
       "28     763393             Woolsey, Bronson    Male   24     182    80.1   \n",
       "...       ...                          ...     ...  ...     ...     ...   \n",
       "8229   205242                 Hill, Anissa  Female   21     155    63.5   \n",
       "8234   643038                Marler, Jalen    Male   24     184    85.1   \n",
       "8235   818044                  Her, Joshua    Male   22     181    79.1   \n",
       "8238   540967                 Ngo, Preston    Male   23     195    98.6   \n",
       "8239   413207             Bernhard, Estela  Female   19     170    69.0   \n",
       "\n",
       "        religion  nc.score semester                       major  \\\n",
       "11         Other      1.04      4th       Economics and Finance   \n",
       "13      Orthodox      1.00      4th      Environmental Sciences   \n",
       "14      Catholic      2.50      6th      Environmental Sciences   \n",
       "17         Other      2.27      6th           Political Science   \n",
       "28    Protestant      1.09      5th       Economics and Finance   \n",
       "...          ...       ...      ...                         ...   \n",
       "8229  Protestant      1.60      4th  Mathematics and Statistics   \n",
       "8234       Other      3.42      5th      Environmental Sciences   \n",
       "8235  Protestant      2.91      6th      Environmental Sciences   \n",
       "8238       Other      2.74      4th             Social Sciences   \n",
       "8239      Muslim      3.29     >6th           Political Science   \n",
       "\n",
       "                           minor  score1  score2  online.tutorial  graduated  \\\n",
       "11        Environmental Sciences    62.0    61.0                1          1   \n",
       "13    Mathematics and Statistics    71.0    76.0                1          1   \n",
       "14               Social Sciences    66.0    70.0                1          1   \n",
       "17                       Biology    57.0    54.0                0          1   \n",
       "28               Social Sciences    61.0    73.0                1          1   \n",
       "...                          ...     ...     ...              ...        ...   \n",
       "8229           Political Science    87.0    86.0                0          1   \n",
       "8234             Social Sciences    71.0    77.0                1          1   \n",
       "8235             Social Sciences    73.0    71.0                0          1   \n",
       "8238           Political Science    50.0    46.0                1          1   \n",
       "8239                     Biology    47.0    59.0                1          1   \n",
       "\n",
       "            salary  \n",
       "11    45254.108021  \n",
       "13    40552.790243  \n",
       "14    27007.030294  \n",
       "17    33969.159268  \n",
       "28    50617.641870  \n",
       "...            ...  \n",
       "8229  33259.703079  \n",
       "8234  41028.241341  \n",
       "8235  36750.087135  \n",
       "8238  40112.041834  \n",
       "8239  45900.134459  \n",
       "\n",
       "[1753 rows x 16 columns]"
      ]
     },
     "execution_count": 9,
     "metadata": {},
     "output_type": "execute_result"
    }
   ],
   "source": [
    "df"
   ]
  },
  {
   "cell_type": "code",
   "execution_count": 12,
   "id": "3fc42663",
   "metadata": {},
   "outputs": [
    {
     "data": {
      "text/plain": [
       "193"
      ]
     },
     "execution_count": 12,
     "metadata": {},
     "output_type": "execute_result"
    }
   ],
   "source": [
    "# 2. collect the data\n",
    "samp = df.gender.sample(500, random_state=1)\n",
    "samp\n",
    "samp[samp==\"Female\"].count()"
   ]
  },
  {
   "cell_type": "code",
   "execution_count": 13,
   "id": "b0eeef71",
   "metadata": {},
   "outputs": [
    {
     "data": {
      "text/plain": [
       "307"
      ]
     },
     "execution_count": 13,
     "metadata": {},
     "output_type": "execute_result"
    }
   ],
   "source": [
    "samp[samp==\"Male\"].count()"
   ]
  },
  {
   "cell_type": "code",
   "execution_count": 14,
   "id": "3d2c933f",
   "metadata": {},
   "outputs": [
    {
     "data": {
      "text/html": [
       "<div>\n",
       "<style scoped>\n",
       "    .dataframe tbody tr th:only-of-type {\n",
       "        vertical-align: middle;\n",
       "    }\n",
       "\n",
       "    .dataframe tbody tr th {\n",
       "        vertical-align: top;\n",
       "    }\n",
       "\n",
       "    .dataframe thead th {\n",
       "        text-align: right;\n",
       "    }\n",
       "</style>\n",
       "<table border=\"1\" class=\"dataframe\">\n",
       "  <thead>\n",
       "    <tr style=\"text-align: right;\">\n",
       "      <th>gender</th>\n",
       "      <th>Female</th>\n",
       "      <th>Male</th>\n",
       "    </tr>\n",
       "    <tr>\n",
       "      <th>gender</th>\n",
       "      <th></th>\n",
       "      <th></th>\n",
       "    </tr>\n",
       "  </thead>\n",
       "  <tbody>\n",
       "    <tr>\n",
       "      <th>Female</th>\n",
       "      <td>193</td>\n",
       "      <td>0</td>\n",
       "    </tr>\n",
       "    <tr>\n",
       "      <th>Male</th>\n",
       "      <td>0</td>\n",
       "      <td>307</td>\n",
       "    </tr>\n",
       "  </tbody>\n",
       "</table>\n",
       "</div>"
      ],
      "text/plain": [
       "gender  Female  Male\n",
       "gender              \n",
       "Female     193     0\n",
       "Male         0   307"
      ]
     },
     "execution_count": 14,
     "metadata": {},
     "output_type": "execute_result"
    }
   ],
   "source": [
    "pd.crosstab(df.gender.sample(500, random_state=1), df.gender.sample(500, random_state=1))"
   ]
  },
  {
   "cell_type": "code",
   "execution_count": 15,
   "id": "db6e4105",
   "metadata": {},
   "outputs": [],
   "source": [
    "#significance level\n",
    "alpha = 0.05 # confidence 95%"
   ]
  },
  {
   "cell_type": "code",
   "execution_count": 16,
   "id": "dca41338",
   "metadata": {},
   "outputs": [],
   "source": [
    "#dof\n",
    "# number of categories - 1\n",
    "dof = 2 -1"
   ]
  },
  {
   "cell_type": "code",
   "execution_count": 34,
   "id": "8c14a54f",
   "metadata": {},
   "outputs": [
    {
     "data": {
      "text/plain": [
       "12.832501994030027"
      ]
     },
     "execution_count": 34,
     "metadata": {},
     "output_type": "execute_result"
    }
   ],
   "source": [
    "from scipy.stats import chi2, chisquare, chi2_contingency\n",
    "p=1 - alpha/2\n",
    "chi_crit = chi2.ppf(p, dof)\n",
    "chi_crit\n",
    "# -5.02 to 5.02 range"
   ]
  },
  {
   "cell_type": "code",
   "execution_count": 21,
   "id": "66e4aa9b",
   "metadata": {},
   "outputs": [
    {
     "data": {
      "text/plain": [
       "Power_divergenceResult(statistic=25.992, pvalue=3.4283506780566255e-07)"
      ]
     },
     "execution_count": 21,
     "metadata": {},
     "output_type": "execute_result"
    }
   ],
   "source": [
    "chisquare([193, 307],[250, 250])"
   ]
  },
  {
   "cell_type": "code",
   "execution_count": 22,
   "id": "ab8041db",
   "metadata": {},
   "outputs": [],
   "source": [
    "#p_value = 3.42 * e-7\n",
    "#p_value < alpha -> so also rejected"
   ]
  },
  {
   "cell_type": "code",
   "execution_count": 23,
   "id": "7ff42c5b",
   "metadata": {},
   "outputs": [],
   "source": [
    "# Find wheather there is any relationship betwn the gender and the major of the student?"
   ]
  },
  {
   "cell_type": "code",
   "execution_count": 24,
   "id": "2497ebf3",
   "metadata": {},
   "outputs": [],
   "source": [
    "# independence"
   ]
  },
  {
   "cell_type": "code",
   "execution_count": 25,
   "id": "a705d9bc",
   "metadata": {},
   "outputs": [],
   "source": [
    "# H0 -> no relation between gender and major\n",
    "# H1 -> there is relation between gender and major"
   ]
  },
  {
   "cell_type": "code",
   "execution_count": 26,
   "id": "c5cc011d",
   "metadata": {},
   "outputs": [
    {
     "data": {
      "text/plain": [
       "11      Female\n",
       "13        Male\n",
       "14      Female\n",
       "17      Female\n",
       "28        Male\n",
       "         ...  \n",
       "8229    Female\n",
       "8234      Male\n",
       "8235      Male\n",
       "8238      Male\n",
       "8239    Female\n",
       "Name: gender, Length: 1753, dtype: object"
      ]
     },
     "execution_count": 26,
     "metadata": {},
     "output_type": "execute_result"
    }
   ],
   "source": [
    "df.gender"
   ]
  },
  {
   "cell_type": "code",
   "execution_count": 27,
   "id": "6e2292b8",
   "metadata": {},
   "outputs": [
    {
     "data": {
      "text/plain": [
       "11           Economics and Finance\n",
       "13          Environmental Sciences\n",
       "14          Environmental Sciences\n",
       "17               Political Science\n",
       "28           Economics and Finance\n",
       "                   ...            \n",
       "8229    Mathematics and Statistics\n",
       "8234        Environmental Sciences\n",
       "8235        Environmental Sciences\n",
       "8238               Social Sciences\n",
       "8239             Political Science\n",
       "Name: major, Length: 1753, dtype: object"
      ]
     },
     "execution_count": 27,
     "metadata": {},
     "output_type": "execute_result"
    }
   ],
   "source": [
    "df.major"
   ]
  },
  {
   "cell_type": "code",
   "execution_count": 29,
   "id": "27c5caba",
   "metadata": {},
   "outputs": [
    {
     "data": {
      "text/html": [
       "<div>\n",
       "<style scoped>\n",
       "    .dataframe tbody tr th:only-of-type {\n",
       "        vertical-align: middle;\n",
       "    }\n",
       "\n",
       "    .dataframe tbody tr th {\n",
       "        vertical-align: top;\n",
       "    }\n",
       "\n",
       "    .dataframe thead th {\n",
       "        text-align: right;\n",
       "    }\n",
       "</style>\n",
       "<table border=\"1\" class=\"dataframe\">\n",
       "  <thead>\n",
       "    <tr style=\"text-align: right;\">\n",
       "      <th>gender</th>\n",
       "      <th>Female</th>\n",
       "      <th>Male</th>\n",
       "    </tr>\n",
       "    <tr>\n",
       "      <th>major</th>\n",
       "      <th></th>\n",
       "      <th></th>\n",
       "    </tr>\n",
       "  </thead>\n",
       "  <tbody>\n",
       "    <tr>\n",
       "      <th>Biology</th>\n",
       "      <td>152</td>\n",
       "      <td>178</td>\n",
       "    </tr>\n",
       "    <tr>\n",
       "      <th>Economics and Finance</th>\n",
       "      <td>73</td>\n",
       "      <td>222</td>\n",
       "    </tr>\n",
       "    <tr>\n",
       "      <th>Environmental Sciences</th>\n",
       "      <td>114</td>\n",
       "      <td>231</td>\n",
       "    </tr>\n",
       "    <tr>\n",
       "      <th>Mathematics and Statistics</th>\n",
       "      <td>48</td>\n",
       "      <td>240</td>\n",
       "    </tr>\n",
       "    <tr>\n",
       "      <th>Political Science</th>\n",
       "      <td>164</td>\n",
       "      <td>125</td>\n",
       "    </tr>\n",
       "    <tr>\n",
       "      <th>Social Sciences</th>\n",
       "      <td>123</td>\n",
       "      <td>83</td>\n",
       "    </tr>\n",
       "  </tbody>\n",
       "</table>\n",
       "</div>"
      ],
      "text/plain": [
       "gender                      Female  Male\n",
       "major                                   \n",
       "Biology                        152   178\n",
       "Economics and Finance           73   222\n",
       "Environmental Sciences         114   231\n",
       "Mathematics and Statistics      48   240\n",
       "Political Science              164   125\n",
       "Social Sciences                123    83"
      ]
     },
     "execution_count": 29,
     "metadata": {},
     "output_type": "execute_result"
    }
   ],
   "source": [
    "data_table = pd.crosstab(df.major, df.gender)\n",
    "data_table"
   ]
  },
  {
   "cell_type": "code",
   "execution_count": 30,
   "id": "09733b68",
   "metadata": {},
   "outputs": [
    {
     "data": {
      "text/plain": [
       "0.975"
      ]
     },
     "execution_count": 30,
     "metadata": {},
     "output_type": "execute_result"
    }
   ],
   "source": [
    "p"
   ]
  },
  {
   "cell_type": "code",
   "execution_count": 31,
   "id": "47e7126a",
   "metadata": {},
   "outputs": [
    {
     "data": {
      "text/plain": [
       "0.05"
      ]
     },
     "execution_count": 31,
     "metadata": {},
     "output_type": "execute_result"
    }
   ],
   "source": [
    "alpha"
   ]
  },
  {
   "cell_type": "code",
   "execution_count": 32,
   "id": "42f002ca",
   "metadata": {},
   "outputs": [],
   "source": [
    "# dof -> (no of major cat - 1) * (number of gender - 1)\n",
    "dof = (6-1) * (2-1)"
   ]
  },
  {
   "cell_type": "code",
   "execution_count": 33,
   "id": "7ecfc5f5",
   "metadata": {},
   "outputs": [
    {
     "data": {
      "text/plain": [
       "12.832501994030027"
      ]
     },
     "execution_count": 33,
     "metadata": {},
     "output_type": "execute_result"
    }
   ],
   "source": [
    "chi2.ppf(p,dof)"
   ]
  },
  {
   "cell_type": "code",
   "execution_count": 35,
   "id": "470f7ac3",
   "metadata": {},
   "outputs": [],
   "source": [
    "# -12.83 to 12.83"
   ]
  },
  {
   "cell_type": "code",
   "execution_count": 38,
   "id": "596e106a",
   "metadata": {},
   "outputs": [],
   "source": [
    "chi_stat, pvalue, dof, expec = chi2_contingency(data_table)"
   ]
  },
  {
   "cell_type": "code",
   "execution_count": 39,
   "id": "b1c4035a",
   "metadata": {},
   "outputs": [
    {
     "data": {
      "text/plain": [
       "173.71857686007684"
      ]
     },
     "execution_count": 39,
     "metadata": {},
     "output_type": "execute_result"
    }
   ],
   "source": [
    "chi_stat"
   ]
  },
  {
   "cell_type": "code",
   "execution_count": 40,
   "id": "b47ab202",
   "metadata": {},
   "outputs": [
    {
     "data": {
      "text/plain": [
       "1.1736988372787206e-35"
      ]
     },
     "execution_count": 40,
     "metadata": {},
     "output_type": "execute_result"
    }
   ],
   "source": [
    "pvalue"
   ]
  },
  {
   "cell_type": "code",
   "execution_count": 41,
   "id": "d3172cff",
   "metadata": {},
   "outputs": [
    {
     "data": {
      "text/plain": [
       "5"
      ]
     },
     "execution_count": 41,
     "metadata": {},
     "output_type": "execute_result"
    }
   ],
   "source": [
    "dof"
   ]
  },
  {
   "cell_type": "code",
   "execution_count": 42,
   "id": "a83f0537",
   "metadata": {},
   "outputs": [
    {
     "data": {
      "text/plain": [
       "array([[126.87963491, 203.12036509],\n",
       "       [113.42270394, 181.57729606],\n",
       "       [132.64689104, 212.35310896],\n",
       "       [110.73131774, 177.26868226],\n",
       "       [111.11580148, 177.88419852],\n",
       "       [ 79.20365088, 126.79634912]])"
      ]
     },
     "execution_count": 42,
     "metadata": {},
     "output_type": "execute_result"
    }
   ],
   "source": [
    "expec"
   ]
  },
  {
   "cell_type": "code",
   "execution_count": 43,
   "id": "9fb5ffad",
   "metadata": {},
   "outputs": [],
   "source": [
    "# H0 -> rejected"
   ]
  },
  {
   "cell_type": "code",
   "execution_count": null,
   "id": "3294245c",
   "metadata": {},
   "outputs": [],
   "source": []
  }
 ],
 "metadata": {
  "kernelspec": {
   "display_name": "Python 3 (ipykernel)",
   "language": "python",
   "name": "python3"
  },
  "language_info": {
   "codemirror_mode": {
    "name": "ipython",
    "version": 3
   },
   "file_extension": ".py",
   "mimetype": "text/x-python",
   "name": "python",
   "nbconvert_exporter": "python",
   "pygments_lexer": "ipython3",
   "version": "3.11.5"
  }
 },
 "nbformat": 4,
 "nbformat_minor": 5
}
