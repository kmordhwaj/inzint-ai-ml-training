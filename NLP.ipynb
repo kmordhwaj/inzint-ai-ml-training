{
 "cells": [
  {
   "cell_type": "code",
   "execution_count": 1,
   "id": "3a01822b",
   "metadata": {},
   "outputs": [],
   "source": [
    "#NLP\n",
    "\n",
    "#1. tokenization -> grouping in words or small sentances from main sentences\n",
    "#2. Remove sentance-separation\n",
    "\n",
    "#Spacy\n",
    "#openNLP\n",
    "#NLTK -> Natural Language Tool Kit"
   ]
  },
  {
   "cell_type": "code",
   "execution_count": 2,
   "id": "5f4c5ad9",
   "metadata": {},
   "outputs": [
    {
     "name": "stdout",
     "output_type": "stream",
     "text": [
      "Collecting package metadata (current_repodata.json): done\n",
      "Solving environment: done\n",
      "\n",
      "\n",
      "==> WARNING: A newer version of conda exists. <==\n",
      "  current version: 23.7.4\n",
      "  latest version: 24.1.2\n",
      "\n",
      "Please update conda by running\n",
      "\n",
      "    $ conda update -n base -c defaults conda\n",
      "\n",
      "Or to minimize the number of packages updated during conda update use\n",
      "\n",
      "     conda install conda=24.1.2\n",
      "\n",
      "\n",
      "\n",
      "# All requested packages already installed.\n",
      "\n",
      "\n",
      "Note: you may need to restart the kernel to use updated packages.\n"
     ]
    }
   ],
   "source": [
    "conda install nltk"
   ]
  },
  {
   "cell_type": "code",
   "execution_count": 3,
   "id": "b329218e",
   "metadata": {},
   "outputs": [],
   "source": [
    "import nltk"
   ]
  },
  {
   "cell_type": "code",
   "execution_count": 4,
   "id": "377973d4",
   "metadata": {},
   "outputs": [],
   "source": [
    "#tokenize\n",
    "sent=\"ML can be seen as a time-saving device that allows humans to explore their more creative ambitions\""
   ]
  },
  {
   "cell_type": "code",
   "execution_count": 5,
   "id": "55b89152",
   "metadata": {},
   "outputs": [
    {
     "data": {
      "text/plain": [
       "'ML can be seen as a time-saving device that allows humans to explore their more creative ambitions'"
      ]
     },
     "execution_count": 5,
     "metadata": {},
     "output_type": "execute_result"
    }
   ],
   "source": [
    "sent"
   ]
  },
  {
   "cell_type": "code",
   "execution_count": 6,
   "id": "607e7dd6",
   "metadata": {},
   "outputs": [
    {
     "data": {
      "text/plain": [
       "['ML',\n",
       " 'can',\n",
       " 'be',\n",
       " 'seen',\n",
       " 'as',\n",
       " 'a',\n",
       " 'time-saving',\n",
       " 'device',\n",
       " 'that',\n",
       " 'allows',\n",
       " 'humans',\n",
       " 'to',\n",
       " 'explore',\n",
       " 'their',\n",
       " 'more',\n",
       " 'creative',\n",
       " 'ambitions']"
      ]
     },
     "execution_count": 6,
     "metadata": {},
     "output_type": "execute_result"
    }
   ],
   "source": [
    "nltk.word_tokenize(sent)"
   ]
  },
  {
   "cell_type": "code",
   "execution_count": 7,
   "id": "c1593baa",
   "metadata": {},
   "outputs": [],
   "source": [
    "#stemming\n",
    "#lemmatization\n",
    "#word entity recognization"
   ]
  },
  {
   "cell_type": "code",
   "execution_count": 8,
   "id": "a0080602",
   "metadata": {},
   "outputs": [],
   "source": [
    "#stemming"
   ]
  },
  {
   "cell_type": "code",
   "execution_count": 9,
   "id": "c5b41bd9",
   "metadata": {},
   "outputs": [],
   "source": [
    "import nltk\n",
    "from nltk.stem import PorterStemmer, LancasterStemmer, SnowballStemmer"
   ]
  },
  {
   "cell_type": "code",
   "execution_count": 10,
   "id": "557fc0d6",
   "metadata": {},
   "outputs": [],
   "source": [
    "pst=PorterStemmer()"
   ]
  },
  {
   "cell_type": "code",
   "execution_count": 11,
   "id": "d6b63feb",
   "metadata": {},
   "outputs": [
    {
     "data": {
      "text/plain": [
       "'measur'"
      ]
     },
     "execution_count": 11,
     "metadata": {},
     "output_type": "execute_result"
    }
   ],
   "source": [
    "pst.stem(\"Measure\")"
   ]
  },
  {
   "cell_type": "code",
   "execution_count": 12,
   "id": "14dd818b",
   "metadata": {},
   "outputs": [
    {
     "data": {
      "text/plain": [
       "'measur'"
      ]
     },
     "execution_count": 12,
     "metadata": {},
     "output_type": "execute_result"
    }
   ],
   "source": [
    "pst.stem(\"Measurement\")"
   ]
  },
  {
   "cell_type": "code",
   "execution_count": 13,
   "id": "0288adb9",
   "metadata": {},
   "outputs": [
    {
     "data": {
      "text/plain": [
       "'measur'"
      ]
     },
     "execution_count": 13,
     "metadata": {},
     "output_type": "execute_result"
    }
   ],
   "source": [
    "pst.stem(\"Measuring\")"
   ]
  },
  {
   "cell_type": "code",
   "execution_count": 14,
   "id": "ffbe11a7",
   "metadata": {},
   "outputs": [
    {
     "data": {
      "text/plain": [
       "'measur'"
      ]
     },
     "execution_count": 14,
     "metadata": {},
     "output_type": "execute_result"
    }
   ],
   "source": [
    "pst.stem(\"Measures\")"
   ]
  },
  {
   "cell_type": "code",
   "execution_count": 15,
   "id": "65002b10",
   "metadata": {},
   "outputs": [],
   "source": [
    "lst=LancasterStemmer() #aggressive"
   ]
  },
  {
   "cell_type": "code",
   "execution_count": 16,
   "id": "78e8b297",
   "metadata": {},
   "outputs": [
    {
     "name": "stdout",
     "output_type": "stream",
     "text": [
      "meas\n",
      "meas\n",
      "meas\n"
     ]
    }
   ],
   "source": [
    "print(lst.stem(\"Measurement\"))\n",
    "print(lst.stem(\"Measuring\"))\n",
    "print(lst.stem(\"Measures\"))"
   ]
  },
  {
   "cell_type": "code",
   "execution_count": 17,
   "id": "11ab4b84",
   "metadata": {},
   "outputs": [
    {
     "name": "stdout",
     "output_type": "stream",
     "text": [
      "chocol\n",
      "meas\n",
      "meas\n"
     ]
    }
   ],
   "source": [
    "print(lst.stem(\"Chocolate\"))\n",
    "print(lst.stem(\"Measuring\"))\n",
    "print(lst.stem(\"Measures\"))"
   ]
  },
  {
   "cell_type": "code",
   "execution_count": 18,
   "id": "bf67fb35",
   "metadata": {},
   "outputs": [],
   "source": [
    "ss=SnowballStemmer(\"spanish\")"
   ]
  },
  {
   "cell_type": "code",
   "execution_count": 19,
   "id": "e52491fa",
   "metadata": {},
   "outputs": [
    {
     "data": {
      "text/plain": [
       "'product'"
      ]
     },
     "execution_count": 19,
     "metadata": {},
     "output_type": "execute_result"
    }
   ],
   "source": [
    "ss.stem(\"producto\")"
   ]
  },
  {
   "cell_type": "code",
   "execution_count": 20,
   "id": "087eb7db",
   "metadata": {},
   "outputs": [
    {
     "data": {
      "text/plain": [
       "('arabic',\n",
       " 'danish',\n",
       " 'dutch',\n",
       " 'english',\n",
       " 'finnish',\n",
       " 'french',\n",
       " 'german',\n",
       " 'hungarian',\n",
       " 'italian',\n",
       " 'norwegian',\n",
       " 'porter',\n",
       " 'portuguese',\n",
       " 'romanian',\n",
       " 'russian',\n",
       " 'spanish',\n",
       " 'swedish')"
      ]
     },
     "execution_count": 20,
     "metadata": {},
     "output_type": "execute_result"
    }
   ],
   "source": [
    "ss.languages"
   ]
  },
  {
   "cell_type": "code",
   "execution_count": 21,
   "id": "f86f3975",
   "metadata": {},
   "outputs": [],
   "source": [
    "#lemmatization"
   ]
  },
  {
   "cell_type": "code",
   "execution_count": 22,
   "id": "6904b649",
   "metadata": {},
   "outputs": [
    {
     "name": "stderr",
     "output_type": "stream",
     "text": [
      "[nltk_data] Downloading package wordnet to\n",
      "[nltk_data]     /Users/mordhwaj/nltk_data...\n",
      "[nltk_data]   Package wordnet is already up-to-date!\n"
     ]
    },
    {
     "data": {
      "text/plain": [
       "True"
      ]
     },
     "execution_count": 22,
     "metadata": {},
     "output_type": "execute_result"
    }
   ],
   "source": [
    "nltk.download(\"wordnet\")"
   ]
  },
  {
   "cell_type": "code",
   "execution_count": 23,
   "id": "5e3a2bc5",
   "metadata": {},
   "outputs": [
    {
     "name": "stderr",
     "output_type": "stream",
     "text": [
      "[nltk_data] Downloading package punkt to /Users/mordhwaj/nltk_data...\n",
      "[nltk_data]   Package punkt is already up-to-date!\n"
     ]
    },
    {
     "data": {
      "text/plain": [
       "True"
      ]
     },
     "execution_count": 23,
     "metadata": {},
     "output_type": "execute_result"
    }
   ],
   "source": [
    "nltk.download(\"punkt\")"
   ]
  },
  {
   "cell_type": "code",
   "execution_count": 24,
   "id": "6ff913a2",
   "metadata": {},
   "outputs": [],
   "source": [
    "#word sense disambiguation"
   ]
  },
  {
   "cell_type": "code",
   "execution_count": 25,
   "id": "480d4afa",
   "metadata": {},
   "outputs": [],
   "source": [
    "from nltk.wsd import lesk"
   ]
  },
  {
   "cell_type": "code",
   "execution_count": 26,
   "id": "f0bfe16b",
   "metadata": {},
   "outputs": [],
   "source": [
    "sent1=\"She is looking for a match\"\n",
    "sent2=\"Yesterday's football match was nice\""
   ]
  },
  {
   "cell_type": "code",
   "execution_count": 27,
   "id": "009413e8",
   "metadata": {},
   "outputs": [],
   "source": [
    "x=lesk(nltk.word_tokenize(sent1), \"match\")"
   ]
  },
  {
   "cell_type": "code",
   "execution_count": 28,
   "id": "37a1adaf",
   "metadata": {},
   "outputs": [
    {
     "data": {
      "text/plain": [
       "'a person who is of equal standing with another in a group'"
      ]
     },
     "execution_count": 28,
     "metadata": {},
     "output_type": "execute_result"
    }
   ],
   "source": [
    "x.definition()"
   ]
  },
  {
   "cell_type": "code",
   "execution_count": 29,
   "id": "10078f3d",
   "metadata": {},
   "outputs": [],
   "source": [
    "y=lesk(nltk.word_tokenize(sent2), \"match\")"
   ]
  },
  {
   "cell_type": "code",
   "execution_count": 30,
   "id": "c7512a39",
   "metadata": {},
   "outputs": [
    {
     "data": {
      "text/plain": [
       "'the score needed to win a match'"
      ]
     },
     "execution_count": 30,
     "metadata": {},
     "output_type": "execute_result"
    }
   ],
   "source": [
    "y.definition()"
   ]
  },
  {
   "cell_type": "code",
   "execution_count": 31,
   "id": "0aff9ffc",
   "metadata": {},
   "outputs": [],
   "source": [
    "#word entity recognization"
   ]
  },
  {
   "cell_type": "code",
   "execution_count": 32,
   "id": "92c5727e",
   "metadata": {},
   "outputs": [],
   "source": [
    "sent = \"Ferrari is an Italian luxury sports car manufacturer based in Maranello. Founded by Ferrari\""
   ]
  },
  {
   "cell_type": "code",
   "execution_count": 33,
   "id": "662fb1ca",
   "metadata": {},
   "outputs": [
    {
     "data": {
      "text/plain": [
       "'Ferrari is an Italian luxury sports car manufacturer based in Maranello. Founded by Ferrari'"
      ]
     },
     "execution_count": 33,
     "metadata": {},
     "output_type": "execute_result"
    }
   ],
   "source": [
    "sent"
   ]
  },
  {
   "cell_type": "code",
   "execution_count": 34,
   "id": "cf9f3421",
   "metadata": {},
   "outputs": [],
   "source": [
    "#tokens\n",
    "tokens=nltk.word_tokenize(sent)"
   ]
  },
  {
   "cell_type": "code",
   "execution_count": 35,
   "id": "d73cfc16",
   "metadata": {},
   "outputs": [
    {
     "data": {
      "text/plain": [
       "['Ferrari',\n",
       " 'is',\n",
       " 'an',\n",
       " 'Italian',\n",
       " 'luxury',\n",
       " 'sports',\n",
       " 'car',\n",
       " 'manufacturer',\n",
       " 'based',\n",
       " 'in',\n",
       " 'Maranello',\n",
       " '.',\n",
       " 'Founded',\n",
       " 'by',\n",
       " 'Ferrari']"
      ]
     },
     "execution_count": 35,
     "metadata": {},
     "output_type": "execute_result"
    }
   ],
   "source": [
    "tokens"
   ]
  },
  {
   "cell_type": "code",
   "execution_count": 36,
   "id": "474dcfef",
   "metadata": {},
   "outputs": [
    {
     "name": "stderr",
     "output_type": "stream",
     "text": [
      "[nltk_data] Downloading package averaged_perceptron_tagger to\n",
      "[nltk_data]     /Users/mordhwaj/nltk_data...\n",
      "[nltk_data]   Package averaged_perceptron_tagger is already up-to-\n",
      "[nltk_data]       date!\n"
     ]
    },
    {
     "data": {
      "text/plain": [
       "True"
      ]
     },
     "execution_count": 36,
     "metadata": {},
     "output_type": "execute_result"
    }
   ],
   "source": [
    "\n",
    "\n",
    "nltk.download('averaged_perceptron_tagger')"
   ]
  },
  {
   "cell_type": "code",
   "execution_count": 37,
   "id": "6b554e12",
   "metadata": {},
   "outputs": [],
   "source": [
    "tagged=nltk.pos_tag(tokens)"
   ]
  },
  {
   "cell_type": "code",
   "execution_count": 38,
   "id": "48c9b0dd",
   "metadata": {},
   "outputs": [],
   "source": [
    "from nltk import ne_chunk"
   ]
  },
  {
   "cell_type": "code",
   "execution_count": 39,
   "id": "71a834c5",
   "metadata": {},
   "outputs": [
    {
     "name": "stderr",
     "output_type": "stream",
     "text": [
      "[nltk_data] Downloading package maxent_ne_chunker to\n",
      "[nltk_data]     /Users/mordhwaj/nltk_data...\n",
      "[nltk_data]   Package maxent_ne_chunker is already up-to-date!\n"
     ]
    },
    {
     "data": {
      "text/plain": [
       "True"
      ]
     },
     "execution_count": 39,
     "metadata": {},
     "output_type": "execute_result"
    }
   ],
   "source": [
    "nltk.download(\"maxent_ne_chunker\")"
   ]
  },
  {
   "cell_type": "code",
   "execution_count": 40,
   "id": "9526b37a",
   "metadata": {},
   "outputs": [
    {
     "name": "stderr",
     "output_type": "stream",
     "text": [
      "[nltk_data] Downloading package words to /Users/mordhwaj/nltk_data...\n",
      "[nltk_data]   Package words is already up-to-date!\n"
     ]
    },
    {
     "data": {
      "text/plain": [
       "True"
      ]
     },
     "execution_count": 40,
     "metadata": {},
     "output_type": "execute_result"
    }
   ],
   "source": [
    "nltk.download(\"words\")"
   ]
  },
  {
   "cell_type": "code",
   "execution_count": 41,
   "id": "88b351ce",
   "metadata": {},
   "outputs": [
    {
     "ename": "ModuleNotFoundError",
     "evalue": "No module named 'svgling'",
     "output_type": "error",
     "traceback": [
      "\u001b[0;31m---------------------------------------------------------------------------\u001b[0m",
      "\u001b[0;31mModuleNotFoundError\u001b[0m                       Traceback (most recent call last)",
      "File \u001b[0;32m~/anaconda3/lib/python3.11/site-packages/IPython/core/formatters.py:344\u001b[0m, in \u001b[0;36mBaseFormatter.__call__\u001b[0;34m(self, obj)\u001b[0m\n\u001b[1;32m    342\u001b[0m     method \u001b[38;5;241m=\u001b[39m get_real_method(obj, \u001b[38;5;28mself\u001b[39m\u001b[38;5;241m.\u001b[39mprint_method)\n\u001b[1;32m    343\u001b[0m     \u001b[38;5;28;01mif\u001b[39;00m method \u001b[38;5;129;01mis\u001b[39;00m \u001b[38;5;129;01mnot\u001b[39;00m \u001b[38;5;28;01mNone\u001b[39;00m:\n\u001b[0;32m--> 344\u001b[0m         \u001b[38;5;28;01mreturn\u001b[39;00m method()\n\u001b[1;32m    345\u001b[0m     \u001b[38;5;28;01mreturn\u001b[39;00m \u001b[38;5;28;01mNone\u001b[39;00m\n\u001b[1;32m    346\u001b[0m \u001b[38;5;28;01melse\u001b[39;00m:\n",
      "File \u001b[0;32m~/anaconda3/lib/python3.11/site-packages/nltk/tree/tree.py:782\u001b[0m, in \u001b[0;36mTree._repr_svg_\u001b[0;34m(self)\u001b[0m\n\u001b[1;32m    781\u001b[0m \u001b[38;5;28;01mdef\u001b[39;00m \u001b[38;5;21m_repr_svg_\u001b[39m(\u001b[38;5;28mself\u001b[39m):\n\u001b[0;32m--> 782\u001b[0m     \u001b[38;5;28;01mfrom\u001b[39;00m \u001b[38;5;21;01msvgling\u001b[39;00m \u001b[38;5;28;01mimport\u001b[39;00m draw_tree\n\u001b[1;32m    784\u001b[0m     \u001b[38;5;28;01mreturn\u001b[39;00m draw_tree(\u001b[38;5;28mself\u001b[39m)\u001b[38;5;241m.\u001b[39m_repr_svg_()\n",
      "\u001b[0;31mModuleNotFoundError\u001b[0m: No module named 'svgling'"
     ]
    },
    {
     "data": {
      "text/plain": [
       "Tree('S', [Tree('GPE', [('Ferrari', 'NNP')]), ('is', 'VBZ'), ('an', 'DT'), Tree('GPE', [('Italian', 'JJ')]), ('luxury', 'NN'), ('sports', 'NNS'), ('car', 'NN'), ('manufacturer', 'NN'), ('based', 'VBN'), ('in', 'IN'), Tree('GPE', [('Maranello', 'NNP')]), ('.', '.'), ('Founded', 'VBN'), ('by', 'IN'), Tree('PERSON', [('Ferrari', 'NNP')])])"
      ]
     },
     "execution_count": 41,
     "metadata": {},
     "output_type": "execute_result"
    }
   ],
   "source": [
    "ne_chunk(tagged)"
   ]
  },
  {
   "cell_type": "code",
   "execution_count": 42,
   "id": "b642f6ce",
   "metadata": {},
   "outputs": [
    {
     "name": "stdout",
     "output_type": "stream",
     "text": [
      "Collecting package metadata (current_repodata.json): done\n",
      "Solving environment: unsuccessful initial attempt using frozen solve. Retrying with flexible solve.\n",
      "Collecting package metadata (repodata.json): done\n",
      "Solving environment: unsuccessful initial attempt using frozen solve. Retrying with flexible solve.\n",
      "\n",
      "PackagesNotFoundError: The following packages are not available from current channels:\n",
      "\n",
      "  - svgling\n",
      "\n",
      "Current channels:\n",
      "\n",
      "  - https://repo.anaconda.com/pkgs/main/osx-arm64\n",
      "  - https://repo.anaconda.com/pkgs/main/noarch\n",
      "  - https://repo.anaconda.com/pkgs/r/osx-arm64\n",
      "  - https://repo.anaconda.com/pkgs/r/noarch\n",
      "\n",
      "To search for alternate channels that may provide the conda package you're\n",
      "looking for, navigate to\n",
      "\n",
      "    https://anaconda.org\n",
      "\n",
      "and use the search bar at the top of the page.\n",
      "\n",
      "\n",
      "\n",
      "Note: you may need to restart the kernel to use updated packages.\n"
     ]
    }
   ],
   "source": [
    "conda install svgling"
   ]
  },
  {
   "cell_type": "code",
   "execution_count": 43,
   "id": "99167e3c",
   "metadata": {},
   "outputs": [
    {
     "ename": "ModuleNotFoundError",
     "evalue": "No module named 'svgling'",
     "output_type": "error",
     "traceback": [
      "\u001b[0;31m---------------------------------------------------------------------------\u001b[0m",
      "\u001b[0;31mModuleNotFoundError\u001b[0m                       Traceback (most recent call last)",
      "File \u001b[0;32m~/anaconda3/lib/python3.11/site-packages/IPython/core/formatters.py:344\u001b[0m, in \u001b[0;36mBaseFormatter.__call__\u001b[0;34m(self, obj)\u001b[0m\n\u001b[1;32m    342\u001b[0m     method \u001b[38;5;241m=\u001b[39m get_real_method(obj, \u001b[38;5;28mself\u001b[39m\u001b[38;5;241m.\u001b[39mprint_method)\n\u001b[1;32m    343\u001b[0m     \u001b[38;5;28;01mif\u001b[39;00m method \u001b[38;5;129;01mis\u001b[39;00m \u001b[38;5;129;01mnot\u001b[39;00m \u001b[38;5;28;01mNone\u001b[39;00m:\n\u001b[0;32m--> 344\u001b[0m         \u001b[38;5;28;01mreturn\u001b[39;00m method()\n\u001b[1;32m    345\u001b[0m     \u001b[38;5;28;01mreturn\u001b[39;00m \u001b[38;5;28;01mNone\u001b[39;00m\n\u001b[1;32m    346\u001b[0m \u001b[38;5;28;01melse\u001b[39;00m:\n",
      "File \u001b[0;32m~/anaconda3/lib/python3.11/site-packages/nltk/tree/tree.py:782\u001b[0m, in \u001b[0;36mTree._repr_svg_\u001b[0;34m(self)\u001b[0m\n\u001b[1;32m    781\u001b[0m \u001b[38;5;28;01mdef\u001b[39;00m \u001b[38;5;21m_repr_svg_\u001b[39m(\u001b[38;5;28mself\u001b[39m):\n\u001b[0;32m--> 782\u001b[0m     \u001b[38;5;28;01mfrom\u001b[39;00m \u001b[38;5;21;01msvgling\u001b[39;00m \u001b[38;5;28;01mimport\u001b[39;00m draw_tree\n\u001b[1;32m    784\u001b[0m     \u001b[38;5;28;01mreturn\u001b[39;00m draw_tree(\u001b[38;5;28mself\u001b[39m)\u001b[38;5;241m.\u001b[39m_repr_svg_()\n",
      "\u001b[0;31mModuleNotFoundError\u001b[0m: No module named 'svgling'"
     ]
    },
    {
     "data": {
      "text/plain": [
       "Tree('S', [Tree('GPE', [('Ferrari', 'NNP')]), ('is', 'VBZ'), ('an', 'DT'), Tree('GPE', [('Italian', 'JJ')]), ('luxury', 'NN'), ('sports', 'NNS'), ('car', 'NN'), ('manufacturer', 'NN'), ('based', 'VBN'), ('in', 'IN'), Tree('GPE', [('Maranello', 'NNP')]), ('.', '.'), ('Founded', 'VBN'), ('by', 'IN'), Tree('PERSON', [('Ferrari', 'NNP')])])"
      ]
     },
     "execution_count": 43,
     "metadata": {},
     "output_type": "execute_result"
    }
   ],
   "source": [
    "ne_chunk(tagged)"
   ]
  },
  {
   "cell_type": "code",
   "execution_count": 44,
   "id": "5d837605",
   "metadata": {},
   "outputs": [],
   "source": [
    "# for i in tagged:\n",
    "#     print(ne_chunk(i))\n",
    "\n",
    "named_ent=ne_chunk(tagged)"
   ]
  },
  {
   "cell_type": "code",
   "execution_count": 45,
   "id": "ce51e070",
   "metadata": {},
   "outputs": [
    {
     "name": "stdout",
     "output_type": "stream",
     "text": [
      "Ferrari -> GPE\n",
      "Italian -> GPE\n",
      "Maranello -> GPE\n",
      "Ferrari -> PERSON\n"
     ]
    }
   ],
   "source": [
    "for entity in named_ent:\n",
    "    if isinstance(entity, nltk.Tree):\n",
    "        print(\" \".join([w for w,pos in entity.leaves()]), \"->\", entity.label())"
   ]
  },
  {
   "cell_type": "code",
   "execution_count": 46,
   "id": "caf114b4",
   "metadata": {},
   "outputs": [
    {
     "ename": "ImportError",
     "evalue": "cannot import name 'tokenize' from 'nltk.tokenize' (/Users/mordhwaj/anaconda3/lib/python3.11/site-packages/nltk/tokenize/__init__.py)",
     "output_type": "error",
     "traceback": [
      "\u001b[0;31m---------------------------------------------------------------------------\u001b[0m",
      "\u001b[0;31mImportError\u001b[0m                               Traceback (most recent call last)",
      "Cell \u001b[0;32mIn[46], line 5\u001b[0m\n\u001b[1;32m      3\u001b[0m \u001b[38;5;28;01mimport\u001b[39;00m \u001b[38;5;21;01mnltk\u001b[39;00m\n\u001b[1;32m      4\u001b[0m \u001b[38;5;28;01mimport\u001b[39;00m \u001b[38;5;21;01mpandas\u001b[39;00m \u001b[38;5;28;01mas\u001b[39;00m \u001b[38;5;21;01mpd\u001b[39;00m\n\u001b[0;32m----> 5\u001b[0m \u001b[38;5;28;01mfrom\u001b[39;00m \u001b[38;5;21;01mnltk\u001b[39;00m\u001b[38;5;21;01m.\u001b[39;00m\u001b[38;5;21;01mtokenize\u001b[39;00m \u001b[38;5;28;01mimport\u001b[39;00m tokenize\n\u001b[1;32m      6\u001b[0m \u001b[38;5;28;01mfrom\u001b[39;00m \u001b[38;5;21;01mnltk\u001b[39;00m\u001b[38;5;21;01m.\u001b[39;00m\u001b[38;5;21;01mcorpus\u001b[39;00m \u001b[38;5;28;01mimport\u001b[39;00m stopwords\n",
      "\u001b[0;31mImportError\u001b[0m: cannot import name 'tokenize' from 'nltk.tokenize' (/Users/mordhwaj/anaconda3/lib/python3.11/site-packages/nltk/tokenize/__init__.py)"
     ]
    }
   ],
   "source": [
    "#vectorization techniques\n",
    "from sklearn.feature_extraction.text import CountVectorizer, TfidfVectorizer\n",
    "import nltk\n",
    "import pandas as pd\n",
    "from nltk.tokenize import tokenize\n",
    "from nltk.corpus import stopwords"
   ]
  },
  {
   "cell_type": "code",
   "execution_count": null,
   "id": "98ae2b3f",
   "metadata": {},
   "outputs": [],
   "source": [
    "#word entity recognization\n",
    "count_vect=CountVectorizer()"
   ]
  },
  {
   "cell_type": "code",
   "execution_count": null,
   "id": "79ed6829",
   "metadata": {},
   "outputs": [],
   "source": [
    "#sample data -> copus\n",
    "corpus = [\n",
    "    \"The movie was great\"\n",
    "]"
   ]
  },
  {
   "cell_type": "code",
   "execution_count": 48,
   "id": "b3142c83",
   "metadata": {},
   "outputs": [],
   "source": [
    "import pandas as pd\n",
    "tweets=pd.read_csv(\"demonetization-tweets_data1.csv\", encoding='unicode_escape')"
   ]
  },
  {
   "cell_type": "code",
   "execution_count": 49,
   "id": "231e8bb2",
   "metadata": {},
   "outputs": [],
   "source": [
    "import numpy as np\n",
    "import re\n",
    "import nltk"
   ]
  },
  {
   "cell_type": "code",
   "execution_count": 50,
   "id": "d543a428",
   "metadata": {},
   "outputs": [
    {
     "data": {
      "text/html": [
       "<div>\n",
       "<style scoped>\n",
       "    .dataframe tbody tr th:only-of-type {\n",
       "        vertical-align: middle;\n",
       "    }\n",
       "\n",
       "    .dataframe tbody tr th {\n",
       "        vertical-align: top;\n",
       "    }\n",
       "\n",
       "    .dataframe thead th {\n",
       "        text-align: right;\n",
       "    }\n",
       "</style>\n",
       "<table border=\"1\" class=\"dataframe\">\n",
       "  <thead>\n",
       "    <tr style=\"text-align: right;\">\n",
       "      <th></th>\n",
       "      <th>text</th>\n",
       "      <th>favorited</th>\n",
       "      <th>favoriteCount</th>\n",
       "      <th>replyToSN</th>\n",
       "      <th>created</th>\n",
       "      <th>truncated</th>\n",
       "      <th>replyToSID</th>\n",
       "      <th>statusSource</th>\n",
       "      <th>screenName</th>\n",
       "      <th>retweetCount</th>\n",
       "      <th>isRetweet</th>\n",
       "      <th>retweeted</th>\n",
       "    </tr>\n",
       "  </thead>\n",
       "  <tbody>\n",
       "    <tr>\n",
       "      <th>0</th>\n",
       "      <td>RT @rssurjewala: Critical question: Was PayTM ...</td>\n",
       "      <td>False</td>\n",
       "      <td>0</td>\n",
       "      <td>NaN</td>\n",
       "      <td>11/23/2016 18:40</td>\n",
       "      <td>False</td>\n",
       "      <td>NaN</td>\n",
       "      <td>&lt;a href=\"http://twitter.com/download/android\" ...</td>\n",
       "      <td>HASHTAGFARZIWAL</td>\n",
       "      <td>331</td>\n",
       "      <td>True</td>\n",
       "      <td>False</td>\n",
       "    </tr>\n",
       "    <tr>\n",
       "      <th>1</th>\n",
       "      <td>RT @roshankar: Former FinSec, RBI Dy Governor,...</td>\n",
       "      <td>False</td>\n",
       "      <td>0</td>\n",
       "      <td>NaN</td>\n",
       "      <td>11/23/2016 18:40</td>\n",
       "      <td>False</td>\n",
       "      <td>NaN</td>\n",
       "      <td>&lt;a href=\"http://twitter.com/download/android\" ...</td>\n",
       "      <td>rahulja13034944</td>\n",
       "      <td>12</td>\n",
       "      <td>True</td>\n",
       "      <td>False</td>\n",
       "    </tr>\n",
       "    <tr>\n",
       "      <th>2</th>\n",
       "      <td>RT @satishacharya: Reddy Wedding! @mail_today ...</td>\n",
       "      <td>False</td>\n",
       "      <td>0</td>\n",
       "      <td>NaN</td>\n",
       "      <td>11/23/2016 18:39</td>\n",
       "      <td>False</td>\n",
       "      <td>NaN</td>\n",
       "      <td>&lt;a href=\"http://cpimharyana.com\" rel=\"nofollow...</td>\n",
       "      <td>CPIMBadli</td>\n",
       "      <td>120</td>\n",
       "      <td>True</td>\n",
       "      <td>False</td>\n",
       "    </tr>\n",
       "    <tr>\n",
       "      <th>3</th>\n",
       "      <td>RT @gauravcsawant: Rs 40 lakh looted from a ba...</td>\n",
       "      <td>False</td>\n",
       "      <td>0</td>\n",
       "      <td>NaN</td>\n",
       "      <td>11/23/2016 18:38</td>\n",
       "      <td>False</td>\n",
       "      <td>NaN</td>\n",
       "      <td>&lt;a href=\"http://twitter.com/download/android\" ...</td>\n",
       "      <td>bhodia1</td>\n",
       "      <td>637</td>\n",
       "      <td>True</td>\n",
       "      <td>False</td>\n",
       "    </tr>\n",
       "    <tr>\n",
       "      <th>4</th>\n",
       "      <td>RT @sumitbhati2002: Many opposition leaders ar...</td>\n",
       "      <td>False</td>\n",
       "      <td>0</td>\n",
       "      <td>NaN</td>\n",
       "      <td>11/23/2016 18:38</td>\n",
       "      <td>False</td>\n",
       "      <td>NaN</td>\n",
       "      <td>&lt;a href=\"http://twitter.com/download/android\" ...</td>\n",
       "      <td>sumitbhati2002</td>\n",
       "      <td>1</td>\n",
       "      <td>True</td>\n",
       "      <td>False</td>\n",
       "    </tr>\n",
       "    <tr>\n",
       "      <th>...</th>\n",
       "      <td>...</td>\n",
       "      <td>...</td>\n",
       "      <td>...</td>\n",
       "      <td>...</td>\n",
       "      <td>...</td>\n",
       "      <td>...</td>\n",
       "      <td>...</td>\n",
       "      <td>...</td>\n",
       "      <td>...</td>\n",
       "      <td>...</td>\n",
       "      <td>...</td>\n",
       "      <td>...</td>\n",
       "    </tr>\n",
       "    <tr>\n",
       "      <th>7465</th>\n",
       "      <td>RT @rahulroushan: Prohibition is Demonetizatio...</td>\n",
       "      <td>False</td>\n",
       "      <td>0</td>\n",
       "      <td>NaN</td>\n",
       "      <td>4/11/2017 15:57</td>\n",
       "      <td>False</td>\n",
       "      <td>NaN</td>\n",
       "      <td>&lt;a href=\"http://twitter.com/download/android\" ...</td>\n",
       "      <td>AniruddhasT</td>\n",
       "      <td>337</td>\n",
       "      <td>True</td>\n",
       "      <td>False</td>\n",
       "    </tr>\n",
       "    <tr>\n",
       "      <th>7466</th>\n",
       "      <td>Can cash -- or the end of cash -- end poverty ...</td>\n",
       "      <td>False</td>\n",
       "      <td>36</td>\n",
       "      <td>NaN</td>\n",
       "      <td>4/11/2017 14:52</td>\n",
       "      <td>False</td>\n",
       "      <td>NaN</td>\n",
       "      <td>&lt;a href=\"https://about.twitter.com/products/tw...</td>\n",
       "      <td>JustinSandefur</td>\n",
       "      <td>27</td>\n",
       "      <td>False</td>\n",
       "      <td>False</td>\n",
       "    </tr>\n",
       "    <tr>\n",
       "      <th>7467</th>\n",
       "      <td>RT @Vidyut: How India became Bill Gates' guine...</td>\n",
       "      <td>False</td>\n",
       "      <td>0</td>\n",
       "      <td>NaN</td>\n",
       "      <td>4/11/2017 14:36</td>\n",
       "      <td>False</td>\n",
       "      <td>NaN</td>\n",
       "      <td>&lt;a href=\"http://twitter.com/download/android\" ...</td>\n",
       "      <td>SukhvinderShahi</td>\n",
       "      <td>12</td>\n",
       "      <td>True</td>\n",
       "      <td>False</td>\n",
       "    </tr>\n",
       "    <tr>\n",
       "      <th>7468</th>\n",
       "      <td>N d modi fans-d true nationalists of the count...</td>\n",
       "      <td>False</td>\n",
       "      <td>0</td>\n",
       "      <td>NaN</td>\n",
       "      <td>4/11/2017 14:19</td>\n",
       "      <td>True</td>\n",
       "      <td>NaN</td>\n",
       "      <td>&lt;a href=\"http://twitter.com/download/android\" ...</td>\n",
       "      <td>JusteyAlex</td>\n",
       "      <td>0</td>\n",
       "      <td>False</td>\n",
       "      <td>False</td>\n",
       "    </tr>\n",
       "    <tr>\n",
       "      <th>7469</th>\n",
       "      <td>RT @Stupidosaur: @Vidyut B team of BJP. CIA ba...</td>\n",
       "      <td>False</td>\n",
       "      <td>0</td>\n",
       "      <td>NaN</td>\n",
       "      <td>4/11/2017 14:13</td>\n",
       "      <td>False</td>\n",
       "      <td>NaN</td>\n",
       "      <td>&lt;a href=\"http://twitter.com\" rel=\"nofollow\"&gt;Tw...</td>\n",
       "      <td>Stupidosaur</td>\n",
       "      <td>2</td>\n",
       "      <td>True</td>\n",
       "      <td>False</td>\n",
       "    </tr>\n",
       "  </tbody>\n",
       "</table>\n",
       "<p>7470 rows × 12 columns</p>\n",
       "</div>"
      ],
      "text/plain": [
       "                                                   text  favorited  \\\n",
       "0     RT @rssurjewala: Critical question: Was PayTM ...      False   \n",
       "1     RT @roshankar: Former FinSec, RBI Dy Governor,...      False   \n",
       "2     RT @satishacharya: Reddy Wedding! @mail_today ...      False   \n",
       "3     RT @gauravcsawant: Rs 40 lakh looted from a ba...      False   \n",
       "4     RT @sumitbhati2002: Many opposition leaders ar...      False   \n",
       "...                                                 ...        ...   \n",
       "7465  RT @rahulroushan: Prohibition is Demonetizatio...      False   \n",
       "7466  Can cash -- or the end of cash -- end poverty ...      False   \n",
       "7467  RT @Vidyut: How India became Bill Gates' guine...      False   \n",
       "7468  N d modi fans-d true nationalists of the count...      False   \n",
       "7469  RT @Stupidosaur: @Vidyut B team of BJP. CIA ba...      False   \n",
       "\n",
       "      favoriteCount replyToSN           created  truncated  replyToSID  \\\n",
       "0                 0       NaN  11/23/2016 18:40      False         NaN   \n",
       "1                 0       NaN  11/23/2016 18:40      False         NaN   \n",
       "2                 0       NaN  11/23/2016 18:39      False         NaN   \n",
       "3                 0       NaN  11/23/2016 18:38      False         NaN   \n",
       "4                 0       NaN  11/23/2016 18:38      False         NaN   \n",
       "...             ...       ...               ...        ...         ...   \n",
       "7465              0       NaN   4/11/2017 15:57      False         NaN   \n",
       "7466             36       NaN   4/11/2017 14:52      False         NaN   \n",
       "7467              0       NaN   4/11/2017 14:36      False         NaN   \n",
       "7468              0       NaN   4/11/2017 14:19       True         NaN   \n",
       "7469              0       NaN   4/11/2017 14:13      False         NaN   \n",
       "\n",
       "                                           statusSource       screenName  \\\n",
       "0     <a href=\"http://twitter.com/download/android\" ...  HASHTAGFARZIWAL   \n",
       "1     <a href=\"http://twitter.com/download/android\" ...  rahulja13034944   \n",
       "2     <a href=\"http://cpimharyana.com\" rel=\"nofollow...        CPIMBadli   \n",
       "3     <a href=\"http://twitter.com/download/android\" ...          bhodia1   \n",
       "4     <a href=\"http://twitter.com/download/android\" ...   sumitbhati2002   \n",
       "...                                                 ...              ...   \n",
       "7465  <a href=\"http://twitter.com/download/android\" ...      AniruddhasT   \n",
       "7466  <a href=\"https://about.twitter.com/products/tw...   JustinSandefur   \n",
       "7467  <a href=\"http://twitter.com/download/android\" ...  SukhvinderShahi   \n",
       "7468  <a href=\"http://twitter.com/download/android\" ...       JusteyAlex   \n",
       "7469  <a href=\"http://twitter.com\" rel=\"nofollow\">Tw...      Stupidosaur   \n",
       "\n",
       "      retweetCount  isRetweet  retweeted  \n",
       "0              331       True      False  \n",
       "1               12       True      False  \n",
       "2              120       True      False  \n",
       "3              637       True      False  \n",
       "4                1       True      False  \n",
       "...            ...        ...        ...  \n",
       "7465           337       True      False  \n",
       "7466            27      False      False  \n",
       "7467            12       True      False  \n",
       "7468             0      False      False  \n",
       "7469             2       True      False  \n",
       "\n",
       "[7470 rows x 12 columns]"
      ]
     },
     "execution_count": 50,
     "metadata": {},
     "output_type": "execute_result"
    }
   ],
   "source": [
    "tweets"
   ]
  },
  {
   "cell_type": "code",
   "execution_count": 51,
   "id": "f5e50347",
   "metadata": {},
   "outputs": [
    {
     "data": {
      "text/plain": [
       "(7470, 12)"
      ]
     },
     "execution_count": 51,
     "metadata": {},
     "output_type": "execute_result"
    }
   ],
   "source": [
    "tweets.shape"
   ]
  },
  {
   "cell_type": "code",
   "execution_count": 52,
   "id": "600cf65f",
   "metadata": {},
   "outputs": [
    {
     "data": {
      "text/plain": [
       "\"RT @rssurjewala: Critical question: Was PayTM informed about #Demonetization edict by PM? It's clearly fishy and requires full disclosure &amp;\\x85\""
      ]
     },
     "execution_count": 52,
     "metadata": {},
     "output_type": "execute_result"
    }
   ],
   "source": [
    "tweets.text[0]"
   ]
  },
  {
   "cell_type": "code",
   "execution_count": null,
   "id": "adabfe68",
   "metadata": {},
   "outputs": [],
   "source": [
    "#the tweet that was retweeted maximum number of times"
   ]
  },
  {
   "cell_type": "code",
   "execution_count": 53,
   "id": "fc1fc398",
   "metadata": {},
   "outputs": [],
   "source": [
    "arr = tweets.text"
   ]
  },
  {
   "cell_type": "code",
   "execution_count": 54,
   "id": "cf001e8e",
   "metadata": {},
   "outputs": [
    {
     "ename": "SyntaxError",
     "evalue": "invalid syntax (2602593362.py, line 1)",
     "output_type": "error",
     "traceback": [
      "\u001b[0;36m  Cell \u001b[0;32mIn[54], line 1\u001b[0;36m\u001b[0m\n\u001b[0;31m    arr.where(item => item.includes(\"RT\"))\u001b[0m\n\u001b[0m                    ^\u001b[0m\n\u001b[0;31mSyntaxError\u001b[0m\u001b[0;31m:\u001b[0m invalid syntax\n"
     ]
    }
   ],
   "source": [
    "arr.where(item => item.includes(\"RT\"))"
   ]
  },
  {
   "cell_type": "code",
   "execution_count": 55,
   "id": "ef5b993b",
   "metadata": {},
   "outputs": [],
   "source": [
    "#RT@, punctuation, stopwords, links\n",
    "import string\n",
    "from nltk.tokenize import word_tokenize\n",
    "from nltk.corpus import stopwords"
   ]
  },
  {
   "cell_type": "code",
   "execution_count": null,
   "id": "77482972",
   "metadata": {},
   "outputs": [],
   "source": [
    "#create a fn that is going to clean all the tweets"
   ]
  },
  {
   "cell_type": "code",
   "execution_count": 56,
   "id": "6efdc2c7",
   "metadata": {},
   "outputs": [],
   "source": [
    "t=tweets.text[4091]"
   ]
  },
  {
   "cell_type": "code",
   "execution_count": 57,
   "id": "e49bea02",
   "metadata": {},
   "outputs": [
    {
     "data": {
      "text/plain": [
       "'RT @RNTata2000: The government\\x92s bold implementation of the demonetization programme needs the nation\\x92s support. https://t.co/tx1ZILSor8'"
      ]
     },
     "execution_count": 57,
     "metadata": {},
     "output_type": "execute_result"
    }
   ],
   "source": [
    "t"
   ]
  },
  {
   "cell_type": "code",
   "execution_count": 58,
   "id": "0ccb655b",
   "metadata": {},
   "outputs": [
    {
     "data": {
      "text/plain": [
       "['The',\n",
       " 'government\\x92s',\n",
       " 'bold',\n",
       " 'implementation',\n",
       " 'of',\n",
       " 'the',\n",
       " 'demonetization',\n",
       " 'programme',\n",
       " 'needs',\n",
       " 'the',\n",
       " 'nation\\x92s',\n",
       " 'support',\n",
       " '.',\n",
       " 'https',\n",
       " ':',\n",
       " '//t.co/tx1ZILSor8']"
      ]
     },
     "execution_count": 58,
     "metadata": {},
     "output_type": "execute_result"
    }
   ],
   "source": [
    "tokens=word_tokenize(t)\n",
    "tokens=tokens[4:]\n",
    "tokens"
   ]
  },
  {
   "cell_type": "code",
   "execution_count": 59,
   "id": "478811d9",
   "metadata": {},
   "outputs": [
    {
     "name": "stdout",
     "output_type": "stream",
     "text": [
      "13\n"
     ]
    }
   ],
   "source": [
    "link_ind=0\n",
    "for i,tkn in enumerate(tokens):\n",
    "    if tkn == \"https\":\n",
    "        link_ind=i\n",
    "print(link_ind)"
   ]
  },
  {
   "cell_type": "code",
   "execution_count": 60,
   "id": "11ceef83",
   "metadata": {},
   "outputs": [],
   "source": [
    "tokens=tokens[:link_ind]"
   ]
  },
  {
   "cell_type": "code",
   "execution_count": 61,
   "id": "83e91dda",
   "metadata": {},
   "outputs": [
    {
     "data": {
      "text/plain": [
       "['The',\n",
       " 'government\\x92s',\n",
       " 'bold',\n",
       " 'implementation',\n",
       " 'of',\n",
       " 'the',\n",
       " 'demonetization',\n",
       " 'programme',\n",
       " 'needs',\n",
       " 'the',\n",
       " 'nation\\x92s',\n",
       " 'support',\n",
       " '.']"
      ]
     },
     "execution_count": 61,
     "metadata": {},
     "output_type": "execute_result"
    }
   ],
   "source": [
    "tokens"
   ]
  },
  {
   "cell_type": "code",
   "execution_count": 62,
   "id": "f176ec21",
   "metadata": {},
   "outputs": [
    {
     "data": {
      "text/plain": [
       "'The government\\x92s bold implementation of the demonetization programme needs the nation\\x92s support .'"
      ]
     },
     "execution_count": 62,
     "metadata": {},
     "output_type": "execute_result"
    }
   ],
   "source": [
    "tokens=\" \".join(tokens)\n",
    "tokens"
   ]
  },
  {
   "cell_type": "code",
   "execution_count": 63,
   "id": "150a71be",
   "metadata": {},
   "outputs": [
    {
     "data": {
      "text/plain": [
       "['government\\x92s',\n",
       " 'bold',\n",
       " 'implementation',\n",
       " 'demonetization',\n",
       " 'programme',\n",
       " 'needs',\n",
       " 'nation\\x92s',\n",
       " 'support']"
      ]
     },
     "execution_count": 63,
     "metadata": {},
     "output_type": "execute_result"
    }
   ],
   "source": [
    "tokens=[i for i in tokens if i not in string.punctuation]\n",
    "tokens=\"\".join(tokens)\n",
    "tokens= [t for t in tokens.split() if t.lower() not in stopwords.words(\"english\")]\n",
    "tokens"
   ]
  },
  {
   "cell_type": "code",
   "execution_count": 64,
   "id": "abe08198",
   "metadata": {},
   "outputs": [],
   "source": [
    "def clean_text(tweets):\n",
    "    tokens=word_tokenize(tweets)\n",
    "    tokens=tokens[4:]    #rtweets tag\n",
    "    link_ind=0\n",
    "    if \"https\" in tokens:\n",
    "        for i,tkn  in enumerate(tokens):    #link\n",
    "            if tkn == \"https\": \n",
    "                link_ind=i\n",
    "        tokens=tokens[:link_ind]       \n",
    "    tokens=\" \".join(tokens)      #joined tokens\n",
    "    tokens=[i for i in tokens if i not in string.punctuation]    #punctuation\n",
    "    tokens=\"\".join(tokens)     #stopwords\n",
    "    tokens=[t for t in tokens.split() if t.lower() not in stopwords.words(\"english\")]\n",
    "    return \" \".join(tokens) "
   ]
  },
  {
   "cell_type": "code",
   "execution_count": 65,
   "id": "e4b0c5d5",
   "metadata": {},
   "outputs": [
    {
     "data": {
      "text/plain": [
       "'Critical question PayTM informed Demonetization edict PM clearly fishy requires full disclosure amp'"
      ]
     },
     "execution_count": 65,
     "metadata": {},
     "output_type": "execute_result"
    }
   ],
   "source": [
    "clean_text(tweets.text[0])"
   ]
  },
  {
   "cell_type": "code",
   "execution_count": 66,
   "id": "7ddd19e5",
   "metadata": {},
   "outputs": [
    {
     "name": "stderr",
     "output_type": "stream",
     "text": [
      "[nltk_data] Downloading package stopwords to\n",
      "[nltk_data]     /Users/mordhwaj/nltk_data...\n",
      "[nltk_data]   Package stopwords is already up-to-date!\n"
     ]
    },
    {
     "data": {
      "text/plain": [
       "True"
      ]
     },
     "execution_count": 66,
     "metadata": {},
     "output_type": "execute_result"
    }
   ],
   "source": [
    "nltk.download('stopwords')"
   ]
  },
  {
   "cell_type": "code",
   "execution_count": 67,
   "id": "7d419f02",
   "metadata": {},
   "outputs": [
    {
     "data": {
      "text/plain": [
       "'Critical question PayTM informed Demonetization edict PM clearly fishy requires full disclosure amp'"
      ]
     },
     "execution_count": 67,
     "metadata": {},
     "output_type": "execute_result"
    }
   ],
   "source": [
    "a=clean_text(tweets.text[0])\n",
    "a"
   ]
  },
  {
   "cell_type": "code",
   "execution_count": 68,
   "id": "065fe023",
   "metadata": {},
   "outputs": [
    {
     "data": {
      "text/plain": [
       "0       Critical question PayTM informed Demonetizatio...\n",
       "1       Former FinSec RBI Dy Governor CBDT Chair Harva...\n",
       "2       Reddy Wedding mailtoday cartoon demonetization...\n",
       "3       Rs 40 lakh looted bank Kishtwar J amp K Third ...\n",
       "4       Many opposition leaders narendramodi Demonetiz...\n",
       "                              ...                        \n",
       "7465    Prohibition Demonetization 20 kept quiet poor ...\n",
       "7466                           end cash end poverty India\n",
       "7467    India became Bill Gates guinea pig conspiracy ...\n",
       "7468    true nationalists country stil think demonetiz...\n",
       "7469    Vidyut B team BJP CIA baby CCTV EVM VVPAT supp...\n",
       "Name: cleaned_text, Length: 7470, dtype: object"
      ]
     },
     "execution_count": 68,
     "metadata": {},
     "output_type": "execute_result"
    }
   ],
   "source": [
    "tweets[\"cleaned_text\"] = tweets[\"text\"].apply(clean_text)\n",
    "tweets[\"cleaned_text\"]"
   ]
  },
  {
   "cell_type": "code",
   "execution_count": null,
   "id": "eee3c4af",
   "metadata": {},
   "outputs": [],
   "source": [
    "#regular expression"
   ]
  },
  {
   "cell_type": "code",
   "execution_count": 70,
   "id": "c04c2aa0",
   "metadata": {},
   "outputs": [],
   "source": [
    "features=tweets[\"cleaned_text\"]"
   ]
  },
  {
   "cell_type": "code",
   "execution_count": 74,
   "id": "a095db27",
   "metadata": {},
   "outputs": [
    {
     "data": {
      "text/plain": [
       "['Critical question PayTM informed Demonetization edict PM clearly fishy requires full disclosure amp',\n",
       " 'Former FinSec RBI Dy Governor CBDT Chair Harvard Professor lambaste Demonetization Aam Aadmi listen th',\n",
       " 'Reddy Wedding mailtoday cartoon demonetization ReddyWedding',\n",
       " 'Rs 40 lakh looted bank Kishtwar amp Third incident since demonetization terrorists',\n",
       " 'Many opposition leaders narendramodi Demonetization respect decision support oppositio',\n",
       " 'narendramodi Demonetization respect decision support opposition bcoz party',\n",
       " '28 ed U00A0 U00BD ed U00B8 U0082 protesting demonetization different party leaders',\n",
       " 'explained Demonetization tried put words laced heavy technical',\n",
       " 'Former FinSec RBI Dy Governor CBDT Chair Harvard Professor lambaste Demonetization Aam Aadmi listen th',\n",
       " 'Demonetization cooperative banking sector Kerala good tax Kerala Black Money HQ',\n",
       " 'vote Demonetization Modi survey app',\n",
       " 'Gandhi ji heard standing Demonetization',\n",
       " 'vote Demonetization Modi survey app',\n",
       " 'Doltiwal mean JaiChandKejriwal hurt Demonetization rendered USELESS ed U00A0 U00BD ed U00B1 U0089 acquired funds wo',\n",
       " 'Doltiwal mean JaiChandKejriwal hurt Demonetization rendered USELESS ed U00A0 U00BD ed U00B1 U0089 acquired funds wo',\n",
       " 'vote Demonetization Modi survey app',\n",
       " 'Teacher anybody absent today response Teacher says 100 attendance Demonetization App survey DonMu',\n",
       " 'demonetization Communal Black Money Secular',\n",
       " 'Doltiwal mean JaiChandKejriwal hurt Demonetization rendered USELESS ed U00A0 U00BD ed U00B1 U0089 acquired funds wo',\n",
       " 'Gandhi ji heard standing Demonetization',\n",
       " 'Ts exactly Pappu amp opposition done opposing Demonetization none stop Modi bandwagon ti',\n",
       " '8 tweet minimathur BIBI explains prob demonetization first part says ca nt',\n",
       " 'Visa Master Card Amex Accepted',\n",
       " 'DeMonetization survey results 24 hours 5Lacs opinions Amazing response amp Commitment fight Blackmoney na',\n",
       " 'demonetization eye opener video bt doubt jurnos nt want2 hear narendramodi sardesairajdeep ravishndtv',\n",
       " 'ModiSarkar achedin campaign demonetization goebbelsian masterstroke turns blind eye GroundZero shocks',\n",
       " '8 tweet minimathur BIBI explains prob demonetization first part says ca nt',\n",
       " 'Doltiwal mean JaiChandKejriwal hurt Demonetization rendered USELESS ed U00A0 U00BD ed U00B1 U0089 acquired funds wo',\n",
       " 'Gandhi ji heard standing Demonetization',\n",
       " 'CPIM opposes Coop Banks West Bengal supports Kerala Pawar Uturned Demonetization',\n",
       " 'Demonetization harbhajansingh gives hilarious shagun suggestion struggling wedding season',\n",
       " 'Demonetization time come put MUDRA action writes Prof Vaidyanathan',\n",
       " 'Question Narendra Modi App PM taking feedback people support DeMonetization strategy',\n",
       " 'negative IIP Demonetization Great Leader even bother except continued dra',\n",
       " 'Larry Summers calls Demonetization poor policy disproportionate negative impact',\n",
       " 'sardesairajdeep struggling one answer Demonetization taken Congress leader lik',\n",
       " 'demonetization searches NarendraModi app trending app stores',\n",
       " 'Survey result far PMOIndia Demonetization 5 lakh response 24 hrs 90 supports note ban MeraDeshBadalRaha',\n",
       " 'demonetization indicates loss freedom Besides lawsconstitutioncourtcops 2 govern people govt using',\n",
       " 'overwhelming supprt narendramodi Ji crusade agnst black moneySurvey timesofindia',\n",
       " 'Rs 40 lakh looted bank Kishtwar amp Third incident since demonetization terrorists',\n",
       " 'coming Delhi withdraw cash given govt logistics ravishndtv Demonetization',\n",
       " 'Demonetization harbhajansingh gives hilarious shagun suggestion struggling wedding season',\n",
       " 'Larry Summers calls Demonetization poor policy disproportionate negative impact',\n",
       " 'much contemplation come conclusion nothing explains Modi DeMonetization better monumental',\n",
       " 'population accepting country building measure called politicians opp',\n",
       " 'demonetization country still suffering 4m acute shortage currency notes Big loss 2 economy Share market tumbling SOS',\n",
       " 'Man ends life fund shortage ahead daughter wedding Gujarat Demonetization https tcoDGAI5cf05y',\n",
       " 'Doltiwal mean JaiChandKejriwal hurt Demonetization rendered USELESS ed U00A0 U00BD ed U00B1 U0089 acquired funds wo',\n",
       " 'today 33000 thousand ATMs functioning SBI Chairman Smt Arundhati Bhattacharya Demonetization',\n",
       " 'slips due demonetization BJP4India PMOIndia RanaAyyub TruthOfGujarat AnupamPkher',\n",
       " 'Harvard Larry Summers calls Demonetization poor policy disproportionate negative impact poortrade',\n",
       " 'Cooperative banks shut sowing season completely disrupted agri markets amp Farmers badly affected demonetization',\n",
       " 'Delete Pathetic PM conducts false poll self praises demonetization BogusPoll ModiScaredOfParliament',\n",
       " 'Demonetization harbhajansingh gives hilarious shagun suggestion struggling wedding season',\n",
       " 'tco0kq8BsJ1iS PM opposition parliament',\n",
       " 'Watch sonunigam thinks demonetization',\n",
       " 'Teacher anybody absent today response Teacher says 100 attendance Demonetization App survey DonMu',\n",
       " 'Ts exactly Pappu amp opposition done opposing Demonetization none stop Modi bandwagon ti',\n",
       " 'Doltiwal mean JaiChandKejriwal hurt Demonetization rendered USELESS ed U00A0 U00BD ed U00B1 U0089 acquired funds wo',\n",
       " 'vote Demonetization Modi survey app',\n",
       " 'Demonetization move Modi supporting opposing complete coverage parties',\n",
       " 'sins blackmoney hoarders SBI slashes deposit rates 19 Demonetization netascashin',\n",
       " 'Survey result far PMOIndia Demonetization 5 lakh response 24 hrs 90 supports note ban MeraDeshBadalRaha',\n",
       " '8 tweet minimathur BIBI explains prob demonetization first part says ca nt',\n",
       " 'vote Demonetization Modi survey app',\n",
       " 'hibernation mode GPS enabled 2000 rs launched Modo 4 demonetization ed U00A0 U00BD ed U00B8 U0082 ed U00A0 U00BD ed U00B8 U0082 ed U00A0 U00BD ed U00B8 U0082 MonaAmbegaonkar',\n",
       " 'vote Demonetization Modi survey app',\n",
       " 'Demonetization harbhajansingh gives hilarious shagun suggestion struggling wedding season',\n",
       " 'DeMonetization survey results 24 hours 5Lacs opinions Amazing response amp Commitment fight Blackmoney na',\n",
       " 'Former FinSec RBI Dy Governor CBDT Chair Harvard Professor lambaste Demonetization Aam Aadmi listen th',\n",
       " 'troubled BlackMoney become piece paper due demonetization U092C U0940 U092E U093E U0930 U0935 U093F U092A U0915 U094D U0937',\n",
       " 'Harvard Larry Summers calls Demonetization poor policy disproportionate negative impact poortrade',\n",
       " 'Demonetization harbhajansingh gives hilarious shagun suggestion struggling wedding season',\n",
       " 'DeMonetization already shared narendramodi Action important words',\n",
       " 'Demonetization harbhajansingh gives hilarious shagun suggestion struggling wedding season',\n",
       " 'Rs 40 lakh looted bank Kishtwar amp Third incident since demonetization terrorists',\n",
       " 'Demonetization harbhajansingh gives hilarious shagun suggestion struggling wedding season',\n",
       " 'view current situation RTGS time extended upto 630 PM till 24th November 2016 Demonetization http',\n",
       " '8 tweet minimathur BIBI explains prob demonetization first part says ca nt',\n",
       " 'Survey result far PMOIndia Demonetization 5 lakh response 24 hrs 90 supports note ban MeraDeshBadalRaha',\n",
       " 'Days Demonetization announcement ncbn sold Heritage shares clearly evident prior knowledge',\n",
       " 'Former FinSec RBI Dy Governor CBDT Chair Harvard Professor lambaste Demonetization Aam Aadmi listen th',\n",
       " 'Demonetization harbhajansingh gives hilarious shagun suggestion struggling wedding season',\n",
       " 'Demonetization harbhajansingh gives hilarious shagun suggestion struggling',\n",
       " 'Modi app DeMonetization proves govt totally indifferent mounting misery hards',\n",
       " 'Demonetization harbhajansingh gives hilarious shagun suggestion struggling wedding season',\n",
       " 'Gandhi ji heard standing Demonetization',\n",
       " 'Demonetization harbhajansingh gives hilarious shagun suggestion struggling wedding season',\n",
       " 'harbhajansingh gives hilarious shagun suggestion struggling wedding season',\n",
       " 'Critical question PayTM informed Demonetization edict PM clearly fishy requires full disclosure amp',\n",
       " 'come people crying line banks crying line ups demonetization',\n",
       " 'Ts exactly Pappu amp opposition done opposing Demonetization none stop Modi bandwagon ti',\n",
       " 'Survey result far PMOIndia Demonetization 5 lakh response 24 hrs 90 supports note ban MeraDeshBadalRaha',\n",
       " 'anandkamal Frankly nt understand narendramodi nt address Parlmnt Demonetization duty amp wil',\n",
       " 'Joined line Opposition MPs demonstrating solidarity demonetization amp demanding PMOIndia address Parliame',\n",
       " 'say demonetization failure',\n",
       " 'interest way cashless economy need Demonetization badly planned move',\n",
       " '700 Fish Vendors across Kolkata started using ewallets demonetization number zero Thi',\n",
       " 'Survey result far PMOIndia Demonetization 5 lakh response 24 hrs 90 supports note ban MeraDeshBadalRaha',\n",
       " 'Gandhi ji heard standing Demonetization',\n",
       " 'queues getting longer getting shorter day day Chanda Kochar ICIC MD CEO demonetization',\n",
       " 'Demonetization move Modi supporting opposing complete coverage parties',\n",
       " 'effect Demonetization',\n",
       " 'Gandhi ji heard standing Demonetization',\n",
       " 'Survey result far PMOIndia Demonetization 5 lakh response 24 hrs 90 supports note ban MeraDeshBadalRaha',\n",
       " 'Housewife view demonetization',\n",
       " 'man shaved head JantarMantar protest Demonetization 13th day move',\n",
       " 'Gandhi ji heard standing Demonetization',\n",
       " '8 tweet minimathur BIBI explains prob demonetization first part says ca nt',\n",
       " 'L amp retrenching 14000 employees Hope none supporters Demonetization included',\n",
       " 'Rs 40 lakh looted bank Kishtwar amp Third incident since demonetization terrorists',\n",
       " 'exactly people behaving demonetization Since Modi lets oppose Sonia Gandhi done',\n",
       " 'Economy cost Demonetization',\n",
       " 'Gandhi ji heard standing Demonetization',\n",
       " '8 tweet minimathur BIBI explains prob demonetization first part says ca nt',\n",
       " 'MamtaOfficiaI say fire caused DeMonetization narendramodi responsible',\n",
       " 'Demonetization Impact India Retail sector ReTales Pankaj Renjhen ET Retail',\n",
       " 'Modi app DeMonetization proves govt totally indifferent mounting misery hards',\n",
       " 'DeMonetization survey results 24 hours 5Lacs opinions Amazing response amp Commitment fight Blackmoney na',\n",
       " 'vote Demonetization Modi survey app',\n",
       " 'vote Demonetization Modi survey app',\n",
       " 'vote Demonetization Modi survey app',\n",
       " 'World Economist Rubbishing Demonetization India mind nt score Brownie Points Indian Politi',\n",
       " 'vote Demonetization Modi survey app',\n",
       " 'Demonetization move Modi supporting opposing complete coverage parties',\n",
       " 'Demonetization 2nd word trending Intolerance Thanks Pappu Kejri Mamta VishalJanSabha KhulkeDulke Ind',\n",
       " 'Today saw 200 black money hoarders 125 crore standing ques outside Parliament Demonetization',\n",
       " '2day namovolunteers meeting malviyamit ji demonetization decided 2 expose opposition U0938 U093E U0930 U0947 U091A U094B U0930 U092E',\n",
       " 'Modi app DeMonetization proves govt totally indifferent mounting misery hards',\n",
       " '8 tweet minimathur BIBI explains prob demonetization first part says ca nt',\n",
       " 'release Mamta App world wide look demonetization support quizderek Goldenthrust',\n",
       " 'Demonetization affecting even dumb rich use public transport',\n",
       " 'money holder wud hate demonetization many cal many names like l etc etc demonetization',\n",
       " 'PM ca nt even control emotions control entire nation Demonetization NotADefaulter PMModi NotProCongress ed U00A0 U00BE ed U00B4 U0090 ed U00A0 U00BD ed U00B8 U0092',\n",
       " 'effect Demonetization',\n",
       " 'Rs 40 lakh looted bank Kishtwar amp Third incident since demonetization terrorists',\n",
       " 'Modi app DeMonetization proves govt totally indifferent mounting misery hards',\n",
       " 'Rs 40 lakh looted bank Kishtwar amp Third incident since demonetization terrorists',\n",
       " 'Survey result far PMOIndia Demonetization 5 lakh response 24 hrs 90 supports note ban MeraDeshBadalRaha',\n",
       " 'Demonetization Disaster naampk',\n",
       " 'Demonetization Disaster naampk',\n",
       " 'Demonetization Disaster naampk',\n",
       " 'interesting look research light demonetization real blackswan',\n",
       " 'Calling Nationalists join Walk CorruptionFreeIndia spread benefits Demonetization among mas',\n",
       " 'vote Demonetization Modi survey app',\n",
       " 'getting back normal long queues Bhopal banks ATMs anymore DeMonetization',\n",
       " 'smart people demonetization',\n",
       " 'Demonetization long term benefits Pain temporary Let us help nation make India corruption free',\n",
       " '8 tweet minimathur BIBI explains prob demonetization first part says ca nt',\n",
       " 'Wow Demonetization Survey Response 5 Lakh citizens little 24 hrs Participate',\n",
       " '8 tweet minimathur BIBI explains prob demonetization first part says ca nt',\n",
       " 'demonetization searches NarendraModi app trending app stores',\n",
       " 'Oscar goes Mr U092D U093E U0935 U0941 U0915 ed U00A0 U00BD ed U00B8 U00A9 ed U00A0 U00BD ed U00B8 U00A5 ed U00A0 U00BD ed U00B8 U00A2 ed U00A0 U00BD ed U00B8 U00AD demonetization',\n",
       " 'Rs 40 lakh looted bank Kishtwar amp Third incident since demonetization terrorists',\n",
       " 'DeMonetization survey results 24 hours 5Lacs opinions Amazing response amp Commitment fight Blackmoney na',\n",
       " 'like survey mrs clinton also winning elections surveys',\n",
       " 'Rs 40 lakh looted bank Kishtwar amp Third incident since demonetization terrorists',\n",
       " 'Acid test Modi BJP Demonetization hits Indian life India banking SouthAsia',\n",
       " 'Ca nt say anything Productivity Creativity increased Demonetization 2016',\n",
       " 'Modi BJP Demonetization hits Indian life India banking SouthAsia',\n",
       " 'Putting Nation Party Politics nitishkumar supports PM narendramodi Demonetization',\n",
       " 'Gandhi ji heard standing Demonetization',\n",
       " 'Huge support PM narendramodi demonetization Move Across Nation 8086 people back demonetization Cvoter su',\n",
       " 'Modi app DeMonetization proves govt totally indifferent mounting misery hards',\n",
       " 'currency Demonetization move BJP Modi garnered huge base Foes Psychopaths',\n",
       " 'Demonetization done aside killing 55 people CashRush BlackMoney',\n",
       " 'Rs 40 lakh looted bank Kishtwar amp Third incident since demonetization terrorists',\n",
       " 'Modi app DeMonetization proves govt totally indifferent mounting misery hards',\n",
       " 'Gandhi ji heard standing Demonetization',\n",
       " 'Doltiwal mean JaiChandKejriwal hurt Demonetization rendered USELESS ed U00A0 U00BD ed U00B1 U0089 acquired funds wo',\n",
       " 'Ts exactly Pappu amp opposition done opposing Demonetization none stop Modi bandwagon ti',\n",
       " 'application real survey demonetization know actual truth unhappy people',\n",
       " 'DeMonetization survey results 24 hours 5Lacs opinions Amazing response amp Commitment fight Blackmoney na',\n",
       " 'Modi app DeMonetization proves govt totally indifferent mounting misery hards',\n",
       " 'effect Demonetization',\n",
       " 'Ts exactly Pappu amp opposition done opposing Demonetization none stop Modi bandwagon ti',\n",
       " '8 tweet minimathur BIBI explains prob demonetization first part says ca nt',\n",
       " 'Interesting results narendramodi APP poll DeMonetization still open Please participate',\n",
       " '8 tweet minimathur BIBI explains prob demonetization first part says ca nt',\n",
       " 'Demonetization IndiaFightsCorruption Immense courage needed take momentous decision arunjaitley narendramodi P',\n",
       " 'Doltiwal mean JaiChandKejriwal hurt Demonetization rendered USELESS ed U00A0 U00BD ed U00B1 U0089 acquired funds wo',\n",
       " 'DeMonetization proves govt totally indifferent mounting misery hardship people',\n",
       " 'Oscar goes Mr U092D U093E U0935 U0941 U0915 ed U00A0 U00BD ed U00B8 U00A9 ed U00A0 U00BD ed U00B8 U00A5 ed U00A0 U00BD ed U00B8 U00A2 ed U00A0 U00BD ed U00B8 U00AD demonetization',\n",
       " 'DeMonetization survey results 24 hours 5Lacs opinions Amazing response amp Commitment fight Blackmoney na',\n",
       " 'effect Demonetization',\n",
       " 'DemonetizationMythsBusted Anyone dying within 20 km radius bank coz Demonetization Modi directly resp',\n",
       " 'Doltiwal mean JaiChandKejriwal hurt Demonetization rendered USELESS ed U00A0 U00BD ed U00B1 U0089 acquired funds wo',\n",
       " 'roots demonetization hails PM narendramodi https tcoGV5gt4sjLW',\n",
       " 'Rs 40 lakh looted bank Kishtwar amp Third incident since demonetization terrorists',\n",
       " 'loans go soon Demonetization may work',\n",
       " 'Gandhi ji heard standing Demonetization',\n",
       " 'Rs 40 lakh looted bank Kishtwar amp Third incident since demonetization terrorists',\n",
       " 'effect Demonetization',\n",
       " 'Rs 40 lakh looted bank Kishtwar amp Third incident since demonetization terrorists',\n",
       " 'Question Narendra Modi App PM taking feedback people support DeMonetization strategy',\n",
       " '8 tweet minimathur BIBI explains prob demonetization first part says ca nt',\n",
       " 'Ts exactly Pappu amp opposition done opposing Demonetization none stop Modi bandwagon ti',\n",
       " 'inconvenience due demonetization ur govt destroying Karnataka constructing steelbridge NetaVilla',\n",
       " 'DeMonetization survey results 24 hours 5Lacs opinions Amazing response amp Commitment fight Blackmoney na',\n",
       " 'black money hoarders 125 crore standing ques outside Parliament Demonetization',\n",
       " 'use Mobile Mobile cash transfer mode payment ease cash crunch',\n",
       " '8 tweet minimathur BIBI explains prob demonetization first part says ca nt',\n",
       " 'Rs 40 lakh looted bank Kishtwar amp Third incident since demonetization terrorists',\n",
       " 'vote Demonetization Modi survey app',\n",
       " 'vote Demonetization Modi survey app',\n",
       " 'vote Demonetization Modi survey app',\n",
       " '8 tweet minimathur BIBI explains prob demonetization first part says ca nt',\n",
       " '',\n",
       " '8 tweet minimathur BIBI explains prob demonetization first part says ca nt',\n",
       " 'DeMonetization thoughts 2 weeks 800 PM speech Lines hv reduced banks exchange ATMs h',\n",
       " 'vote Demonetization Modi survey app',\n",
       " 'vote Demonetization Modi survey app',\n",
       " 'suryanavin current wave Demonetization apt way towards digitization Indian economy',\n",
       " 'Participation Says PM Modi Notes Ban Feedback',\n",
       " 'WTF Philosophers Whatsapp Facebook Twitter',\n",
       " 'Oscar goes Mr U092D U093E U0935 U0941 U0915 ed U00A0 U00BD ed U00B8 U00A9 ed U00A0 U00BD ed U00B8 U00A5 ed U00A0 U00BD ed U00B8 U00A2 ed U00A0 U00BD ed U00B8 U00AD demonetization',\n",
       " '8 tweet minimathur BIBI explains prob demonetization first part says ca nt',\n",
       " 'Modi app DeMonetization proves govt totally indifferent mounting misery hards',\n",
       " 'first 24 hours demonetization',\n",
       " 'Ts exactly Pappu amp opposition done opposing Demonetization none stop Modi bandwagon ti',\n",
       " 'simple survey Facebook page shows mood nation demonetization Modi asked wrong questio',\n",
       " 'nov 28 work 1 hr stand queue 8 hr IAmWithModi demonization tughlakmodi demonetization',\n",
       " 'Must Vote 9days demonetization 45Lakhs cr returned Bank 145 Lakhs cr Kahan gaya 10 Lakhs Cr',\n",
       " 'trying spokesperson public DemonetizationLet decide',\n",
       " 'Today demonetization debate Parlmnt stalled due disruption ed U00A0 U00BD ed U00B9 U0084 dont undrstnd oppstn wants stall ow',\n",
       " '8 tweet minimathur BIBI explains prob demonetization first part says ca nt',\n",
       " 'Gandhi ji heard standing Demonetization',\n",
       " 'Must Vote 9days demonetization 45Lakhs cr returned Bank 145 Lakhs cr Kahan gaya 10 Lakhs Cr',\n",
       " 'vote Demonetization Modi survey app',\n",
       " 'vote Demonetization Modi survey app',\n",
       " 'Huge support PM narendramodi demonetization Move Across Nation 8086 people back demonetization Cvoter su',\n",
       " '8 tweet minimathur BIBI explains prob demonetization first part says ca nt',\n",
       " 'DeMonetization survey results 24 hours 5Lacs opinions Amazing response amp Commitment fight Blackmoney na',\n",
       " 'Communist Party India files petition Supreme Court challenging government controversial demonetization decision',\n",
       " 'Survey result far PMOIndia Demonetization 5 lakh response 24 hrs 90 supports note ban MeraDeshBadalRaha',\n",
       " 'Oppositions demand strike U0906 U092A U092A U093E U0917 U0932 U0939 U0948 U0902 DeMonetization',\n",
       " 'effect Demonetization',\n",
       " 'EconomicsBehind Economics behind demonetization Rs 1000 amp 500 notes',\n",
       " 'DeMonetization survey results 24 hours 5Lacs opinions Amazing response amp Commitment fight Blackmoney na',\n",
       " 'Survey result far PMOIndia Demonetization 5 lakh response 24 hrs 90 supports note ban MeraDeshBadalRaha',\n",
       " 'vote Demonetization Modi survey app',\n",
       " 'U0906 U092A U092A U093E U0917 U0932 U0939 U0948 U0902 DeMonetization',\n",
       " '8 tweet minimathur BIBI explains prob demonetization first part says ca nt',\n",
       " 'Survey result far PMOIndia Demonetization 5 lakh response 24 hrs 90 supports note ban MeraDeshBadalRaha',\n",
       " 'Joined line Opposition MPs demonstrating solidarity demonetization amp demanding PMOIndia address Parliame',\n",
       " 'India impact women MarcoWerman pritheworld',\n",
       " 'Survey result far PMOIndia Demonetization 5 lakh response 24 hrs 90 supports note ban MeraDeshBadalRaha',\n",
       " '8 tweet minimathur BIBI explains prob demonetization first part says ca nt',\n",
       " 'Demonetization Modi ji 204 millions follower Twitter amp approx',\n",
       " 'Gandhi ji heard standing Demonetization',\n",
       " 'last refuge political scoundrel keeps arunjaitley DasShaktikanta etc aids',\n",
       " 'survey Facebook page shows mood nation demonetization Modi asked wr',\n",
       " 'vote Demonetization Modi survey app',\n",
       " 'Survey result far PMOIndia Demonetization 5 lakh response 24 hrs 90 supports note ban MeraDeshBadalRaha',\n",
       " 'Huge support PM narendramodi demonetization Move Across Nation 8086 people back demonetization Cvoter su',\n",
       " 'substituted moderndayhitler demonetization',\n",
       " 'Gandhi ji heard standing Demonetization',\n",
       " '8 tweet minimathur BIBI explains prob demonetization first part says ca nt',\n",
       " 'vote Demonetization Modi survey app',\n",
       " 'Survey result far PMOIndia Demonetization 5 lakh response 24 hrs 90 supports note ban MeraDeshBadalRaha',\n",
       " '8 tweet minimathur BIBI explains prob demonetization first part says ca nt',\n",
       " 'effect Demonetization',\n",
       " 'vote Demonetization Modi survey app',\n",
       " '8 tweet minimathur BIBI explains prob demonetization first part says ca nt',\n",
       " 'Interesting results narendramodi APP poll DeMonetization still open Please participate',\n",
       " 'narendramodi Ji unbiased POLL people people people U092D U093E U0930 U0924 U0935 U0930 U094D U0937 abt demonetization ed U00A0 U00BD ed U00B1 U008C ed U00A0 U00BC ed U00BF U00BB ed U00A0 U00BD ed U00B9 U008F ed U00A0 U00BD ed U00B1 U0087',\n",
       " 'narendramodi 1st Phase deposits demonetization Real Currency Requirement nation liquid cash',\n",
       " 'vote Demonetization Modi survey app',\n",
       " 'Modi app DeMonetization proves govt totally indifferent mounting misery hards',\n",
       " 'Gandhi ji heard standing Demonetization',\n",
       " 'Ts exactly Pappu amp opposition done opposing Demonetization none stop Modi bandwagon ti',\n",
       " 'Gandhi ji heard standing Demonetization',\n",
       " 'vote Demonetization Modi survey app',\n",
       " '8 tweet minimathur BIBI explains prob demonetization first part says ca nt',\n",
       " 'Gandhi ji heard standing Demonetization',\n",
       " 'Gandhi ji heard standing Demonetization',\n",
       " 'Modi app DeMonetization proves govt totally indifferent mounting misery hards',\n",
       " 'effect Demonetization',\n",
       " 'Joined line Opposition MPs demonstrating solidarity demonetization amp demanding PMOIndia address Parliame',\n",
       " 'vote Demonetization Modi survey app',\n",
       " 'Demonetization move Modi supporting opposing complete coverage parties',\n",
       " 'vote Demonetization Modi survey app',\n",
       " 'MamataOfficial Demonetization max amount deposited JanDhanAccount WB matter brought',\n",
       " 'rate neg trend wo nt helped short term investment consumption shock due demonetization',\n",
       " 'effect Demonetization',\n",
       " 'Gandhi ji heard standing Demonetization',\n",
       " 'demonetization searches NarendraModi app trending app stores',\n",
       " 'vote Demonetization Modi survey app',\n",
       " '8 tweet minimathur BIBI explains prob demonetization first part says ca nt',\n",
       " 'Survey result far PMOIndia Demonetization 5 lakh response 24 hrs 90 supports note ban MeraDeshBadalRaha',\n",
       " '8 tweet minimathur BIBI explains prob demonetization first part says ca nt',\n",
       " 'Ts exactly Pappu amp opposition done opposing Demonetization none stop Modi bandwagon ti',\n",
       " 'One greatest computer scientists Dr Vijay Bhatkar views demonetization decision Hon PM narendramodi h',\n",
       " '8 tweet minimathur BIBI explains prob demonetization first part says ca nt',\n",
       " 'Modi app DeMonetization proves govt totally indifferent mounting misery hards',\n",
       " 'Gandhi ji heard standing Demonetization',\n",
       " '8 tweet minimathur BIBI explains prob demonetization first part says ca nt',\n",
       " '8 tweet minimathur BIBI explains prob demonetization first part says ca nt',\n",
       " 'Ts exactly Pappu amp opposition done opposing Demonetization none stop Modi bandwagon ti',\n",
       " 'DrGPradhan U25CF 8 tweet minimathur BIBI explains prob demonetization first p',\n",
       " '8 tweet minimathur BIBI explains prob demonetization first part says ca nt',\n",
       " 'Retweeted Harsh Kapoor harshkkapoor DeMonetization survey results 24 hours 5Lacs opinions Amazing',\n",
       " 'RatanTata supports PM Narendra Modi Demonetization',\n",
       " '8 tweet minimathur BIBI explains prob demonetization first part says ca nt',\n",
       " '8 tweet minimathur BIBI explains prob demonetization first part says ca nt',\n",
       " 'Ts exactly Pappu amp opposition done opposing Demonetization none stop Modi bandwagon ti',\n",
       " 'Modi app DeMonetization proves govt totally indifferent mounting misery hards',\n",
       " 'Gandhi ji heard standing Demonetization',\n",
       " 'demonetization searches NarendraModi app trending app stores',\n",
       " 'demonetization searches NarendraModi app trending app stores',\n",
       " 'Police men beats industrialists Ambani groups Black Money holders standing queue Demonetization cop des',\n",
       " 'searches NarendraModi app trending app stores',\n",
       " 'suryanavin MD ItzCash live ET talking impact Demonetization towards digitization India',\n",
       " 'Ts exactly Pappu amp opposition done opposing Demonetization none stop Modi bandwagon ti',\n",
       " 'think demonetisation notes demonetization poll RBI Modi',\n",
       " 'Gandhi ji heard standing Demonetization',\n",
       " 'SitaramYechury Continue rants demonetization People Bengal answered LOL Salaam',\n",
       " 'demonetization 1326801576 Internet users 462124989 Smartphone users 292 million 5 lakh app responses',\n",
       " 'DeMonetization survey results 24 hours 5Lacs opinions Amazing response amp Commitment fight Blackmoney na',\n",
       " 'Gandhi ji heard standing Demonetization',\n",
       " 'Gandhi ji heard standing Demonetization',\n",
       " 'Indian scams line demonetization',\n",
       " 'Gandhi ji heard standing Demonetization',\n",
       " 'black money white following DeMonetization',\n",
       " 'favour demonetization JayaBachchan joins tmc protest DeMonetisation lots bk U20B9',\n",
       " 'Gandhi ji heard standing Demonetization',\n",
       " 'Modi app DeMonetization proves govt totally indifferent mounting misery hards',\n",
       " 'DeMonetization survey results 24 hours 5Lacs opinions Amazing response amp Commitment fight Blackmoney na',\n",
       " 'PMOinIndia demonetization Demonetisationsurvey App working windows phone U2639 PMModi',\n",
       " 'party DeModitisationMarch BlackMoney demonetization congress aap BJP',\n",
       " 'vote Demonetization Modi survey app',\n",
       " 'Demonetization 21K Crore Deposited JanDhanAccount Bengal Karnataka reason protests NDTV',\n",
       " 'black money dont facts points talk abt demonetization',\n",
       " 'Modi app DeMonetization proves govt totally indifferent mounting misery hards',\n",
       " 'paytm Paytm app starts acting card swiping machine Demonetization',\n",
       " 'Demonetization ravishndtv ShekharGupta hvgoenka mrsfunnybones GabbbarSingh Iamanirudhsethi',\n",
       " 'Gandhi ji heard standing Demonetization',\n",
       " 'Ts exactly Pappu amp opposition done opposing Demonetization none stop Modi bandwagon ti',\n",
       " 'Modi app DeMonetization proves govt totally indifferent mounting misery hards',\n",
       " 'Left going file petition SC govts decision demonetization que hell nt debate',\n",
       " 'vote Demonetization Modi survey app',\n",
       " 'Gandhi ji heard standing Demonetization',\n",
       " 'Modi app DeMonetization proves govt totally indifferent mounting misery hards',\n",
       " 'Rs 40 lakh looted bank Kishtwar amp Third incident since demonetization terrorists',\n",
       " 'Gandhi ji heard standing Demonetization',\n",
       " 'public favor DeMonetization',\n",
       " 'suryanavin MD ItzCash live ET talking impact Demonetization towards digitization India',\n",
       " 'Gandhi ji heard standing Demonetization',\n",
       " 'story tells flipside digital revolution Paytm Demonetization busy celebrating phone go',\n",
       " 'Gandhi ji heard standing Demonetization',\n",
       " 'Must Vote 9days demonetization 45Lakhs cr returned Bank 145 Lakhs cr Kahan gaya 10 Lakhs Cr',\n",
       " 'vote Demonetization Modi survey app',\n",
       " 'Gandhi ji heard standing Demonetization',\n",
       " 'Ts exactly Pappu amp opposition done opposing Demonetization none stop Modi bandwagon ti',\n",
       " 'Rs 40 lakh looted bank Kishtwar amp Third incident since demonetization terrorists',\n",
       " 'DeMonetization survey results 24 hours 5Lacs opinions Amazing response amp Commitment fight Blackmoney na',\n",
       " 'Interesting results narendramodi APP poll DeMonetization still open Please participate',\n",
       " 'Oscar goes Mr U092D U093E U0935 U0941 U0915 ed U00A0 U00BD ed U00B8 U00A9 ed U00A0 U00BD ed U00B8 U00A5 ed U00A0 U00BD ed U00B8 U00A2 ed U00A0 U00BD ed U00B8 U00AD demonetization',\n",
       " 'Gandhi ji heard standing Demonetization',\n",
       " 'Gandhi ji heard standing Demonetization',\n",
       " 'Modi app DeMonetization proves govt totally indifferent mounting misery hards',\n",
       " 'Demonetization Survey Results https tcoeyEDJoCYmz',\n",
       " 'Gandhi ji heard standing Demonetization',\n",
       " 'Ts exactly Pappu amp opposition done opposing Demonetization none stop Modi bandwagon ti',\n",
       " 'DeMonetization survey results 24 hours 5Lacs opinions Amazing response amp Commitment fight Blackmoney na',\n",
       " 'local car mechanic today gladly took amp narrated life story keep entertained demonetization',\n",
       " 'current wave Demonetization apt way towards digitization Indian economy',\n",
       " 'PM Modi demonetization political parties raising hue cry issue surrender please let',\n",
       " 'Modi app DeMonetization proves govt totally indifferent mounting misery hards',\n",
       " 'DeMonetization survey results 24 hours 5Lacs opinions Amazing response amp Commitment fight Blackmoney na',\n",
       " 'YSRCP Chief YS Jagan Mohan Reddy response media friend question Demonetization YSJagan Ysrcp NCBN Tdp',\n",
       " 'Chandrababu first said Narendra Modi implemented Demonetization taking advice Upon seeing',\n",
       " 'visionary political leader ChandrababuNaidu leading support ecosystem efficient running DeMonetization h',\n",
       " 'downloaded app taken demonetization survey make sample size 1 mln 130 mln people',\n",
       " 'Modi app DeMonetization proves govt totally indifferent mounting misery hards',\n",
       " '86 Indians rural amp urban areas support demonetization feel worth inconvenience',\n",
       " 'story tells flipside digital revolution Paytm Demonetization busy celebrating phone go',\n",
       " 'company deposit extra money account mistakebut scary demonetization modi',\n",
       " 'AamAadmiParty pls nt worry abt COMMON PPLU nvr past okay demonetization DeModitisationMarch',\n",
       " 'Q Long hours get 1 min glance God TirupatiShirdi patience faith Country demonetization',\n",
       " 'come NPA mess Demonetization',\n",
       " 'Huge support PM narendramodi demonetization Move Across Nation 8086 people back demonetization Cvoter su',\n",
       " 'Calling Nationalists join Walk CorruptionFreeIndia spread benefits Demonetization among mas',\n",
       " 'asshole Bhakts found DeMonetization modi',\n",
       " 'Indore collector would like shut demonetization internetfreedom think problem',\n",
       " 'narendramodi Ji unbiased POLL people people people U092D U093E U0930 U0924 U0935 U0930 U094D U0937 abt demonetization ed U00A0 U00BD ed U00B1 U008C ed U00A0 U00BC ed U00BF U00BB ed U00A0 U00BD ed U00B9 U008F ed U00A0 U00BD ed U00B1 U0087',\n",
       " 'DEMONETISATION DEMONETIZATION MOVE PM NARENDRAMODI Tweeter poll',\n",
       " 'Need withdraw cash monthend pay salaries servants Demonetization SacrificesOneHasToMake',\n",
       " 'saw ur speech Demonetization RS Awesome r cutest politician Indian history support Demonetization',\n",
       " 'sardesairajdeep struggling one answer Demonetization taken Congress leader lik',\n",
       " 'Rs 40 lakh looted bank Kishtwar amp Third incident since demonetization terrorists',\n",
       " 'move',\n",
       " 'Indian online payment firm Paytm says added 8 million new users two weeks since demonetization',\n",
       " 'want see Sorry pink Mahatma Gandhi change demonetization',\n",
       " 'DeMonetization survey results 24 hours 5Lacs opinions Amazing response amp Commitment fight Blackmoney na',\n",
       " '10 days demonetization deposited amountRs 5L Crore approx Rs 15L Crore demonitized 8th final f',\n",
       " 'Ts exactly Pappu amp opposition done opposing Demonetization none stop Modi bandwagon ti',\n",
       " 'Putting Nation Party Politics nitishkumar supports PM narendramodi Demonetization',\n",
       " 'atm queues bhagalpur Cash withdrawals minutes NoteBan demonetization',\n",
       " 'story tells flipside digital revolution Paytm Demonetization busy celebrating phone go',\n",
       " 'Yash speaks mind issue demonetization discussion Pradesh18Kan Team',\n",
       " 'vote Demonetization Modi survey app',\n",
       " 'vote Demonetization Modi survey app',\n",
       " 'DeMonetization survey results 24 hours 5Lacs opinions Amazing response amp Commitment fight Blackmoney na',\n",
       " 'leaders demonstration demonetization https tcoly6YMSAslt',\n",
       " 'Calling Nationalists join Walk CorruptionFreeIndia spread benefits Demonetization among mas',\n",
       " 'Opposition leaders demonstration demonetization',\n",
       " 'Opposition leaders demonstration demonetization',\n",
       " 'time long successful sustainable strategic game DeMonetization Demons',\n",
       " 'DeMonetization survey results 24 hours 5Lacs opinions Amazing response amp Commitment fight Blackmoney na',\n",
       " 'Tragedy Queen Narendra Modi surely Drama King Demonetization',\n",
       " 'vote Demonetization Modi survey app',\n",
       " 'DeMonetization survey results 24 hours 5Lacs opinions Amazing response amp Commitment fight Blackmoney na',\n",
       " 'views Demonetization industry silent ficciindia followassocham DemonetizationNoEffect',\n",
       " 'Left going file petition SC govts decision demonetization que hell nt debate',\n",
       " 'Minor inconvenience major convenience Vijay Mallya friends demonetization',\n",
       " 'Ts exactly Pappu amp opposition done opposing Demonetization none stop Modi bandwagon ti',\n",
       " 'Rs 40 lakh looted bank Kishtwar amp Third incident since demonetization terrorists',\n",
       " 'BJP ties underworld Mafia exposed Demonetization Demonetisation',\n",
       " 'beggars become smart ed U00A0 U00BD ed U00B8 U009C follow Dattaamit11Amit travelblogger',\n",
       " 'Demonetization time come put MUDRA action writes Prof Vaidyanathan',\n",
       " 'Interesting results narendramodi APP poll DeMonetization still open Please participate',\n",
       " 'guaranteed way get cash days ed U00A0 U00BD ed U00B8 U008B demonetization cash ATM Bengaluru',\n",
       " 'DeMonetization survey results 24 hours 5Lacs opinions Amazing response amp Commitment fight Blackmoney na',\n",
       " 'unaware dream India Kindly make knew vision Demonetization',\n",
       " '500 Crore wedding Janardhan Reddy amp 11 Million views Kriti two affected demonetization http',\n",
       " 'SURGICALSTRIKE BLACKMONEY narendramodi Demonetization Remonetization',\n",
       " 'vote Demonetization Modi survey app',\n",
       " 'IndiaToday 9pm DeMonetization',\n",
       " 'vote Demonetization Modi survey app',\n",
       " 'Future Cars Fitted Digital Identity Tags',\n",
       " 'vote Demonetization Modi survey app',\n",
       " 'DeMonetization survey results 24 hours 5Lacs opinions Amazing response amp Commitment fight Blackmoney na',\n",
       " 'Camel DaalBaati Demonetization',\n",
       " 'Ts exactly Pappu amp opposition done opposing Demonetization none stop Modi bandwagon ti',\n",
       " 'vote Demonetization Modi survey app',\n",
       " 'Demonetization India embrace eWallets eWallet',\n",
       " 'CPIM opposes Coop Banks West Bengal supports Kerala Pawar Uturned Demonetization',\n",
       " 'IndiaToday never balance debate calling proopposite spokesmen anti BJP DeMonetization',\n",
       " 'Interesting results narendramodi APP poll DeMonetization still open Please participate',\n",
       " 'survey promotional app expected PMOpinionPoll Modi wanted test',\n",
       " 'Interesting results narendramodi APP poll DeMonetization still open Please participate',\n",
       " 'DeMonetization PMModi exposed TMC amp Chief Mamta Di reg corruption WB Bengal nt change Mam',\n",
       " 'effect Demonetization',\n",
       " 'issues demonetization maid son exchanged money 15 mins nt son',\n",
       " 'vote Demonetization Modi survey app',\n",
       " 'ArvindKejriwal loses temper BBC reporter questions AAP ldr link suicides amp demonetization',\n",
       " 'vote Demonetization Modi survey app',\n",
       " 'vote Demonetization Modi survey app',\n",
       " 'might possible Demonetization',\n",
       " 'Demonetization move Modi supporting opposing complete coverage parties',\n",
       " 'Ts exactly Pappu amp opposition done opposing Demonetization none stop Modi bandwagon ti',\n",
       " 'Ts exactly Pappu amp opposition done opposing Demonetization none stop Modi bandwagon ti',\n",
       " 'pain suffering Inflicted demonetization Time show gratitude empathy dismissive',\n",
       " 'Interesting results narendramodi APP poll DeMonetization still open Please participate',\n",
       " 'Oscar goes Mr U092D U093E U0935 U0941 U0915 ed U00A0 U00BD ed U00B8 U00A9 ed U00A0 U00BD ed U00B8 U00A5 ed U00A0 U00BD ed U00B8 U00A2 ed U00A0 U00BD ed U00B8 U00AD demonetization',\n",
       " 'DeMonetization thoughts 2 weeks 800 PM speech Lines hv reduced banks exchange ATMs h',\n",
       " 'protesting Demonetization many vocal Corruption Deliberately',\n",
       " 'towards demonetization vote PM App',\n",
       " 'Demonetization achieved unless government monitors probes deposits made Jan Dhan accounts',\n",
       " 'Putting Nation Party Politics nitishkumar supports PM narendramodi Demonetization',\n",
       " 'Demonetization move Modi supporting opposing complete coverage parties',\n",
       " 'effect Demonetization',\n",
       " 'Ts exactly Pappu amp opposition done opposing Demonetization none stop Modi bandwagon ti',\n",
       " 'Ts exactly Pappu amp opposition done opposing Demonetization none stop Modi bandwagon ti',\n",
       " 'Waiting line one way poor people hurt Demonetization know full impact need answers man',\n",
       " 'Interesting results narendramodi APP poll DeMonetization still open Please participate',\n",
       " 'Rs 40 lakh looted bank Kishtwar amp Third incident since demonetization terrorists',\n",
       " 'Thanks demonetization 75 reduction crime rate India Black money seems sole reason 4 problems',\n",
       " 'Question Narendra Modi App PM taking feedback people support DeMonetization strategy',\n",
       " 'Demonetization Modi survey app',\n",
       " 'ArvindKejriwal amp MamataOfficial trying instigate Indians 4 Civil war India demonetization Arrest',\n",
       " 'Modi supporting opposing complete coverage parties',\n",
       " 'protesting Demonetization many vocal Corruption Deliberately',\n",
       " 'bloggers blogged demonetization Read Buzzing Blogosphere',\n",
       " 'IndiaToday 9pm DeMonetization',\n",
       " 'new sport chasing ATMs amp Banks chose play different sport demonetization',\n",
       " 'Zerch Blog leveraged power locationaware techn',\n",
       " 'DeMonetization survey results 24 hours 5Lacs opinions Amazing response amp Commitment fight Blackmoney na',\n",
       " 'Pathetic journalism media thought get STDs ATMs Another attempt malign Demonetization',\n",
       " 'New trick IndiaToday scare people aroonpurie demonetization ATMs cleaned Dettol STD ATM',\n",
       " 'Delhiites least affected demonetization amp long queues ATMs online transactions free wifi',\n",
       " 'job due demonetization',\n",
       " 'Interesting results narendramodi APP poll DeMonetization still open Please participate',\n",
       " 'bite governemnt big demonetization pie becomes first paymentbank go live',\n",
       " 'Rs 40 lakh looted bank Kishtwar amp Third incident since demonetization terrorists',\n",
       " 'Interesting results narendramodi APP poll DeMonetization still open Please participate',\n",
       " 'Watch briefing Demonetization DEA Secy DasShaktikanta morning',\n",
       " 'Man ends life fund shortage ahead daughter wedding Gujarat Demonetization https tcoUc6jrbvUNE',\n",
       " 'Modi app DeMonetization proves govt totally indifferent mounting misery hards',\n",
       " 'effect Demonetization',\n",
       " 'Modi app DeMonetization proves govt totally indifferent mounting misery hards',\n",
       " 'Rs 40 lakh looted bank Kishtwar amp Third incident since demonetization terrorists',\n",
       " 'DeMonetization survey results 24 hours 5Lacs opinions Amazing response amp Commitment fight Blackmoney na',\n",
       " 'IndiaToday 9pm DeMonetization',\n",
       " 'SitaramYechury Continue rants demonetization People Bengal answered LOL Salaam',\n",
       " 'DeMonetization PMModi exposed TMC amp Chief Mamta Di reg corruption WB Bengal nt change Mam',\n",
       " 'hand DeMonetisation demonetization',\n",
       " 'effect Demonetization',\n",
       " 'water ocean representative ocean demonetization',\n",
       " 'DeMonetization AAP protests marching Govts move DeMonetization amp also detained Tried 2 March',\n",
       " 'Demonetization time come put MUDRA action writes Prof Vaidyanathan',\n",
       " 'Rs 40 lakh looted bank Kishtwar amp Third incident since demonetization terrorists',\n",
       " 'Interesting surprise guess Need check data retrospection guess Demonetization BlackMoney ht',\n",
       " 'Rs30 go mad Kejri amp Mamta lost thousands crores want keep calm ed U00A0 U00BD ed U00B8 U008B ed U00A0 U00BD ed U00B8 U0082 ed U00A0 U00BD ed U00B8 U008B Demonetization',\n",
       " 'Rs 40 lakh looted bank Kishtwar amp Third incident since demonetization terrorists',\n",
       " 'effect Demonetization',\n",
       " 'Tackling Demonetization 9 New Steps Help Citizens Fight Cash Crunch https tcoExvHcctRGp',\n",
       " 'DeMonetization survey results 24 hours 5Lacs opinions Amazing response amp Commitment fight Blackmoney na',\n",
       " 'Today DeshKiBaat Debate Panelist Demonetization Watch tonight 930pm Etv Hindi Channels',\n",
       " 'IndiaToday 9pm DeMonetization',\n",
       " 'effect Demonetization',\n",
       " 'effect Demonetization',\n",
       " 'Indian Child Prime Minister Modi NarendraModi Demonetization Demonetisation',\n",
       " 'one survey Son App wherein family vote got 95 sample size 2 Demonetization',\n",
       " 'Rs 40 lakh looted bank Kishtwar amp Third incident since demonetization terrorists',\n",
       " 'Watch Somebody made spoof video demonetization AeDilHaiMushkil trailer hilarious',\n",
       " 'stop ur childsh actsIndians supprt modi 4 demonetization may havin blak money dats opposng policy',\n",
       " 'Man ends life fund shortage ahead daughter wedding Gujarat Demonetization https tcoDGAI5cf05y',\n",
       " 'DeMonetization survey results 24 hours 5Lacs opinions Amazing response amp Commitment fight Blackmoney na',\n",
       " 'effect Demonetization',\n",
       " 'demonetization PM Modi thanks people historic participation narendramodi ji ki jay ho',\n",
       " 'demonetization Currency PMModi VIDEO U279C https tcon7kvc1wsCy Rs500andRs1000',\n",
       " 'reputation working directions FM hell bent destruction MODIG full demonetization',\n",
       " 'narendramodi elected 4 taking bold decisions national interest Bigger cry demonetization means bigger lo',\n",
       " 'DeMonetization survey results 24 hours 5Lacs opinions Amazing response amp Commitment fight Blackmoney na',\n",
       " 'Demonetization Centre bring Mental Bankruptcy bill Parliament Sources U0906 U092A U092A U093E U0917 U0932 U0939 U0948 U0902',\n",
       " 'Bad thing position Worthless Unpaid Hubbies surviving wife money remains aftr demonetization amp free',\n",
       " 'DeMonetization survey results 24 hours 5Lacs opinions Amazing response amp Commitment fight Blackmoney na',\n",
       " 'demonetization know nothing confession livemint amp MintOnSunday SocialMedia EchoChamber India',\n",
       " 'seems Demonetization wave claimed rest',\n",
       " 'effect Demonetization',\n",
       " 'DeMonetization PMModi exposed TMC amp Chief Mamta Di reg corruption WB Bengal nt change Mam',\n",
       " 'effect Demonetization',\n",
       " 'impact common man Read views https tcokFCVgGUcmd',\n",
       " 'Huge support PM narendramodi demonetization Move Across Nation 8086 people back demonetization Cvoter su',\n",
       " 'Modi app DeMonetization proves govt totally indifferent mounting misery hards',\n",
       " 'DeMonetization survey results 24 hours 5Lacs opinions Amazing response amp Commitment fight Blackmoney na',\n",
       " 'DeMonetization survey results 24 hours 5Lacs opinions Amazing response amp Commitment fight Blackmoney na',\n",
       " 'Question Narendra Modi App PM taking feedback people support DeMonetization strategy',\n",
       " 'sorry bro support demonetization',\n",
       " 'DeMonetization survey results 24 hours 5Lacs opinions Amazing response amp Commitment fight Blackmoney na',\n",
       " 'suffering Inflicted demonetization Time show gratitude empathy dismissive salute public',\n",
       " 'Modi app DeMonetization proves govt totally indifferent mounting misery hards',\n",
       " 'waiting Rats confronted truth Coop banks exempted PMOIndia',\n",
       " 'DeMonetization survey results 24 hours 5Lacs opinions Amazing response amp Commitment fight Blackmoney na',\n",
       " 'Reddy Wedding mailtoday cartoon demonetization ReddyWedding',\n",
       " 'Demonetization BlackMoney',\n",
       " 'Tackling Demonetization 9 New Steps Help Citizens Fight Cash Crunch https tcoExvHcctRGp',\n",
       " 'see investigative journalism governance money trail 50 day DeMonetization amp India failed well',\n",
       " 'demonetization ko rok ne lag rhi itni takat help kar dte use achha hota',\n",
       " 'problem offline cash getting online traceable amp taxable',\n",
       " 'DeMonetization survey results 24 hours 5Lacs opinions Amazing response amp Commitment fight Blackmoney na',\n",
       " 'protesting Demonetization many vocal Corruption Deliberately',\n",
       " 'DeMonetization survey results 24 hours 5Lacs opinions Amazing response amp Commitment fight Blackmoney na',\n",
       " 'think Demonetization',\n",
       " 'Demonetization time come put MUDRA action writes Prof Vaidyanathan',\n",
       " 'Left going file petition SC govts decision demonetization que hell nt debate',\n",
       " 'DeMonetization survey results 24 hours 5Lacs opinions Amazing response amp Commitment fight Blackmoney na',\n",
       " 'Modi amp Chamchas told Terrorism wiped Demonetization',\n",
       " 'Absolutely hilarious corrupt protesting name poor Demonetization',\n",
       " 'Calling Nationalists join Walk CorruptionFreeIndia spread benefits Demonetization among mas',\n",
       " 'protesting Demonetization many vocal Corruption Deliberately',\n",
       " '95 sacrificing cleanse 5 Benefits Demonetization reach common man ratio',\n",
       " 'Dear PMOIndia CREDAI supports Demonetization drive amp geared smoother transition towards tran',\n",
       " 'ArvindKejriwal deserves tight slap face demonetization BlackMoney KejriPappuDidiTypes U0938 U093E U0930 U0947 U091A U094B U0930 U092E U091A U093E U092F U0947 U0936 U094B U0930',\n",
       " 'Question Narendra Modi App PM taking feedback people support DeMonetization strategy',\n",
       " 'Rs 40 lakh looted bank Kishtwar amp Third incident since demonetization terrorists',\n",
       " 'DeMonetization certainly hurting Lord ArvindKejriwal Behen Bagwati OfficeOfRG MamtaOfficiaI LOT',\n",
       " 'credible death demonetization caused seems ArvindKejriwal political career',\n",
       " 'went isnide Vijay Shekhar Sharma Paytm day demonetization',\n",
       " 'Fate demonetization debate Rajya Sabha stark proof opposition propaganda govt move hav',\n",
       " 'DeMonetization liberal educated mask slowly peeling big shock starts showing sadakchap thinkng',\n",
       " '85 support demonetization likely SupremeCourt another midnight hearing stay execution',\n",
       " 'Demonetization public sentiment holding first deadline nears',\n",
       " 'Rs 40 lakh looted bank Kishtwar amp Third incident since demonetization terrorists',\n",
       " 'reserve right seriously judge anyone uses stats justify demonetization knowing survey',\n",
       " 'Demonetization time come put MUDRA action writes Prof Vaidyanathan',\n",
       " 'Huge support PM narendramodi demonetization Move Across Nation 8086 people back demonetization Cvoter su',\n",
       " 'Huge support PM narendramodi demonetization Move Across Nation 8086 people back demonetization Cvoter su',\n",
       " 'deal medical emergency cash card insurance Get',\n",
       " 'Well said ed U00A0 U00BD ed U00B1 U008F ed U00A0 U00BC ed U00BF U00BC ed U00A0 U00BD ed U00B1 U008F ed U00A0 U00BC ed U00BF U00BC ed U00A0 U00BD ed U00B1 U008F ed U00A0 U00BC ed U00BF U00BC IEC2016 WeThePeople accepted demonetization PEACEFULLY arunjaitley anandmahindra watc',\n",
       " 'Modi app DeMonetization proves govt totally indifferent mounting misery hards',\n",
       " 'Rs 40 lakh looted bank Kishtwar amp Third incident since demonetization terrorists',\n",
       " 'Huge support PM narendramodi demonetization Move Across Nation 8086 people back demonetization Cvoter su',\n",
       " 'narendramodi ed U00A0 U00BD ed U00B9 U008F Demonetization good decision Corruption planned execut',\n",
       " 'sure Bandh help people supposedly facing issues due demonetization',\n",
       " 'reserve right seriously judge anyone uses stats justify demonetization knowing survey',\n",
       " 'Demonetization time come put MUDRA action writes Prof Vaidyanathan',\n",
       " 'demonetization nab perpetrators BlackMoney',\n",
       " 'narendramodi address nation boycott strike called oppositions Demonetization',\n",
       " 'DeMonetization proves govt totally indifferent mounting misery hardship people',\n",
       " 'Shared Views Demonetization PMModi Take Part Survey NMApp amp Part Nation Building',\n",
       " 'Since demonetization drive began donations temples across nation increased cashchaos',\n",
       " '90 respondents feel govt move tackle black money fourstar rating demonetization survey via TOI',\n",
       " 'demonetization survey results Prime Minister shared bs Heights fudging polls ed U00A0 U00BD ed U00B8 U0082 ed U00A0 U00BD ed U00B8 U0082',\n",
       " 'beautiful post seen last turbulent days ed U00A0 U00BD ed U00B9 U008F devduttmyth demonetization CorruptionCle',\n",
       " 'point view railway housekeeping amp sanitation feedback form far superior Modi app DeMonetization',\n",
       " 'narendramodi elected 4 taking bold decisions national interest Bigger cry demonetization means bigger lo',\n",
       " 'reserve right seriously judge anyone uses stats justify demonetization knowing survey',\n",
       " 'today 33000 thousand ATMs functioning SBI Chairman Smt Arundhati Bhattacharya Demonetization',\n",
       " 'Question Narendra Modi App PM taking feedback people support DeMonetization strategy',\n",
       " 'seriously judge anyone uses stats justify demonetization knowing surve',\n",
       " 'Demonetization time come put MUDRA action writes Prof Vaidyanathan',\n",
       " 'pain suffering Inflicted demonetization Undoubtedly poorest hit hardest',\n",
       " 'Question Narendra Modi App PM taking feedback people support DeMonetization strategy',\n",
       " 'Rs 40 lakh looted bank Kishtwar amp Third incident since demonetization terrorists',\n",
       " 'Sanghi DMs ban social media criticism demonetization NMApp scripted answers allowed guess http',\n",
       " 'MinisterMenu worth every saved 100 rupee nt let demonetization bring',\n",
       " 'Tweet dna DNARumourBuster questions may demonetization give real news KnowMore h',\n",
       " 'Putting Nation Party Politics nitishkumar supports PM narendramodi Demonetization',\n",
       " 'Rs 40 lakh looted bank Kishtwar amp Third incident since demonetization terrorists',\n",
       " 'r running pillar post demonetizationIt beyond imanization NOTEBADI SE BHARATBANDI TAK',\n",
       " 'Aam Aadmi supports Demonetization supports narendramodi',\n",
       " 'ArvindKejriwal amp MamataOfficial trying instigate Indians 4 Civil war India demonetization Arrest',\n",
       " 'CMofKarnataka parameshwar Demonetization',\n",
       " 'Thanks demonetization 75 reduction crime rate India Black money seems sole reason 4 problems',\n",
       " 'ArvindKejriwal amp MamataOfficial trying instigate Indians 4 Civil war India demonetization Arrest',\n",
       " 'Left going file petition SC govts decision demonetization que hell nt debate',\n",
       " 'Thanks demonetization 75 reduction crime rate India Black money seems sole reason 4 problems',\n",
       " 'Steps Help Citizens Fight Cash Crunch',\n",
       " 'cash pay hotel cash nt accept dollars narendramodi Demonetization india tourist',\n",
       " 'India get windfall profit whooping 4 Lakh crores 30 days due demonetization people like AK Pappu amp Mamata',\n",
       " 'India get windfall profit whooping 4 Lakh crores 30 days due demonetization people like AK Pappu amp Mamata',\n",
       " 'India get windfall profit whooping 4 Lakh crores 30 days due demonetization people like AK Pappu amp Mamata',\n",
       " 'ultimately lead buyers LowerEMI HappyHomes Demonetization',\n",
       " 'support demonetization Well according public opinion majority Indians sure',\n",
       " 'DeMonetization Tragic Implementation modi govt Flouting RBI rules Banking License Oper',\n",
       " 'Left going file petition SC govts decision demonetization que hell nt debate',\n",
       " 'Govt nt exempted essential items like food milk public transport exempted petrol amp flights demonetization',\n",
       " 'Calling Nationalists join Walk CorruptionFreeIndia spread benefits Demonetization among mas',\n",
       " 'Demonetization Ultimate Weapon Black economy',\n",
       " 'narendramodi Bank officials make monetization failure Stop fraud corruption going banks',\n",
       " 'Putting Nation Party Politics nitishkumar supports PM narendramodi Demonetization',\n",
       " 'Akali Dal joining opposition party Demonetization BJP continuing coalition government',\n",
       " '92 people support narendramodi Demonetization Modi App amp insist decision back',\n",
       " 'Question Narendra Modi App PM taking feedback people support DeMonetization strategy',\n",
       " '92 people support narendramodi Demonetization Modi App amp insist decision back',\n",
       " 'transfer stay petitions filed centre transfer matters relating demonetization one court Stay',\n",
       " 'demonetization move Parties pls take note voters support move least conduct parliament business',\n",
       " 'lambasted critics demonetization drive saying want corruption Bribery continue great leader',\n",
       " 'News18India Demonetization way creating scenario BharatBandh shall reduce image opposition',\n",
       " 'Rs 40 lakh looted bank Kishtwar amp Third incident since demonetization terrorists',\n",
       " 'Irony times Jholachap economists like giving 100Rs NREGA opposing Demonetization freemarket',\n",
       " 'queues getting longer getting shorter day day Chanda Kochar ICIC MD CEO demonetization',\n",
       " 'Demonetization taught minimalism Less stuff happiness Thank Prime Minister PMOIndia Insights',\n",
       " 'MannKiBaat JanKiBaat demonetization Citizens DEMONETIZATION janjankibaat narendramodi PMOIndia nam',\n",
       " 'Shared Views Demonetization PMModi Take Part Survey NMApp amp Part Nation Building',\n",
       " 'Demonetization time come put MUDRA action writes Prof Vaidyanathan',\n",
       " 'Question Narendra Modi App PM taking feedback people support DeMonetization strategy',\n",
       " 'Demonetization many vocal Corruption Deliberat',\n",
       " 'Joined line Opposition MPs demonstrating solidarity demonetization amp demanding PMOIndia address Parliame',\n",
       " 'govt decision demonetization correct Pls spread positive news jaihind',\n",
       " 'Demonetization time come put MUDRA action writes Prof Vaidyanathan',\n",
       " 'Question Narendra Modi App PM taking feedback people support DeMonetization strategy',\n",
       " 'Read latest NIPFP blogpost titled Demonetization Cure Care Dr Pinaki Chakraborty pinakicha',\n",
       " 'DeMonetization certainly hurting Lord ArvindKejriwal Behen Bagwati OfficeOfRG MamtaOfficiaI LOT',\n",
       " 'Demonetization time come put MUDRA action writes Prof Vaidyanathan',\n",
       " 'JanKiBaat demonetization Citizens DEMONETIZATION janjankibaat narendramodi',\n",
       " 'Rs 40 lakh looted bank Kishtwar amp Third incident since demonetization terrorists',\n",
       " 'Rs 40 lakh looted bank Kishtwar amp Third incident since demonetization terrorists',\n",
       " 'Question Narendra Modi App PM taking feedback people support DeMonetization strategy',\n",
       " 'vijayshekhar Paytm first 24 hours demonetization',\n",
       " 'humble appeal pl patience draw need ATMs Demonetization phase SandA',\n",
       " '700 Crores rupees cash found 3 medical colleges Clearing massive rot medical admissions Demonetization',\n",
       " '700 Crores rupees cash found 3 medical colleges Clearing massive rot medical admissions Demonetization',\n",
       " 'Huge support PM narendramodi demonetization Move Across Nation 8086 people back demonetization Cvoter su',\n",
       " 'rural amp urban areas support demonetization feel worth inconvenience',\n",
       " '92 people support narendramodi Demonetization Modi App amp insist decision back',\n",
       " 'first 24 hours demonetization https tcoEKWEnQFPIO banking',\n",
       " 'CJIThakur says riots due DeMonetization Qs SpicesNSecrets riots due citizens Waiting',\n",
       " 'Huge support PM narendramodi demonetization Move Across Nation 8086 people back demonetization Cvoter su',\n",
       " 'Watch Somebody made spoof video demonetization AeDilHaiMushkil trailer hilarious',\n",
       " 'Question Narendra Modi App PM taking feedback people support DeMonetization strategy',\n",
       " 'Huge support PM narendramodi demonetization Move Across Nation 8086 people back demonetization Cvoter su',\n",
       " '85 support demonetization likely SupremeCourt another midnight hearing stay execution',\n",
       " 'suffering Inflicted demonetization Undoubtedly poorest hit hardest',\n",
       " 'indianoilcl giving cash Mini ATMs people Hinterland IndiaKaDil Helping rural people Demonetization',\n",
       " 'PareshRawal take 500 1000 note demonetization Proud Bankofficials IndianRupee Fight Corruption AccheDin',\n",
       " 'Rs 40 lakh looted bank Kishtwar amp Third incident since demonetization terrorists',\n",
       " 'Demonetization time come put MUDRA action writes Prof Vaidyanathan',\n",
       " 'interest rates react Demonetization Read views https tcokFCVgHbNdL',\n",
       " 'Question Narendra Modi App PM taking feedback people support DeMonetization strategy',\n",
       " 'Calling Nationalists join Walk CorruptionFreeIndia spread benefits Demonetization among mas',\n",
       " 'Rs 40 lakh looted bank Kishtwar amp Third incident since demonetization terrorists',\n",
       " 'Days Demonetization announcement ncbn sold Heritage shares clearly evident prior knowledge',\n",
       " 'big mistake currency ban',\n",
       " 'holding protest Ceasefire Violation Mutilation demonetization bcoz care money',\n",
       " '92 people support narendramodi Demonetization Modi App amp insist decision back',\n",
       " 'Rs 40 lakh looted bank Kishtwar amp Third incident since demonetization terrorists',\n",
       " 'Shiva Sena SAD fall line government Demonetization Say support decision NewIndianXpress',\n",
       " 'Huge support PM narendramodi demonetization Move Across Nation 8086 people back demonetization Cvoter su',\n",
       " '92 people support narendramodi Demonetization Modi App amp insist decision back',\n",
       " 'Demonetization time come put MUDRA action writes Prof Vaidyanathan',\n",
       " '92 people support narendramodi Demonetization Modi App amp insist decision back',\n",
       " 'prefer follow road Even though opposition suggests follow signs',\n",
       " 'Rs 40 lakh looted bank Kishtwar amp Third incident since demonetization terrorists',\n",
       " '92 people support narendramodi Demonetization Modi App amp insist decision back',\n",
       " 'Demonetization public sentiment holding first deadline nears',\n",
       " 'Make Demonetization successful dont pay cash doctor Advisor Lawyer Designer interior decorator etc amp imp',\n",
       " 'Minor inconvenience major convenience Vijay Mallya friends demonetization',\n",
       " 'Putting Nation Party Politics nitishkumar supports PM narendramodi Demonetization',\n",
       " 'Among mostread MalikAshok PM Modi placed well move demonetization',\n",
       " 'Huge support PM narendramodi demonetization Move Across Nation 8086 people back demonetization Cvoter su',\n",
       " 'people narendramodi Demonetization Pl run poll citizens face harassment',\n",
       " 'Delhi SamajwadiParty Jaya Bachchan joins TMC protest Jantar Mantar demonetization issue',\n",
       " 'Days Demonetization announcement ncbn sold Heritage shares clearly evident prior knowledge',\n",
       " 'amnounced 90 Indians support demonetization ed U00A0 U00BD ed U00B1 U008F ed U00A0 U00BD ed U00B1 U008F ed U00A0 U00BD ed U00B1 U008F ed U00A0 U00BD ed U00B1 U008F ed U00A0 U00BD ed U00B1 U008F ed U00A0 U00BD ed U00B1 U008F U270C U270C U270C U270C U270C U270C ed U00A0 U00BD ed U00B1 U0086 ed U00A0 U00BD ed U00B1 U0086 ed U00A0 U00BD ed U00B1 U0086 ed U00A0 U00BD ed U00B1 U0086 ed U00A0 U00BD ed U00B1 U0086 ed U00A0 U00BD ed U00B1 U0086 narendramodi Zindabad',\n",
       " 'Question Narendra Modi App PM taking feedback people support DeMonetization strategy',\n",
       " 'Question Narendra Modi App PM taking feedback people support DeMonetization strategy',\n",
       " 'Huge support PM narendramodi demonetization Move Across Nation 8086 people back demonetization Cvoter su',\n",
       " 'Demonetization time come put MUDRA action writes Prof Vaidyanathan',\n",
       " 'RatanTata supports PM Narendra Modi Demonetization',\n",
       " '700 Crores rupees cash found 3 medical colleges Clearing massive rot medical admissions Demonetization',\n",
       " 'Minor inconvenience major convenience Vijay Mallya friends demonetization',\n",
       " 'understand NarendraModi making announcements meetings functions parliament house Demonetization',\n",
       " 'come put MUDRA action writes Prof Vaidyanathan',\n",
       " 'whopping 80 people surveyed say inconvenience caused DeMonetization worth effort per',\n",
       " 'people narendramodi Demonetization Pl run poll citizens face harassment',\n",
       " 'Retaining seats LS state Byelection BJP proved people support DeMonetization abov',\n",
       " 'akhileshyadav program providing daily meals workers testimony sup',\n",
       " 'Huge support PM narendramodi demonetization Move Across Nation 8086 people back demonetization Cvoter su',\n",
       " 'Putting Nation Party Politics nitishkumar supports PM narendramodi Demonetization',\n",
       " 'evr Developed Nation Political Class VishalDhanWale hv gathered VishalJanSabha agnst Demonetization',\n",
       " 'Unable withdraw money exam fees teen hangs Demonetization https tco2IiIELPLlf',\n",
       " 'Retaining seats LS state Byelection BJP proved people support DeMonetization abov',\n",
       " 'see demonetization plan failing new guidelines thrown us every day',\n",
       " 'debate manakgupta News24 Demonetization ed U00A0 U00BD ed U00B1 U008C',\n",
       " 'Question Narendra Modi App PM taking feedback people support DeMonetization strategy',\n",
       " 'please remind new RBI Governor Demonetization RBIGov UrjitPatel',\n",
       " 'Demonetization public sentiment holding first deadline nears',\n",
       " 'POS bring merchants onboard',\n",
       " 'thre connection whatsoever betn Note ban War war wid Pak already Demonetization extra pain Modi gave us',\n",
       " 'Demonetization public sentiment holding first deadline nears',\n",
       " 'mic BSP leader snatched away started praising Modiji Demonetization move Mayawati',\n",
       " 'Rs 40 lakh looted bank Kishtwar amp Third incident since demonetization terrorists',\n",
       " 'reported many INC leaders post Demonetization reporting Cardiologists Inference',\n",
       " 'Minor inconvenience major convenience Vijay Mallya friends demonetization',\n",
       " 'catapult higher orbit confidence might power glory demonetization narendramodi BJPLive',\n",
       " 'Narendra Modi App shocked demonetization',\n",
       " 'Ultimate Weapon Black economy',\n",
       " '',\n",
       " 'spoof video demonetization AeDilHaiMushkil trailer hilarious',\n",
       " 'Demonetization Ultimate Weapon Black economy',\n",
       " 'Ultimate Weapon Black economy',\n",
       " 'Huge support PM narendramodi demonetization Move Across Nation 8086 people back demonetization Cvoter su',\n",
       " 'note change grey due turboelectric effect nt think difficult solve wit',\n",
       " 'beautiful post seen last turbulent days ed U00A0 U00BD ed U00B9 U008F devduttmyth demonetization CorruptionCle',\n",
       " 'DeMonetization allowing ppl move online Govt waived service charges many online Trxns',\n",
       " 'Putting Nation Party Politics nitishkumar supports PM narendramodi Demonetization',\n",
       " 'Rs 40 lakh looted bank Kishtwar amp Third incident since demonetization terrorists',\n",
       " 'Huge support PM narendramodi demonetization Move Across Nation 8086 people back demonetization Cvoter su',\n",
       " 'ques demonetization raising ques ur father lauded step Modi Ji DeModitisationMarch',\n",
       " 'Calling Nationalists join Walk CorruptionFreeIndia spread benefits Demonetization among mas',\n",
       " 'Rs 40 lakh looted bank Kishtwar amp Third incident since demonetization terrorists',\n",
       " 'Demonetization Teen commits suicide India failing withdraw cash https tco5AoYZ33Shv',\n",
       " 'CREDAI supports Demonetization drive amp geared smoother transition towards',\n",
       " 'cash found 3 medical colleges Clearing massive rot medical admissions DeModitisationMarch Demonetization',\n",
       " 'Day Life Cashless Man DigitalIndia GoCashless Demonetization Startup ed U00A0 U00BC ed U00B7 U00AE ed U00A0 U00BC ed U00B7 U00B3 JainSaurabh85',\n",
       " 'Sanghi DMs ban social media criticism demonetization NMApp scripted answers allowed guess http',\n",
       " 'Rs 40 lakh looted bank Kishtwar amp Third incident since demonetization terrorists',\n",
       " 'Rs 40 lakh looted bank Kishtwar amp Third incident since demonetization terrorists',\n",
       " 'Huge support PM narendramodi demonetization Move Across Nation 8086 people back demonetization Cvoter su',\n",
       " 'Shared Views Demonetization PMModi Take Part Survey NMApp amp Part Nation Building',\n",
       " 'India Mamata Banerjee Lead Protests Demonetization',\n",
       " 'narendramodi demonetization Move Across Nation 8086 people back demonetization C',\n",
       " 'Chakrapani Datacard gives numbers Demonetization Digital transformation pipe dream',\n",
       " 'Rs 40 lakh looted bank Kishtwar amp Third incident since demonetization terrorists',\n",
       " 'Question Narendra Modi App PM taking feedback people support DeMonetization strategy',\n",
       " 'support demonetization Well according public opinion majority Indians sure',\n",
       " 'Huge support PM narendramodi demonetization Move Across Nation 8086 people back demonetization Cvoter su',\n",
       " 'Survey Response 5 Lakh citizens little 24 hrs Participate',\n",
       " 'India get windfall profit whooping 4 Lakh crores 30 days due demonetization people like AK Pappu amp Mamata',\n",
       " 'Calling Nationalists join Walk CorruptionFreeIndia spread benefits Demonetization among mas',\n",
       " 'Man ends life fund shortage ahead daughter wedding Gujarat Demonetization https tcoDGAI5cf05y',\n",
       " 'Huge support PM narendramodi demonetization Move Across Nation 8086 people back demonetization Cvoter su',\n",
       " 'BharatBandh November28th demonetization',\n",
       " 'Putting Nation Party Politics nitishkumar supports PM narendramodi Demonetization',\n",
       " 'BharatBandh November28th Governement decision demonetization',\n",
       " '700 Crores rupees cash found 3 medical colleges Clearing massive rot medical admissions Demonetization',\n",
       " 'Rs 40 lakh looted bank Kishtwar amp Third incident since demonetization terrorists',\n",
       " '700 Crores rupees cash found 3 medical colleges Clearing massive rot medical admissions Demonetization',\n",
       " 'Rs 40 lakh looted bank Kishtwar amp Third incident since demonetization terrorists',\n",
       " 'Putting Nation Party Politics nitishkumar supports PM narendramodi Demonetization',\n",
       " 'Driver flees Rs 1 cr ATM cash Bengaluru BankRobbery behind Demonetization',\n",
       " 'wonder MamataOfficial disturbed Demonetization drive',\n",
       " 'Even 100 white money amp even unaffected demonetization move given lot folks reason',\n",
       " 'new members developed due DeMonetization SanjayDixit tufailelif',\n",
       " 'Rs 40 lakh looted bank Kishtwar amp Third incident since demonetization terrorists',\n",
       " 'Rs 40 lakh looted bank Kishtwar amp Third incident since demonetization terrorists',\n",
       " 'YSRCP Chief YS Jagan Mohan Reddy response media friend question Demonetization YSJagan Ysrcp NCBN Tdp',\n",
       " '700 Crores rupees cash found 3 medical colleges Clearing massive rot medical admissions Demonetization',\n",
       " 'Long amp Short Term Impact Demonetization Indian Economy amp GDP organized',\n",
       " 'Rs 40 lakh looted bank Kishtwar amp Third incident since demonetization terrorists',\n",
       " 'Rs 40 lakh looted bank Kishtwar amp Third incident since demonetization terrorists',\n",
       " 'demonetization clearly shows affected blackmoney lies',\n",
       " 'malls empty amp losing daily business demonetization currencyban publictvnews prajavani',\n",
       " 'whopping 80 people surveyed say inconvenience caused DeMonetization worth effort per',\n",
       " 'YSRCP Chief YS Jagan Mohan Reddy response media friend question Demonetization YSJagan Ysrcp NCBN Tdp',\n",
       " 'Days Demonetization announcement ncbn sold Heritage shares clearly evident prior knowledge',\n",
       " 'Calling Nationalists join Walk CorruptionFreeIndia spread benefits Demonetization among mas',\n",
       " 'Round Table Long amp Short Term Impact Demonetization Indian Economy amp GDP organized BWBusinessworld',\n",
       " 'Rs 40 lakh looted bank Kishtwar amp Third incident since demonetization terrorists',\n",
       " 'opposition protesting demonetization asked protest LOC let see many ga',\n",
       " 'Putting Nation Party Politics nitishkumar supports PM narendramodi Demonetization',\n",
       " 'credible death demonetization caused seems ArvindKejriwal political career',\n",
       " 'Rs 40 lakh looted bank Kishtwar amp Third incident since demonetization terrorists',\n",
       " 'Bypolls decide Demonetization Modi results Bypolls nothing Demonetizat',\n",
       " 'cash found 3 medical colleges Clearing massive rot medical admissions Demonetization',\n",
       " 'DeMonetization thoughts 2 weeks 800 PM speech Lines hv reduced banks exchange ATMs h',\n",
       " 'DeMonetization certainly hurting Lord ArvindKejriwal Behen Bagwati OfficeOfRG MamtaOfficiaI LOT',\n",
       " 'Putting Nation Party Politics nitishkumar supports PM narendramodi Demonetization',\n",
       " 'people narendramodi Demonetization Pl run poll citizens face harassment',\n",
       " 'money opinion Demonetization proves',\n",
       " 'Rs 40 lakh looted bank Kishtwar amp Third incident since demonetization terrorists',\n",
       " 'Minor inconvenience major convenience Vijay Mallya friends demonetization',\n",
       " 'demonetization take time really tough decision lot consequences',\n",
       " 'Huge support PM narendramodi demonetization Move Across Nation 8086 people back demonetization Cvoter su',\n",
       " 'DEMONETIZATION bw 10 Nov 2016 18 Nov 2016 massive strike black money u',\n",
       " 'Putting Nation Party Politics nitishkumar supports PM narendramodi Demonetization',\n",
       " 'JanKiBaat demonetization Citizens DEMONETIZATION janjankibaat narendramodi',\n",
       " 'Huge support PM narendramodi demonetization Move Across Nation 8086 people back demonetization Cvoter su',\n",
       " 'Minor inconvenience major convenience Vijay Mallya friends demonetization',\n",
       " 'Rs 40 lakh looted bank Kishtwar amp Third incident since demonetization terrorists',\n",
       " 'Rs 40 lakh looted bank Kishtwar amp Third incident since demonetization terrorists',\n",
       " 'Joined line Opposition MPs demonstrating solidarity demonetization amp demanding PMOIndia address Parliame',\n",
       " 'issue India proves one thing Bollywood actors sale right price',\n",
       " 'raid poors country',\n",
       " 'smitharnair tries obfuscate Anna Hazare views explains demonetization rustic charm',\n",
       " 'Huge support PM narendramodi demonetization Move Across Nation 8086 people back demonetization Cvoter su',\n",
       " 'Retaining seats LS state Byelection BJP proved people support DeMonetization abov',\n",
       " 'love demonetization yes Thanks Modiji finishing banana republic',\n",
       " 'Minor inconvenience major convenience Vijay Mallya friends demonetization',\n",
       " 'Rs 40 lakh looted bank Kishtwar amp Third incident since demonetization terrorists',\n",
       " 'Rs 40 lakh looted bank Kishtwar amp Third incident since demonetization terrorists',\n",
       " 'Joined line Opposition MPs demonstrating solidarity demonetization amp demanding PMOIndia address Parliame',\n",
       " 'Minor inconvenience major convenience Vijay Mallya friends demonetization',\n",
       " 'Huge support PM narendramodi demonetization Move Across Nation 8086 people back demonetization Cvoter su',\n",
       " 'speaking neighbourhood chemist today DeMonetization say Yes',\n",
       " 'YSRCP Chief YS Jagan Mohan Reddy response media friend question Demonetization YSJagan Ysrcp NCBN Tdp',\n",
       " 'DeMonetization allowing ppl move online Govt waived service charges many online Trxns',\n",
       " 'Putting Nation Party Politics nitishkumar supports PM narendramodi Demonetization',\n",
       " 'Attend round table session effect Demonetization today HotelMET BWBusinessworld anuragbatrayo',\n",
       " 'Huge support PM narendramodi demonetization Move Across Nation 8086 people back demonetization Cvoter su',\n",
       " '10 currencies Read https tcoahh8h7a9O0 Top10 Interesting DeModitisationMarch',\n",
       " 'Rs 40 lakh looted bank Kishtwar amp Third incident since demonetization terrorists',\n",
       " 'difficult change rs 2000 expect narendramodi change INDIA LOL',\n",
       " 'National Unity safety agree please RT MamtaBanerjee OppositionXposed',\n",
       " 'LodhaGroup tells us buyers stay positive demonetization move CNBCTV18News',\n",
       " 'TimesNow IndiaToday Deshdrohi came together fight Great PMModi blackMoneycleanup demonetization',\n",
       " 'Rs 40 lakh looted bank Kishtwar amp Third incident since demonetization terrorists',\n",
       " 'Rs 40 lakh looted bank Kishtwar amp Third incident since demonetization terrorists',\n",
       " 'DeMonetization like Pushup Bra looks impressive reality remain',\n",
       " 'Rs 40 lakh looted bank Kishtwar amp Third incident since demonetization terrorists',\n",
       " 'Huge support PM narendramodi demonetization Move Across Nation 8086 people back demonetization Cvoter su',\n",
       " 'Huge support PM narendramodi demonetization Move Across Nation 8086 people back demonetization Cvoter su',\n",
       " 'Huge support PM narendramodi demonetization Move Across Nation 8086 people back demonetization Cvoter su',\n",
       " 'RatanTata supports PM Narendra Modi Demonetization',\n",
       " 'Rs 40 lakh looted bank Kishtwar amp Third incident since demonetization terrorists',\n",
       " 'life must slogan Demonetization implemented Modi',\n",
       " 'DeMonetization certainly hurting Lord ArvindKejriwal Behen Bagwati OfficeOfRG MamtaOfficiaI LOT',\n",
       " 'DeMonetization thoughts 2 weeks 800 PM speech Lines hv reduced banks exchange ATMs h',\n",
       " 'amp Kamal Mohanlal amp AamirKhan comment Modi Demonetization move https tcoT1YTGci8EZ',\n",
       " 'DeMonetization Finally country large scale gone ahead move Give us citizens',\n",
       " 'Minor inconvenience major convenience Vijay Mallya friends demonetization',\n",
       " 'Joined line Opposition MPs demonstrating solidarity demonetization amp demanding PMOIndia address Parliame',\n",
       " 'Minor inconvenience major convenience Vijay Mallya friends demonetization',\n",
       " 'India demonetization amp markets net foreign outflow 3B stocksbonds since Nov 8 Nifty 6 MSCI India 2017 EPS cut',\n",
       " 'Man ends life fund shortage ahead daughter wedding Gujarat Demonetization https tcoDGAI5cf05y',\n",
       " 'Joined line Opposition MPs demonstrating solidarity demonetization amp demanding PMOIndia address Parliame',\n",
       " 'JanKiBaat demonetization Youth DEMONETIZATION janjankibaat narendramodi PMOIndia',\n",
       " 'Rs 40 lakh looted bank Kishtwar amp Third incident since demonetization terrorists',\n",
       " 'online ticket booking Read https tcoPEtbPtl8Se demonetization IRCTC',\n",
       " 'Minor inconvenience major convenience Vijay Mallya friends demonetization',\n",
       " 'Huge support PM narendramodi demonetization Move Across Nation 8086 people back demonetization Cvoter su',\n",
       " 'HPCL Bangalore RO Helping Banks Demonetization Drive',\n",
       " 'whopping 80 people surveyed say inconvenience caused DeMonetization worth effort per',\n",
       " 'Rs 40 lakh looted bank Kishtwar amp Third incident since demonetization terrorists',\n",
       " 'narendramodi Demonetization Pl run poll citizens face harassment hands corrupt',\n",
       " 'Minority institutions exempt Demonetization conduct raids',\n",
       " '10am people standing line since dawn nobody get 10000 WTH demonetization',\n",
       " 'HPCL Bangalore RO Helping Banks Demonetization Drive',\n",
       " 'Rs 40 lakh looted bank Kishtwar amp Third incident since demonetization terrorists',\n",
       " 'opinion demonetization via official NarendraModi app https tcov1KQaGfLQd',\n",
       " 'PM asks opinion demonetization via official NarendraModi app https tcomjaSbJ2Dp1',\n",
       " 'HPCL Bangalore RO Helping Banks Demonetization Drive',\n",
       " 'Critical question PayTM informed Demonetization edict PM clearly fishy requires full disclosure amp',\n",
       " 'Demonetization 2nd word trending Intolerance Thanks Pappu Kejri Mamta VishalJanSabha KhulkeDulke Ind',\n",
       " 'Oscar goes Mr U092D U093E U0935 U0941 U0915 ed U00A0 U00BD ed U00B8 U00A9 ed U00A0 U00BD ed U00B8 U00A5 ed U00A0 U00BD ed U00B8 U00A2 ed U00A0 U00BD ed U00B8 U00AD demonetization',\n",
       " 'session effect Demonetization today HotelMET BWBusinessworld anuragbatrayo',\n",
       " 'Rs 40 lakh looted bank Kishtwar amp Third incident since demonetization terrorists',\n",
       " 'Minor inconvenience major convenience Vijay Mallya friends demonetization',\n",
       " 'Rs 40 lakh looted bank Kishtwar amp Third incident since demonetization terrorists',\n",
       " 'Days Demonetization announcement ncbn sold Heritage shares clearly evident prior knowledge',\n",
       " 'indianoilcl giving cash Mini ATMs people Hinterland IndiaKaDil Helping rural people Demonetization',\n",
       " 'Shared Views Demonetization PMModi Take Part Survey NMApp amp Part Nation Building',\n",
       " 'Minor inconvenience major convenience Vijay Mallya friends demonetization',\n",
       " 'Demonetization Indian Economy amp GDP organized BWBusinessworld HotelMET PMOIndia',\n",
       " 'Putting Nation Party Politics nitishkumar supports PM narendramodi Demonetization',\n",
       " 'cuts bullshit critical legal issues regarding DeMonetization MustRead',\n",
       " 'Shared Views Demonetization PMModi Take Part Survey NMApp amp Part Nation Building',\n",
       " 'payments supermarkets hypermarkets owned Future Retail',\n",
       " 'Putting Nation Party Politics nitishkumar supports PM narendramodi Demonetization',\n",
       " 'Putting Nation Party Politics nitishkumar supports PM narendramodi Demonetization',\n",
       " 'Perfect Demonetization message mind blowing end MustWatch RT plz muglikar',\n",
       " 'limit 24k per week Savings account amp 50k per week Current account Demonetization',\n",
       " 'RajThackeray welcomes Demonetization asks real relevant questions govt mismanagement trouble',\n",
       " 'Following Demonetization Rs5001K notes launch Rs2K notes https tcooH96iTuvsk',\n",
       " '10 days since demonetization announcement potential benefits demonetization',\n",
       " 'Rs 40 lakh looted bank Kishtwar amp Third incident since demonetization terrorists',\n",
       " 'Never Vote BJP launched Apple watch app Demonetization issues high tech',\n",
       " 'come back ATM everyone home gives Gabbar Singh look asks',\n",
       " 'cuts bullshit critical legal issues regarding DeMonetization MustRead',\n",
       " 'million merchants next 12 months Demonetization gt Digital India gt Clean India',\n",
       " 'Rs 40 lakh looted bank Kishtwar amp Third incident since demonetization terrorists',\n",
       " 'cuts bullshit critical legal issues regarding DeMonetization MustRead',\n",
       " 'assisting people Demonetization',\n",
       " 'Chandrababu first said Narendra Modi implemented Demonetization taking advice Upon seeing',\n",
       " 'Rs 40 lakh looted bank Kishtwar amp Third incident since demonetization terrorists',\n",
       " 'Rs 40 lakh looted bank Kishtwar amp Third incident since demonetization terrorists',\n",
       " 'Putting Nation Party Politics nitishkumar supports PM narendramodi Demonetization',\n",
       " 'Putting Nation Party Politics nitishkumar supports PM narendramodi Demonetization',\n",
       " 'Rs 500 Rs 1000 amp Rs 2000 one ready accept demonetization IMwithModi',\n",
       " 'know narendramodi claim patriotism may enough dig DeMonetization hole put',\n",
       " 'Joined line Opposition MPs demonstrating solidarity demonetization amp demanding PMOIndia address Parliame',\n",
       " 'fuss stood longer Demonetization PartI issues PartII su',\n",
       " 'people Chennai Demonetization 22',\n",
       " 'Critical question PayTM informed Demonetization edict PM clearly fishy requires full disclosure amp',\n",
       " 'Putting Nation Party Politics nitishkumar supports PM narendramodi Demonetization',\n",
       " 'Game Set amp Match PM Modi Demonetization',\n",
       " 'Rs 40 lakh looted bank Kishtwar amp Third incident since demonetization terrorists',\n",
       " 'much trouble buy farming seeds boz seed sellers ready accept old notes demonetization currencyban',\n",
       " 'YSRCP Chief YS Jagan Mohan Reddy response media friend question Demonetization YSJagan Ysrcp NCBN Tdp',\n",
       " 'Absolutely hilarious corrupt protesting name poor Demonetization',\n",
       " 'Critical question PayTM informed Demonetization edict PM clearly fishy requires full disclosure amp',\n",
       " 'Shared Views Demonetization PMModi Take Part Survey NMApp amp Part Nation Building',\n",
       " 'Putting Nation Party Politics nitishkumar supports PM narendramodi Demonetization',\n",
       " 'DeMonetization certainly hurting Lord ArvindKejriwal Behen Bagwati OfficeOfRG MamtaOfficiaI LOT',\n",
       " 'Game Set amp Match PM Modi Demonetization',\n",
       " 'Days Demonetization announcement ncbn sold Heritage shares clearly evident prior knowledge',\n",
       " 'HPCL Bangalore RO Helping Banks Demonetization Drive',\n",
       " 'Invested 3300 Crores Overseas Foreseeing NoteBan Lalettan Demonetization Mollywood',\n",
       " 'Views Demonetization PMModi Take Part Survey NMApp amp Part Nation Build',\n",
       " 'Joined line Opposition MPs demonstrating solidarity demonetization amp demanding PMOIndia address Parliame',\n",
       " 'DeMonetization certainly hurting Lord ArvindKejriwal Behen Bagwati OfficeOfRG MamtaOfficiaI LOT',\n",
       " 'Critical question PayTM informed Demonetization edict PM clearly fishy requires full disclosure amp',\n",
       " 'Joined line Opposition MPs demonstrating solidarity demonetization amp demanding PMOIndia address Parliame',\n",
       " 'Joined line Opposition MPs demonstrating solidarity demonetization amp demanding PMOIndia address Parliame',\n",
       " 'informative thread Demonetization Must Read',\n",
       " 'confess crime Bapu original sinner inflicted Nehru India',\n",
       " 'Putting Nation Party Politics nitishkumar supports PM narendramodi Demonetization',\n",
       " 'Game Set amp Match PM Modi Demonetization',\n",
       " 'Days Demonetization announcement ncbn sold Heritage shares clearly evident prior knowledg',\n",
       " 'Game Set amp Match PM Modi Demonetization',\n",
       " 'DeMonetization Finally country large scale gone ahead move Give us citizens',\n",
       " 'Days Demonetization announcement ncbn sold Heritage shares clearly evident prior knowledge',\n",
       " 'DeMonetization usual suspects making usual noises majority Indians still trust narendramodi',\n",
       " 'Rs 40 lakh looted bank Kishtwar amp Third incident since demonetization terrorists',\n",
       " 'DeMonetization BM hoarders finding ways move cash advance salaries cash repaying old dues govt',\n",
       " 'CPIM opposes Coop Banks West Bengal supports Kerala Pawar Uturned Demonetization',\n",
       " 'DeMonetization Govt either improvised course correction steps taken limits improvement old notes f',\n",
       " 'atms order cashless public facing much trouble demonetization btvnewslive suvarnanewstv',\n",
       " 'DeMonetization malls markets getting back life purchases folks getting change 2K',\n",
       " 'claim patriotism may enough dig DeMonetization hole put',\n",
       " 'DeMonetization new 500 notes yet coming majority recalibrated ATMs Ppl small amoun',\n",
       " 'Putting Nation Party Politics nitishkumar supports PM narendramodi Demonetization',\n",
       " 'Game Set amp Match PM Modi Demonetization',\n",
       " 'Putting Nation Party Politics nitishkumar supports PM narendramodi Demonetization',\n",
       " 'Huge support PM narendramodi demonetization Move Across Nation 8086 people back demonetization Cvoter su',\n",
       " 'whopping 80 people surveyed say inconvenience caused DeMonetization worth effort per',\n",
       " 'Calling Nationalists join Walk CorruptionFreeIndia spread benefits Demonetization among mas',\n",
       " 'Demonetization Effect 222 Naxals Surrender Odisha Read https tcorFk0qMFchy',\n",
       " 'Kolkata supports Demonetization move NarendraModi narendramodi BJP4India',\n",
       " 'Calling Nationalists join Walk CorruptionFreeIndia spread benefits Demonetization among mas',\n",
       " 'Kolkata supports Demonetization move NarendraModi narendramodi BJP4India',\n",
       " 'anandkamal Frankly nt understand narendramodi nt address Parlmnt Demonetization duty amp wil',\n",
       " 'Putting Nation Party Politics nitishkumar supports PM narendramodi Demonetization',\n",
       " 'anandkamal Frankly nt understand narendramodi nt address Parlmnt Demonetization duty amp wil',\n",
       " 'DeMonetization certainly hurting Lord ArvindKejriwal Behen Bagwati OfficeOfRG MamtaOfficiaI LOT',\n",
       " 'demonetization https tcovBlxteoDNK check live blog well',\n",
       " 'Calling Nationalists join Walk CorruptionFreeIndia spread benefits Demonetization among mas',\n",
       " 'Game Set amp Match PM Modi Demonetization',\n",
       " 'Putting Nation Party Politics nitishkumar supports PM narendramodi Demonetization',\n",
       " 'Huge support PM narendramodi demonetization Move Across Nation 8086 people back demonetization Cvoter su',\n",
       " 'Calling Nationalists join Walk CorruptionFreeIndia spread benefits Demonetization among mas',\n",
       " 'Shankar supports demonetization hails PM narendramodi',\n",
       " 'awful demonetization woes hear field partners villages see pattern 4n',\n",
       " 'DeMonetization certainly hurting Lord ArvindKejriwal Behen Bagwati OfficeOfRG MamtaOfficiaI LOT',\n",
       " 'Shiva Sena SAD fall line government Demonetization Say support decision NewIndianXpress',\n",
       " 'Absolutely hilarious corrupt protesting name poor Demonetization',\n",
       " 'Absolutely hilarious corrupt protesting name poor Demonetization',\n",
       " 'Huge support PM narendramodi demonetization Move Across Nation 8086 people back demonetization Cvoter su',\n",
       " 'Rs 40 lakh looted bank Kishtwar amp Third incident since demonetization terrorists',\n",
       " 'SaveThePeople innocent poor common people India victims harassment',\n",
       " 'whopping 80 people surveyed say inconvenience caused DeMonetization worth effort per',\n",
       " 'Joined line Opposition MPs demonstrating solidarity demonetization amp demanding PMOIndia address Parliame',\n",
       " 'Tackling Demonetization 9 New Steps Help Citizens Fight Cash Crunch https tcoExvHcctRGp',\n",
       " 'Demonetization TRAI slashes USSDbased mobile banking charges',\n",
       " 'Calling Nationalists join Walk CorruptionFreeIndia spread benefits Demonetization among mas',\n",
       " ...]"
      ]
     },
     "execution_count": 74,
     "metadata": {},
     "output_type": "execute_result"
    }
   ],
   "source": [
    "processed_features=[]\n",
    "\n",
    "for sentence in range(0, len(features)):\n",
    "    #remove all the special characters\n",
    "    cleaned_feature=re.sub(r'\\W+', ' ', str(features[sentence]))\n",
    "    \n",
    "    #remove any single character occurring in the string /s\n",
    "    cleaned_feature=re.sub(r'\\s+[a-zA-Z]\\s+', ' ', cleaned_feature)\n",
    "    \n",
    "    #at beginning and at the end if there's any single character remove it as well (h/w)\n",
    "    \n",
    "    cleaned_feature=re.sub(r'\\s+', ' ', cleaned_feature)\n",
    "    processed_features.append(cleaned_feature)\n",
    "    \n",
    "processed_features"
   ]
  },
  {
   "cell_type": "code",
   "execution_count": 75,
   "id": "d51251ab",
   "metadata": {},
   "outputs": [],
   "source": [
    "tweets[\"processed_text\"] = processed_features"
   ]
  },
  {
   "cell_type": "code",
   "execution_count": 76,
   "id": "0abe5f34",
   "metadata": {},
   "outputs": [
    {
     "data": {
      "text/html": [
       "<div>\n",
       "<style scoped>\n",
       "    .dataframe tbody tr th:only-of-type {\n",
       "        vertical-align: middle;\n",
       "    }\n",
       "\n",
       "    .dataframe tbody tr th {\n",
       "        vertical-align: top;\n",
       "    }\n",
       "\n",
       "    .dataframe thead th {\n",
       "        text-align: right;\n",
       "    }\n",
       "</style>\n",
       "<table border=\"1\" class=\"dataframe\">\n",
       "  <thead>\n",
       "    <tr style=\"text-align: right;\">\n",
       "      <th></th>\n",
       "      <th>text</th>\n",
       "      <th>favorited</th>\n",
       "      <th>favoriteCount</th>\n",
       "      <th>replyToSN</th>\n",
       "      <th>created</th>\n",
       "      <th>truncated</th>\n",
       "      <th>replyToSID</th>\n",
       "      <th>statusSource</th>\n",
       "      <th>screenName</th>\n",
       "      <th>retweetCount</th>\n",
       "      <th>isRetweet</th>\n",
       "      <th>retweeted</th>\n",
       "      <th>cleaned_text</th>\n",
       "      <th>processed_text</th>\n",
       "    </tr>\n",
       "  </thead>\n",
       "  <tbody>\n",
       "    <tr>\n",
       "      <th>0</th>\n",
       "      <td>RT @rssurjewala: Critical question: Was PayTM ...</td>\n",
       "      <td>False</td>\n",
       "      <td>0</td>\n",
       "      <td>NaN</td>\n",
       "      <td>11/23/2016 18:40</td>\n",
       "      <td>False</td>\n",
       "      <td>NaN</td>\n",
       "      <td>&lt;a href=\"http://twitter.com/download/android\" ...</td>\n",
       "      <td>HASHTAGFARZIWAL</td>\n",
       "      <td>331</td>\n",
       "      <td>True</td>\n",
       "      <td>False</td>\n",
       "      <td>Critical question PayTM informed Demonetizatio...</td>\n",
       "      <td>Critical question PayTM informed Demonetizatio...</td>\n",
       "    </tr>\n",
       "    <tr>\n",
       "      <th>1</th>\n",
       "      <td>RT @roshankar: Former FinSec, RBI Dy Governor,...</td>\n",
       "      <td>False</td>\n",
       "      <td>0</td>\n",
       "      <td>NaN</td>\n",
       "      <td>11/23/2016 18:40</td>\n",
       "      <td>False</td>\n",
       "      <td>NaN</td>\n",
       "      <td>&lt;a href=\"http://twitter.com/download/android\" ...</td>\n",
       "      <td>rahulja13034944</td>\n",
       "      <td>12</td>\n",
       "      <td>True</td>\n",
       "      <td>False</td>\n",
       "      <td>Former FinSec RBI Dy Governor CBDT Chair Harva...</td>\n",
       "      <td>Former FinSec RBI Dy Governor CBDT Chair Harva...</td>\n",
       "    </tr>\n",
       "    <tr>\n",
       "      <th>2</th>\n",
       "      <td>RT @satishacharya: Reddy Wedding! @mail_today ...</td>\n",
       "      <td>False</td>\n",
       "      <td>0</td>\n",
       "      <td>NaN</td>\n",
       "      <td>11/23/2016 18:39</td>\n",
       "      <td>False</td>\n",
       "      <td>NaN</td>\n",
       "      <td>&lt;a href=\"http://cpimharyana.com\" rel=\"nofollow...</td>\n",
       "      <td>CPIMBadli</td>\n",
       "      <td>120</td>\n",
       "      <td>True</td>\n",
       "      <td>False</td>\n",
       "      <td>Reddy Wedding mailtoday cartoon demonetization...</td>\n",
       "      <td>Reddy Wedding mailtoday cartoon demonetization...</td>\n",
       "    </tr>\n",
       "    <tr>\n",
       "      <th>3</th>\n",
       "      <td>RT @gauravcsawant: Rs 40 lakh looted from a ba...</td>\n",
       "      <td>False</td>\n",
       "      <td>0</td>\n",
       "      <td>NaN</td>\n",
       "      <td>11/23/2016 18:38</td>\n",
       "      <td>False</td>\n",
       "      <td>NaN</td>\n",
       "      <td>&lt;a href=\"http://twitter.com/download/android\" ...</td>\n",
       "      <td>bhodia1</td>\n",
       "      <td>637</td>\n",
       "      <td>True</td>\n",
       "      <td>False</td>\n",
       "      <td>Rs 40 lakh looted bank Kishtwar J amp K Third ...</td>\n",
       "      <td>Rs 40 lakh looted bank Kishtwar amp Third inci...</td>\n",
       "    </tr>\n",
       "    <tr>\n",
       "      <th>4</th>\n",
       "      <td>RT @sumitbhati2002: Many opposition leaders ar...</td>\n",
       "      <td>False</td>\n",
       "      <td>0</td>\n",
       "      <td>NaN</td>\n",
       "      <td>11/23/2016 18:38</td>\n",
       "      <td>False</td>\n",
       "      <td>NaN</td>\n",
       "      <td>&lt;a href=\"http://twitter.com/download/android\" ...</td>\n",
       "      <td>sumitbhati2002</td>\n",
       "      <td>1</td>\n",
       "      <td>True</td>\n",
       "      <td>False</td>\n",
       "      <td>Many opposition leaders narendramodi Demonetiz...</td>\n",
       "      <td>Many opposition leaders narendramodi Demonetiz...</td>\n",
       "    </tr>\n",
       "  </tbody>\n",
       "</table>\n",
       "</div>"
      ],
      "text/plain": [
       "                                                text  favorited  \\\n",
       "0  RT @rssurjewala: Critical question: Was PayTM ...      False   \n",
       "1  RT @roshankar: Former FinSec, RBI Dy Governor,...      False   \n",
       "2  RT @satishacharya: Reddy Wedding! @mail_today ...      False   \n",
       "3  RT @gauravcsawant: Rs 40 lakh looted from a ba...      False   \n",
       "4  RT @sumitbhati2002: Many opposition leaders ar...      False   \n",
       "\n",
       "   favoriteCount replyToSN           created  truncated  replyToSID  \\\n",
       "0              0       NaN  11/23/2016 18:40      False         NaN   \n",
       "1              0       NaN  11/23/2016 18:40      False         NaN   \n",
       "2              0       NaN  11/23/2016 18:39      False         NaN   \n",
       "3              0       NaN  11/23/2016 18:38      False         NaN   \n",
       "4              0       NaN  11/23/2016 18:38      False         NaN   \n",
       "\n",
       "                                        statusSource       screenName  \\\n",
       "0  <a href=\"http://twitter.com/download/android\" ...  HASHTAGFARZIWAL   \n",
       "1  <a href=\"http://twitter.com/download/android\" ...  rahulja13034944   \n",
       "2  <a href=\"http://cpimharyana.com\" rel=\"nofollow...        CPIMBadli   \n",
       "3  <a href=\"http://twitter.com/download/android\" ...          bhodia1   \n",
       "4  <a href=\"http://twitter.com/download/android\" ...   sumitbhati2002   \n",
       "\n",
       "   retweetCount  isRetweet  retweeted  \\\n",
       "0           331       True      False   \n",
       "1            12       True      False   \n",
       "2           120       True      False   \n",
       "3           637       True      False   \n",
       "4             1       True      False   \n",
       "\n",
       "                                        cleaned_text  \\\n",
       "0  Critical question PayTM informed Demonetizatio...   \n",
       "1  Former FinSec RBI Dy Governor CBDT Chair Harva...   \n",
       "2  Reddy Wedding mailtoday cartoon demonetization...   \n",
       "3  Rs 40 lakh looted bank Kishtwar J amp K Third ...   \n",
       "4  Many opposition leaders narendramodi Demonetiz...   \n",
       "\n",
       "                                      processed_text  \n",
       "0  Critical question PayTM informed Demonetizatio...  \n",
       "1  Former FinSec RBI Dy Governor CBDT Chair Harva...  \n",
       "2  Reddy Wedding mailtoday cartoon demonetization...  \n",
       "3  Rs 40 lakh looted bank Kishtwar amp Third inci...  \n",
       "4  Many opposition leaders narendramodi Demonetiz...  "
      ]
     },
     "execution_count": 76,
     "metadata": {},
     "output_type": "execute_result"
    }
   ],
   "source": [
    "tweets.head()"
   ]
  },
  {
   "cell_type": "code",
   "execution_count": 80,
   "id": "65f297a7",
   "metadata": {},
   "outputs": [
    {
     "ename": "ModuleNotFoundError",
     "evalue": "No module named 'textblob'",
     "output_type": "error",
     "traceback": [
      "\u001b[0;31m---------------------------------------------------------------------------\u001b[0m",
      "\u001b[0;31mModuleNotFoundError\u001b[0m                       Traceback (most recent call last)",
      "Cell \u001b[0;32mIn[80], line 2\u001b[0m\n\u001b[1;32m      1\u001b[0m \u001b[38;5;66;03m#sentiment analysis\u001b[39;00m\n\u001b[0;32m----> 2\u001b[0m \u001b[38;5;28;01mfrom\u001b[39;00m \u001b[38;5;21;01mtextblob\u001b[39;00m \u001b[38;5;28;01mimport\u001b[39;00m TextBlob\n",
      "\u001b[0;31mModuleNotFoundError\u001b[0m: No module named 'textblob'"
     ]
    }
   ],
   "source": [
    "#sentiment analysis\n",
    "from textblob import TextBlob"
   ]
  },
  {
   "cell_type": "code",
   "execution_count": 81,
   "id": "31d9ed57",
   "metadata": {},
   "outputs": [
    {
     "name": "stdout",
     "output_type": "stream",
     "text": [
      "Collecting package metadata (current_repodata.json): done\n",
      "Solving environment: unsuccessful initial attempt using frozen solve. Retrying with flexible solve.\n",
      "Collecting package metadata (repodata.json): done\n",
      "Solving environment: unsuccessful initial attempt using frozen solve. Retrying with flexible solve.\n",
      "\n",
      "PackagesNotFoundError: The following packages are not available from current channels:\n",
      "\n",
      "  - textblob\n",
      "\n",
      "Current channels:\n",
      "\n",
      "  - https://repo.anaconda.com/pkgs/main/osx-arm64\n",
      "  - https://repo.anaconda.com/pkgs/main/noarch\n",
      "  - https://repo.anaconda.com/pkgs/r/osx-arm64\n",
      "  - https://repo.anaconda.com/pkgs/r/noarch\n",
      "\n",
      "To search for alternate channels that may provide the conda package you're\n",
      "looking for, navigate to\n",
      "\n",
      "    https://anaconda.org\n",
      "\n",
      "and use the search bar at the top of the page.\n",
      "\n",
      "\n",
      "\n",
      "Note: you may need to restart the kernel to use updated packages.\n"
     ]
    }
   ],
   "source": [
    "conda install textblob"
   ]
  },
  {
   "cell_type": "code",
   "execution_count": 83,
   "id": "d3a1dc4d",
   "metadata": {},
   "outputs": [
    {
     "ename": "ModuleNotFoundError",
     "evalue": "No module named 'textblob'",
     "output_type": "error",
     "traceback": [
      "\u001b[0;31m---------------------------------------------------------------------------\u001b[0m",
      "\u001b[0;31mModuleNotFoundError\u001b[0m                       Traceback (most recent call last)",
      "Cell \u001b[0;32mIn[83], line 1\u001b[0m\n\u001b[0;32m----> 1\u001b[0m \u001b[38;5;28;01mfrom\u001b[39;00m \u001b[38;5;21;01mtextblob\u001b[39;00m \u001b[38;5;28;01mimport\u001b[39;00m TextBlob\n",
      "\u001b[0;31mModuleNotFoundError\u001b[0m: No module named 'textblob'"
     ]
    }
   ],
   "source": [
    "from textblob import TextBlob"
   ]
  },
  {
   "cell_type": "code",
   "execution_count": 84,
   "id": "13bee1e6",
   "metadata": {},
   "outputs": [
    {
     "name": "stdout",
     "output_type": "stream",
     "text": [
      "Collecting textblob\n",
      "  Obtaining dependency information for textblob from https://files.pythonhosted.org/packages/02/07/5fd2945356dd839974d3a25de8a142dc37293c21315729a41e775b5f3569/textblob-0.18.0.post0-py3-none-any.whl.metadata\n",
      "  Downloading textblob-0.18.0.post0-py3-none-any.whl.metadata (4.5 kB)\n",
      "Requirement already satisfied: nltk>=3.8 in /Users/mordhwaj/anaconda3/lib/python3.11/site-packages (from textblob) (3.8.1)\n",
      "Requirement already satisfied: click in /Users/mordhwaj/anaconda3/lib/python3.11/site-packages (from nltk>=3.8->textblob) (8.0.4)\n",
      "Requirement already satisfied: joblib in /Users/mordhwaj/anaconda3/lib/python3.11/site-packages (from nltk>=3.8->textblob) (1.2.0)\n",
      "Requirement already satisfied: regex>=2021.8.3 in /Users/mordhwaj/anaconda3/lib/python3.11/site-packages (from nltk>=3.8->textblob) (2022.7.9)\n",
      "Requirement already satisfied: tqdm in /Users/mordhwaj/anaconda3/lib/python3.11/site-packages (from nltk>=3.8->textblob) (4.65.0)\n",
      "Downloading textblob-0.18.0.post0-py3-none-any.whl (626 kB)\n",
      "\u001b[2K   \u001b[90m━━━━━━━━━━━━━━━━━━━━━━━━━━━━━━━━━━━━━━━━\u001b[0m \u001b[32m626.3/626.3 kB\u001b[0m \u001b[31m3.8 MB/s\u001b[0m eta \u001b[36m0:00:00\u001b[0ma \u001b[36m0:00:01\u001b[0mm\n",
      "\u001b[?25hInstalling collected packages: textblob\n",
      "Successfully installed textblob-0.18.0.post0\n"
     ]
    }
   ],
   "source": [
    "!pip install textblob"
   ]
  },
  {
   "cell_type": "code",
   "execution_count": 85,
   "id": "5c6bc551",
   "metadata": {},
   "outputs": [],
   "source": [
    "from textblob import TextBlob"
   ]
  },
  {
   "cell_type": "code",
   "execution_count": 86,
   "id": "415ba27b",
   "metadata": {},
   "outputs": [
    {
     "data": {
      "text/plain": [
       "Sentiment(polarity=0.0, subjectivity=0.0)"
      ]
     },
     "execution_count": 86,
     "metadata": {},
     "output_type": "execute_result"
    }
   ],
   "source": [
    "TextBlob(\"fight\").sentiment"
   ]
  },
  {
   "cell_type": "code",
   "execution_count": 87,
   "id": "58dae7f5",
   "metadata": {},
   "outputs": [],
   "source": [
    "#polarity [-1 to 1] float\n",
    "# -1 negative, 0 neutral, 1 positive\n",
    "#subjectivity [0 to 1] float\n",
    "# emotions, personal feelings, views, opinions, beliefs, (subjective closer to 1)\n",
    "# factual, facts, universal truth (objective, closer to 0)"
   ]
  },
  {
   "cell_type": "code",
   "execution_count": 88,
   "id": "e19b461b",
   "metadata": {},
   "outputs": [],
   "source": [
    "def generate_sentiment(text):\n",
    "    sent=TextBlob(text).sentiment\n",
    "    return sent"
   ]
  },
  {
   "cell_type": "code",
   "execution_count": 89,
   "id": "53dca5a0",
   "metadata": {},
   "outputs": [],
   "source": [
    "tweets[\"polarity\"]=tweets[\"processed_text\"].apply(generate_sentiment).apply(lambda x:x[0])"
   ]
  },
  {
   "cell_type": "code",
   "execution_count": 90,
   "id": "74c3d4d5",
   "metadata": {},
   "outputs": [],
   "source": [
    "tweets[\"subjectivity\"]=tweets[\"processed_text\"].apply(generate_sentiment).apply(lambda x:x[1])"
   ]
  },
  {
   "cell_type": "code",
   "execution_count": 91,
   "id": "2a98b923",
   "metadata": {},
   "outputs": [
    {
     "data": {
      "text/html": [
       "<div>\n",
       "<style scoped>\n",
       "    .dataframe tbody tr th:only-of-type {\n",
       "        vertical-align: middle;\n",
       "    }\n",
       "\n",
       "    .dataframe tbody tr th {\n",
       "        vertical-align: top;\n",
       "    }\n",
       "\n",
       "    .dataframe thead th {\n",
       "        text-align: right;\n",
       "    }\n",
       "</style>\n",
       "<table border=\"1\" class=\"dataframe\">\n",
       "  <thead>\n",
       "    <tr style=\"text-align: right;\">\n",
       "      <th></th>\n",
       "      <th>text</th>\n",
       "      <th>favorited</th>\n",
       "      <th>favoriteCount</th>\n",
       "      <th>replyToSN</th>\n",
       "      <th>created</th>\n",
       "      <th>truncated</th>\n",
       "      <th>replyToSID</th>\n",
       "      <th>statusSource</th>\n",
       "      <th>screenName</th>\n",
       "      <th>retweetCount</th>\n",
       "      <th>isRetweet</th>\n",
       "      <th>retweeted</th>\n",
       "      <th>cleaned_text</th>\n",
       "      <th>processed_text</th>\n",
       "      <th>polarity</th>\n",
       "      <th>subjectivity</th>\n",
       "    </tr>\n",
       "  </thead>\n",
       "  <tbody>\n",
       "    <tr>\n",
       "      <th>0</th>\n",
       "      <td>RT @rssurjewala: Critical question: Was PayTM ...</td>\n",
       "      <td>False</td>\n",
       "      <td>0</td>\n",
       "      <td>NaN</td>\n",
       "      <td>11/23/2016 18:40</td>\n",
       "      <td>False</td>\n",
       "      <td>NaN</td>\n",
       "      <td>&lt;a href=\"http://twitter.com/download/android\" ...</td>\n",
       "      <td>HASHTAGFARZIWAL</td>\n",
       "      <td>331</td>\n",
       "      <td>True</td>\n",
       "      <td>False</td>\n",
       "      <td>Critical question PayTM informed Demonetizatio...</td>\n",
       "      <td>Critical question PayTM informed Demonetizatio...</td>\n",
       "      <td>0.15</td>\n",
       "      <td>0.577778</td>\n",
       "    </tr>\n",
       "    <tr>\n",
       "      <th>1</th>\n",
       "      <td>RT @roshankar: Former FinSec, RBI Dy Governor,...</td>\n",
       "      <td>False</td>\n",
       "      <td>0</td>\n",
       "      <td>NaN</td>\n",
       "      <td>11/23/2016 18:40</td>\n",
       "      <td>False</td>\n",
       "      <td>NaN</td>\n",
       "      <td>&lt;a href=\"http://twitter.com/download/android\" ...</td>\n",
       "      <td>rahulja13034944</td>\n",
       "      <td>12</td>\n",
       "      <td>True</td>\n",
       "      <td>False</td>\n",
       "      <td>Former FinSec RBI Dy Governor CBDT Chair Harva...</td>\n",
       "      <td>Former FinSec RBI Dy Governor CBDT Chair Harva...</td>\n",
       "      <td>0.00</td>\n",
       "      <td>0.000000</td>\n",
       "    </tr>\n",
       "    <tr>\n",
       "      <th>2</th>\n",
       "      <td>RT @satishacharya: Reddy Wedding! @mail_today ...</td>\n",
       "      <td>False</td>\n",
       "      <td>0</td>\n",
       "      <td>NaN</td>\n",
       "      <td>11/23/2016 18:39</td>\n",
       "      <td>False</td>\n",
       "      <td>NaN</td>\n",
       "      <td>&lt;a href=\"http://cpimharyana.com\" rel=\"nofollow...</td>\n",
       "      <td>CPIMBadli</td>\n",
       "      <td>120</td>\n",
       "      <td>True</td>\n",
       "      <td>False</td>\n",
       "      <td>Reddy Wedding mailtoday cartoon demonetization...</td>\n",
       "      <td>Reddy Wedding mailtoday cartoon demonetization...</td>\n",
       "      <td>0.00</td>\n",
       "      <td>0.000000</td>\n",
       "    </tr>\n",
       "    <tr>\n",
       "      <th>3</th>\n",
       "      <td>RT @gauravcsawant: Rs 40 lakh looted from a ba...</td>\n",
       "      <td>False</td>\n",
       "      <td>0</td>\n",
       "      <td>NaN</td>\n",
       "      <td>11/23/2016 18:38</td>\n",
       "      <td>False</td>\n",
       "      <td>NaN</td>\n",
       "      <td>&lt;a href=\"http://twitter.com/download/android\" ...</td>\n",
       "      <td>bhodia1</td>\n",
       "      <td>637</td>\n",
       "      <td>True</td>\n",
       "      <td>False</td>\n",
       "      <td>Rs 40 lakh looted bank Kishtwar J amp K Third ...</td>\n",
       "      <td>Rs 40 lakh looted bank Kishtwar amp Third inci...</td>\n",
       "      <td>0.00</td>\n",
       "      <td>0.000000</td>\n",
       "    </tr>\n",
       "    <tr>\n",
       "      <th>4</th>\n",
       "      <td>RT @sumitbhati2002: Many opposition leaders ar...</td>\n",
       "      <td>False</td>\n",
       "      <td>0</td>\n",
       "      <td>NaN</td>\n",
       "      <td>11/23/2016 18:38</td>\n",
       "      <td>False</td>\n",
       "      <td>NaN</td>\n",
       "      <td>&lt;a href=\"http://twitter.com/download/android\" ...</td>\n",
       "      <td>sumitbhati2002</td>\n",
       "      <td>1</td>\n",
       "      <td>True</td>\n",
       "      <td>False</td>\n",
       "      <td>Many opposition leaders narendramodi Demonetiz...</td>\n",
       "      <td>Many opposition leaders narendramodi Demonetiz...</td>\n",
       "      <td>0.50</td>\n",
       "      <td>0.500000</td>\n",
       "    </tr>\n",
       "  </tbody>\n",
       "</table>\n",
       "</div>"
      ],
      "text/plain": [
       "                                                text  favorited  \\\n",
       "0  RT @rssurjewala: Critical question: Was PayTM ...      False   \n",
       "1  RT @roshankar: Former FinSec, RBI Dy Governor,...      False   \n",
       "2  RT @satishacharya: Reddy Wedding! @mail_today ...      False   \n",
       "3  RT @gauravcsawant: Rs 40 lakh looted from a ba...      False   \n",
       "4  RT @sumitbhati2002: Many opposition leaders ar...      False   \n",
       "\n",
       "   favoriteCount replyToSN           created  truncated  replyToSID  \\\n",
       "0              0       NaN  11/23/2016 18:40      False         NaN   \n",
       "1              0       NaN  11/23/2016 18:40      False         NaN   \n",
       "2              0       NaN  11/23/2016 18:39      False         NaN   \n",
       "3              0       NaN  11/23/2016 18:38      False         NaN   \n",
       "4              0       NaN  11/23/2016 18:38      False         NaN   \n",
       "\n",
       "                                        statusSource       screenName  \\\n",
       "0  <a href=\"http://twitter.com/download/android\" ...  HASHTAGFARZIWAL   \n",
       "1  <a href=\"http://twitter.com/download/android\" ...  rahulja13034944   \n",
       "2  <a href=\"http://cpimharyana.com\" rel=\"nofollow...        CPIMBadli   \n",
       "3  <a href=\"http://twitter.com/download/android\" ...          bhodia1   \n",
       "4  <a href=\"http://twitter.com/download/android\" ...   sumitbhati2002   \n",
       "\n",
       "   retweetCount  isRetweet  retweeted  \\\n",
       "0           331       True      False   \n",
       "1            12       True      False   \n",
       "2           120       True      False   \n",
       "3           637       True      False   \n",
       "4             1       True      False   \n",
       "\n",
       "                                        cleaned_text  \\\n",
       "0  Critical question PayTM informed Demonetizatio...   \n",
       "1  Former FinSec RBI Dy Governor CBDT Chair Harva...   \n",
       "2  Reddy Wedding mailtoday cartoon demonetization...   \n",
       "3  Rs 40 lakh looted bank Kishtwar J amp K Third ...   \n",
       "4  Many opposition leaders narendramodi Demonetiz...   \n",
       "\n",
       "                                      processed_text  polarity  subjectivity  \n",
       "0  Critical question PayTM informed Demonetizatio...      0.15      0.577778  \n",
       "1  Former FinSec RBI Dy Governor CBDT Chair Harva...      0.00      0.000000  \n",
       "2  Reddy Wedding mailtoday cartoon demonetization...      0.00      0.000000  \n",
       "3  Rs 40 lakh looted bank Kishtwar amp Third inci...      0.00      0.000000  \n",
       "4  Many opposition leaders narendramodi Demonetiz...      0.50      0.500000  "
      ]
     },
     "execution_count": 91,
     "metadata": {},
     "output_type": "execute_result"
    }
   ],
   "source": [
    "tweets.head()"
   ]
  },
  {
   "cell_type": "code",
   "execution_count": 92,
   "id": "231632ba",
   "metadata": {},
   "outputs": [],
   "source": [
    "#encode the polarity\n",
    "tweets[\"polarity_encoded\"]=[\"positive\" if x > 0 else \"negative\" if x < 0 else \"neutral\" for x in tweets[\"polarity\"]]"
   ]
  },
  {
   "cell_type": "code",
   "execution_count": 93,
   "id": "00b7f677",
   "metadata": {},
   "outputs": [
    {
     "data": {
      "text/html": [
       "<div>\n",
       "<style scoped>\n",
       "    .dataframe tbody tr th:only-of-type {\n",
       "        vertical-align: middle;\n",
       "    }\n",
       "\n",
       "    .dataframe tbody tr th {\n",
       "        vertical-align: top;\n",
       "    }\n",
       "\n",
       "    .dataframe thead th {\n",
       "        text-align: right;\n",
       "    }\n",
       "</style>\n",
       "<table border=\"1\" class=\"dataframe\">\n",
       "  <thead>\n",
       "    <tr style=\"text-align: right;\">\n",
       "      <th></th>\n",
       "      <th>text</th>\n",
       "      <th>favorited</th>\n",
       "      <th>favoriteCount</th>\n",
       "      <th>replyToSN</th>\n",
       "      <th>created</th>\n",
       "      <th>truncated</th>\n",
       "      <th>replyToSID</th>\n",
       "      <th>statusSource</th>\n",
       "      <th>screenName</th>\n",
       "      <th>retweetCount</th>\n",
       "      <th>isRetweet</th>\n",
       "      <th>retweeted</th>\n",
       "      <th>cleaned_text</th>\n",
       "      <th>processed_text</th>\n",
       "      <th>polarity</th>\n",
       "      <th>subjectivity</th>\n",
       "      <th>polarity_encoded</th>\n",
       "    </tr>\n",
       "  </thead>\n",
       "  <tbody>\n",
       "    <tr>\n",
       "      <th>0</th>\n",
       "      <td>RT @rssurjewala: Critical question: Was PayTM ...</td>\n",
       "      <td>False</td>\n",
       "      <td>0</td>\n",
       "      <td>NaN</td>\n",
       "      <td>11/23/2016 18:40</td>\n",
       "      <td>False</td>\n",
       "      <td>NaN</td>\n",
       "      <td>&lt;a href=\"http://twitter.com/download/android\" ...</td>\n",
       "      <td>HASHTAGFARZIWAL</td>\n",
       "      <td>331</td>\n",
       "      <td>True</td>\n",
       "      <td>False</td>\n",
       "      <td>Critical question PayTM informed Demonetizatio...</td>\n",
       "      <td>Critical question PayTM informed Demonetizatio...</td>\n",
       "      <td>0.15</td>\n",
       "      <td>0.577778</td>\n",
       "      <td>positive</td>\n",
       "    </tr>\n",
       "    <tr>\n",
       "      <th>1</th>\n",
       "      <td>RT @roshankar: Former FinSec, RBI Dy Governor,...</td>\n",
       "      <td>False</td>\n",
       "      <td>0</td>\n",
       "      <td>NaN</td>\n",
       "      <td>11/23/2016 18:40</td>\n",
       "      <td>False</td>\n",
       "      <td>NaN</td>\n",
       "      <td>&lt;a href=\"http://twitter.com/download/android\" ...</td>\n",
       "      <td>rahulja13034944</td>\n",
       "      <td>12</td>\n",
       "      <td>True</td>\n",
       "      <td>False</td>\n",
       "      <td>Former FinSec RBI Dy Governor CBDT Chair Harva...</td>\n",
       "      <td>Former FinSec RBI Dy Governor CBDT Chair Harva...</td>\n",
       "      <td>0.00</td>\n",
       "      <td>0.000000</td>\n",
       "      <td>neutral</td>\n",
       "    </tr>\n",
       "    <tr>\n",
       "      <th>2</th>\n",
       "      <td>RT @satishacharya: Reddy Wedding! @mail_today ...</td>\n",
       "      <td>False</td>\n",
       "      <td>0</td>\n",
       "      <td>NaN</td>\n",
       "      <td>11/23/2016 18:39</td>\n",
       "      <td>False</td>\n",
       "      <td>NaN</td>\n",
       "      <td>&lt;a href=\"http://cpimharyana.com\" rel=\"nofollow...</td>\n",
       "      <td>CPIMBadli</td>\n",
       "      <td>120</td>\n",
       "      <td>True</td>\n",
       "      <td>False</td>\n",
       "      <td>Reddy Wedding mailtoday cartoon demonetization...</td>\n",
       "      <td>Reddy Wedding mailtoday cartoon demonetization...</td>\n",
       "      <td>0.00</td>\n",
       "      <td>0.000000</td>\n",
       "      <td>neutral</td>\n",
       "    </tr>\n",
       "    <tr>\n",
       "      <th>3</th>\n",
       "      <td>RT @gauravcsawant: Rs 40 lakh looted from a ba...</td>\n",
       "      <td>False</td>\n",
       "      <td>0</td>\n",
       "      <td>NaN</td>\n",
       "      <td>11/23/2016 18:38</td>\n",
       "      <td>False</td>\n",
       "      <td>NaN</td>\n",
       "      <td>&lt;a href=\"http://twitter.com/download/android\" ...</td>\n",
       "      <td>bhodia1</td>\n",
       "      <td>637</td>\n",
       "      <td>True</td>\n",
       "      <td>False</td>\n",
       "      <td>Rs 40 lakh looted bank Kishtwar J amp K Third ...</td>\n",
       "      <td>Rs 40 lakh looted bank Kishtwar amp Third inci...</td>\n",
       "      <td>0.00</td>\n",
       "      <td>0.000000</td>\n",
       "      <td>neutral</td>\n",
       "    </tr>\n",
       "    <tr>\n",
       "      <th>4</th>\n",
       "      <td>RT @sumitbhati2002: Many opposition leaders ar...</td>\n",
       "      <td>False</td>\n",
       "      <td>0</td>\n",
       "      <td>NaN</td>\n",
       "      <td>11/23/2016 18:38</td>\n",
       "      <td>False</td>\n",
       "      <td>NaN</td>\n",
       "      <td>&lt;a href=\"http://twitter.com/download/android\" ...</td>\n",
       "      <td>sumitbhati2002</td>\n",
       "      <td>1</td>\n",
       "      <td>True</td>\n",
       "      <td>False</td>\n",
       "      <td>Many opposition leaders narendramodi Demonetiz...</td>\n",
       "      <td>Many opposition leaders narendramodi Demonetiz...</td>\n",
       "      <td>0.50</td>\n",
       "      <td>0.500000</td>\n",
       "      <td>positive</td>\n",
       "    </tr>\n",
       "  </tbody>\n",
       "</table>\n",
       "</div>"
      ],
      "text/plain": [
       "                                                text  favorited  \\\n",
       "0  RT @rssurjewala: Critical question: Was PayTM ...      False   \n",
       "1  RT @roshankar: Former FinSec, RBI Dy Governor,...      False   \n",
       "2  RT @satishacharya: Reddy Wedding! @mail_today ...      False   \n",
       "3  RT @gauravcsawant: Rs 40 lakh looted from a ba...      False   \n",
       "4  RT @sumitbhati2002: Many opposition leaders ar...      False   \n",
       "\n",
       "   favoriteCount replyToSN           created  truncated  replyToSID  \\\n",
       "0              0       NaN  11/23/2016 18:40      False         NaN   \n",
       "1              0       NaN  11/23/2016 18:40      False         NaN   \n",
       "2              0       NaN  11/23/2016 18:39      False         NaN   \n",
       "3              0       NaN  11/23/2016 18:38      False         NaN   \n",
       "4              0       NaN  11/23/2016 18:38      False         NaN   \n",
       "\n",
       "                                        statusSource       screenName  \\\n",
       "0  <a href=\"http://twitter.com/download/android\" ...  HASHTAGFARZIWAL   \n",
       "1  <a href=\"http://twitter.com/download/android\" ...  rahulja13034944   \n",
       "2  <a href=\"http://cpimharyana.com\" rel=\"nofollow...        CPIMBadli   \n",
       "3  <a href=\"http://twitter.com/download/android\" ...          bhodia1   \n",
       "4  <a href=\"http://twitter.com/download/android\" ...   sumitbhati2002   \n",
       "\n",
       "   retweetCount  isRetweet  retweeted  \\\n",
       "0           331       True      False   \n",
       "1            12       True      False   \n",
       "2           120       True      False   \n",
       "3           637       True      False   \n",
       "4             1       True      False   \n",
       "\n",
       "                                        cleaned_text  \\\n",
       "0  Critical question PayTM informed Demonetizatio...   \n",
       "1  Former FinSec RBI Dy Governor CBDT Chair Harva...   \n",
       "2  Reddy Wedding mailtoday cartoon demonetization...   \n",
       "3  Rs 40 lakh looted bank Kishtwar J amp K Third ...   \n",
       "4  Many opposition leaders narendramodi Demonetiz...   \n",
       "\n",
       "                                      processed_text  polarity  subjectivity  \\\n",
       "0  Critical question PayTM informed Demonetizatio...      0.15      0.577778   \n",
       "1  Former FinSec RBI Dy Governor CBDT Chair Harva...      0.00      0.000000   \n",
       "2  Reddy Wedding mailtoday cartoon demonetization...      0.00      0.000000   \n",
       "3  Rs 40 lakh looted bank Kishtwar amp Third inci...      0.00      0.000000   \n",
       "4  Many opposition leaders narendramodi Demonetiz...      0.50      0.500000   \n",
       "\n",
       "  polarity_encoded  \n",
       "0         positive  \n",
       "1          neutral  \n",
       "2          neutral  \n",
       "3          neutral  \n",
       "4         positive  "
      ]
     },
     "execution_count": 93,
     "metadata": {},
     "output_type": "execute_result"
    }
   ],
   "source": [
    "tweets.head()"
   ]
  },
  {
   "cell_type": "code",
   "execution_count": 94,
   "id": "80e5c1c1",
   "metadata": {},
   "outputs": [
    {
     "data": {
      "text/html": [
       "<div>\n",
       "<style scoped>\n",
       "    .dataframe tbody tr th:only-of-type {\n",
       "        vertical-align: middle;\n",
       "    }\n",
       "\n",
       "    .dataframe tbody tr th {\n",
       "        vertical-align: top;\n",
       "    }\n",
       "\n",
       "    .dataframe thead th {\n",
       "        text-align: right;\n",
       "    }\n",
       "</style>\n",
       "<table border=\"1\" class=\"dataframe\">\n",
       "  <thead>\n",
       "    <tr style=\"text-align: right;\">\n",
       "      <th></th>\n",
       "      <th>text</th>\n",
       "      <th>favorited</th>\n",
       "      <th>favoriteCount</th>\n",
       "      <th>replyToSN</th>\n",
       "      <th>created</th>\n",
       "      <th>truncated</th>\n",
       "      <th>replyToSID</th>\n",
       "      <th>statusSource</th>\n",
       "      <th>screenName</th>\n",
       "      <th>retweetCount</th>\n",
       "      <th>isRetweet</th>\n",
       "      <th>retweeted</th>\n",
       "      <th>cleaned_text</th>\n",
       "      <th>processed_text</th>\n",
       "      <th>polarity</th>\n",
       "      <th>subjectivity</th>\n",
       "      <th>polarity_encoded</th>\n",
       "    </tr>\n",
       "  </thead>\n",
       "  <tbody>\n",
       "    <tr>\n",
       "      <th>0</th>\n",
       "      <td>RT @rssurjewala: Critical question: Was PayTM ...</td>\n",
       "      <td>False</td>\n",
       "      <td>0</td>\n",
       "      <td>NaN</td>\n",
       "      <td>11/23/2016 18:40</td>\n",
       "      <td>False</td>\n",
       "      <td>NaN</td>\n",
       "      <td>&lt;a href=\"http://twitter.com/download/android\" ...</td>\n",
       "      <td>HASHTAGFARZIWAL</td>\n",
       "      <td>331</td>\n",
       "      <td>True</td>\n",
       "      <td>False</td>\n",
       "      <td>Critical question PayTM informed Demonetizatio...</td>\n",
       "      <td>Critical question PayTM informed Demonetizatio...</td>\n",
       "      <td>0.150000</td>\n",
       "      <td>0.577778</td>\n",
       "      <td>positive</td>\n",
       "    </tr>\n",
       "    <tr>\n",
       "      <th>1</th>\n",
       "      <td>RT @roshankar: Former FinSec, RBI Dy Governor,...</td>\n",
       "      <td>False</td>\n",
       "      <td>0</td>\n",
       "      <td>NaN</td>\n",
       "      <td>11/23/2016 18:40</td>\n",
       "      <td>False</td>\n",
       "      <td>NaN</td>\n",
       "      <td>&lt;a href=\"http://twitter.com/download/android\" ...</td>\n",
       "      <td>rahulja13034944</td>\n",
       "      <td>12</td>\n",
       "      <td>True</td>\n",
       "      <td>False</td>\n",
       "      <td>Former FinSec RBI Dy Governor CBDT Chair Harva...</td>\n",
       "      <td>Former FinSec RBI Dy Governor CBDT Chair Harva...</td>\n",
       "      <td>0.000000</td>\n",
       "      <td>0.000000</td>\n",
       "      <td>neutral</td>\n",
       "    </tr>\n",
       "    <tr>\n",
       "      <th>2</th>\n",
       "      <td>RT @satishacharya: Reddy Wedding! @mail_today ...</td>\n",
       "      <td>False</td>\n",
       "      <td>0</td>\n",
       "      <td>NaN</td>\n",
       "      <td>11/23/2016 18:39</td>\n",
       "      <td>False</td>\n",
       "      <td>NaN</td>\n",
       "      <td>&lt;a href=\"http://cpimharyana.com\" rel=\"nofollow...</td>\n",
       "      <td>CPIMBadli</td>\n",
       "      <td>120</td>\n",
       "      <td>True</td>\n",
       "      <td>False</td>\n",
       "      <td>Reddy Wedding mailtoday cartoon demonetization...</td>\n",
       "      <td>Reddy Wedding mailtoday cartoon demonetization...</td>\n",
       "      <td>0.000000</td>\n",
       "      <td>0.000000</td>\n",
       "      <td>neutral</td>\n",
       "    </tr>\n",
       "    <tr>\n",
       "      <th>3</th>\n",
       "      <td>RT @gauravcsawant: Rs 40 lakh looted from a ba...</td>\n",
       "      <td>False</td>\n",
       "      <td>0</td>\n",
       "      <td>NaN</td>\n",
       "      <td>11/23/2016 18:38</td>\n",
       "      <td>False</td>\n",
       "      <td>NaN</td>\n",
       "      <td>&lt;a href=\"http://twitter.com/download/android\" ...</td>\n",
       "      <td>bhodia1</td>\n",
       "      <td>637</td>\n",
       "      <td>True</td>\n",
       "      <td>False</td>\n",
       "      <td>Rs 40 lakh looted bank Kishtwar J amp K Third ...</td>\n",
       "      <td>Rs 40 lakh looted bank Kishtwar amp Third inci...</td>\n",
       "      <td>0.000000</td>\n",
       "      <td>0.000000</td>\n",
       "      <td>neutral</td>\n",
       "    </tr>\n",
       "    <tr>\n",
       "      <th>4</th>\n",
       "      <td>RT @sumitbhati2002: Many opposition leaders ar...</td>\n",
       "      <td>False</td>\n",
       "      <td>0</td>\n",
       "      <td>NaN</td>\n",
       "      <td>11/23/2016 18:38</td>\n",
       "      <td>False</td>\n",
       "      <td>NaN</td>\n",
       "      <td>&lt;a href=\"http://twitter.com/download/android\" ...</td>\n",
       "      <td>sumitbhati2002</td>\n",
       "      <td>1</td>\n",
       "      <td>True</td>\n",
       "      <td>False</td>\n",
       "      <td>Many opposition leaders narendramodi Demonetiz...</td>\n",
       "      <td>Many opposition leaders narendramodi Demonetiz...</td>\n",
       "      <td>0.500000</td>\n",
       "      <td>0.500000</td>\n",
       "      <td>positive</td>\n",
       "    </tr>\n",
       "    <tr>\n",
       "      <th>...</th>\n",
       "      <td>...</td>\n",
       "      <td>...</td>\n",
       "      <td>...</td>\n",
       "      <td>...</td>\n",
       "      <td>...</td>\n",
       "      <td>...</td>\n",
       "      <td>...</td>\n",
       "      <td>...</td>\n",
       "      <td>...</td>\n",
       "      <td>...</td>\n",
       "      <td>...</td>\n",
       "      <td>...</td>\n",
       "      <td>...</td>\n",
       "      <td>...</td>\n",
       "      <td>...</td>\n",
       "      <td>...</td>\n",
       "      <td>...</td>\n",
       "    </tr>\n",
       "    <tr>\n",
       "      <th>7465</th>\n",
       "      <td>RT @rahulroushan: Prohibition is Demonetizatio...</td>\n",
       "      <td>False</td>\n",
       "      <td>0</td>\n",
       "      <td>NaN</td>\n",
       "      <td>4/11/2017 15:57</td>\n",
       "      <td>False</td>\n",
       "      <td>NaN</td>\n",
       "      <td>&lt;a href=\"http://twitter.com/download/android\" ...</td>\n",
       "      <td>AniruddhasT</td>\n",
       "      <td>337</td>\n",
       "      <td>True</td>\n",
       "      <td>False</td>\n",
       "      <td>Prohibition Demonetization 20 kept quiet poor ...</td>\n",
       "      <td>Prohibition Demonetization 20 kept quiet poor ...</td>\n",
       "      <td>0.033333</td>\n",
       "      <td>0.511111</td>\n",
       "      <td>positive</td>\n",
       "    </tr>\n",
       "    <tr>\n",
       "      <th>7466</th>\n",
       "      <td>Can cash -- or the end of cash -- end poverty ...</td>\n",
       "      <td>False</td>\n",
       "      <td>36</td>\n",
       "      <td>NaN</td>\n",
       "      <td>4/11/2017 14:52</td>\n",
       "      <td>False</td>\n",
       "      <td>NaN</td>\n",
       "      <td>&lt;a href=\"https://about.twitter.com/products/tw...</td>\n",
       "      <td>JustinSandefur</td>\n",
       "      <td>27</td>\n",
       "      <td>False</td>\n",
       "      <td>False</td>\n",
       "      <td>end cash end poverty India</td>\n",
       "      <td>end cash end poverty India</td>\n",
       "      <td>0.000000</td>\n",
       "      <td>0.000000</td>\n",
       "      <td>neutral</td>\n",
       "    </tr>\n",
       "    <tr>\n",
       "      <th>7467</th>\n",
       "      <td>RT @Vidyut: How India became Bill Gates' guine...</td>\n",
       "      <td>False</td>\n",
       "      <td>0</td>\n",
       "      <td>NaN</td>\n",
       "      <td>4/11/2017 14:36</td>\n",
       "      <td>False</td>\n",
       "      <td>NaN</td>\n",
       "      <td>&lt;a href=\"http://twitter.com/download/android\" ...</td>\n",
       "      <td>SukhvinderShahi</td>\n",
       "      <td>12</td>\n",
       "      <td>True</td>\n",
       "      <td>False</td>\n",
       "      <td>India became Bill Gates guinea pig conspiracy ...</td>\n",
       "      <td>India became Bill Gates guinea pig conspiracy ...</td>\n",
       "      <td>0.166667</td>\n",
       "      <td>0.333333</td>\n",
       "      <td>positive</td>\n",
       "    </tr>\n",
       "    <tr>\n",
       "      <th>7468</th>\n",
       "      <td>N d modi fans-d true nationalists of the count...</td>\n",
       "      <td>False</td>\n",
       "      <td>0</td>\n",
       "      <td>NaN</td>\n",
       "      <td>4/11/2017 14:19</td>\n",
       "      <td>True</td>\n",
       "      <td>NaN</td>\n",
       "      <td>&lt;a href=\"http://twitter.com/download/android\" ...</td>\n",
       "      <td>JusteyAlex</td>\n",
       "      <td>0</td>\n",
       "      <td>False</td>\n",
       "      <td>False</td>\n",
       "      <td>true nationalists country stil think demonetiz...</td>\n",
       "      <td>true nationalists country stil think demonetiz...</td>\n",
       "      <td>-0.105556</td>\n",
       "      <td>0.694444</td>\n",
       "      <td>negative</td>\n",
       "    </tr>\n",
       "    <tr>\n",
       "      <th>7469</th>\n",
       "      <td>RT @Stupidosaur: @Vidyut B team of BJP. CIA ba...</td>\n",
       "      <td>False</td>\n",
       "      <td>0</td>\n",
       "      <td>NaN</td>\n",
       "      <td>4/11/2017 14:13</td>\n",
       "      <td>False</td>\n",
       "      <td>NaN</td>\n",
       "      <td>&lt;a href=\"http://twitter.com\" rel=\"nofollow\"&gt;Tw...</td>\n",
       "      <td>Stupidosaur</td>\n",
       "      <td>2</td>\n",
       "      <td>True</td>\n",
       "      <td>False</td>\n",
       "      <td>Vidyut B team BJP CIA baby CCTV EVM VVPAT supp...</td>\n",
       "      <td>Vidyut team BJP CIA baby CCTV EVM VVPAT suppor...</td>\n",
       "      <td>0.000000</td>\n",
       "      <td>0.000000</td>\n",
       "      <td>neutral</td>\n",
       "    </tr>\n",
       "  </tbody>\n",
       "</table>\n",
       "<p>7470 rows × 17 columns</p>\n",
       "</div>"
      ],
      "text/plain": [
       "                                                   text  favorited  \\\n",
       "0     RT @rssurjewala: Critical question: Was PayTM ...      False   \n",
       "1     RT @roshankar: Former FinSec, RBI Dy Governor,...      False   \n",
       "2     RT @satishacharya: Reddy Wedding! @mail_today ...      False   \n",
       "3     RT @gauravcsawant: Rs 40 lakh looted from a ba...      False   \n",
       "4     RT @sumitbhati2002: Many opposition leaders ar...      False   \n",
       "...                                                 ...        ...   \n",
       "7465  RT @rahulroushan: Prohibition is Demonetizatio...      False   \n",
       "7466  Can cash -- or the end of cash -- end poverty ...      False   \n",
       "7467  RT @Vidyut: How India became Bill Gates' guine...      False   \n",
       "7468  N d modi fans-d true nationalists of the count...      False   \n",
       "7469  RT @Stupidosaur: @Vidyut B team of BJP. CIA ba...      False   \n",
       "\n",
       "      favoriteCount replyToSN           created  truncated  replyToSID  \\\n",
       "0                 0       NaN  11/23/2016 18:40      False         NaN   \n",
       "1                 0       NaN  11/23/2016 18:40      False         NaN   \n",
       "2                 0       NaN  11/23/2016 18:39      False         NaN   \n",
       "3                 0       NaN  11/23/2016 18:38      False         NaN   \n",
       "4                 0       NaN  11/23/2016 18:38      False         NaN   \n",
       "...             ...       ...               ...        ...         ...   \n",
       "7465              0       NaN   4/11/2017 15:57      False         NaN   \n",
       "7466             36       NaN   4/11/2017 14:52      False         NaN   \n",
       "7467              0       NaN   4/11/2017 14:36      False         NaN   \n",
       "7468              0       NaN   4/11/2017 14:19       True         NaN   \n",
       "7469              0       NaN   4/11/2017 14:13      False         NaN   \n",
       "\n",
       "                                           statusSource       screenName  \\\n",
       "0     <a href=\"http://twitter.com/download/android\" ...  HASHTAGFARZIWAL   \n",
       "1     <a href=\"http://twitter.com/download/android\" ...  rahulja13034944   \n",
       "2     <a href=\"http://cpimharyana.com\" rel=\"nofollow...        CPIMBadli   \n",
       "3     <a href=\"http://twitter.com/download/android\" ...          bhodia1   \n",
       "4     <a href=\"http://twitter.com/download/android\" ...   sumitbhati2002   \n",
       "...                                                 ...              ...   \n",
       "7465  <a href=\"http://twitter.com/download/android\" ...      AniruddhasT   \n",
       "7466  <a href=\"https://about.twitter.com/products/tw...   JustinSandefur   \n",
       "7467  <a href=\"http://twitter.com/download/android\" ...  SukhvinderShahi   \n",
       "7468  <a href=\"http://twitter.com/download/android\" ...       JusteyAlex   \n",
       "7469  <a href=\"http://twitter.com\" rel=\"nofollow\">Tw...      Stupidosaur   \n",
       "\n",
       "      retweetCount  isRetweet  retweeted  \\\n",
       "0              331       True      False   \n",
       "1               12       True      False   \n",
       "2              120       True      False   \n",
       "3              637       True      False   \n",
       "4                1       True      False   \n",
       "...            ...        ...        ...   \n",
       "7465           337       True      False   \n",
       "7466            27      False      False   \n",
       "7467            12       True      False   \n",
       "7468             0      False      False   \n",
       "7469             2       True      False   \n",
       "\n",
       "                                           cleaned_text  \\\n",
       "0     Critical question PayTM informed Demonetizatio...   \n",
       "1     Former FinSec RBI Dy Governor CBDT Chair Harva...   \n",
       "2     Reddy Wedding mailtoday cartoon demonetization...   \n",
       "3     Rs 40 lakh looted bank Kishtwar J amp K Third ...   \n",
       "4     Many opposition leaders narendramodi Demonetiz...   \n",
       "...                                                 ...   \n",
       "7465  Prohibition Demonetization 20 kept quiet poor ...   \n",
       "7466                         end cash end poverty India   \n",
       "7467  India became Bill Gates guinea pig conspiracy ...   \n",
       "7468  true nationalists country stil think demonetiz...   \n",
       "7469  Vidyut B team BJP CIA baby CCTV EVM VVPAT supp...   \n",
       "\n",
       "                                         processed_text  polarity  \\\n",
       "0     Critical question PayTM informed Demonetizatio...  0.150000   \n",
       "1     Former FinSec RBI Dy Governor CBDT Chair Harva...  0.000000   \n",
       "2     Reddy Wedding mailtoday cartoon demonetization...  0.000000   \n",
       "3     Rs 40 lakh looted bank Kishtwar amp Third inci...  0.000000   \n",
       "4     Many opposition leaders narendramodi Demonetiz...  0.500000   \n",
       "...                                                 ...       ...   \n",
       "7465  Prohibition Demonetization 20 kept quiet poor ...  0.033333   \n",
       "7466                         end cash end poverty India  0.000000   \n",
       "7467  India became Bill Gates guinea pig conspiracy ...  0.166667   \n",
       "7468  true nationalists country stil think demonetiz... -0.105556   \n",
       "7469  Vidyut team BJP CIA baby CCTV EVM VVPAT suppor...  0.000000   \n",
       "\n",
       "      subjectivity polarity_encoded  \n",
       "0         0.577778         positive  \n",
       "1         0.000000          neutral  \n",
       "2         0.000000          neutral  \n",
       "3         0.000000          neutral  \n",
       "4         0.500000         positive  \n",
       "...            ...              ...  \n",
       "7465      0.511111         positive  \n",
       "7466      0.000000          neutral  \n",
       "7467      0.333333         positive  \n",
       "7468      0.694444         negative  \n",
       "7469      0.000000          neutral  \n",
       "\n",
       "[7470 rows x 17 columns]"
      ]
     },
     "execution_count": 94,
     "metadata": {},
     "output_type": "execute_result"
    }
   ],
   "source": [
    "tweets"
   ]
  },
  {
   "cell_type": "code",
   "execution_count": 95,
   "id": "3c045739",
   "metadata": {},
   "outputs": [
    {
     "data": {
      "text/plain": [
       "polarity_encoded\n",
       "neutral     3761\n",
       "positive    2612\n",
       "negative    1097\n",
       "Name: count, dtype: int64"
      ]
     },
     "execution_count": 95,
     "metadata": {},
     "output_type": "execute_result"
    }
   ],
   "source": [
    "tweets[\"polarity_encoded\"].value_counts()"
   ]
  },
  {
   "cell_type": "code",
   "execution_count": 96,
   "id": "e42a23ae",
   "metadata": {},
   "outputs": [
    {
     "ename": "AttributeError",
     "evalue": "'Series' object has no attribute 'sort'",
     "output_type": "error",
     "traceback": [
      "\u001b[0;31m---------------------------------------------------------------------------\u001b[0m",
      "\u001b[0;31mAttributeError\u001b[0m                            Traceback (most recent call last)",
      "\u001b[0;32m/var/folders/b0/frtzry9s6b32vg4gz127642h0000gn/T/ipykernel_813/1587657747.py\u001b[0m in \u001b[0;36m?\u001b[0;34m()\u001b[0m\n\u001b[0;32m----> 1\u001b[0;31m \u001b[0mtweets\u001b[0m\u001b[0;34m[\u001b[0m\u001b[0;34m\"polarity\"\u001b[0m\u001b[0;34m]\u001b[0m\u001b[0;34m.\u001b[0m\u001b[0msort\u001b[0m\u001b[0;34m(\u001b[0m\u001b[0;34m)\u001b[0m\u001b[0;34m\u001b[0m\u001b[0;34m\u001b[0m\u001b[0m\n\u001b[0m",
      "\u001b[0;32m~/anaconda3/lib/python3.11/site-packages/pandas/core/generic.py\u001b[0m in \u001b[0;36m?\u001b[0;34m(self, name)\u001b[0m\n\u001b[1;32m   5985\u001b[0m             \u001b[0;32mand\u001b[0m \u001b[0mname\u001b[0m \u001b[0;32mnot\u001b[0m \u001b[0;32min\u001b[0m \u001b[0mself\u001b[0m\u001b[0;34m.\u001b[0m\u001b[0m_accessors\u001b[0m\u001b[0;34m\u001b[0m\u001b[0;34m\u001b[0m\u001b[0m\n\u001b[1;32m   5986\u001b[0m             \u001b[0;32mand\u001b[0m \u001b[0mself\u001b[0m\u001b[0;34m.\u001b[0m\u001b[0m_info_axis\u001b[0m\u001b[0;34m.\u001b[0m\u001b[0m_can_hold_identifiers_and_holds_name\u001b[0m\u001b[0;34m(\u001b[0m\u001b[0mname\u001b[0m\u001b[0;34m)\u001b[0m\u001b[0;34m\u001b[0m\u001b[0;34m\u001b[0m\u001b[0m\n\u001b[1;32m   5987\u001b[0m         ):\n\u001b[1;32m   5988\u001b[0m             \u001b[0;32mreturn\u001b[0m \u001b[0mself\u001b[0m\u001b[0;34m[\u001b[0m\u001b[0mname\u001b[0m\u001b[0;34m]\u001b[0m\u001b[0;34m\u001b[0m\u001b[0;34m\u001b[0m\u001b[0m\n\u001b[0;32m-> 5989\u001b[0;31m         \u001b[0;32mreturn\u001b[0m \u001b[0mobject\u001b[0m\u001b[0;34m.\u001b[0m\u001b[0m__getattribute__\u001b[0m\u001b[0;34m(\u001b[0m\u001b[0mself\u001b[0m\u001b[0;34m,\u001b[0m \u001b[0mname\u001b[0m\u001b[0;34m)\u001b[0m\u001b[0;34m\u001b[0m\u001b[0;34m\u001b[0m\u001b[0m\n\u001b[0m",
      "\u001b[0;31mAttributeError\u001b[0m: 'Series' object has no attribute 'sort'"
     ]
    }
   ],
   "source": [
    "tweets[\"polarity\"].sort()"
   ]
  },
  {
   "cell_type": "code",
   "execution_count": 97,
   "id": "93e00d3f",
   "metadata": {},
   "outputs": [
    {
     "data": {
      "text/plain": [
       "0       0.150000\n",
       "1       0.000000\n",
       "2       0.000000\n",
       "3       0.000000\n",
       "4       0.500000\n",
       "          ...   \n",
       "7465    0.033333\n",
       "7466    0.000000\n",
       "7467    0.166667\n",
       "7468   -0.105556\n",
       "7469    0.000000\n",
       "Name: polarity, Length: 7470, dtype: float64"
      ]
     },
     "execution_count": 97,
     "metadata": {},
     "output_type": "execute_result"
    }
   ],
   "source": [
    "tweets[\"polarity\"]"
   ]
  },
  {
   "cell_type": "code",
   "execution_count": 98,
   "id": "e8cfd606",
   "metadata": {},
   "outputs": [
    {
     "data": {
      "text/plain": [
       "'RT @Jal_Kukdi: Pathetic journalism \\x96 when media thought you can get STDs from ATMs. Another attempt to malign #Demonetization\\r\\nhttps://t.co/\\x85'"
      ]
     },
     "execution_count": 98,
     "metadata": {},
     "output_type": "execute_result"
    }
   ],
   "source": [
    "tweets.loc[tweets[\"polarity\"].idxmin()][\"text\"] #negative"
   ]
  },
  {
   "cell_type": "code",
   "execution_count": 99,
   "id": "552d87a3",
   "metadata": {},
   "outputs": [
    {
     "data": {
      "text/plain": [
       "\"RT @CMOMaharashtra: One of the greatest computer scientists Dr. Vijay Bhatkar's views on #demonetization decision by Hon PM @narendramodi h\\x85\""
      ]
     },
     "execution_count": 99,
     "metadata": {},
     "output_type": "execute_result"
    }
   ],
   "source": [
    "tweets.loc[tweets[\"polarity\"].idxmax()][\"text\"] #positive"
   ]
  },
  {
   "cell_type": "code",
   "execution_count": 100,
   "id": "4ca19683",
   "metadata": {},
   "outputs": [
    {
     "data": {
      "text/plain": [
       "'RT @roshankar: Former FinSec, RBI Dy Governor, CBDT Chair + Harvard Professor lambaste #Demonetization.\\r\\n\\r\\nIf not for Aam Aadmi, listen to th\\x85'"
      ]
     },
     "execution_count": 100,
     "metadata": {},
     "output_type": "execute_result"
    }
   ],
   "source": [
    "tweets.loc[tweets[\"subjectivity\"].idxmin()][\"text\"] #objective"
   ]
  },
  {
   "cell_type": "code",
   "execution_count": 102,
   "id": "df4524f7",
   "metadata": {},
   "outputs": [
    {
     "data": {
      "text/plain": [
       "\"RT @ZeeNewsSports: #Demonetization: @harbhajan_singh gives hilarious 'shagun' suggestion to those struggling with wedding season\\r\\n\\r\\nhttps://t\\x85\""
      ]
     },
     "execution_count": 102,
     "metadata": {},
     "output_type": "execute_result"
    }
   ],
   "source": [
    "tweets.loc[tweets[\"subjectivity\"].idxmax()][\"text\"] #subjective"
   ]
  },
  {
   "cell_type": "code",
   "execution_count": 1,
   "id": "1227208f",
   "metadata": {},
   "outputs": [],
   "source": [
    "#recommendation engine -> ML (last topic)"
   ]
  },
  {
   "cell_type": "code",
   "execution_count": 1,
   "id": "ba28f94c",
   "metadata": {},
   "outputs": [],
   "source": [
    "import pandas as pd\n",
    "import numpy as np\n",
    "from sklearn.feature_extraction.text import TfidfVectorizer\n",
    "from sklearn.metrics.pairwise import cosine_similarity\n",
    "from ipywidgets import *"
   ]
  },
  {
   "cell_type": "code",
   "execution_count": 2,
   "id": "bf00b33c",
   "metadata": {},
   "outputs": [],
   "source": [
    "movies=pd.read_csv(\"movies1.csv\")\n",
    "ratings=pd.read_csv(\"ratings1.csv\")"
   ]
  },
  {
   "cell_type": "code",
   "execution_count": 3,
   "id": "215db798",
   "metadata": {},
   "outputs": [
    {
     "data": {
      "text/html": [
       "<div>\n",
       "<style scoped>\n",
       "    .dataframe tbody tr th:only-of-type {\n",
       "        vertical-align: middle;\n",
       "    }\n",
       "\n",
       "    .dataframe tbody tr th {\n",
       "        vertical-align: top;\n",
       "    }\n",
       "\n",
       "    .dataframe thead th {\n",
       "        text-align: right;\n",
       "    }\n",
       "</style>\n",
       "<table border=\"1\" class=\"dataframe\">\n",
       "  <thead>\n",
       "    <tr style=\"text-align: right;\">\n",
       "      <th></th>\n",
       "      <th>movieId</th>\n",
       "      <th>title</th>\n",
       "      <th>genres</th>\n",
       "    </tr>\n",
       "  </thead>\n",
       "  <tbody>\n",
       "    <tr>\n",
       "      <th>0</th>\n",
       "      <td>1</td>\n",
       "      <td>Toy Story (1995)</td>\n",
       "      <td>Adventure|Animation|Children|Comedy|Fantasy</td>\n",
       "    </tr>\n",
       "    <tr>\n",
       "      <th>1</th>\n",
       "      <td>2</td>\n",
       "      <td>Jumanji (1995)</td>\n",
       "      <td>Adventure|Children|Fantasy</td>\n",
       "    </tr>\n",
       "    <tr>\n",
       "      <th>2</th>\n",
       "      <td>3</td>\n",
       "      <td>Grumpier Old Men (1995)</td>\n",
       "      <td>Comedy|Romance</td>\n",
       "    </tr>\n",
       "    <tr>\n",
       "      <th>3</th>\n",
       "      <td>4</td>\n",
       "      <td>Waiting to Exhale (1995)</td>\n",
       "      <td>Comedy|Drama|Romance</td>\n",
       "    </tr>\n",
       "    <tr>\n",
       "      <th>4</th>\n",
       "      <td>5</td>\n",
       "      <td>Father of the Bride Part II (1995)</td>\n",
       "      <td>Comedy</td>\n",
       "    </tr>\n",
       "  </tbody>\n",
       "</table>\n",
       "</div>"
      ],
      "text/plain": [
       "   movieId                               title  \\\n",
       "0        1                    Toy Story (1995)   \n",
       "1        2                      Jumanji (1995)   \n",
       "2        3             Grumpier Old Men (1995)   \n",
       "3        4            Waiting to Exhale (1995)   \n",
       "4        5  Father of the Bride Part II (1995)   \n",
       "\n",
       "                                        genres  \n",
       "0  Adventure|Animation|Children|Comedy|Fantasy  \n",
       "1                   Adventure|Children|Fantasy  \n",
       "2                               Comedy|Romance  \n",
       "3                         Comedy|Drama|Romance  \n",
       "4                                       Comedy  "
      ]
     },
     "execution_count": 3,
     "metadata": {},
     "output_type": "execute_result"
    }
   ],
   "source": [
    "movies.head()"
   ]
  },
  {
   "cell_type": "code",
   "execution_count": 4,
   "id": "4cb0a8e0",
   "metadata": {},
   "outputs": [
    {
     "data": {
      "text/plain": [
       "(10329, 3)"
      ]
     },
     "execution_count": 4,
     "metadata": {},
     "output_type": "execute_result"
    }
   ],
   "source": [
    "movies.shape"
   ]
  },
  {
   "cell_type": "code",
   "execution_count": 5,
   "id": "fff66575",
   "metadata": {},
   "outputs": [
    {
     "data": {
      "text/html": [
       "<div>\n",
       "<style scoped>\n",
       "    .dataframe tbody tr th:only-of-type {\n",
       "        vertical-align: middle;\n",
       "    }\n",
       "\n",
       "    .dataframe tbody tr th {\n",
       "        vertical-align: top;\n",
       "    }\n",
       "\n",
       "    .dataframe thead th {\n",
       "        text-align: right;\n",
       "    }\n",
       "</style>\n",
       "<table border=\"1\" class=\"dataframe\">\n",
       "  <thead>\n",
       "    <tr style=\"text-align: right;\">\n",
       "      <th></th>\n",
       "      <th>userId</th>\n",
       "      <th>movieId</th>\n",
       "      <th>rating</th>\n",
       "      <th>timestamp</th>\n",
       "    </tr>\n",
       "  </thead>\n",
       "  <tbody>\n",
       "    <tr>\n",
       "      <th>0</th>\n",
       "      <td>1</td>\n",
       "      <td>16</td>\n",
       "      <td>4.0</td>\n",
       "      <td>1217897793</td>\n",
       "    </tr>\n",
       "    <tr>\n",
       "      <th>1</th>\n",
       "      <td>1</td>\n",
       "      <td>24</td>\n",
       "      <td>1.5</td>\n",
       "      <td>1217895807</td>\n",
       "    </tr>\n",
       "    <tr>\n",
       "      <th>2</th>\n",
       "      <td>1</td>\n",
       "      <td>32</td>\n",
       "      <td>4.0</td>\n",
       "      <td>1217896246</td>\n",
       "    </tr>\n",
       "    <tr>\n",
       "      <th>3</th>\n",
       "      <td>1</td>\n",
       "      <td>47</td>\n",
       "      <td>4.0</td>\n",
       "      <td>1217896556</td>\n",
       "    </tr>\n",
       "    <tr>\n",
       "      <th>4</th>\n",
       "      <td>1</td>\n",
       "      <td>50</td>\n",
       "      <td>4.0</td>\n",
       "      <td>1217896523</td>\n",
       "    </tr>\n",
       "  </tbody>\n",
       "</table>\n",
       "</div>"
      ],
      "text/plain": [
       "   userId  movieId  rating   timestamp\n",
       "0       1       16     4.0  1217897793\n",
       "1       1       24     1.5  1217895807\n",
       "2       1       32     4.0  1217896246\n",
       "3       1       47     4.0  1217896556\n",
       "4       1       50     4.0  1217896523"
      ]
     },
     "execution_count": 5,
     "metadata": {},
     "output_type": "execute_result"
    }
   ],
   "source": [
    "ratings.head()"
   ]
  },
  {
   "cell_type": "code",
   "execution_count": 6,
   "id": "9600ad17",
   "metadata": {},
   "outputs": [
    {
     "data": {
      "text/plain": [
       "(105339, 4)"
      ]
     },
     "execution_count": 6,
     "metadata": {},
     "output_type": "execute_result"
    }
   ],
   "source": [
    "ratings.shape"
   ]
  },
  {
   "cell_type": "code",
   "execution_count": 7,
   "id": "99ac6281",
   "metadata": {},
   "outputs": [
    {
     "data": {
      "text/plain": [
       "userId       0\n",
       "movieId      0\n",
       "rating       0\n",
       "timestamp    0\n",
       "dtype: int64"
      ]
     },
     "execution_count": 7,
     "metadata": {},
     "output_type": "execute_result"
    }
   ],
   "source": [
    "ratings.isnull().sum()"
   ]
  },
  {
   "cell_type": "code",
   "execution_count": 8,
   "id": "4fe67433",
   "metadata": {},
   "outputs": [
    {
     "data": {
      "text/plain": [
       "movieId    0\n",
       "title      0\n",
       "genres     0\n",
       "dtype: int64"
      ]
     },
     "execution_count": 8,
     "metadata": {},
     "output_type": "execute_result"
    }
   ],
   "source": [
    "movies.isnull().sum()"
   ]
  },
  {
   "cell_type": "code",
   "execution_count": 9,
   "id": "b788136b",
   "metadata": {},
   "outputs": [
    {
     "data": {
      "text/html": [
       "<div>\n",
       "<style scoped>\n",
       "    .dataframe tbody tr th:only-of-type {\n",
       "        vertical-align: middle;\n",
       "    }\n",
       "\n",
       "    .dataframe tbody tr th {\n",
       "        vertical-align: top;\n",
       "    }\n",
       "\n",
       "    .dataframe thead th {\n",
       "        text-align: right;\n",
       "    }\n",
       "</style>\n",
       "<table border=\"1\" class=\"dataframe\">\n",
       "  <thead>\n",
       "    <tr style=\"text-align: right;\">\n",
       "      <th></th>\n",
       "      <th>userId</th>\n",
       "      <th>movieId</th>\n",
       "      <th>rating</th>\n",
       "      <th>timestamp</th>\n",
       "    </tr>\n",
       "  </thead>\n",
       "  <tbody>\n",
       "    <tr>\n",
       "      <th>count</th>\n",
       "      <td>105339.000000</td>\n",
       "      <td>105339.000000</td>\n",
       "      <td>105339.000000</td>\n",
       "      <td>1.053390e+05</td>\n",
       "    </tr>\n",
       "    <tr>\n",
       "      <th>mean</th>\n",
       "      <td>364.924539</td>\n",
       "      <td>13381.312477</td>\n",
       "      <td>3.516850</td>\n",
       "      <td>1.130424e+09</td>\n",
       "    </tr>\n",
       "    <tr>\n",
       "      <th>std</th>\n",
       "      <td>197.486905</td>\n",
       "      <td>26170.456869</td>\n",
       "      <td>1.044872</td>\n",
       "      <td>1.802660e+08</td>\n",
       "    </tr>\n",
       "    <tr>\n",
       "      <th>min</th>\n",
       "      <td>1.000000</td>\n",
       "      <td>1.000000</td>\n",
       "      <td>0.500000</td>\n",
       "      <td>8.285650e+08</td>\n",
       "    </tr>\n",
       "    <tr>\n",
       "      <th>25%</th>\n",
       "      <td>192.000000</td>\n",
       "      <td>1073.000000</td>\n",
       "      <td>3.000000</td>\n",
       "      <td>9.711008e+08</td>\n",
       "    </tr>\n",
       "    <tr>\n",
       "      <th>50%</th>\n",
       "      <td>383.000000</td>\n",
       "      <td>2497.000000</td>\n",
       "      <td>3.500000</td>\n",
       "      <td>1.115154e+09</td>\n",
       "    </tr>\n",
       "    <tr>\n",
       "      <th>75%</th>\n",
       "      <td>557.000000</td>\n",
       "      <td>5991.000000</td>\n",
       "      <td>4.000000</td>\n",
       "      <td>1.275496e+09</td>\n",
       "    </tr>\n",
       "    <tr>\n",
       "      <th>max</th>\n",
       "      <td>668.000000</td>\n",
       "      <td>149532.000000</td>\n",
       "      <td>5.000000</td>\n",
       "      <td>1.452405e+09</td>\n",
       "    </tr>\n",
       "  </tbody>\n",
       "</table>\n",
       "</div>"
      ],
      "text/plain": [
       "              userId        movieId         rating     timestamp\n",
       "count  105339.000000  105339.000000  105339.000000  1.053390e+05\n",
       "mean      364.924539   13381.312477       3.516850  1.130424e+09\n",
       "std       197.486905   26170.456869       1.044872  1.802660e+08\n",
       "min         1.000000       1.000000       0.500000  8.285650e+08\n",
       "25%       192.000000    1073.000000       3.000000  9.711008e+08\n",
       "50%       383.000000    2497.000000       3.500000  1.115154e+09\n",
       "75%       557.000000    5991.000000       4.000000  1.275496e+09\n",
       "max       668.000000  149532.000000       5.000000  1.452405e+09"
      ]
     },
     "execution_count": 9,
     "metadata": {},
     "output_type": "execute_result"
    }
   ],
   "source": [
    "ratings.describe() #avg movie rating is 3.5"
   ]
  },
  {
   "cell_type": "code",
   "execution_count": 10,
   "id": "15a88220",
   "metadata": {},
   "outputs": [
    {
     "data": {
      "text/plain": [
       "10329"
      ]
     },
     "execution_count": 10,
     "metadata": {},
     "output_type": "execute_result"
    }
   ],
   "source": [
    "#the unique users and unique movies\n",
    "movies[\"movieId\"].nunique()"
   ]
  },
  {
   "cell_type": "code",
   "execution_count": 11,
   "id": "39ee6182",
   "metadata": {},
   "outputs": [
    {
     "data": {
      "text/plain": [
       "10325"
      ]
     },
     "execution_count": 11,
     "metadata": {},
     "output_type": "execute_result"
    }
   ],
   "source": [
    "ratings[\"movieId\"].nunique() # 4 movies are not rated by any user"
   ]
  },
  {
   "cell_type": "code",
   "execution_count": 12,
   "id": "abe0b96b",
   "metadata": {},
   "outputs": [
    {
     "data": {
      "text/plain": [
       "668"
      ]
     },
     "execution_count": 12,
     "metadata": {},
     "output_type": "execute_result"
    }
   ],
   "source": [
    "ratings[\"userId\"].nunique() #668 users who have rated"
   ]
  },
  {
   "cell_type": "code",
   "execution_count": 14,
   "id": "daca7ba7",
   "metadata": {},
   "outputs": [],
   "source": [
    "#total genres -> if there is any genre which is not related, we will remove that"
   ]
  },
  {
   "cell_type": "code",
   "execution_count": 13,
   "id": "af0b2141",
   "metadata": {},
   "outputs": [],
   "source": [
    "movies[\"genres\"]=movies[\"genres\"].str.split(\"|\")"
   ]
  },
  {
   "cell_type": "code",
   "execution_count": 14,
   "id": "22803acc",
   "metadata": {},
   "outputs": [
    {
     "data": {
      "text/html": [
       "<div>\n",
       "<style scoped>\n",
       "    .dataframe tbody tr th:only-of-type {\n",
       "        vertical-align: middle;\n",
       "    }\n",
       "\n",
       "    .dataframe tbody tr th {\n",
       "        vertical-align: top;\n",
       "    }\n",
       "\n",
       "    .dataframe thead th {\n",
       "        text-align: right;\n",
       "    }\n",
       "</style>\n",
       "<table border=\"1\" class=\"dataframe\">\n",
       "  <thead>\n",
       "    <tr style=\"text-align: right;\">\n",
       "      <th></th>\n",
       "      <th>movieId</th>\n",
       "      <th>title</th>\n",
       "      <th>genres</th>\n",
       "    </tr>\n",
       "  </thead>\n",
       "  <tbody>\n",
       "    <tr>\n",
       "      <th>0</th>\n",
       "      <td>1</td>\n",
       "      <td>Toy Story (1995)</td>\n",
       "      <td>[Adventure, Animation, Children, Comedy, Fantasy]</td>\n",
       "    </tr>\n",
       "    <tr>\n",
       "      <th>1</th>\n",
       "      <td>2</td>\n",
       "      <td>Jumanji (1995)</td>\n",
       "      <td>[Adventure, Children, Fantasy]</td>\n",
       "    </tr>\n",
       "    <tr>\n",
       "      <th>2</th>\n",
       "      <td>3</td>\n",
       "      <td>Grumpier Old Men (1995)</td>\n",
       "      <td>[Comedy, Romance]</td>\n",
       "    </tr>\n",
       "    <tr>\n",
       "      <th>3</th>\n",
       "      <td>4</td>\n",
       "      <td>Waiting to Exhale (1995)</td>\n",
       "      <td>[Comedy, Drama, Romance]</td>\n",
       "    </tr>\n",
       "    <tr>\n",
       "      <th>4</th>\n",
       "      <td>5</td>\n",
       "      <td>Father of the Bride Part II (1995)</td>\n",
       "      <td>[Comedy]</td>\n",
       "    </tr>\n",
       "    <tr>\n",
       "      <th>...</th>\n",
       "      <td>...</td>\n",
       "      <td>...</td>\n",
       "      <td>...</td>\n",
       "    </tr>\n",
       "    <tr>\n",
       "      <th>10324</th>\n",
       "      <td>146684</td>\n",
       "      <td>Cosmic Scrat-tastrophe (2015)</td>\n",
       "      <td>[Animation, Children, Comedy]</td>\n",
       "    </tr>\n",
       "    <tr>\n",
       "      <th>10325</th>\n",
       "      <td>146878</td>\n",
       "      <td>Le Grand Restaurant (1966)</td>\n",
       "      <td>[Comedy]</td>\n",
       "    </tr>\n",
       "    <tr>\n",
       "      <th>10326</th>\n",
       "      <td>148238</td>\n",
       "      <td>A Very Murray Christmas (2015)</td>\n",
       "      <td>[Comedy]</td>\n",
       "    </tr>\n",
       "    <tr>\n",
       "      <th>10327</th>\n",
       "      <td>148626</td>\n",
       "      <td>The Big Short (2015)</td>\n",
       "      <td>[Drama]</td>\n",
       "    </tr>\n",
       "    <tr>\n",
       "      <th>10328</th>\n",
       "      <td>149532</td>\n",
       "      <td>Marco Polo: One Hundred Eyes (2015)</td>\n",
       "      <td>[(no genres listed)]</td>\n",
       "    </tr>\n",
       "  </tbody>\n",
       "</table>\n",
       "<p>10329 rows × 3 columns</p>\n",
       "</div>"
      ],
      "text/plain": [
       "       movieId                                title  \\\n",
       "0            1                     Toy Story (1995)   \n",
       "1            2                       Jumanji (1995)   \n",
       "2            3              Grumpier Old Men (1995)   \n",
       "3            4             Waiting to Exhale (1995)   \n",
       "4            5   Father of the Bride Part II (1995)   \n",
       "...        ...                                  ...   \n",
       "10324   146684        Cosmic Scrat-tastrophe (2015)   \n",
       "10325   146878           Le Grand Restaurant (1966)   \n",
       "10326   148238       A Very Murray Christmas (2015)   \n",
       "10327   148626                 The Big Short (2015)   \n",
       "10328   149532  Marco Polo: One Hundred Eyes (2015)   \n",
       "\n",
       "                                                  genres  \n",
       "0      [Adventure, Animation, Children, Comedy, Fantasy]  \n",
       "1                         [Adventure, Children, Fantasy]  \n",
       "2                                      [Comedy, Romance]  \n",
       "3                               [Comedy, Drama, Romance]  \n",
       "4                                               [Comedy]  \n",
       "...                                                  ...  \n",
       "10324                      [Animation, Children, Comedy]  \n",
       "10325                                           [Comedy]  \n",
       "10326                                           [Comedy]  \n",
       "10327                                            [Drama]  \n",
       "10328                               [(no genres listed)]  \n",
       "\n",
       "[10329 rows x 3 columns]"
      ]
     },
     "execution_count": 14,
     "metadata": {},
     "output_type": "execute_result"
    }
   ],
   "source": [
    "movies"
   ]
  },
  {
   "cell_type": "code",
   "execution_count": 15,
   "id": "f1e88512",
   "metadata": {},
   "outputs": [],
   "source": [
    "movies2=movies.explode(\"genres\")"
   ]
  },
  {
   "cell_type": "code",
   "execution_count": 16,
   "id": "4503e63a",
   "metadata": {},
   "outputs": [
    {
     "data": {
      "text/html": [
       "<div>\n",
       "<style scoped>\n",
       "    .dataframe tbody tr th:only-of-type {\n",
       "        vertical-align: middle;\n",
       "    }\n",
       "\n",
       "    .dataframe tbody tr th {\n",
       "        vertical-align: top;\n",
       "    }\n",
       "\n",
       "    .dataframe thead th {\n",
       "        text-align: right;\n",
       "    }\n",
       "</style>\n",
       "<table border=\"1\" class=\"dataframe\">\n",
       "  <thead>\n",
       "    <tr style=\"text-align: right;\">\n",
       "      <th></th>\n",
       "      <th>movieId</th>\n",
       "      <th>title</th>\n",
       "      <th>genres</th>\n",
       "    </tr>\n",
       "  </thead>\n",
       "  <tbody>\n",
       "    <tr>\n",
       "      <th>0</th>\n",
       "      <td>1</td>\n",
       "      <td>Toy Story (1995)</td>\n",
       "      <td>Adventure</td>\n",
       "    </tr>\n",
       "    <tr>\n",
       "      <th>0</th>\n",
       "      <td>1</td>\n",
       "      <td>Toy Story (1995)</td>\n",
       "      <td>Animation</td>\n",
       "    </tr>\n",
       "    <tr>\n",
       "      <th>0</th>\n",
       "      <td>1</td>\n",
       "      <td>Toy Story (1995)</td>\n",
       "      <td>Children</td>\n",
       "    </tr>\n",
       "    <tr>\n",
       "      <th>0</th>\n",
       "      <td>1</td>\n",
       "      <td>Toy Story (1995)</td>\n",
       "      <td>Comedy</td>\n",
       "    </tr>\n",
       "    <tr>\n",
       "      <th>0</th>\n",
       "      <td>1</td>\n",
       "      <td>Toy Story (1995)</td>\n",
       "      <td>Fantasy</td>\n",
       "    </tr>\n",
       "    <tr>\n",
       "      <th>...</th>\n",
       "      <td>...</td>\n",
       "      <td>...</td>\n",
       "      <td>...</td>\n",
       "    </tr>\n",
       "    <tr>\n",
       "      <th>10324</th>\n",
       "      <td>146684</td>\n",
       "      <td>Cosmic Scrat-tastrophe (2015)</td>\n",
       "      <td>Comedy</td>\n",
       "    </tr>\n",
       "    <tr>\n",
       "      <th>10325</th>\n",
       "      <td>146878</td>\n",
       "      <td>Le Grand Restaurant (1966)</td>\n",
       "      <td>Comedy</td>\n",
       "    </tr>\n",
       "    <tr>\n",
       "      <th>10326</th>\n",
       "      <td>148238</td>\n",
       "      <td>A Very Murray Christmas (2015)</td>\n",
       "      <td>Comedy</td>\n",
       "    </tr>\n",
       "    <tr>\n",
       "      <th>10327</th>\n",
       "      <td>148626</td>\n",
       "      <td>The Big Short (2015)</td>\n",
       "      <td>Drama</td>\n",
       "    </tr>\n",
       "    <tr>\n",
       "      <th>10328</th>\n",
       "      <td>149532</td>\n",
       "      <td>Marco Polo: One Hundred Eyes (2015)</td>\n",
       "      <td>(no genres listed)</td>\n",
       "    </tr>\n",
       "  </tbody>\n",
       "</table>\n",
       "<p>23114 rows × 3 columns</p>\n",
       "</div>"
      ],
      "text/plain": [
       "       movieId                                title              genres\n",
       "0            1                     Toy Story (1995)           Adventure\n",
       "0            1                     Toy Story (1995)           Animation\n",
       "0            1                     Toy Story (1995)            Children\n",
       "0            1                     Toy Story (1995)              Comedy\n",
       "0            1                     Toy Story (1995)             Fantasy\n",
       "...        ...                                  ...                 ...\n",
       "10324   146684        Cosmic Scrat-tastrophe (2015)              Comedy\n",
       "10325   146878           Le Grand Restaurant (1966)              Comedy\n",
       "10326   148238       A Very Murray Christmas (2015)              Comedy\n",
       "10327   148626                 The Big Short (2015)               Drama\n",
       "10328   149532  Marco Polo: One Hundred Eyes (2015)  (no genres listed)\n",
       "\n",
       "[23114 rows x 3 columns]"
      ]
     },
     "execution_count": 16,
     "metadata": {},
     "output_type": "execute_result"
    }
   ],
   "source": [
    "movies2"
   ]
  },
  {
   "cell_type": "code",
   "execution_count": 21,
   "id": "4285fe2f",
   "metadata": {},
   "outputs": [],
   "source": [
    "# create a popularity based recommender system at a genre level"
   ]
  },
  {
   "cell_type": "code",
   "execution_count": 17,
   "id": "55346e29",
   "metadata": {},
   "outputs": [],
   "source": [
    "merged_info=pd.merge(ratings, movies2, on=[\"movieId\"], how=\"inner\")"
   ]
  },
  {
   "cell_type": "code",
   "execution_count": 18,
   "id": "6b2cd837",
   "metadata": {},
   "outputs": [
    {
     "data": {
      "text/html": [
       "<div>\n",
       "<style scoped>\n",
       "    .dataframe tbody tr th:only-of-type {\n",
       "        vertical-align: middle;\n",
       "    }\n",
       "\n",
       "    .dataframe tbody tr th {\n",
       "        vertical-align: top;\n",
       "    }\n",
       "\n",
       "    .dataframe thead th {\n",
       "        text-align: right;\n",
       "    }\n",
       "</style>\n",
       "<table border=\"1\" class=\"dataframe\">\n",
       "  <thead>\n",
       "    <tr style=\"text-align: right;\">\n",
       "      <th></th>\n",
       "      <th>genres</th>\n",
       "      <th>unique_movies_count</th>\n",
       "      <th>rating</th>\n",
       "    </tr>\n",
       "  </thead>\n",
       "  <tbody>\n",
       "    <tr>\n",
       "      <th>0</th>\n",
       "      <td>(no genres listed)</td>\n",
       "      <td>7</td>\n",
       "      <td>3.071429</td>\n",
       "    </tr>\n",
       "    <tr>\n",
       "      <th>1</th>\n",
       "      <td>Action</td>\n",
       "      <td>1736</td>\n",
       "      <td>3.451450</td>\n",
       "    </tr>\n",
       "    <tr>\n",
       "      <th>2</th>\n",
       "      <td>Adventure</td>\n",
       "      <td>1164</td>\n",
       "      <td>3.518027</td>\n",
       "    </tr>\n",
       "    <tr>\n",
       "      <th>3</th>\n",
       "      <td>Animation</td>\n",
       "      <td>400</td>\n",
       "      <td>3.635350</td>\n",
       "    </tr>\n",
       "    <tr>\n",
       "      <th>4</th>\n",
       "      <td>Children</td>\n",
       "      <td>540</td>\n",
       "      <td>3.439429</td>\n",
       "    </tr>\n",
       "    <tr>\n",
       "      <th>5</th>\n",
       "      <td>Comedy</td>\n",
       "      <td>3513</td>\n",
       "      <td>3.420996</td>\n",
       "    </tr>\n",
       "    <tr>\n",
       "      <th>6</th>\n",
       "      <td>Crime</td>\n",
       "      <td>1440</td>\n",
       "      <td>3.642392</td>\n",
       "    </tr>\n",
       "    <tr>\n",
       "      <th>7</th>\n",
       "      <td>Documentary</td>\n",
       "      <td>415</td>\n",
       "      <td>3.643035</td>\n",
       "    </tr>\n",
       "    <tr>\n",
       "      <th>8</th>\n",
       "      <td>Drama</td>\n",
       "      <td>5217</td>\n",
       "      <td>3.650266</td>\n",
       "    </tr>\n",
       "    <tr>\n",
       "      <th>9</th>\n",
       "      <td>Fantasy</td>\n",
       "      <td>670</td>\n",
       "      <td>3.500459</td>\n",
       "    </tr>\n",
       "    <tr>\n",
       "      <th>10</th>\n",
       "      <td>Film-Noir</td>\n",
       "      <td>195</td>\n",
       "      <td>3.913636</td>\n",
       "    </tr>\n",
       "    <tr>\n",
       "      <th>11</th>\n",
       "      <td>Horror</td>\n",
       "      <td>1001</td>\n",
       "      <td>3.281097</td>\n",
       "    </tr>\n",
       "    <tr>\n",
       "      <th>12</th>\n",
       "      <td>IMAX</td>\n",
       "      <td>152</td>\n",
       "      <td>3.641821</td>\n",
       "    </tr>\n",
       "    <tr>\n",
       "      <th>13</th>\n",
       "      <td>Musical</td>\n",
       "      <td>409</td>\n",
       "      <td>3.571962</td>\n",
       "    </tr>\n",
       "    <tr>\n",
       "      <th>14</th>\n",
       "      <td>Mystery</td>\n",
       "      <td>675</td>\n",
       "      <td>3.652043</td>\n",
       "    </tr>\n",
       "    <tr>\n",
       "      <th>15</th>\n",
       "      <td>Romance</td>\n",
       "      <td>1788</td>\n",
       "      <td>3.544255</td>\n",
       "    </tr>\n",
       "    <tr>\n",
       "      <th>16</th>\n",
       "      <td>Sci-Fi</td>\n",
       "      <td>858</td>\n",
       "      <td>3.454481</td>\n",
       "    </tr>\n",
       "    <tr>\n",
       "      <th>17</th>\n",
       "      <td>Thriller</td>\n",
       "      <td>2187</td>\n",
       "      <td>3.495561</td>\n",
       "    </tr>\n",
       "    <tr>\n",
       "      <th>18</th>\n",
       "      <td>War</td>\n",
       "      <td>503</td>\n",
       "      <td>3.783202</td>\n",
       "    </tr>\n",
       "    <tr>\n",
       "      <th>19</th>\n",
       "      <td>Western</td>\n",
       "      <td>235</td>\n",
       "      <td>3.565687</td>\n",
       "    </tr>\n",
       "  </tbody>\n",
       "</table>\n",
       "</div>"
      ],
      "text/plain": [
       "                genres  unique_movies_count    rating\n",
       "0   (no genres listed)                    7  3.071429\n",
       "1               Action                 1736  3.451450\n",
       "2            Adventure                 1164  3.518027\n",
       "3            Animation                  400  3.635350\n",
       "4             Children                  540  3.439429\n",
       "5               Comedy                 3513  3.420996\n",
       "6                Crime                 1440  3.642392\n",
       "7          Documentary                  415  3.643035\n",
       "8                Drama                 5217  3.650266\n",
       "9              Fantasy                  670  3.500459\n",
       "10           Film-Noir                  195  3.913636\n",
       "11              Horror                 1001  3.281097\n",
       "12                IMAX                  152  3.641821\n",
       "13             Musical                  409  3.571962\n",
       "14             Mystery                  675  3.652043\n",
       "15             Romance                 1788  3.544255\n",
       "16              Sci-Fi                  858  3.454481\n",
       "17            Thriller                 2187  3.495561\n",
       "18                 War                  503  3.783202\n",
       "19             Western                  235  3.565687"
      ]
     },
     "execution_count": 18,
     "metadata": {},
     "output_type": "execute_result"
    }
   ],
   "source": [
    "merged_info.groupby(\"genres\").agg({\"title\":\"nunique\", \"rating\":\"mean\"}).reset_index().rename(columns={\"title\":\"unique_movies_count\", \"ratings\":\"average_ratings\"})"
   ]
  },
  {
   "cell_type": "code",
   "execution_count": 19,
   "id": "3c690e67",
   "metadata": {},
   "outputs": [
    {
     "data": {
      "text/plain": [
       "array(['Crime', 'Drama', 'Sci-Fi', 'Mystery', 'Thriller', 'Action', 'War',\n",
       "       'Adventure', 'IMAX', 'Comedy', 'Romance', 'Western', 'Horror',\n",
       "       'Fantasy', 'Musical', 'Film-Noir', 'Children', 'Animation',\n",
       "       'Documentary', '(no genres listed)'], dtype=object)"
      ]
     },
     "execution_count": 19,
     "metadata": {},
     "output_type": "execute_result"
    }
   ],
   "source": [
    "merged_info.genres.unique()"
   ]
  },
  {
   "cell_type": "code",
   "execution_count": 20,
   "id": "64372a69",
   "metadata": {},
   "outputs": [
    {
     "data": {
      "text/plain": [
       "281897"
      ]
     },
     "execution_count": 20,
     "metadata": {},
     "output_type": "execute_result"
    }
   ],
   "source": [
    "len(merged_info[merged_info[\"genres\"] != '(no genres listed)'])"
   ]
  },
  {
   "cell_type": "code",
   "execution_count": 21,
   "id": "b0c88813",
   "metadata": {},
   "outputs": [
    {
     "data": {
      "text/html": [
       "<div>\n",
       "<style scoped>\n",
       "    .dataframe tbody tr th:only-of-type {\n",
       "        vertical-align: middle;\n",
       "    }\n",
       "\n",
       "    .dataframe tbody tr th {\n",
       "        vertical-align: top;\n",
       "    }\n",
       "\n",
       "    .dataframe thead th {\n",
       "        text-align: right;\n",
       "    }\n",
       "</style>\n",
       "<table border=\"1\" class=\"dataframe\">\n",
       "  <thead>\n",
       "    <tr style=\"text-align: right;\">\n",
       "      <th></th>\n",
       "      <th>userId</th>\n",
       "      <th>movieId</th>\n",
       "      <th>rating</th>\n",
       "      <th>timestamp</th>\n",
       "      <th>title</th>\n",
       "      <th>genres</th>\n",
       "    </tr>\n",
       "  </thead>\n",
       "  <tbody>\n",
       "    <tr>\n",
       "      <th>0</th>\n",
       "      <td>1</td>\n",
       "      <td>16</td>\n",
       "      <td>4.0</td>\n",
       "      <td>1217897793</td>\n",
       "      <td>Casino (1995)</td>\n",
       "      <td>Crime</td>\n",
       "    </tr>\n",
       "    <tr>\n",
       "      <th>1</th>\n",
       "      <td>1</td>\n",
       "      <td>16</td>\n",
       "      <td>4.0</td>\n",
       "      <td>1217897793</td>\n",
       "      <td>Casino (1995)</td>\n",
       "      <td>Drama</td>\n",
       "    </tr>\n",
       "    <tr>\n",
       "      <th>2</th>\n",
       "      <td>9</td>\n",
       "      <td>16</td>\n",
       "      <td>4.0</td>\n",
       "      <td>842686699</td>\n",
       "      <td>Casino (1995)</td>\n",
       "      <td>Crime</td>\n",
       "    </tr>\n",
       "    <tr>\n",
       "      <th>3</th>\n",
       "      <td>9</td>\n",
       "      <td>16</td>\n",
       "      <td>4.0</td>\n",
       "      <td>842686699</td>\n",
       "      <td>Casino (1995)</td>\n",
       "      <td>Drama</td>\n",
       "    </tr>\n",
       "    <tr>\n",
       "      <th>4</th>\n",
       "      <td>12</td>\n",
       "      <td>16</td>\n",
       "      <td>1.5</td>\n",
       "      <td>1144396284</td>\n",
       "      <td>Casino (1995)</td>\n",
       "      <td>Crime</td>\n",
       "    </tr>\n",
       "    <tr>\n",
       "      <th>...</th>\n",
       "      <td>...</td>\n",
       "      <td>...</td>\n",
       "      <td>...</td>\n",
       "      <td>...</td>\n",
       "      <td>...</td>\n",
       "      <td>...</td>\n",
       "    </tr>\n",
       "    <tr>\n",
       "      <th>281898</th>\n",
       "      <td>668</td>\n",
       "      <td>140098</td>\n",
       "      <td>2.5</td>\n",
       "      <td>1450415424</td>\n",
       "      <td>Runoff (2015)</td>\n",
       "      <td>Drama</td>\n",
       "    </tr>\n",
       "    <tr>\n",
       "      <th>281899</th>\n",
       "      <td>668</td>\n",
       "      <td>140816</td>\n",
       "      <td>2.5</td>\n",
       "      <td>1443288791</td>\n",
       "      <td>Tangerine (2015)</td>\n",
       "      <td>Comedy</td>\n",
       "    </tr>\n",
       "    <tr>\n",
       "      <th>281900</th>\n",
       "      <td>668</td>\n",
       "      <td>140816</td>\n",
       "      <td>2.5</td>\n",
       "      <td>1443288791</td>\n",
       "      <td>Tangerine (2015)</td>\n",
       "      <td>Drama</td>\n",
       "    </tr>\n",
       "    <tr>\n",
       "      <th>281902</th>\n",
       "      <td>668</td>\n",
       "      <td>142488</td>\n",
       "      <td>4.0</td>\n",
       "      <td>1451535844</td>\n",
       "      <td>Spotlight (2015)</td>\n",
       "      <td>Thriller</td>\n",
       "    </tr>\n",
       "    <tr>\n",
       "      <th>281903</th>\n",
       "      <td>668</td>\n",
       "      <td>142507</td>\n",
       "      <td>3.5</td>\n",
       "      <td>1451535889</td>\n",
       "      <td>Pawn Sacrifice (2015)</td>\n",
       "      <td>Drama</td>\n",
       "    </tr>\n",
       "  </tbody>\n",
       "</table>\n",
       "<p>281897 rows × 6 columns</p>\n",
       "</div>"
      ],
      "text/plain": [
       "        userId  movieId  rating   timestamp                  title    genres\n",
       "0            1       16     4.0  1217897793          Casino (1995)     Crime\n",
       "1            1       16     4.0  1217897793          Casino (1995)     Drama\n",
       "2            9       16     4.0   842686699          Casino (1995)     Crime\n",
       "3            9       16     4.0   842686699          Casino (1995)     Drama\n",
       "4           12       16     1.5  1144396284          Casino (1995)     Crime\n",
       "...        ...      ...     ...         ...                    ...       ...\n",
       "281898     668   140098     2.5  1450415424          Runoff (2015)     Drama\n",
       "281899     668   140816     2.5  1443288791       Tangerine (2015)    Comedy\n",
       "281900     668   140816     2.5  1443288791       Tangerine (2015)     Drama\n",
       "281902     668   142488     4.0  1451535844       Spotlight (2015)  Thriller\n",
       "281903     668   142507     3.5  1451535889  Pawn Sacrifice (2015)     Drama\n",
       "\n",
       "[281897 rows x 6 columns]"
      ]
     },
     "execution_count": 21,
     "metadata": {},
     "output_type": "execute_result"
    }
   ],
   "source": [
    "merged_info=merged_info[merged_info[\"genres\"] != '(no genres listed)']\n",
    "merged_info"
   ]
  },
  {
   "cell_type": "code",
   "execution_count": 24,
   "id": "bd91310b",
   "metadata": {},
   "outputs": [
    {
     "data": {
      "text/plain": [
       "array(['Crime', 'Drama', 'Sci-Fi', 'Mystery', 'Thriller', 'Action', 'War',\n",
       "       'Adventure', 'IMAX', 'Comedy', 'Romance', 'Western', 'Horror',\n",
       "       'Fantasy', 'Musical', 'Film-Noir', 'Children', 'Animation',\n",
       "       'Documentary'], dtype=object)"
      ]
     },
     "execution_count": 24,
     "metadata": {},
     "output_type": "execute_result"
    }
   ],
   "source": [
    "merged_info.genres.unique()"
   ]
  },
  {
   "cell_type": "code",
   "execution_count": 25,
   "id": "897b0f21",
   "metadata": {},
   "outputs": [
    {
     "data": {
      "text/plain": [
       "19"
      ]
     },
     "execution_count": 25,
     "metadata": {},
     "output_type": "execute_result"
    }
   ],
   "source": [
    "merged_info.genres.nunique()"
   ]
  },
  {
   "cell_type": "code",
   "execution_count": 26,
   "id": "2642bf85",
   "metadata": {},
   "outputs": [],
   "source": [
    "popularity_df=merged_info.groupby(\"genres\").agg({\"title\":\"nunique\", \"rating\":\"mean\"}).reset_index().rename(columns={\"title\":\"unique_movies_count\", \"ratings\":\"average_ratings\"})"
   ]
  },
  {
   "cell_type": "code",
   "execution_count": 27,
   "id": "b537539b",
   "metadata": {},
   "outputs": [
    {
     "data": {
      "text/html": [
       "<div>\n",
       "<style scoped>\n",
       "    .dataframe tbody tr th:only-of-type {\n",
       "        vertical-align: middle;\n",
       "    }\n",
       "\n",
       "    .dataframe tbody tr th {\n",
       "        vertical-align: top;\n",
       "    }\n",
       "\n",
       "    .dataframe thead th {\n",
       "        text-align: right;\n",
       "    }\n",
       "</style>\n",
       "<table border=\"1\" class=\"dataframe\">\n",
       "  <thead>\n",
       "    <tr style=\"text-align: right;\">\n",
       "      <th></th>\n",
       "      <th>genres</th>\n",
       "      <th>unique_movies_count</th>\n",
       "      <th>rating</th>\n",
       "    </tr>\n",
       "  </thead>\n",
       "  <tbody>\n",
       "    <tr>\n",
       "      <th>0</th>\n",
       "      <td>Action</td>\n",
       "      <td>1736</td>\n",
       "      <td>3.451450</td>\n",
       "    </tr>\n",
       "    <tr>\n",
       "      <th>1</th>\n",
       "      <td>Adventure</td>\n",
       "      <td>1164</td>\n",
       "      <td>3.518027</td>\n",
       "    </tr>\n",
       "    <tr>\n",
       "      <th>2</th>\n",
       "      <td>Animation</td>\n",
       "      <td>400</td>\n",
       "      <td>3.635350</td>\n",
       "    </tr>\n",
       "    <tr>\n",
       "      <th>3</th>\n",
       "      <td>Children</td>\n",
       "      <td>540</td>\n",
       "      <td>3.439429</td>\n",
       "    </tr>\n",
       "    <tr>\n",
       "      <th>4</th>\n",
       "      <td>Comedy</td>\n",
       "      <td>3513</td>\n",
       "      <td>3.420996</td>\n",
       "    </tr>\n",
       "    <tr>\n",
       "      <th>5</th>\n",
       "      <td>Crime</td>\n",
       "      <td>1440</td>\n",
       "      <td>3.642392</td>\n",
       "    </tr>\n",
       "    <tr>\n",
       "      <th>6</th>\n",
       "      <td>Documentary</td>\n",
       "      <td>415</td>\n",
       "      <td>3.643035</td>\n",
       "    </tr>\n",
       "    <tr>\n",
       "      <th>7</th>\n",
       "      <td>Drama</td>\n",
       "      <td>5217</td>\n",
       "      <td>3.650266</td>\n",
       "    </tr>\n",
       "    <tr>\n",
       "      <th>8</th>\n",
       "      <td>Fantasy</td>\n",
       "      <td>670</td>\n",
       "      <td>3.500459</td>\n",
       "    </tr>\n",
       "    <tr>\n",
       "      <th>9</th>\n",
       "      <td>Film-Noir</td>\n",
       "      <td>195</td>\n",
       "      <td>3.913636</td>\n",
       "    </tr>\n",
       "    <tr>\n",
       "      <th>10</th>\n",
       "      <td>Horror</td>\n",
       "      <td>1001</td>\n",
       "      <td>3.281097</td>\n",
       "    </tr>\n",
       "    <tr>\n",
       "      <th>11</th>\n",
       "      <td>IMAX</td>\n",
       "      <td>152</td>\n",
       "      <td>3.641821</td>\n",
       "    </tr>\n",
       "    <tr>\n",
       "      <th>12</th>\n",
       "      <td>Musical</td>\n",
       "      <td>409</td>\n",
       "      <td>3.571962</td>\n",
       "    </tr>\n",
       "    <tr>\n",
       "      <th>13</th>\n",
       "      <td>Mystery</td>\n",
       "      <td>675</td>\n",
       "      <td>3.652043</td>\n",
       "    </tr>\n",
       "    <tr>\n",
       "      <th>14</th>\n",
       "      <td>Romance</td>\n",
       "      <td>1788</td>\n",
       "      <td>3.544255</td>\n",
       "    </tr>\n",
       "    <tr>\n",
       "      <th>15</th>\n",
       "      <td>Sci-Fi</td>\n",
       "      <td>858</td>\n",
       "      <td>3.454481</td>\n",
       "    </tr>\n",
       "    <tr>\n",
       "      <th>16</th>\n",
       "      <td>Thriller</td>\n",
       "      <td>2187</td>\n",
       "      <td>3.495561</td>\n",
       "    </tr>\n",
       "    <tr>\n",
       "      <th>17</th>\n",
       "      <td>War</td>\n",
       "      <td>503</td>\n",
       "      <td>3.783202</td>\n",
       "    </tr>\n",
       "    <tr>\n",
       "      <th>18</th>\n",
       "      <td>Western</td>\n",
       "      <td>235</td>\n",
       "      <td>3.565687</td>\n",
       "    </tr>\n",
       "  </tbody>\n",
       "</table>\n",
       "</div>"
      ],
      "text/plain": [
       "         genres  unique_movies_count    rating\n",
       "0        Action                 1736  3.451450\n",
       "1     Adventure                 1164  3.518027\n",
       "2     Animation                  400  3.635350\n",
       "3      Children                  540  3.439429\n",
       "4        Comedy                 3513  3.420996\n",
       "5         Crime                 1440  3.642392\n",
       "6   Documentary                  415  3.643035\n",
       "7         Drama                 5217  3.650266\n",
       "8       Fantasy                  670  3.500459\n",
       "9     Film-Noir                  195  3.913636\n",
       "10       Horror                 1001  3.281097\n",
       "11         IMAX                  152  3.641821\n",
       "12      Musical                  409  3.571962\n",
       "13      Mystery                  675  3.652043\n",
       "14      Romance                 1788  3.544255\n",
       "15       Sci-Fi                  858  3.454481\n",
       "16     Thriller                 2187  3.495561\n",
       "17          War                  503  3.783202\n",
       "18      Western                  235  3.565687"
      ]
     },
     "execution_count": 27,
     "metadata": {},
     "output_type": "execute_result"
    }
   ],
   "source": [
    "popularity_df"
   ]
  },
  {
   "cell_type": "code",
   "execution_count": 28,
   "id": "a801fbca",
   "metadata": {},
   "outputs": [
    {
     "data": {
      "text/html": [
       "<div>\n",
       "<style scoped>\n",
       "    .dataframe tbody tr th:only-of-type {\n",
       "        vertical-align: middle;\n",
       "    }\n",
       "\n",
       "    .dataframe tbody tr th {\n",
       "        vertical-align: top;\n",
       "    }\n",
       "\n",
       "    .dataframe thead th {\n",
       "        text-align: right;\n",
       "    }\n",
       "</style>\n",
       "<table border=\"1\" class=\"dataframe\">\n",
       "  <thead>\n",
       "    <tr style=\"text-align: right;\">\n",
       "      <th></th>\n",
       "      <th>genres</th>\n",
       "      <th>unique_movies_count</th>\n",
       "      <th>rating</th>\n",
       "    </tr>\n",
       "  </thead>\n",
       "  <tbody>\n",
       "    <tr>\n",
       "      <th>0</th>\n",
       "      <td>Action</td>\n",
       "      <td>1736</td>\n",
       "      <td>3.45145</td>\n",
       "    </tr>\n",
       "  </tbody>\n",
       "</table>\n",
       "</div>"
      ],
      "text/plain": [
       "   genres  unique_movies_count   rating\n",
       "0  Action                 1736  3.45145"
      ]
     },
     "execution_count": 28,
     "metadata": {},
     "output_type": "execute_result"
    }
   ],
   "source": [
    "popularity_df[popularity_df[\"genres\"] == \"Action\"]"
   ]
  },
  {
   "cell_type": "code",
   "execution_count": 29,
   "id": "776f3d6f",
   "metadata": {},
   "outputs": [],
   "source": [
    "def TopNPopularMovies(genre,num_rating_threshold,topN=5):\n",
    "    #calculate the average rating for all the genres \n",
    "    popularity_df=merged_info.groupby([\"genres\",\"title\"]).agg({\"rating\":[\"mean\",\"size\"]}).reset_index()\n",
    "    #change column names\n",
    "    popularity_df.columns=[\"genres\",\"title\",\"average_rating\",\"num_of_ratings\"]\n",
    "    #filtering accoring to genres, threshold\n",
    "    topNRecommendations=popularity_df[(popularity_df[\"genres\"]==genre)&(popularity_df[\"num_of_ratings\"]>=num_rating_threshold)].sort_values(\"average_rating\",ascending=False).head(topN)\n",
    "    return topNRecommendations"
   ]
  },
  {
   "cell_type": "code",
   "execution_count": 30,
   "id": "a507bd55",
   "metadata": {},
   "outputs": [
    {
     "data": {
      "text/html": [
       "<div>\n",
       "<style scoped>\n",
       "    .dataframe tbody tr th:only-of-type {\n",
       "        vertical-align: middle;\n",
       "    }\n",
       "\n",
       "    .dataframe tbody tr th {\n",
       "        vertical-align: top;\n",
       "    }\n",
       "\n",
       "    .dataframe thead th {\n",
       "        text-align: right;\n",
       "    }\n",
       "</style>\n",
       "<table border=\"1\" class=\"dataframe\">\n",
       "  <thead>\n",
       "    <tr style=\"text-align: right;\">\n",
       "      <th></th>\n",
       "      <th>genres</th>\n",
       "      <th>title</th>\n",
       "      <th>average_rating</th>\n",
       "      <th>num_of_ratings</th>\n",
       "    </tr>\n",
       "  </thead>\n",
       "  <tbody>\n",
       "    <tr>\n",
       "      <th>16100</th>\n",
       "      <td>Horror</td>\n",
       "      <td>Silence of the Lambs, The (1991)</td>\n",
       "      <td>4.194828</td>\n",
       "      <td>290</td>\n",
       "    </tr>\n",
       "    <tr>\n",
       "      <th>15994</th>\n",
       "      <td>Horror</td>\n",
       "      <td>Psycho (1960)</td>\n",
       "      <td>4.186047</td>\n",
       "      <td>86</td>\n",
       "    </tr>\n",
       "    <tr>\n",
       "      <th>15316</th>\n",
       "      <td>Horror</td>\n",
       "      <td>Aliens (1986)</td>\n",
       "      <td>4.146497</td>\n",
       "      <td>157</td>\n",
       "    </tr>\n",
       "    <tr>\n",
       "      <th>16107</th>\n",
       "      <td>Horror</td>\n",
       "      <td>Sixth Sense, The (1999)</td>\n",
       "      <td>4.130890</td>\n",
       "      <td>191</td>\n",
       "    </tr>\n",
       "    <tr>\n",
       "      <th>15313</th>\n",
       "      <td>Horror</td>\n",
       "      <td>Alien (1979)</td>\n",
       "      <td>4.064103</td>\n",
       "      <td>156</td>\n",
       "    </tr>\n",
       "    <tr>\n",
       "      <th>...</th>\n",
       "      <td>...</td>\n",
       "      <td>...</td>\n",
       "      <td>...</td>\n",
       "      <td>...</td>\n",
       "    </tr>\n",
       "    <tr>\n",
       "      <th>15540</th>\n",
       "      <td>Horror</td>\n",
       "      <td>Deep Blue Sea (1999)</td>\n",
       "      <td>2.697368</td>\n",
       "      <td>38</td>\n",
       "    </tr>\n",
       "    <tr>\n",
       "      <th>15386</th>\n",
       "      <td>Horror</td>\n",
       "      <td>Blair Witch Project, The (1999)</td>\n",
       "      <td>2.650538</td>\n",
       "      <td>93</td>\n",
       "    </tr>\n",
       "    <tr>\n",
       "      <th>15768</th>\n",
       "      <td>Horror</td>\n",
       "      <td>I Know What You Did Last Summer (1997)</td>\n",
       "      <td>2.617647</td>\n",
       "      <td>34</td>\n",
       "    </tr>\n",
       "    <tr>\n",
       "      <th>15592</th>\n",
       "      <td>Horror</td>\n",
       "      <td>End of Days (1999)</td>\n",
       "      <td>2.575758</td>\n",
       "      <td>33</td>\n",
       "    </tr>\n",
       "    <tr>\n",
       "      <th>16076</th>\n",
       "      <td>Horror</td>\n",
       "      <td>Scream 3 (2000)</td>\n",
       "      <td>2.500000</td>\n",
       "      <td>31</td>\n",
       "    </tr>\n",
       "  </tbody>\n",
       "</table>\n",
       "<p>66 rows × 4 columns</p>\n",
       "</div>"
      ],
      "text/plain": [
       "       genres                                   title  average_rating  \\\n",
       "16100  Horror        Silence of the Lambs, The (1991)        4.194828   \n",
       "15994  Horror                           Psycho (1960)        4.186047   \n",
       "15316  Horror                           Aliens (1986)        4.146497   \n",
       "16107  Horror                 Sixth Sense, The (1999)        4.130890   \n",
       "15313  Horror                            Alien (1979)        4.064103   \n",
       "...       ...                                     ...             ...   \n",
       "15540  Horror                    Deep Blue Sea (1999)        2.697368   \n",
       "15386  Horror         Blair Witch Project, The (1999)        2.650538   \n",
       "15768  Horror  I Know What You Did Last Summer (1997)        2.617647   \n",
       "15592  Horror                      End of Days (1999)        2.575758   \n",
       "16076  Horror                         Scream 3 (2000)        2.500000   \n",
       "\n",
       "       num_of_ratings  \n",
       "16100             290  \n",
       "15994              86  \n",
       "15316             157  \n",
       "16107             191  \n",
       "15313             156  \n",
       "...               ...  \n",
       "15540              38  \n",
       "15386              93  \n",
       "15768              34  \n",
       "15592              33  \n",
       "16076              31  \n",
       "\n",
       "[66 rows x 4 columns]"
      ]
     },
     "execution_count": 30,
     "metadata": {},
     "output_type": "execute_result"
    }
   ],
   "source": [
    "TopNPopularMovies(genre=\"Horror\", num_rating_threshold=30, topN=500)\n",
    "\n",
    "#transform the output such that, the indices are starting from 0 and only SNo. "
   ]
  },
  {
   "cell_type": "code",
   "execution_count": 35,
   "id": "fc9d3f44",
   "metadata": {},
   "outputs": [],
   "source": [
    "#content based"
   ]
  },
  {
   "cell_type": "code",
   "execution_count": 38,
   "id": "b5989c29",
   "metadata": {},
   "outputs": [],
   "source": [
    "#Create a content based recommnender system which recommend top -> genres to vectors"
   ]
  },
  {
   "cell_type": "code",
   "execution_count": 31,
   "id": "5a9f5ba4",
   "metadata": {},
   "outputs": [],
   "source": [
    "#cosine similarity\n",
    "tfidf=TfidfVectorizer(ngram_range=(1,3), min_df=0, stop_words=\"english\")"
   ]
  },
  {
   "cell_type": "code",
   "execution_count": 32,
   "id": "9530fb58",
   "metadata": {},
   "outputs": [
    {
     "data": {
      "text/html": [
       "<style>#sk-container-id-1 {color: black;}#sk-container-id-1 pre{padding: 0;}#sk-container-id-1 div.sk-toggleable {background-color: white;}#sk-container-id-1 label.sk-toggleable__label {cursor: pointer;display: block;width: 100%;margin-bottom: 0;padding: 0.3em;box-sizing: border-box;text-align: center;}#sk-container-id-1 label.sk-toggleable__label-arrow:before {content: \"▸\";float: left;margin-right: 0.25em;color: #696969;}#sk-container-id-1 label.sk-toggleable__label-arrow:hover:before {color: black;}#sk-container-id-1 div.sk-estimator:hover label.sk-toggleable__label-arrow:before {color: black;}#sk-container-id-1 div.sk-toggleable__content {max-height: 0;max-width: 0;overflow: hidden;text-align: left;background-color: #f0f8ff;}#sk-container-id-1 div.sk-toggleable__content pre {margin: 0.2em;color: black;border-radius: 0.25em;background-color: #f0f8ff;}#sk-container-id-1 input.sk-toggleable__control:checked~div.sk-toggleable__content {max-height: 200px;max-width: 100%;overflow: auto;}#sk-container-id-1 input.sk-toggleable__control:checked~label.sk-toggleable__label-arrow:before {content: \"▾\";}#sk-container-id-1 div.sk-estimator input.sk-toggleable__control:checked~label.sk-toggleable__label {background-color: #d4ebff;}#sk-container-id-1 div.sk-label input.sk-toggleable__control:checked~label.sk-toggleable__label {background-color: #d4ebff;}#sk-container-id-1 input.sk-hidden--visually {border: 0;clip: rect(1px 1px 1px 1px);clip: rect(1px, 1px, 1px, 1px);height: 1px;margin: -1px;overflow: hidden;padding: 0;position: absolute;width: 1px;}#sk-container-id-1 div.sk-estimator {font-family: monospace;background-color: #f0f8ff;border: 1px dotted black;border-radius: 0.25em;box-sizing: border-box;margin-bottom: 0.5em;}#sk-container-id-1 div.sk-estimator:hover {background-color: #d4ebff;}#sk-container-id-1 div.sk-parallel-item::after {content: \"\";width: 100%;border-bottom: 1px solid gray;flex-grow: 1;}#sk-container-id-1 div.sk-label:hover label.sk-toggleable__label {background-color: #d4ebff;}#sk-container-id-1 div.sk-serial::before {content: \"\";position: absolute;border-left: 1px solid gray;box-sizing: border-box;top: 0;bottom: 0;left: 50%;z-index: 0;}#sk-container-id-1 div.sk-serial {display: flex;flex-direction: column;align-items: center;background-color: white;padding-right: 0.2em;padding-left: 0.2em;position: relative;}#sk-container-id-1 div.sk-item {position: relative;z-index: 1;}#sk-container-id-1 div.sk-parallel {display: flex;align-items: stretch;justify-content: center;background-color: white;position: relative;}#sk-container-id-1 div.sk-item::before, #sk-container-id-1 div.sk-parallel-item::before {content: \"\";position: absolute;border-left: 1px solid gray;box-sizing: border-box;top: 0;bottom: 0;left: 50%;z-index: -1;}#sk-container-id-1 div.sk-parallel-item {display: flex;flex-direction: column;z-index: 1;position: relative;background-color: white;}#sk-container-id-1 div.sk-parallel-item:first-child::after {align-self: flex-end;width: 50%;}#sk-container-id-1 div.sk-parallel-item:last-child::after {align-self: flex-start;width: 50%;}#sk-container-id-1 div.sk-parallel-item:only-child::after {width: 0;}#sk-container-id-1 div.sk-dashed-wrapped {border: 1px dashed gray;margin: 0 0.4em 0.5em 0.4em;box-sizing: border-box;padding-bottom: 0.4em;background-color: white;}#sk-container-id-1 div.sk-label label {font-family: monospace;font-weight: bold;display: inline-block;line-height: 1.2em;}#sk-container-id-1 div.sk-label-container {text-align: center;}#sk-container-id-1 div.sk-container {/* jupyter's `normalize.less` sets `[hidden] { display: none; }` but bootstrap.min.css set `[hidden] { display: none !important; }` so we also need the `!important` here to be able to override the default hidden behavior on the sphinx rendered scikit-learn.org. See: https://github.com/scikit-learn/scikit-learn/issues/21755 */display: inline-block !important;position: relative;}#sk-container-id-1 div.sk-text-repr-fallback {display: none;}</style><div id=\"sk-container-id-1\" class=\"sk-top-container\"><div class=\"sk-text-repr-fallback\"><pre>TfidfVectorizer(min_df=0, ngram_range=(1, 3), stop_words=&#x27;english&#x27;)</pre><b>In a Jupyter environment, please rerun this cell to show the HTML representation or trust the notebook. <br />On GitHub, the HTML representation is unable to render, please try loading this page with nbviewer.org.</b></div><div class=\"sk-container\" hidden><div class=\"sk-item\"><div class=\"sk-estimator sk-toggleable\"><input class=\"sk-toggleable__control sk-hidden--visually\" id=\"sk-estimator-id-1\" type=\"checkbox\" checked><label for=\"sk-estimator-id-1\" class=\"sk-toggleable__label sk-toggleable__label-arrow\">TfidfVectorizer</label><div class=\"sk-toggleable__content\"><pre>TfidfVectorizer(min_df=0, ngram_range=(1, 3), stop_words=&#x27;english&#x27;)</pre></div></div></div></div></div>"
      ],
      "text/plain": [
       "TfidfVectorizer(min_df=0, ngram_range=(1, 3), stop_words='english')"
      ]
     },
     "execution_count": 32,
     "metadata": {},
     "output_type": "execute_result"
    }
   ],
   "source": [
    "tfidf"
   ]
  },
  {
   "cell_type": "code",
   "execution_count": 33,
   "id": "ddc167d1",
   "metadata": {},
   "outputs": [],
   "source": [
    "movies3=movies2.groupby(\"title\").agg({\"genres\": lambda x: \" \".join(list(x))}).reset_index()\n",
    "#tfidf.fit_transform(movies3[\"genres\"])"
   ]
  },
  {
   "cell_type": "code",
   "execution_count": 31,
   "id": "0406af34",
   "metadata": {},
   "outputs": [
    {
     "data": {
      "text/html": [
       "<div>\n",
       "<style scoped>\n",
       "    .dataframe tbody tr th:only-of-type {\n",
       "        vertical-align: middle;\n",
       "    }\n",
       "\n",
       "    .dataframe tbody tr th {\n",
       "        vertical-align: top;\n",
       "    }\n",
       "\n",
       "    .dataframe thead th {\n",
       "        text-align: right;\n",
       "    }\n",
       "</style>\n",
       "<table border=\"1\" class=\"dataframe\">\n",
       "  <thead>\n",
       "    <tr style=\"text-align: right;\">\n",
       "      <th></th>\n",
       "      <th>title</th>\n",
       "      <th>genres</th>\n",
       "    </tr>\n",
       "  </thead>\n",
       "  <tbody>\n",
       "    <tr>\n",
       "      <th>0</th>\n",
       "      <td>'71 (2014)</td>\n",
       "      <td>Action Drama Thriller War</td>\n",
       "    </tr>\n",
       "    <tr>\n",
       "      <th>1</th>\n",
       "      <td>'Hellboy': The Seeds of Creation (2004)</td>\n",
       "      <td>Action Adventure Comedy Documentary Fantasy</td>\n",
       "    </tr>\n",
       "    <tr>\n",
       "      <th>2</th>\n",
       "      <td>'Round Midnight (1986)</td>\n",
       "      <td>Drama Musical</td>\n",
       "    </tr>\n",
       "    <tr>\n",
       "      <th>3</th>\n",
       "      <td>'Til There Was You (1997)</td>\n",
       "      <td>Drama Romance</td>\n",
       "    </tr>\n",
       "    <tr>\n",
       "      <th>4</th>\n",
       "      <td>'burbs, The (1989)</td>\n",
       "      <td>Comedy</td>\n",
       "    </tr>\n",
       "    <tr>\n",
       "      <th>...</th>\n",
       "      <td>...</td>\n",
       "      <td>...</td>\n",
       "    </tr>\n",
       "    <tr>\n",
       "      <th>10322</th>\n",
       "      <td>loudQUIETloud: A Film About the Pixies (2006)</td>\n",
       "      <td>Documentary</td>\n",
       "    </tr>\n",
       "    <tr>\n",
       "      <th>10323</th>\n",
       "      <td>xXx (2002)</td>\n",
       "      <td>Action Crime Thriller</td>\n",
       "    </tr>\n",
       "    <tr>\n",
       "      <th>10324</th>\n",
       "      <td>xXx: State of the Union (2005)</td>\n",
       "      <td>Action Crime Thriller</td>\n",
       "    </tr>\n",
       "    <tr>\n",
       "      <th>10325</th>\n",
       "      <td>¡Three Amigos! (1986)</td>\n",
       "      <td>Comedy Western</td>\n",
       "    </tr>\n",
       "    <tr>\n",
       "      <th>10326</th>\n",
       "      <td>À nous la liberté (Freedom for Us) (1931)</td>\n",
       "      <td>Comedy Musical</td>\n",
       "    </tr>\n",
       "  </tbody>\n",
       "</table>\n",
       "<p>10327 rows × 2 columns</p>\n",
       "</div>"
      ],
      "text/plain": [
       "                                               title  \\\n",
       "0                                         '71 (2014)   \n",
       "1            'Hellboy': The Seeds of Creation (2004)   \n",
       "2                             'Round Midnight (1986)   \n",
       "3                          'Til There Was You (1997)   \n",
       "4                                 'burbs, The (1989)   \n",
       "...                                              ...   \n",
       "10322  loudQUIETloud: A Film About the Pixies (2006)   \n",
       "10323                                     xXx (2002)   \n",
       "10324                 xXx: State of the Union (2005)   \n",
       "10325                          ¡Three Amigos! (1986)   \n",
       "10326      À nous la liberté (Freedom for Us) (1931)   \n",
       "\n",
       "                                            genres  \n",
       "0                        Action Drama Thriller War  \n",
       "1      Action Adventure Comedy Documentary Fantasy  \n",
       "2                                    Drama Musical  \n",
       "3                                    Drama Romance  \n",
       "4                                           Comedy  \n",
       "...                                            ...  \n",
       "10322                                  Documentary  \n",
       "10323                        Action Crime Thriller  \n",
       "10324                        Action Crime Thriller  \n",
       "10325                               Comedy Western  \n",
       "10326                               Comedy Musical  \n",
       "\n",
       "[10327 rows x 2 columns]"
      ]
     },
     "execution_count": 31,
     "metadata": {},
     "output_type": "execute_result"
    }
   ],
   "source": [
    "movies3"
   ]
  },
  {
   "cell_type": "code",
   "execution_count": 34,
   "id": "b83568c8",
   "metadata": {},
   "outputs": [],
   "source": [
    "tfidf=TfidfVectorizer(ngram_range=(1,3), min_df=0.0, stop_words=\"english\")"
   ]
  },
  {
   "cell_type": "code",
   "execution_count": 35,
   "id": "32029e1a",
   "metadata": {},
   "outputs": [
    {
     "data": {
      "text/html": [
       "<style>#sk-container-id-2 {color: black;}#sk-container-id-2 pre{padding: 0;}#sk-container-id-2 div.sk-toggleable {background-color: white;}#sk-container-id-2 label.sk-toggleable__label {cursor: pointer;display: block;width: 100%;margin-bottom: 0;padding: 0.3em;box-sizing: border-box;text-align: center;}#sk-container-id-2 label.sk-toggleable__label-arrow:before {content: \"▸\";float: left;margin-right: 0.25em;color: #696969;}#sk-container-id-2 label.sk-toggleable__label-arrow:hover:before {color: black;}#sk-container-id-2 div.sk-estimator:hover label.sk-toggleable__label-arrow:before {color: black;}#sk-container-id-2 div.sk-toggleable__content {max-height: 0;max-width: 0;overflow: hidden;text-align: left;background-color: #f0f8ff;}#sk-container-id-2 div.sk-toggleable__content pre {margin: 0.2em;color: black;border-radius: 0.25em;background-color: #f0f8ff;}#sk-container-id-2 input.sk-toggleable__control:checked~div.sk-toggleable__content {max-height: 200px;max-width: 100%;overflow: auto;}#sk-container-id-2 input.sk-toggleable__control:checked~label.sk-toggleable__label-arrow:before {content: \"▾\";}#sk-container-id-2 div.sk-estimator input.sk-toggleable__control:checked~label.sk-toggleable__label {background-color: #d4ebff;}#sk-container-id-2 div.sk-label input.sk-toggleable__control:checked~label.sk-toggleable__label {background-color: #d4ebff;}#sk-container-id-2 input.sk-hidden--visually {border: 0;clip: rect(1px 1px 1px 1px);clip: rect(1px, 1px, 1px, 1px);height: 1px;margin: -1px;overflow: hidden;padding: 0;position: absolute;width: 1px;}#sk-container-id-2 div.sk-estimator {font-family: monospace;background-color: #f0f8ff;border: 1px dotted black;border-radius: 0.25em;box-sizing: border-box;margin-bottom: 0.5em;}#sk-container-id-2 div.sk-estimator:hover {background-color: #d4ebff;}#sk-container-id-2 div.sk-parallel-item::after {content: \"\";width: 100%;border-bottom: 1px solid gray;flex-grow: 1;}#sk-container-id-2 div.sk-label:hover label.sk-toggleable__label {background-color: #d4ebff;}#sk-container-id-2 div.sk-serial::before {content: \"\";position: absolute;border-left: 1px solid gray;box-sizing: border-box;top: 0;bottom: 0;left: 50%;z-index: 0;}#sk-container-id-2 div.sk-serial {display: flex;flex-direction: column;align-items: center;background-color: white;padding-right: 0.2em;padding-left: 0.2em;position: relative;}#sk-container-id-2 div.sk-item {position: relative;z-index: 1;}#sk-container-id-2 div.sk-parallel {display: flex;align-items: stretch;justify-content: center;background-color: white;position: relative;}#sk-container-id-2 div.sk-item::before, #sk-container-id-2 div.sk-parallel-item::before {content: \"\";position: absolute;border-left: 1px solid gray;box-sizing: border-box;top: 0;bottom: 0;left: 50%;z-index: -1;}#sk-container-id-2 div.sk-parallel-item {display: flex;flex-direction: column;z-index: 1;position: relative;background-color: white;}#sk-container-id-2 div.sk-parallel-item:first-child::after {align-self: flex-end;width: 50%;}#sk-container-id-2 div.sk-parallel-item:last-child::after {align-self: flex-start;width: 50%;}#sk-container-id-2 div.sk-parallel-item:only-child::after {width: 0;}#sk-container-id-2 div.sk-dashed-wrapped {border: 1px dashed gray;margin: 0 0.4em 0.5em 0.4em;box-sizing: border-box;padding-bottom: 0.4em;background-color: white;}#sk-container-id-2 div.sk-label label {font-family: monospace;font-weight: bold;display: inline-block;line-height: 1.2em;}#sk-container-id-2 div.sk-label-container {text-align: center;}#sk-container-id-2 div.sk-container {/* jupyter's `normalize.less` sets `[hidden] { display: none; }` but bootstrap.min.css set `[hidden] { display: none !important; }` so we also need the `!important` here to be able to override the default hidden behavior on the sphinx rendered scikit-learn.org. See: https://github.com/scikit-learn/scikit-learn/issues/21755 */display: inline-block !important;position: relative;}#sk-container-id-2 div.sk-text-repr-fallback {display: none;}</style><div id=\"sk-container-id-2\" class=\"sk-top-container\"><div class=\"sk-text-repr-fallback\"><pre>TfidfVectorizer(min_df=0.0, ngram_range=(1, 3), stop_words=&#x27;english&#x27;)</pre><b>In a Jupyter environment, please rerun this cell to show the HTML representation or trust the notebook. <br />On GitHub, the HTML representation is unable to render, please try loading this page with nbviewer.org.</b></div><div class=\"sk-container\" hidden><div class=\"sk-item\"><div class=\"sk-estimator sk-toggleable\"><input class=\"sk-toggleable__control sk-hidden--visually\" id=\"sk-estimator-id-2\" type=\"checkbox\" checked><label for=\"sk-estimator-id-2\" class=\"sk-toggleable__label sk-toggleable__label-arrow\">TfidfVectorizer</label><div class=\"sk-toggleable__content\"><pre>TfidfVectorizer(min_df=0.0, ngram_range=(1, 3), stop_words=&#x27;english&#x27;)</pre></div></div></div></div></div>"
      ],
      "text/plain": [
       "TfidfVectorizer(min_df=0.0, ngram_range=(1, 3), stop_words='english')"
      ]
     },
     "execution_count": 35,
     "metadata": {},
     "output_type": "execute_result"
    }
   ],
   "source": [
    "tfidf"
   ]
  },
  {
   "cell_type": "code",
   "execution_count": 36,
   "id": "bdcb4d11",
   "metadata": {},
   "outputs": [],
   "source": [
    "tf_matrix=tfidf.fit_transform(movies3[\"genres\"])"
   ]
  },
  {
   "cell_type": "code",
   "execution_count": 37,
   "id": "82f3cd37",
   "metadata": {},
   "outputs": [],
   "source": [
    "cosine_sim=cosine_similarity(tf_matrix, tf_matrix)"
   ]
  },
  {
   "cell_type": "code",
   "execution_count": 38,
   "id": "46fd58de",
   "metadata": {},
   "outputs": [
    {
     "data": {
      "text/plain": [
       "(10327, 10327)"
      ]
     },
     "execution_count": 38,
     "metadata": {},
     "output_type": "execute_result"
    }
   ],
   "source": [
    "cosine_sim.shape"
   ]
  },
  {
   "cell_type": "code",
   "execution_count": 39,
   "id": "8154ec1d",
   "metadata": {},
   "outputs": [
    {
     "data": {
      "text/plain": [
       "array([[1.        , 0.02678611, 0.02933419, ..., 0.10231698, 0.        ,\n",
       "        0.        ],\n",
       "       [0.02678611, 1.        , 0.        , ..., 0.03627487, 0.02412607,\n",
       "        0.02865132],\n",
       "       [0.02933419, 0.        , 1.        , ..., 0.        , 0.        ,\n",
       "        0.35527066],\n",
       "       ...,\n",
       "       [0.10231698, 0.03627487, 0.        , ..., 1.        , 0.        ,\n",
       "        0.        ],\n",
       "       [0.        , 0.02412607, 0.        , ..., 0.        , 1.        ,\n",
       "        0.0709334 ],\n",
       "       [0.        , 0.02865132, 0.35527066, ..., 0.        , 0.0709334 ,\n",
       "        1.        ]])"
      ]
     },
     "execution_count": 39,
     "metadata": {},
     "output_type": "execute_result"
    }
   ],
   "source": [
    "cosine_sim"
   ]
  },
  {
   "cell_type": "code",
   "execution_count": 40,
   "id": "f2f4d08c",
   "metadata": {},
   "outputs": [],
   "source": [
    "def ContentBasedRecommendation(movies_df, movie_title, topN=5):\n",
    "    #target movie title\n",
    "    movie_index=pd.Series(movies_df.index, index=movies_df[\"title\"])\n",
    "    target_index=movie_index[movie_title]\n",
    "    \n",
    "    #generate the similarity scores\n",
    "    cosine_sim=cosine_similarity(tf_matrix, tf_matrix)\n",
    "    cosine_indexed=list(enumerate(cosine_sim[target_index]))\n",
    "    target_movies=sorted(cosine_indexed, key=lambda x:x[1], reverse=True)[1:topN+1]\n",
    "    \n",
    "    #match the target indices\n",
    "    target_indices=[index for index, sim_scores in target_movies]\n",
    "    target_movies=movies_df.iloc[target_indices]\n",
    "    target_movies=target_movies[target_movies[\"title\"] != movie_title]\n",
    "    \n",
    "    #transform the output\n",
    "    target_movies.rename(columns={\"title\": \"Movie Title\"}, inplace=True)\n",
    "    target_movies.index=range(len(target_movies))\n",
    "    return target_movies[[\"Movie Title\"]]"
   ]
  },
  {
   "cell_type": "code",
   "execution_count": 39,
   "id": "d6be7af2",
   "metadata": {},
   "outputs": [
    {
     "data": {
      "text/html": [
       "<div>\n",
       "<style scoped>\n",
       "    .dataframe tbody tr th:only-of-type {\n",
       "        vertical-align: middle;\n",
       "    }\n",
       "\n",
       "    .dataframe tbody tr th {\n",
       "        vertical-align: top;\n",
       "    }\n",
       "\n",
       "    .dataframe thead th {\n",
       "        text-align: right;\n",
       "    }\n",
       "</style>\n",
       "<table border=\"1\" class=\"dataframe\">\n",
       "  <thead>\n",
       "    <tr style=\"text-align: right;\">\n",
       "      <th></th>\n",
       "      <th>title</th>\n",
       "      <th>genres</th>\n",
       "    </tr>\n",
       "  </thead>\n",
       "  <tbody>\n",
       "    <tr>\n",
       "      <th>0</th>\n",
       "      <td>'71 (2014)</td>\n",
       "      <td>Action Drama Thriller War</td>\n",
       "    </tr>\n",
       "    <tr>\n",
       "      <th>1</th>\n",
       "      <td>'Hellboy': The Seeds of Creation (2004)</td>\n",
       "      <td>Action Adventure Comedy Documentary Fantasy</td>\n",
       "    </tr>\n",
       "    <tr>\n",
       "      <th>2</th>\n",
       "      <td>'Round Midnight (1986)</td>\n",
       "      <td>Drama Musical</td>\n",
       "    </tr>\n",
       "    <tr>\n",
       "      <th>3</th>\n",
       "      <td>'Til There Was You (1997)</td>\n",
       "      <td>Drama Romance</td>\n",
       "    </tr>\n",
       "    <tr>\n",
       "      <th>4</th>\n",
       "      <td>'burbs, The (1989)</td>\n",
       "      <td>Comedy</td>\n",
       "    </tr>\n",
       "    <tr>\n",
       "      <th>...</th>\n",
       "      <td>...</td>\n",
       "      <td>...</td>\n",
       "    </tr>\n",
       "    <tr>\n",
       "      <th>10322</th>\n",
       "      <td>loudQUIETloud: A Film About the Pixies (2006)</td>\n",
       "      <td>Documentary</td>\n",
       "    </tr>\n",
       "    <tr>\n",
       "      <th>10323</th>\n",
       "      <td>xXx (2002)</td>\n",
       "      <td>Action Crime Thriller</td>\n",
       "    </tr>\n",
       "    <tr>\n",
       "      <th>10324</th>\n",
       "      <td>xXx: State of the Union (2005)</td>\n",
       "      <td>Action Crime Thriller</td>\n",
       "    </tr>\n",
       "    <tr>\n",
       "      <th>10325</th>\n",
       "      <td>¡Three Amigos! (1986)</td>\n",
       "      <td>Comedy Western</td>\n",
       "    </tr>\n",
       "    <tr>\n",
       "      <th>10326</th>\n",
       "      <td>À nous la liberté (Freedom for Us) (1931)</td>\n",
       "      <td>Comedy Musical</td>\n",
       "    </tr>\n",
       "  </tbody>\n",
       "</table>\n",
       "<p>10327 rows × 2 columns</p>\n",
       "</div>"
      ],
      "text/plain": [
       "                                               title  \\\n",
       "0                                         '71 (2014)   \n",
       "1            'Hellboy': The Seeds of Creation (2004)   \n",
       "2                             'Round Midnight (1986)   \n",
       "3                          'Til There Was You (1997)   \n",
       "4                                 'burbs, The (1989)   \n",
       "...                                              ...   \n",
       "10322  loudQUIETloud: A Film About the Pixies (2006)   \n",
       "10323                                     xXx (2002)   \n",
       "10324                 xXx: State of the Union (2005)   \n",
       "10325                          ¡Three Amigos! (1986)   \n",
       "10326      À nous la liberté (Freedom for Us) (1931)   \n",
       "\n",
       "                                            genres  \n",
       "0                        Action Drama Thriller War  \n",
       "1      Action Adventure Comedy Documentary Fantasy  \n",
       "2                                    Drama Musical  \n",
       "3                                    Drama Romance  \n",
       "4                                           Comedy  \n",
       "...                                            ...  \n",
       "10322                                  Documentary  \n",
       "10323                        Action Crime Thriller  \n",
       "10324                        Action Crime Thriller  \n",
       "10325                               Comedy Western  \n",
       "10326                               Comedy Musical  \n",
       "\n",
       "[10327 rows x 2 columns]"
      ]
     },
     "execution_count": 39,
     "metadata": {},
     "output_type": "execute_result"
    }
   ],
   "source": [
    "movies3\n",
    "#ContentBasedRecommendation(movies3, \"\")"
   ]
  },
  {
   "cell_type": "code",
   "execution_count": 41,
   "id": "d5176ff0",
   "metadata": {},
   "outputs": [
    {
     "data": {
      "text/html": [
       "<div>\n",
       "<style scoped>\n",
       "    .dataframe tbody tr th:only-of-type {\n",
       "        vertical-align: middle;\n",
       "    }\n",
       "\n",
       "    .dataframe tbody tr th {\n",
       "        vertical-align: top;\n",
       "    }\n",
       "\n",
       "    .dataframe thead th {\n",
       "        text-align: right;\n",
       "    }\n",
       "</style>\n",
       "<table border=\"1\" class=\"dataframe\">\n",
       "  <thead>\n",
       "    <tr style=\"text-align: right;\">\n",
       "      <th></th>\n",
       "      <th>Movie Title</th>\n",
       "    </tr>\n",
       "  </thead>\n",
       "  <tbody>\n",
       "    <tr>\n",
       "      <th>0</th>\n",
       "      <td>22 Bullets (L'immortel) (2010)</td>\n",
       "    </tr>\n",
       "    <tr>\n",
       "      <th>1</th>\n",
       "      <td>7 Seconds (2005)</td>\n",
       "    </tr>\n",
       "    <tr>\n",
       "      <th>2</th>\n",
       "      <td>A Hard Day (2014)</td>\n",
       "    </tr>\n",
       "    <tr>\n",
       "      <th>3</th>\n",
       "      <td>Angel of Death (2009)</td>\n",
       "    </tr>\n",
       "    <tr>\n",
       "      <th>4</th>\n",
       "      <td>Assassins (1995)</td>\n",
       "    </tr>\n",
       "    <tr>\n",
       "      <th>5</th>\n",
       "      <td>Bangkok Dangerous (2008)</td>\n",
       "    </tr>\n",
       "    <tr>\n",
       "      <th>6</th>\n",
       "      <td>Bank Job, The (2008)</td>\n",
       "    </tr>\n",
       "    <tr>\n",
       "      <th>7</th>\n",
       "      <td>Blitz (2011)</td>\n",
       "    </tr>\n",
       "    <tr>\n",
       "      <th>8</th>\n",
       "      <td>Bourne Supremacy, The (2004)</td>\n",
       "    </tr>\n",
       "    <tr>\n",
       "      <th>9</th>\n",
       "      <td>Bourne Ultimatum, The (2007)</td>\n",
       "    </tr>\n",
       "    <tr>\n",
       "      <th>10</th>\n",
       "      <td>Brother (2000)</td>\n",
       "    </tr>\n",
       "    <tr>\n",
       "      <th>11</th>\n",
       "      <td>Coffy (1973)</td>\n",
       "    </tr>\n",
       "    <tr>\n",
       "      <th>12</th>\n",
       "      <td>Crimson Rivers 2: Angels of the Apocalypse (Ri...</td>\n",
       "    </tr>\n",
       "    <tr>\n",
       "      <th>13</th>\n",
       "      <td>Crying Freeman (1995)</td>\n",
       "    </tr>\n",
       "    <tr>\n",
       "      <th>14</th>\n",
       "      <td>Dead Pool, The (1988)</td>\n",
       "    </tr>\n",
       "    <tr>\n",
       "      <th>15</th>\n",
       "      <td>Deep Cover (1992)</td>\n",
       "    </tr>\n",
       "    <tr>\n",
       "      <th>16</th>\n",
       "      <td>Die Hard (1988)</td>\n",
       "    </tr>\n",
       "    <tr>\n",
       "      <th>17</th>\n",
       "      <td>Die Hard: With a Vengeance (1995)</td>\n",
       "    </tr>\n",
       "    <tr>\n",
       "      <th>18</th>\n",
       "      <td>Dirty Carnival, A (Biyeolhan geori) (2006)</td>\n",
       "    </tr>\n",
       "    <tr>\n",
       "      <th>19</th>\n",
       "      <td>Dirty Harry (1971)</td>\n",
       "    </tr>\n",
       "    <tr>\n",
       "      <th>20</th>\n",
       "      <td>Equalizer, The (2014)</td>\n",
       "    </tr>\n",
       "    <tr>\n",
       "      <th>21</th>\n",
       "      <td>F/X (1986)</td>\n",
       "    </tr>\n",
       "    <tr>\n",
       "      <th>22</th>\n",
       "      <td>F/X2 (a.k.a. F/X 2 - The Deadly Art of Illusio...</td>\n",
       "    </tr>\n",
       "    <tr>\n",
       "      <th>23</th>\n",
       "      <td>Fast and the Furious, The (2001)</td>\n",
       "    </tr>\n",
       "    <tr>\n",
       "      <th>24</th>\n",
       "      <td>French Connection, The (1971)</td>\n",
       "    </tr>\n",
       "    <tr>\n",
       "      <th>25</th>\n",
       "      <td>Furious 7 (2015)</td>\n",
       "    </tr>\n",
       "    <tr>\n",
       "      <th>26</th>\n",
       "      <td>Gangster No. 1 (2000)</td>\n",
       "    </tr>\n",
       "    <tr>\n",
       "      <th>27</th>\n",
       "      <td>Hard Rain (1998)</td>\n",
       "    </tr>\n",
       "    <tr>\n",
       "      <th>28</th>\n",
       "      <td>Headhunters (Hodejegerne) (2011)</td>\n",
       "    </tr>\n",
       "  </tbody>\n",
       "</table>\n",
       "</div>"
      ],
      "text/plain": [
       "                                          Movie Title\n",
       "0                      22 Bullets (L'immortel) (2010)\n",
       "1                                    7 Seconds (2005)\n",
       "2                                   A Hard Day (2014)\n",
       "3                               Angel of Death (2009)\n",
       "4                                    Assassins (1995)\n",
       "5                            Bangkok Dangerous (2008)\n",
       "6                                Bank Job, The (2008)\n",
       "7                                        Blitz (2011)\n",
       "8                        Bourne Supremacy, The (2004)\n",
       "9                        Bourne Ultimatum, The (2007)\n",
       "10                                     Brother (2000)\n",
       "11                                       Coffy (1973)\n",
       "12  Crimson Rivers 2: Angels of the Apocalypse (Ri...\n",
       "13                              Crying Freeman (1995)\n",
       "14                              Dead Pool, The (1988)\n",
       "15                                  Deep Cover (1992)\n",
       "16                                    Die Hard (1988)\n",
       "17                  Die Hard: With a Vengeance (1995)\n",
       "18         Dirty Carnival, A (Biyeolhan geori) (2006)\n",
       "19                                 Dirty Harry (1971)\n",
       "20                              Equalizer, The (2014)\n",
       "21                                         F/X (1986)\n",
       "22  F/X2 (a.k.a. F/X 2 - The Deadly Art of Illusio...\n",
       "23                   Fast and the Furious, The (2001)\n",
       "24                      French Connection, The (1971)\n",
       "25                                   Furious 7 (2015)\n",
       "26                              Gangster No. 1 (2000)\n",
       "27                                   Hard Rain (1998)\n",
       "28                   Headhunters (Hodejegerne) (2011)"
      ]
     },
     "execution_count": 41,
     "metadata": {},
     "output_type": "execute_result"
    }
   ],
   "source": [
    "ContentBasedRecommendation(movies3, \"Batman (1989)\", 30)"
   ]
  },
  {
   "cell_type": "code",
   "execution_count": 41,
   "id": "0d444c80",
   "metadata": {},
   "outputs": [],
   "source": [
    "###Algorithm to make recommendations\n",
    "# Select the target user ID and extract history\n",
    "# Find the subset users who have watched the same movies.\n",
    "# Sort them based on the number of movies they have watched compared to our target user\n",
    "# Select \"U\" users based on a specificed criteria, here the criteria is that the users selected for candidates must have rated atleast \"p\" percent of the movies which our target user has rated.\n",
    "# Out of the U users, find similarity using any appropriate method\n",
    "# Cosine Similariy\n",
    "# Pearson Correlation\n",
    "# etc.\n",
    "# Filter out top \"K\" users having highest similarity.\n",
    "# List down all the movies reviewed by these \"K\" similar users after removing the movies watched by target user and sort them in descending order of average rating\n",
    "# Recommend top \"N\" movies"
   ]
  },
  {
   "cell_type": "code",
   "execution_count": 42,
   "id": "112b63da",
   "metadata": {},
   "outputs": [],
   "source": [
    "# Select the target user ID and extract history\n",
    "movies4=movies[[\"movieId\", \"title\"]]\n",
    "movies4\n",
    "pd.merge(ratings[ratings[\"userId\"]==1], movies4, how=\"inner\", on=\"movieId\").sort_values(\"movieId\")\n",
    "\n",
    "def FetchUserHistory(userid):\n",
    "    user_ratings=ratings[ratings[\"userId\"]==userid]\n",
    "    user_history=pd.merge(user_ratings,movies4,how=\"inner\",on=\"movieId\").sort_values(\"movieId\")\n",
    "    return user_history"
   ]
  },
  {
   "cell_type": "code",
   "execution_count": 47,
   "id": "c93f3f85",
   "metadata": {},
   "outputs": [],
   "source": [
    "def GenerateSimilarUserRecommendations(target_user_id,p,k,topN=5):\n",
    "    #fetch user history\n",
    "    user_history=FetchUserHistory(target_user_id)\n",
    "    #find the number of movies that the similar users have rated >>>sort the data based on the no. of movies\n",
    "    similar_users_reviews=similar_users.groupby(\"userId\").agg({\"movieId\":\"nunique\"}).reset_index().rename(columns={\"movieId\":\"num_of_movies_rated\"}).sort_values(by=\"num_of_movies_rated\",ascending=False)\n",
    "    #remove the target user ID\n",
    "    similar_users_reviews=similar_users_reviews[similar_users_reviews[\"userId\"]!=1]\n",
    "    #get the number of movies the target user has rated, check the criteria :\n",
    "    #select the candidate user: should have rated at least p % of the movies that the target user has rated\n",
    "    no_of_movies_t_user=user_history_1[\"movieId\"].nunique()\n",
    "    min_rating_threshold=int(no_of_movies_t_user*(p/100))\n",
    "\n",
    "    #filter the target user based on this condition\n",
    "    similar_users_reviews=similar_users_reviews[similar_users_reviews[\"num_of_movies_rated\"]>min_rating_threshold]\n",
    "    \n",
    "    #user vector\n",
    "    user_vector=user_history_1.pivot(index=\"userid\", columns=\"movieId\", values=\"rating\")\n",
    "    \n",
    "    #similar user vector\n",
    "    similar_users_reviews=similar_users[similar_users[\"userId\"].isin(list(set(similar_users_revies[\"userId\"])))]\n",
    "    similar_user_vectors=similar_users_reviews.pivot(index=\"userId\", columns=\"movieId\", values=\"rating\")\n",
    "    \n",
    "    #replaced nan values\n",
    "    similar_user_vectors[np.isnan(similar_user_vectors)]=0.0\n",
    "\n",
    "    #generate similarity scores\n",
    "    similarity=cosine_similarity(user_vector,similar_user_vectors)\n",
    "    similarity_df=pd.DataFrame(similarity.T,columns=[\"Similarity Score\"])\n",
    "    similarity_df.index=similar_user_vectors.index\n",
    "    \n",
    "    return similarity_df[:k]"
   ]
  },
  {
   "cell_type": "code",
   "execution_count": 48,
   "id": "3d680baf",
   "metadata": {},
   "outputs": [
    {
     "ename": "NameError",
     "evalue": "name 'similar_users' is not defined",
     "output_type": "error",
     "traceback": [
      "\u001b[0;31m---------------------------------------------------------------------------\u001b[0m",
      "\u001b[0;31mNameError\u001b[0m                                 Traceback (most recent call last)",
      "Cell \u001b[0;32mIn[48], line 1\u001b[0m\n\u001b[0;32m----> 1\u001b[0m GenerateSimilarUserRecommendations(target_user_id\u001b[38;5;241m=\u001b[39m\u001b[38;5;241m2\u001b[39m, p\u001b[38;5;241m=\u001b[39m\u001b[38;5;241m50\u001b[39m, k\u001b[38;5;241m=\u001b[39m\u001b[38;5;241m100\u001b[39m)\n",
      "Cell \u001b[0;32mIn[47], line 5\u001b[0m, in \u001b[0;36mGenerateSimilarUserRecommendations\u001b[0;34m(target_user_id, p, k, topN)\u001b[0m\n\u001b[1;32m      3\u001b[0m user_history\u001b[38;5;241m=\u001b[39mFetchUserHistory(target_user_id)\n\u001b[1;32m      4\u001b[0m \u001b[38;5;66;03m#find the number of movies that the similar users have rated >>>sort the data based on the no. of movies\u001b[39;00m\n\u001b[0;32m----> 5\u001b[0m similar_users_reviews\u001b[38;5;241m=\u001b[39msimilar_users\u001b[38;5;241m.\u001b[39mgroupby(\u001b[38;5;124m\"\u001b[39m\u001b[38;5;124muserId\u001b[39m\u001b[38;5;124m\"\u001b[39m)\u001b[38;5;241m.\u001b[39magg({\u001b[38;5;124m\"\u001b[39m\u001b[38;5;124mmovieId\u001b[39m\u001b[38;5;124m\"\u001b[39m:\u001b[38;5;124m\"\u001b[39m\u001b[38;5;124mnunique\u001b[39m\u001b[38;5;124m\"\u001b[39m})\u001b[38;5;241m.\u001b[39mreset_index()\u001b[38;5;241m.\u001b[39mrename(columns\u001b[38;5;241m=\u001b[39m{\u001b[38;5;124m\"\u001b[39m\u001b[38;5;124mmovieId\u001b[39m\u001b[38;5;124m\"\u001b[39m:\u001b[38;5;124m\"\u001b[39m\u001b[38;5;124mnum_of_movies_rated\u001b[39m\u001b[38;5;124m\"\u001b[39m})\u001b[38;5;241m.\u001b[39msort_values(by\u001b[38;5;241m=\u001b[39m\u001b[38;5;124m\"\u001b[39m\u001b[38;5;124mnum_of_movies_rated\u001b[39m\u001b[38;5;124m\"\u001b[39m,ascending\u001b[38;5;241m=\u001b[39m\u001b[38;5;28;01mFalse\u001b[39;00m)\n\u001b[1;32m      6\u001b[0m \u001b[38;5;66;03m#remove the target user ID\u001b[39;00m\n\u001b[1;32m      7\u001b[0m similar_users_reviews\u001b[38;5;241m=\u001b[39msimilar_users_reviews[similar_users_reviews[\u001b[38;5;124m\"\u001b[39m\u001b[38;5;124muserId\u001b[39m\u001b[38;5;124m\"\u001b[39m]\u001b[38;5;241m!=\u001b[39m\u001b[38;5;241m1\u001b[39m]\n",
      "\u001b[0;31mNameError\u001b[0m: name 'similar_users' is not defined"
     ]
    }
   ],
   "source": [
    "GenerateSimilarUserRecommendations(target_user_id=2, p=50, k=100)\n",
    "    "
   ]
  },
  {
   "cell_type": "code",
   "execution_count": null,
   "id": "9b711ace",
   "metadata": {},
   "outputs": [],
   "source": []
  },
  {
   "cell_type": "code",
   "execution_count": null,
   "id": "f8ef3440",
   "metadata": {},
   "outputs": [],
   "source": []
  }
 ],
 "metadata": {
  "kernelspec": {
   "display_name": "Python 3 (ipykernel)",
   "language": "python",
   "name": "python3"
  },
  "language_info": {
   "codemirror_mode": {
    "name": "ipython",
    "version": 3
   },
   "file_extension": ".py",
   "mimetype": "text/x-python",
   "name": "python",
   "nbconvert_exporter": "python",
   "pygments_lexer": "ipython3",
   "version": "3.11.5"
  }
 },
 "nbformat": 4,
 "nbformat_minor": 5
}
