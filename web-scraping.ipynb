{
 "cells": [
  {
   "cell_type": "code",
   "execution_count": 1,
   "id": "cb44d6bd",
   "metadata": {},
   "outputs": [],
   "source": [
    "import pandas as pd "
   ]
  },
  {
   "cell_type": "code",
   "execution_count": 2,
   "id": "0c6c6d1c",
   "metadata": {},
   "outputs": [
    {
     "data": {
      "text/plain": [
       "0     4\n",
       "1    53\n",
       "2     3\n",
       "3     5\n",
       "4     6\n",
       "dtype: int64"
      ]
     },
     "execution_count": 2,
     "metadata": {},
     "output_type": "execute_result"
    }
   ],
   "source": [
    "#series\n",
    "ser=pd.Series([4, 53, 3, 5, 6])\n",
    "ser"
   ]
  },
  {
   "cell_type": "code",
   "execution_count": 3,
   "id": "2888a818",
   "metadata": {},
   "outputs": [
    {
     "data": {
      "text/plain": [
       "pandas.core.series.Series"
      ]
     },
     "execution_count": 3,
     "metadata": {},
     "output_type": "execute_result"
    }
   ],
   "source": [
    "type(ser)"
   ]
  },
  {
   "cell_type": "code",
   "execution_count": 4,
   "id": "85e580d3",
   "metadata": {},
   "outputs": [
    {
     "data": {
      "text/plain": [
       "array([ 4, 53,  3,  5,  6])"
      ]
     },
     "execution_count": 4,
     "metadata": {},
     "output_type": "execute_result"
    }
   ],
   "source": [
    "ser.values"
   ]
  },
  {
   "cell_type": "code",
   "execution_count": 5,
   "id": "61201452",
   "metadata": {},
   "outputs": [
    {
     "data": {
      "text/plain": [
       "RangeIndex(start=0, stop=5, step=1)"
      ]
     },
     "execution_count": 5,
     "metadata": {},
     "output_type": "execute_result"
    }
   ],
   "source": [
    "ser.index"
   ]
  },
  {
   "cell_type": "code",
   "execution_count": 6,
   "id": "e239f0bd",
   "metadata": {},
   "outputs": [
    {
     "data": {
      "text/plain": [
       "dtype('int64')"
      ]
     },
     "execution_count": 6,
     "metadata": {},
     "output_type": "execute_result"
    }
   ],
   "source": [
    "ser.dtype"
   ]
  },
  {
   "cell_type": "code",
   "execution_count": 7,
   "id": "0f887fd7",
   "metadata": {},
   "outputs": [
    {
     "data": {
      "text/plain": [
       "1"
      ]
     },
     "execution_count": 7,
     "metadata": {},
     "output_type": "execute_result"
    }
   ],
   "source": [
    "ser.ndim"
   ]
  },
  {
   "cell_type": "code",
   "execution_count": 8,
   "id": "60d31f73",
   "metadata": {},
   "outputs": [
    {
     "data": {
      "text/plain": [
       "(5,)"
      ]
     },
     "execution_count": 8,
     "metadata": {},
     "output_type": "execute_result"
    }
   ],
   "source": [
    "ser.shape"
   ]
  },
  {
   "cell_type": "code",
   "execution_count": 9,
   "id": "b590bd05",
   "metadata": {},
   "outputs": [
    {
     "data": {
      "text/plain": [
       "5"
      ]
     },
     "execution_count": 9,
     "metadata": {},
     "output_type": "execute_result"
    }
   ],
   "source": [
    "len(ser)"
   ]
  },
  {
   "cell_type": "code",
   "execution_count": 10,
   "id": "e9f01500",
   "metadata": {},
   "outputs": [
    {
     "data": {
      "text/plain": [
       "a     4\n",
       "b    53\n",
       "c     3\n",
       "d     5\n",
       "e     6\n",
       "dtype: int64"
      ]
     },
     "execution_count": 10,
     "metadata": {},
     "output_type": "execute_result"
    }
   ],
   "source": [
    "ser2=pd.Series([4, 53, 3, 5, 6], index=['a', 'b', 'c', 'd', 'e'])\n",
    "ser2"
   ]
  },
  {
   "cell_type": "code",
   "execution_count": 11,
   "id": "11d2dbc9",
   "metadata": {},
   "outputs": [
    {
     "data": {
      "text/plain": [
       "Index(['a', 'b', 'c', 'd', 'e'], dtype='object')"
      ]
     },
     "execution_count": 11,
     "metadata": {},
     "output_type": "execute_result"
    }
   ],
   "source": [
    "ser2.index"
   ]
  },
  {
   "cell_type": "code",
   "execution_count": 12,
   "id": "b6f635e3",
   "metadata": {},
   "outputs": [],
   "source": [
    "#dictionary"
   ]
  },
  {
   "cell_type": "code",
   "execution_count": 14,
   "id": "70b549be",
   "metadata": {},
   "outputs": [
    {
     "data": {
      "text/plain": [
       "name         mordhwaj\n",
       "workplace       noida\n",
       "dtype: object"
      ]
     },
     "execution_count": 14,
     "metadata": {},
     "output_type": "execute_result"
    }
   ],
   "source": [
    "info={\"name\":\"mordhwaj\", \"workplace\": \"noida\"}\n",
    "pd.Series(info)"
   ]
  },
  {
   "cell_type": "markdown",
   "id": "abe8e555",
   "metadata": {},
   "source": []
  },
  {
   "cell_type": "code",
   "execution_count": 17,
   "id": "0a166d25",
   "metadata": {},
   "outputs": [
    {
     "data": {
      "text/plain": [
       "0    Amit\n",
       "1     Bob\n",
       "2    Kate\n",
       "3       A\n",
       "4       b\n",
       "5     NaN\n",
       "6     Car\n",
       "7     dog\n",
       "8     cat\n",
       "dtype: object"
      ]
     },
     "execution_count": 17,
     "metadata": {},
     "output_type": "execute_result"
    }
   ],
   "source": [
    "import numpy as np\n",
    "# 'Amit', 'Bob', 'Kate', 'A', 'b', np.nan, 'Car', 'dog', 'cat'\n",
    "ser3= pd.Series(['Amit', 'Bob', 'Kate', 'A', 'b', np.nan, 'Car', 'dog', 'cat'])\n",
    "ser3"
   ]
  },
  {
   "cell_type": "code",
   "execution_count": 18,
   "id": "5f22839a",
   "metadata": {},
   "outputs": [
    {
     "data": {
      "text/plain": [
       "pandas.core.series.Series"
      ]
     },
     "execution_count": 18,
     "metadata": {},
     "output_type": "execute_result"
    }
   ],
   "source": [
    "type(ser3)"
   ]
  },
  {
   "cell_type": "code",
   "execution_count": 19,
   "id": "0fc8691f",
   "metadata": {},
   "outputs": [
    {
     "data": {
      "text/plain": [
       "9"
      ]
     },
     "execution_count": 19,
     "metadata": {},
     "output_type": "execute_result"
    }
   ],
   "source": [
    "len(ser3)"
   ]
  },
  {
   "cell_type": "code",
   "execution_count": 25,
   "id": "f7146333",
   "metadata": {},
   "outputs": [
    {
     "name": "stdout",
     "output_type": "stream",
     "text": [
      "AMIT\n",
      "amit\n",
      "BOB\n",
      "bob\n",
      "KATE\n",
      "kate\n",
      "A\n",
      "a\n",
      "B\n",
      "b\n"
     ]
    },
    {
     "ename": "AttributeError",
     "evalue": "'float' object has no attribute 'upper'",
     "output_type": "error",
     "traceback": [
      "\u001b[0;31m---------------------------------------------------------------------------\u001b[0m",
      "\u001b[0;31mAttributeError\u001b[0m                            Traceback (most recent call last)",
      "Cell \u001b[0;32mIn[25], line 3\u001b[0m\n\u001b[1;32m      1\u001b[0m \u001b[38;5;28;01mfor\u001b[39;00m i \u001b[38;5;129;01min\u001b[39;00m \u001b[38;5;28mrange\u001b[39m(\u001b[38;5;241m0\u001b[39m, \u001b[38;5;28mlen\u001b[39m(ser3)):\n\u001b[1;32m      2\u001b[0m     \u001b[38;5;28;01mif\u001b[39;00m (\u001b[38;5;28mtype\u001b[39m(ser3[i]) \u001b[38;5;241m!=\u001b[39m \u001b[38;5;124m\"\u001b[39m\u001b[38;5;124mNaN\u001b[39m\u001b[38;5;124m\"\u001b[39m):\n\u001b[0;32m----> 3\u001b[0m         \u001b[38;5;28mprint\u001b[39m (ser3[i]\u001b[38;5;241m.\u001b[39mupper())\n\u001b[1;32m      4\u001b[0m         \u001b[38;5;28mprint\u001b[39m (ser3[i]\u001b[38;5;241m.\u001b[39mlower())\n",
      "\u001b[0;31mAttributeError\u001b[0m: 'float' object has no attribute 'upper'"
     ]
    }
   ],
   "source": [
    "for i in range(0, len(ser3)):\n",
    "    if (type(ser3[i]) != \"NaN\"):\n",
    "        print (ser3[i].upper())\n",
    "        print (ser3[i].lower())"
   ]
  },
  {
   "cell_type": "code",
   "execution_count": 1,
   "id": "934e2ba6",
   "metadata": {},
   "outputs": [],
   "source": [
    "#pandas --> filtering, concat, joins, grouping, cleaning"
   ]
  },
  {
   "cell_type": "code",
   "execution_count": 2,
   "id": "175e4dc6",
   "metadata": {},
   "outputs": [],
   "source": [
    "#multindexing"
   ]
  },
  {
   "cell_type": "code",
   "execution_count": 3,
   "id": "b9716ead",
   "metadata": {},
   "outputs": [],
   "source": [
    "#iloc, loc, at"
   ]
  },
  {
   "cell_type": "code",
   "execution_count": 4,
   "id": "9e3c0bf8",
   "metadata": {},
   "outputs": [],
   "source": [
    "#joining, merging, concatenating --> dataframes"
   ]
  },
  {
   "cell_type": "code",
   "execution_count": 5,
   "id": "17c3ca42",
   "metadata": {},
   "outputs": [],
   "source": [
    "import numpy as np\n",
    "import pandas as pd"
   ]
  },
  {
   "cell_type": "code",
   "execution_count": 6,
   "id": "a04b3c7e",
   "metadata": {},
   "outputs": [
    {
     "data": {
      "text/plain": [
       "array([[85, 10, 75, 99],\n",
       "       [ 8, 16, 57, 46],\n",
       "       [15, 86,  0, 93]])"
      ]
     },
     "execution_count": 6,
     "metadata": {},
     "output_type": "execute_result"
    }
   ],
   "source": [
    "arr1 = np.random.randint(0,100,(3, 4))\n",
    "arr1"
   ]
  },
  {
   "cell_type": "code",
   "execution_count": 7,
   "id": "64204b76",
   "metadata": {},
   "outputs": [
    {
     "ename": "ValueError",
     "evalue": "Shape of passed values is (3, 4), indices imply (3, 3)",
     "output_type": "error",
     "traceback": [
      "\u001b[0;31m---------------------------------------------------------------------------\u001b[0m",
      "\u001b[0;31mValueError\u001b[0m                                Traceback (most recent call last)",
      "Cell \u001b[0;32mIn[7], line 1\u001b[0m\n\u001b[0;32m----> 1\u001b[0m df1\u001b[38;5;241m=\u001b[39m pd\u001b[38;5;241m.\u001b[39mDataFrame(arr1, columns\u001b[38;5;241m=\u001b[39m[\u001b[38;5;124m'\u001b[39m\u001b[38;5;124ma\u001b[39m\u001b[38;5;124m'\u001b[39m, \u001b[38;5;124m'\u001b[39m\u001b[38;5;124mb\u001b[39m\u001b[38;5;124m'\u001b[39m, \u001b[38;5;124m'\u001b[39m\u001b[38;5;124mc\u001b[39m\u001b[38;5;124m'\u001b[39m])\n",
      "File \u001b[0;32m~/anaconda3/lib/python3.11/site-packages/pandas/core/frame.py:758\u001b[0m, in \u001b[0;36mDataFrame.__init__\u001b[0;34m(self, data, index, columns, dtype, copy)\u001b[0m\n\u001b[1;32m    747\u001b[0m         mgr \u001b[38;5;241m=\u001b[39m dict_to_mgr(\n\u001b[1;32m    748\u001b[0m             \u001b[38;5;66;03m# error: Item \"ndarray\" of \"Union[ndarray, Series, Index]\" has no\u001b[39;00m\n\u001b[1;32m    749\u001b[0m             \u001b[38;5;66;03m# attribute \"name\"\u001b[39;00m\n\u001b[0;32m   (...)\u001b[0m\n\u001b[1;32m    755\u001b[0m             copy\u001b[38;5;241m=\u001b[39m_copy,\n\u001b[1;32m    756\u001b[0m         )\n\u001b[1;32m    757\u001b[0m     \u001b[38;5;28;01melse\u001b[39;00m:\n\u001b[0;32m--> 758\u001b[0m         mgr \u001b[38;5;241m=\u001b[39m ndarray_to_mgr(\n\u001b[1;32m    759\u001b[0m             data,\n\u001b[1;32m    760\u001b[0m             index,\n\u001b[1;32m    761\u001b[0m             columns,\n\u001b[1;32m    762\u001b[0m             dtype\u001b[38;5;241m=\u001b[39mdtype,\n\u001b[1;32m    763\u001b[0m             copy\u001b[38;5;241m=\u001b[39mcopy,\n\u001b[1;32m    764\u001b[0m             typ\u001b[38;5;241m=\u001b[39mmanager,\n\u001b[1;32m    765\u001b[0m         )\n\u001b[1;32m    767\u001b[0m \u001b[38;5;66;03m# For data is list-like, or Iterable (will consume into list)\u001b[39;00m\n\u001b[1;32m    768\u001b[0m \u001b[38;5;28;01melif\u001b[39;00m is_list_like(data):\n",
      "File \u001b[0;32m~/anaconda3/lib/python3.11/site-packages/pandas/core/internals/construction.py:337\u001b[0m, in \u001b[0;36mndarray_to_mgr\u001b[0;34m(values, index, columns, dtype, copy, typ)\u001b[0m\n\u001b[1;32m    332\u001b[0m \u001b[38;5;66;03m# _prep_ndarraylike ensures that values.ndim == 2 at this point\u001b[39;00m\n\u001b[1;32m    333\u001b[0m index, columns \u001b[38;5;241m=\u001b[39m _get_axes(\n\u001b[1;32m    334\u001b[0m     values\u001b[38;5;241m.\u001b[39mshape[\u001b[38;5;241m0\u001b[39m], values\u001b[38;5;241m.\u001b[39mshape[\u001b[38;5;241m1\u001b[39m], index\u001b[38;5;241m=\u001b[39mindex, columns\u001b[38;5;241m=\u001b[39mcolumns\n\u001b[1;32m    335\u001b[0m )\n\u001b[0;32m--> 337\u001b[0m _check_values_indices_shape_match(values, index, columns)\n\u001b[1;32m    339\u001b[0m \u001b[38;5;28;01mif\u001b[39;00m typ \u001b[38;5;241m==\u001b[39m \u001b[38;5;124m\"\u001b[39m\u001b[38;5;124marray\u001b[39m\u001b[38;5;124m\"\u001b[39m:\n\u001b[1;32m    340\u001b[0m     \u001b[38;5;28;01mif\u001b[39;00m \u001b[38;5;28missubclass\u001b[39m(values\u001b[38;5;241m.\u001b[39mdtype\u001b[38;5;241m.\u001b[39mtype, \u001b[38;5;28mstr\u001b[39m):\n",
      "File \u001b[0;32m~/anaconda3/lib/python3.11/site-packages/pandas/core/internals/construction.py:408\u001b[0m, in \u001b[0;36m_check_values_indices_shape_match\u001b[0;34m(values, index, columns)\u001b[0m\n\u001b[1;32m    406\u001b[0m passed \u001b[38;5;241m=\u001b[39m values\u001b[38;5;241m.\u001b[39mshape\n\u001b[1;32m    407\u001b[0m implied \u001b[38;5;241m=\u001b[39m (\u001b[38;5;28mlen\u001b[39m(index), \u001b[38;5;28mlen\u001b[39m(columns))\n\u001b[0;32m--> 408\u001b[0m \u001b[38;5;28;01mraise\u001b[39;00m \u001b[38;5;167;01mValueError\u001b[39;00m(\u001b[38;5;124mf\u001b[39m\u001b[38;5;124m\"\u001b[39m\u001b[38;5;124mShape of passed values is \u001b[39m\u001b[38;5;132;01m{\u001b[39;00mpassed\u001b[38;5;132;01m}\u001b[39;00m\u001b[38;5;124m, indices imply \u001b[39m\u001b[38;5;132;01m{\u001b[39;00mimplied\u001b[38;5;132;01m}\u001b[39;00m\u001b[38;5;124m\"\u001b[39m)\n",
      "\u001b[0;31mValueError\u001b[0m: Shape of passed values is (3, 4), indices imply (3, 3)"
     ]
    }
   ],
   "source": [
    "df1= pd.DataFrame(arr1, columns=['a', 'b', 'c'])"
   ]
  },
  {
   "cell_type": "code",
   "execution_count": 8,
   "id": "c42ab8ce",
   "metadata": {},
   "outputs": [],
   "source": [
    "# player.csv"
   ]
  },
  {
   "cell_type": "code",
   "execution_count": 10,
   "id": "c2e13010",
   "metadata": {},
   "outputs": [
    {
     "ename": "FileNotFoundError",
     "evalue": "[Errno 2] No such file or directory: '/Downloads/datasets/player.csv'",
     "output_type": "error",
     "traceback": [
      "\u001b[0;31m---------------------------------------------------------------------------\u001b[0m",
      "\u001b[0;31mFileNotFoundError\u001b[0m                         Traceback (most recent call last)",
      "Cell \u001b[0;32mIn[10], line 1\u001b[0m\n\u001b[0;32m----> 1\u001b[0m player \u001b[38;5;241m=\u001b[39m pd\u001b[38;5;241m.\u001b[39mread_csv(\u001b[38;5;124m'\u001b[39m\u001b[38;5;124m/Downloads/datasets/player.csv\u001b[39m\u001b[38;5;124m'\u001b[39m)\n\u001b[1;32m      2\u001b[0m player\n",
      "File \u001b[0;32m~/anaconda3/lib/python3.11/site-packages/pandas/io/parsers/readers.py:912\u001b[0m, in \u001b[0;36mread_csv\u001b[0;34m(filepath_or_buffer, sep, delimiter, header, names, index_col, usecols, dtype, engine, converters, true_values, false_values, skipinitialspace, skiprows, skipfooter, nrows, na_values, keep_default_na, na_filter, verbose, skip_blank_lines, parse_dates, infer_datetime_format, keep_date_col, date_parser, date_format, dayfirst, cache_dates, iterator, chunksize, compression, thousands, decimal, lineterminator, quotechar, quoting, doublequote, escapechar, comment, encoding, encoding_errors, dialect, on_bad_lines, delim_whitespace, low_memory, memory_map, float_precision, storage_options, dtype_backend)\u001b[0m\n\u001b[1;32m    899\u001b[0m kwds_defaults \u001b[38;5;241m=\u001b[39m _refine_defaults_read(\n\u001b[1;32m    900\u001b[0m     dialect,\n\u001b[1;32m    901\u001b[0m     delimiter,\n\u001b[0;32m   (...)\u001b[0m\n\u001b[1;32m    908\u001b[0m     dtype_backend\u001b[38;5;241m=\u001b[39mdtype_backend,\n\u001b[1;32m    909\u001b[0m )\n\u001b[1;32m    910\u001b[0m kwds\u001b[38;5;241m.\u001b[39mupdate(kwds_defaults)\n\u001b[0;32m--> 912\u001b[0m \u001b[38;5;28;01mreturn\u001b[39;00m _read(filepath_or_buffer, kwds)\n",
      "File \u001b[0;32m~/anaconda3/lib/python3.11/site-packages/pandas/io/parsers/readers.py:577\u001b[0m, in \u001b[0;36m_read\u001b[0;34m(filepath_or_buffer, kwds)\u001b[0m\n\u001b[1;32m    574\u001b[0m _validate_names(kwds\u001b[38;5;241m.\u001b[39mget(\u001b[38;5;124m\"\u001b[39m\u001b[38;5;124mnames\u001b[39m\u001b[38;5;124m\"\u001b[39m, \u001b[38;5;28;01mNone\u001b[39;00m))\n\u001b[1;32m    576\u001b[0m \u001b[38;5;66;03m# Create the parser.\u001b[39;00m\n\u001b[0;32m--> 577\u001b[0m parser \u001b[38;5;241m=\u001b[39m TextFileReader(filepath_or_buffer, \u001b[38;5;241m*\u001b[39m\u001b[38;5;241m*\u001b[39mkwds)\n\u001b[1;32m    579\u001b[0m \u001b[38;5;28;01mif\u001b[39;00m chunksize \u001b[38;5;129;01mor\u001b[39;00m iterator:\n\u001b[1;32m    580\u001b[0m     \u001b[38;5;28;01mreturn\u001b[39;00m parser\n",
      "File \u001b[0;32m~/anaconda3/lib/python3.11/site-packages/pandas/io/parsers/readers.py:1407\u001b[0m, in \u001b[0;36mTextFileReader.__init__\u001b[0;34m(self, f, engine, **kwds)\u001b[0m\n\u001b[1;32m   1404\u001b[0m     \u001b[38;5;28mself\u001b[39m\u001b[38;5;241m.\u001b[39moptions[\u001b[38;5;124m\"\u001b[39m\u001b[38;5;124mhas_index_names\u001b[39m\u001b[38;5;124m\"\u001b[39m] \u001b[38;5;241m=\u001b[39m kwds[\u001b[38;5;124m\"\u001b[39m\u001b[38;5;124mhas_index_names\u001b[39m\u001b[38;5;124m\"\u001b[39m]\n\u001b[1;32m   1406\u001b[0m \u001b[38;5;28mself\u001b[39m\u001b[38;5;241m.\u001b[39mhandles: IOHandles \u001b[38;5;241m|\u001b[39m \u001b[38;5;28;01mNone\u001b[39;00m \u001b[38;5;241m=\u001b[39m \u001b[38;5;28;01mNone\u001b[39;00m\n\u001b[0;32m-> 1407\u001b[0m \u001b[38;5;28mself\u001b[39m\u001b[38;5;241m.\u001b[39m_engine \u001b[38;5;241m=\u001b[39m \u001b[38;5;28mself\u001b[39m\u001b[38;5;241m.\u001b[39m_make_engine(f, \u001b[38;5;28mself\u001b[39m\u001b[38;5;241m.\u001b[39mengine)\n",
      "File \u001b[0;32m~/anaconda3/lib/python3.11/site-packages/pandas/io/parsers/readers.py:1661\u001b[0m, in \u001b[0;36mTextFileReader._make_engine\u001b[0;34m(self, f, engine)\u001b[0m\n\u001b[1;32m   1659\u001b[0m     \u001b[38;5;28;01mif\u001b[39;00m \u001b[38;5;124m\"\u001b[39m\u001b[38;5;124mb\u001b[39m\u001b[38;5;124m\"\u001b[39m \u001b[38;5;129;01mnot\u001b[39;00m \u001b[38;5;129;01min\u001b[39;00m mode:\n\u001b[1;32m   1660\u001b[0m         mode \u001b[38;5;241m+\u001b[39m\u001b[38;5;241m=\u001b[39m \u001b[38;5;124m\"\u001b[39m\u001b[38;5;124mb\u001b[39m\u001b[38;5;124m\"\u001b[39m\n\u001b[0;32m-> 1661\u001b[0m \u001b[38;5;28mself\u001b[39m\u001b[38;5;241m.\u001b[39mhandles \u001b[38;5;241m=\u001b[39m get_handle(\n\u001b[1;32m   1662\u001b[0m     f,\n\u001b[1;32m   1663\u001b[0m     mode,\n\u001b[1;32m   1664\u001b[0m     encoding\u001b[38;5;241m=\u001b[39m\u001b[38;5;28mself\u001b[39m\u001b[38;5;241m.\u001b[39moptions\u001b[38;5;241m.\u001b[39mget(\u001b[38;5;124m\"\u001b[39m\u001b[38;5;124mencoding\u001b[39m\u001b[38;5;124m\"\u001b[39m, \u001b[38;5;28;01mNone\u001b[39;00m),\n\u001b[1;32m   1665\u001b[0m     compression\u001b[38;5;241m=\u001b[39m\u001b[38;5;28mself\u001b[39m\u001b[38;5;241m.\u001b[39moptions\u001b[38;5;241m.\u001b[39mget(\u001b[38;5;124m\"\u001b[39m\u001b[38;5;124mcompression\u001b[39m\u001b[38;5;124m\"\u001b[39m, \u001b[38;5;28;01mNone\u001b[39;00m),\n\u001b[1;32m   1666\u001b[0m     memory_map\u001b[38;5;241m=\u001b[39m\u001b[38;5;28mself\u001b[39m\u001b[38;5;241m.\u001b[39moptions\u001b[38;5;241m.\u001b[39mget(\u001b[38;5;124m\"\u001b[39m\u001b[38;5;124mmemory_map\u001b[39m\u001b[38;5;124m\"\u001b[39m, \u001b[38;5;28;01mFalse\u001b[39;00m),\n\u001b[1;32m   1667\u001b[0m     is_text\u001b[38;5;241m=\u001b[39mis_text,\n\u001b[1;32m   1668\u001b[0m     errors\u001b[38;5;241m=\u001b[39m\u001b[38;5;28mself\u001b[39m\u001b[38;5;241m.\u001b[39moptions\u001b[38;5;241m.\u001b[39mget(\u001b[38;5;124m\"\u001b[39m\u001b[38;5;124mencoding_errors\u001b[39m\u001b[38;5;124m\"\u001b[39m, \u001b[38;5;124m\"\u001b[39m\u001b[38;5;124mstrict\u001b[39m\u001b[38;5;124m\"\u001b[39m),\n\u001b[1;32m   1669\u001b[0m     storage_options\u001b[38;5;241m=\u001b[39m\u001b[38;5;28mself\u001b[39m\u001b[38;5;241m.\u001b[39moptions\u001b[38;5;241m.\u001b[39mget(\u001b[38;5;124m\"\u001b[39m\u001b[38;5;124mstorage_options\u001b[39m\u001b[38;5;124m\"\u001b[39m, \u001b[38;5;28;01mNone\u001b[39;00m),\n\u001b[1;32m   1670\u001b[0m )\n\u001b[1;32m   1671\u001b[0m \u001b[38;5;28;01massert\u001b[39;00m \u001b[38;5;28mself\u001b[39m\u001b[38;5;241m.\u001b[39mhandles \u001b[38;5;129;01mis\u001b[39;00m \u001b[38;5;129;01mnot\u001b[39;00m \u001b[38;5;28;01mNone\u001b[39;00m\n\u001b[1;32m   1672\u001b[0m f \u001b[38;5;241m=\u001b[39m \u001b[38;5;28mself\u001b[39m\u001b[38;5;241m.\u001b[39mhandles\u001b[38;5;241m.\u001b[39mhandle\n",
      "File \u001b[0;32m~/anaconda3/lib/python3.11/site-packages/pandas/io/common.py:859\u001b[0m, in \u001b[0;36mget_handle\u001b[0;34m(path_or_buf, mode, encoding, compression, memory_map, is_text, errors, storage_options)\u001b[0m\n\u001b[1;32m    854\u001b[0m \u001b[38;5;28;01melif\u001b[39;00m \u001b[38;5;28misinstance\u001b[39m(handle, \u001b[38;5;28mstr\u001b[39m):\n\u001b[1;32m    855\u001b[0m     \u001b[38;5;66;03m# Check whether the filename is to be opened in binary mode.\u001b[39;00m\n\u001b[1;32m    856\u001b[0m     \u001b[38;5;66;03m# Binary mode does not support 'encoding' and 'newline'.\u001b[39;00m\n\u001b[1;32m    857\u001b[0m     \u001b[38;5;28;01mif\u001b[39;00m ioargs\u001b[38;5;241m.\u001b[39mencoding \u001b[38;5;129;01mand\u001b[39;00m \u001b[38;5;124m\"\u001b[39m\u001b[38;5;124mb\u001b[39m\u001b[38;5;124m\"\u001b[39m \u001b[38;5;129;01mnot\u001b[39;00m \u001b[38;5;129;01min\u001b[39;00m ioargs\u001b[38;5;241m.\u001b[39mmode:\n\u001b[1;32m    858\u001b[0m         \u001b[38;5;66;03m# Encoding\u001b[39;00m\n\u001b[0;32m--> 859\u001b[0m         handle \u001b[38;5;241m=\u001b[39m \u001b[38;5;28mopen\u001b[39m(\n\u001b[1;32m    860\u001b[0m             handle,\n\u001b[1;32m    861\u001b[0m             ioargs\u001b[38;5;241m.\u001b[39mmode,\n\u001b[1;32m    862\u001b[0m             encoding\u001b[38;5;241m=\u001b[39mioargs\u001b[38;5;241m.\u001b[39mencoding,\n\u001b[1;32m    863\u001b[0m             errors\u001b[38;5;241m=\u001b[39merrors,\n\u001b[1;32m    864\u001b[0m             newline\u001b[38;5;241m=\u001b[39m\u001b[38;5;124m\"\u001b[39m\u001b[38;5;124m\"\u001b[39m,\n\u001b[1;32m    865\u001b[0m         )\n\u001b[1;32m    866\u001b[0m     \u001b[38;5;28;01melse\u001b[39;00m:\n\u001b[1;32m    867\u001b[0m         \u001b[38;5;66;03m# Binary mode\u001b[39;00m\n\u001b[1;32m    868\u001b[0m         handle \u001b[38;5;241m=\u001b[39m \u001b[38;5;28mopen\u001b[39m(handle, ioargs\u001b[38;5;241m.\u001b[39mmode)\n",
      "\u001b[0;31mFileNotFoundError\u001b[0m: [Errno 2] No such file or directory: '/Downloads/datasets/player.csv'"
     ]
    }
   ],
   "source": [
    "player = pd.read_csv('/Downloads/datasets/player.csv')\n",
    "player"
   ]
  },
  {
   "cell_type": "code",
   "execution_count": 11,
   "id": "4bd79f02",
   "metadata": {},
   "outputs": [
    {
     "data": {
      "text/html": [
       "<div>\n",
       "<style scoped>\n",
       "    .dataframe tbody tr th:only-of-type {\n",
       "        vertical-align: middle;\n",
       "    }\n",
       "\n",
       "    .dataframe tbody tr th {\n",
       "        vertical-align: top;\n",
       "    }\n",
       "\n",
       "    .dataframe thead th {\n",
       "        text-align: right;\n",
       "    }\n",
       "</style>\n",
       "<table border=\"1\" class=\"dataframe\">\n",
       "  <thead>\n",
       "    <tr style=\"text-align: right;\">\n",
       "      <th></th>\n",
       "      <th>rank</th>\n",
       "      <th>name</th>\n",
       "      <th>matches</th>\n",
       "      <th>innings</th>\n",
       "      <th>runs</th>\n",
       "      <th>highest</th>\n",
       "      <th>100s</th>\n",
       "      <th>50s</th>\n",
       "    </tr>\n",
       "  </thead>\n",
       "  <tbody>\n",
       "    <tr>\n",
       "      <th>0</th>\n",
       "      <td>1</td>\n",
       "      <td>V Kohli</td>\n",
       "      <td>207</td>\n",
       "      <td>199</td>\n",
       "      <td>6283</td>\n",
       "      <td>113</td>\n",
       "      <td>5</td>\n",
       "      <td>42</td>\n",
       "    </tr>\n",
       "    <tr>\n",
       "      <th>1</th>\n",
       "      <td>2</td>\n",
       "      <td>S Dhawan</td>\n",
       "      <td>194</td>\n",
       "      <td>191</td>\n",
       "      <td>5784</td>\n",
       "      <td>106</td>\n",
       "      <td>2</td>\n",
       "      <td>44</td>\n",
       "    </tr>\n",
       "    <tr>\n",
       "      <th>2</th>\n",
       "      <td>3</td>\n",
       "      <td>Rohit Sharma</td>\n",
       "      <td>213</td>\n",
       "      <td>208</td>\n",
       "      <td>5611</td>\n",
       "      <td>109</td>\n",
       "      <td>1</td>\n",
       "      <td>40</td>\n",
       "    </tr>\n",
       "    <tr>\n",
       "      <th>3</th>\n",
       "      <td>4</td>\n",
       "      <td>Suresh Raina</td>\n",
       "      <td>205</td>\n",
       "      <td>200</td>\n",
       "      <td>5528</td>\n",
       "      <td>100</td>\n",
       "      <td>1</td>\n",
       "      <td>39</td>\n",
       "    </tr>\n",
       "    <tr>\n",
       "      <th>4</th>\n",
       "      <td>5</td>\n",
       "      <td>David Warner</td>\n",
       "      <td>150</td>\n",
       "      <td>150</td>\n",
       "      <td>5449</td>\n",
       "      <td>126</td>\n",
       "      <td>4</td>\n",
       "      <td>50</td>\n",
       "    </tr>\n",
       "    <tr>\n",
       "      <th>5</th>\n",
       "      <td>6</td>\n",
       "      <td>A B de Villiers</td>\n",
       "      <td>184</td>\n",
       "      <td>170</td>\n",
       "      <td>5162</td>\n",
       "      <td>133</td>\n",
       "      <td>3</td>\n",
       "      <td>40</td>\n",
       "    </tr>\n",
       "    <tr>\n",
       "      <th>6</th>\n",
       "      <td>7</td>\n",
       "      <td>Chris Gayle</td>\n",
       "      <td>142</td>\n",
       "      <td>141</td>\n",
       "      <td>4965</td>\n",
       "      <td>175</td>\n",
       "      <td>6</td>\n",
       "      <td>31</td>\n",
       "    </tr>\n",
       "    <tr>\n",
       "      <th>7</th>\n",
       "      <td>8</td>\n",
       "      <td>M S Dhoni</td>\n",
       "      <td>220</td>\n",
       "      <td>193</td>\n",
       "      <td>4746</td>\n",
       "      <td>84</td>\n",
       "      <td>0</td>\n",
       "      <td>23</td>\n",
       "    </tr>\n",
       "    <tr>\n",
       "      <th>8</th>\n",
       "      <td>9</td>\n",
       "      <td>Robin Uthappa</td>\n",
       "      <td>193</td>\n",
       "      <td>186</td>\n",
       "      <td>4722</td>\n",
       "      <td>87</td>\n",
       "      <td>0</td>\n",
       "      <td>25</td>\n",
       "    </tr>\n",
       "    <tr>\n",
       "      <th>9</th>\n",
       "      <td>10</td>\n",
       "      <td>Gutam Gambhir</td>\n",
       "      <td>154</td>\n",
       "      <td>152</td>\n",
       "      <td>4217</td>\n",
       "      <td>93</td>\n",
       "      <td>0</td>\n",
       "      <td>36</td>\n",
       "    </tr>\n",
       "  </tbody>\n",
       "</table>\n",
       "</div>"
      ],
      "text/plain": [
       "   rank             name  matches  innings  runs  highest  100s  50s\n",
       "0     1          V Kohli      207      199  6283      113     5   42\n",
       "1     2         S Dhawan      194      191  5784      106     2   44\n",
       "2     3     Rohit Sharma      213      208  5611      109     1   40\n",
       "3     4     Suresh Raina      205      200  5528      100     1   39\n",
       "4     5     David Warner      150      150  5449      126     4   50\n",
       "5     6  A B de Villiers      184      170  5162      133     3   40\n",
       "6     7      Chris Gayle      142      141  4965      175     6   31\n",
       "7     8        M S Dhoni      220      193  4746       84     0   23\n",
       "8     9    Robin Uthappa      193      186  4722       87     0   25\n",
       "9    10    Gutam Gambhir      154      152  4217       93     0   36"
      ]
     },
     "execution_count": 11,
     "metadata": {},
     "output_type": "execute_result"
    }
   ],
   "source": [
    "player = pd.read_csv('player.csv')\n",
    "player"
   ]
  },
  {
   "cell_type": "code",
   "execution_count": 12,
   "id": "5d8ec173",
   "metadata": {},
   "outputs": [],
   "source": [
    "filtered = player[\"100s\"]"
   ]
  },
  {
   "cell_type": "code",
   "execution_count": 13,
   "id": "b0cf8da2",
   "metadata": {},
   "outputs": [
    {
     "data": {
      "text/plain": [
       "0    5\n",
       "1    2\n",
       "2    1\n",
       "3    1\n",
       "4    4\n",
       "5    3\n",
       "6    6\n",
       "7    0\n",
       "8    0\n",
       "9    0\n",
       "Name: 100s, dtype: int64"
      ]
     },
     "execution_count": 13,
     "metadata": {},
     "output_type": "execute_result"
    }
   ],
   "source": [
    "filtered"
   ]
  },
  {
   "cell_type": "code",
   "execution_count": 14,
   "id": "52a0d7ec",
   "metadata": {},
   "outputs": [
    {
     "ename": "SyntaxError",
     "evalue": "invalid decimal literal (3143314343.py, line 1)",
     "output_type": "error",
     "traceback": [
      "\u001b[0;36m  Cell \u001b[0;32mIn[14], line 1\u001b[0;36m\u001b[0m\n\u001b[0;31m    player.100s\u001b[0m\n\u001b[0m             ^\u001b[0m\n\u001b[0;31mSyntaxError\u001b[0m\u001b[0;31m:\u001b[0m invalid decimal literal\n"
     ]
    }
   ],
   "source": [
    "player.100s"
   ]
  },
  {
   "cell_type": "code",
   "execution_count": 15,
   "id": "5fec8d57",
   "metadata": {},
   "outputs": [
    {
     "data": {
      "text/plain": [
       "0    5\n",
       "1    2\n",
       "2    1\n",
       "3    1\n",
       "4    4\n",
       "5    3\n",
       "6    6\n",
       "7    0\n",
       "8    0\n",
       "9    0\n",
       "Name: 100s, dtype: int64"
      ]
     },
     "execution_count": 15,
     "metadata": {},
     "output_type": "execute_result"
    }
   ],
   "source": [
    "filtered"
   ]
  },
  {
   "cell_type": "code",
   "execution_count": 16,
   "id": "1a8119dd",
   "metadata": {},
   "outputs": [
    {
     "data": {
      "text/plain": [
       "0    False\n",
       "1    False\n",
       "2    False\n",
       "3    False\n",
       "4    False\n",
       "5    False\n",
       "6    False\n",
       "7     True\n",
       "8     True\n",
       "9     True\n",
       "Name: 100s, dtype: bool"
      ]
     },
     "execution_count": 16,
     "metadata": {},
     "output_type": "execute_result"
    }
   ],
   "source": [
    "some = player[\"100s\"] == 0\n",
    "some"
   ]
  },
  {
   "cell_type": "code",
   "execution_count": 17,
   "id": "5e9c276a",
   "metadata": {},
   "outputs": [
    {
     "ename": "AttributeError",
     "evalue": "module 'pandas' has no attribute 'drop'",
     "output_type": "error",
     "traceback": [
      "\u001b[0;31m---------------------------------------------------------------------------\u001b[0m",
      "\u001b[0;31mAttributeError\u001b[0m                            Traceback (most recent call last)",
      "Cell \u001b[0;32mIn[17], line 1\u001b[0m\n\u001b[0;32m----> 1\u001b[0m abc \u001b[38;5;241m=\u001b[39m pd\u001b[38;5;241m.\u001b[39mdrop[some]\n\u001b[1;32m      2\u001b[0m abc\n",
      "\u001b[0;31mAttributeError\u001b[0m: module 'pandas' has no attribute 'drop'"
     ]
    }
   ],
   "source": [
    "abc = pd.drop[some]\n",
    "abc"
   ]
  },
  {
   "cell_type": "code",
   "execution_count": 18,
   "id": "76eda1c8",
   "metadata": {},
   "outputs": [
    {
     "ename": "AttributeError",
     "evalue": "module 'pandas' has no attribute 'drop'",
     "output_type": "error",
     "traceback": [
      "\u001b[0;31m---------------------------------------------------------------------------\u001b[0m",
      "\u001b[0;31mAttributeError\u001b[0m                            Traceback (most recent call last)",
      "Cell \u001b[0;32mIn[18], line 1\u001b[0m\n\u001b[0;32m----> 1\u001b[0m pd\u001b[38;5;241m.\u001b[39mdrop(some)\n",
      "\u001b[0;31mAttributeError\u001b[0m: module 'pandas' has no attribute 'drop'"
     ]
    }
   ],
   "source": [
    "pd.drop(some)"
   ]
  },
  {
   "cell_type": "code",
   "execution_count": 19,
   "id": "839bb02d",
   "metadata": {},
   "outputs": [
    {
     "ename": "AttributeError",
     "evalue": "module 'pandas' has no attribute 'dropna'",
     "output_type": "error",
     "traceback": [
      "\u001b[0;31m---------------------------------------------------------------------------\u001b[0m",
      "\u001b[0;31mAttributeError\u001b[0m                            Traceback (most recent call last)",
      "Cell \u001b[0;32mIn[19], line 1\u001b[0m\n\u001b[0;32m----> 1\u001b[0m pd\u001b[38;5;241m.\u001b[39mdropna(some)\n",
      "\u001b[0;31mAttributeError\u001b[0m: module 'pandas' has no attribute 'dropna'"
     ]
    }
   ],
   "source": [
    "pd.dropna(some)"
   ]
  },
  {
   "cell_type": "code",
   "execution_count": 2,
   "id": "d7f05d26",
   "metadata": {},
   "outputs": [
    {
     "data": {
      "text/html": [
       "<div>\n",
       "<style scoped>\n",
       "    .dataframe tbody tr th:only-of-type {\n",
       "        vertical-align: middle;\n",
       "    }\n",
       "\n",
       "    .dataframe tbody tr th {\n",
       "        vertical-align: top;\n",
       "    }\n",
       "\n",
       "    .dataframe thead th {\n",
       "        text-align: right;\n",
       "    }\n",
       "</style>\n",
       "<table border=\"1\" class=\"dataframe\">\n",
       "  <thead>\n",
       "    <tr style=\"text-align: right;\">\n",
       "      <th></th>\n",
       "      <th>CustID</th>\n",
       "      <th>City</th>\n",
       "      <th>Store Number</th>\n",
       "      <th>Sales (INR)</th>\n",
       "      <th>Customer Age</th>\n",
       "      <th>Gender</th>\n",
       "    </tr>\n",
       "  </thead>\n",
       "  <tbody>\n",
       "    <tr>\n",
       "      <th>0</th>\n",
       "      <td>1001</td>\n",
       "      <td>Mumbai</td>\n",
       "      <td>10</td>\n",
       "      <td>123</td>\n",
       "      <td>38</td>\n",
       "      <td>M</td>\n",
       "    </tr>\n",
       "    <tr>\n",
       "      <th>1</th>\n",
       "      <td>1003</td>\n",
       "      <td>Bangalore</td>\n",
       "      <td>23</td>\n",
       "      <td>543</td>\n",
       "      <td>40</td>\n",
       "      <td>M</td>\n",
       "    </tr>\n",
       "    <tr>\n",
       "      <th>2</th>\n",
       "      <td>1006</td>\n",
       "      <td>Delhi</td>\n",
       "      <td>15</td>\n",
       "      <td>220</td>\n",
       "      <td>30</td>\n",
       "      <td>F</td>\n",
       "    </tr>\n",
       "    <tr>\n",
       "      <th>3</th>\n",
       "      <td>1007</td>\n",
       "      <td>Chennai</td>\n",
       "      <td>17</td>\n",
       "      <td>190</td>\n",
       "      <td>45</td>\n",
       "      <td>F</td>\n",
       "    </tr>\n",
       "    <tr>\n",
       "      <th>4</th>\n",
       "      <td>1009</td>\n",
       "      <td>Mumbai</td>\n",
       "      <td>11</td>\n",
       "      <td>269</td>\n",
       "      <td>28</td>\n",
       "      <td>F</td>\n",
       "    </tr>\n",
       "    <tr>\n",
       "      <th>5</th>\n",
       "      <td>1010</td>\n",
       "      <td>Bangalore</td>\n",
       "      <td>21</td>\n",
       "      <td>130</td>\n",
       "      <td>56</td>\n",
       "      <td>M</td>\n",
       "    </tr>\n",
       "    <tr>\n",
       "      <th>6</th>\n",
       "      <td>1011</td>\n",
       "      <td>Mumbai</td>\n",
       "      <td>13</td>\n",
       "      <td>175</td>\n",
       "      <td>43</td>\n",
       "      <td>M</td>\n",
       "    </tr>\n",
       "    <tr>\n",
       "      <th>7</th>\n",
       "      <td>1012</td>\n",
       "      <td>Delhi</td>\n",
       "      <td>16</td>\n",
       "      <td>210</td>\n",
       "      <td>36</td>\n",
       "      <td>M</td>\n",
       "    </tr>\n",
       "    <tr>\n",
       "      <th>8</th>\n",
       "      <td>1013</td>\n",
       "      <td>Delhi</td>\n",
       "      <td>18</td>\n",
       "      <td>120</td>\n",
       "      <td>25</td>\n",
       "      <td>M</td>\n",
       "    </tr>\n",
       "    <tr>\n",
       "      <th>9</th>\n",
       "      <td>1014</td>\n",
       "      <td>Bangalore</td>\n",
       "      <td>21</td>\n",
       "      <td>150</td>\n",
       "      <td>29</td>\n",
       "      <td>F</td>\n",
       "    </tr>\n",
       "    <tr>\n",
       "      <th>10</th>\n",
       "      <td>1015</td>\n",
       "      <td>Mumbai</td>\n",
       "      <td>11</td>\n",
       "      <td>160</td>\n",
       "      <td>49</td>\n",
       "      <td>M</td>\n",
       "    </tr>\n",
       "    <tr>\n",
       "      <th>11</th>\n",
       "      <td>1017</td>\n",
       "      <td>Delhi</td>\n",
       "      <td>16</td>\n",
       "      <td>170</td>\n",
       "      <td>75</td>\n",
       "      <td>F</td>\n",
       "    </tr>\n",
       "    <tr>\n",
       "      <th>12</th>\n",
       "      <td>1019</td>\n",
       "      <td>Chennai</td>\n",
       "      <td>17</td>\n",
       "      <td>242</td>\n",
       "      <td>62</td>\n",
       "      <td>F</td>\n",
       "    </tr>\n",
       "    <tr>\n",
       "      <th>13</th>\n",
       "      <td>1020</td>\n",
       "      <td>Mumbai</td>\n",
       "      <td>10</td>\n",
       "      <td>273</td>\n",
       "      <td>55</td>\n",
       "      <td>M</td>\n",
       "    </tr>\n",
       "  </tbody>\n",
       "</table>\n",
       "</div>"
      ],
      "text/plain": [
       "    CustID       City  Store Number  Sales (INR)  Customer Age Gender\n",
       "0     1001     Mumbai            10          123            38      M\n",
       "1     1003  Bangalore            23          543            40      M\n",
       "2     1006      Delhi            15          220            30      F\n",
       "3     1007    Chennai            17          190            45      F\n",
       "4     1009     Mumbai            11          269            28      F\n",
       "5     1010  Bangalore            21          130            56      M\n",
       "6     1011     Mumbai            13          175            43      M\n",
       "7     1012      Delhi            16          210            36      M\n",
       "8     1013      Delhi            18          120            25      M\n",
       "9     1014  Bangalore            21          150            29      F\n",
       "10    1015     Mumbai            11          160            49      M\n",
       "11    1017      Delhi            16          170            75      F\n",
       "12    1019    Chennai            17          242            62      F\n",
       "13    1020     Mumbai            10          273            55      M"
      ]
     },
     "execution_count": 2,
     "metadata": {},
     "output_type": "execute_result"
    }
   ],
   "source": [
    "import pandas as pd\n",
    "xmart = pd.read_csv('Xtra-Mart.csv')\n",
    "xmart"
   ]
  },
  {
   "cell_type": "code",
   "execution_count": 3,
   "id": "adb9d726",
   "metadata": {},
   "outputs": [
    {
     "data": {
      "text/html": [
       "<div>\n",
       "<style scoped>\n",
       "    .dataframe tbody tr th:only-of-type {\n",
       "        vertical-align: middle;\n",
       "    }\n",
       "\n",
       "    .dataframe tbody tr th {\n",
       "        vertical-align: top;\n",
       "    }\n",
       "\n",
       "    .dataframe thead th {\n",
       "        text-align: right;\n",
       "    }\n",
       "</style>\n",
       "<table border=\"1\" class=\"dataframe\">\n",
       "  <thead>\n",
       "    <tr style=\"text-align: right;\">\n",
       "      <th></th>\n",
       "      <th></th>\n",
       "      <th>CustID</th>\n",
       "      <th>Sales (INR)</th>\n",
       "      <th>Customer Age</th>\n",
       "      <th>Gender</th>\n",
       "    </tr>\n",
       "    <tr>\n",
       "      <th>City</th>\n",
       "      <th>Store Number</th>\n",
       "      <th></th>\n",
       "      <th></th>\n",
       "      <th></th>\n",
       "      <th></th>\n",
       "    </tr>\n",
       "  </thead>\n",
       "  <tbody>\n",
       "    <tr>\n",
       "      <th rowspan=\"2\" valign=\"top\">Bangalore</th>\n",
       "      <th>21</th>\n",
       "      <td>1010</td>\n",
       "      <td>130</td>\n",
       "      <td>56</td>\n",
       "      <td>M</td>\n",
       "    </tr>\n",
       "    <tr>\n",
       "      <th>23</th>\n",
       "      <td>1003</td>\n",
       "      <td>543</td>\n",
       "      <td>40</td>\n",
       "      <td>M</td>\n",
       "    </tr>\n",
       "    <tr>\n",
       "      <th>Chennai</th>\n",
       "      <th>17</th>\n",
       "      <td>1007</td>\n",
       "      <td>190</td>\n",
       "      <td>45</td>\n",
       "      <td>F</td>\n",
       "    </tr>\n",
       "    <tr>\n",
       "      <th rowspan=\"3\" valign=\"top\">Delhi</th>\n",
       "      <th>15</th>\n",
       "      <td>1006</td>\n",
       "      <td>220</td>\n",
       "      <td>30</td>\n",
       "      <td>F</td>\n",
       "    </tr>\n",
       "    <tr>\n",
       "      <th>16</th>\n",
       "      <td>1012</td>\n",
       "      <td>210</td>\n",
       "      <td>36</td>\n",
       "      <td>M</td>\n",
       "    </tr>\n",
       "    <tr>\n",
       "      <th>18</th>\n",
       "      <td>1013</td>\n",
       "      <td>120</td>\n",
       "      <td>25</td>\n",
       "      <td>M</td>\n",
       "    </tr>\n",
       "    <tr>\n",
       "      <th rowspan=\"3\" valign=\"top\">Mumbai</th>\n",
       "      <th>10</th>\n",
       "      <td>1001</td>\n",
       "      <td>123</td>\n",
       "      <td>38</td>\n",
       "      <td>M</td>\n",
       "    </tr>\n",
       "    <tr>\n",
       "      <th>11</th>\n",
       "      <td>1009</td>\n",
       "      <td>269</td>\n",
       "      <td>28</td>\n",
       "      <td>F</td>\n",
       "    </tr>\n",
       "    <tr>\n",
       "      <th>13</th>\n",
       "      <td>1011</td>\n",
       "      <td>175</td>\n",
       "      <td>43</td>\n",
       "      <td>M</td>\n",
       "    </tr>\n",
       "  </tbody>\n",
       "</table>\n",
       "</div>"
      ],
      "text/plain": [
       "                        CustID  Sales (INR)  Customer Age Gender\n",
       "City      Store Number                                          \n",
       "Bangalore 21              1010          130            56      M\n",
       "          23              1003          543            40      M\n",
       "Chennai   17              1007          190            45      F\n",
       "Delhi     15              1006          220            30      F\n",
       "          16              1012          210            36      M\n",
       "          18              1013          120            25      M\n",
       "Mumbai    10              1001          123            38      M\n",
       "          11              1009          269            28      F\n",
       "          13              1011          175            43      M"
      ]
     },
     "execution_count": 3,
     "metadata": {},
     "output_type": "execute_result"
    }
   ],
   "source": [
    "xmart.groupby(['City', 'Store Number']).first()"
   ]
  },
  {
   "cell_type": "code",
   "execution_count": 4,
   "id": "ec744a37",
   "metadata": {},
   "outputs": [
    {
     "data": {
      "text/plain": [
       "{('Bangalore', 21): [5, 9], ('Bangalore', 23): [1], ('Chennai', 17): [3, 12], ('Delhi', 15): [2], ('Delhi', 16): [7, 11], ('Delhi', 18): [8], ('Mumbai', 10): [0, 13], ('Mumbai', 11): [4, 10], ('Mumbai', 13): [6]}"
      ]
     },
     "execution_count": 4,
     "metadata": {},
     "output_type": "execute_result"
    }
   ],
   "source": [
    "xmart.groupby(['City', 'Store Number']).groups"
   ]
  },
  {
   "cell_type": "code",
   "execution_count": 5,
   "id": "08417246",
   "metadata": {},
   "outputs": [
    {
     "data": {
      "text/plain": [
       "<pandas.core.groupby.generic.SeriesGroupBy object at 0x13f380b90>"
      ]
     },
     "execution_count": 5,
     "metadata": {},
     "output_type": "execute_result"
    }
   ],
   "source": [
    "xmart.groupby(['City', 'Store Number'])['Sales (INR)']"
   ]
  },
  {
   "cell_type": "code",
   "execution_count": 6,
   "id": "889f2abd",
   "metadata": {},
   "outputs": [
    {
     "data": {
      "text/plain": [
       "City       Store Number\n",
       "Bangalore  21              140.0\n",
       "           23              543.0\n",
       "Chennai    17              216.0\n",
       "Delhi      15              220.0\n",
       "           16              190.0\n",
       "           18              120.0\n",
       "Mumbai     10              198.0\n",
       "           11              214.5\n",
       "           13              175.0\n",
       "Name: Sales (INR), dtype: float64"
      ]
     },
     "execution_count": 6,
     "metadata": {},
     "output_type": "execute_result"
    }
   ],
   "source": [
    "xmart.groupby(['City', 'Store Number'])['Sales (INR)'].mean()"
   ]
  },
  {
   "cell_type": "code",
   "execution_count": 7,
   "id": "f632943d",
   "metadata": {},
   "outputs": [
    {
     "data": {
      "text/html": [
       "<div>\n",
       "<style scoped>\n",
       "    .dataframe tbody tr th:only-of-type {\n",
       "        vertical-align: middle;\n",
       "    }\n",
       "\n",
       "    .dataframe tbody tr th {\n",
       "        vertical-align: top;\n",
       "    }\n",
       "\n",
       "    .dataframe thead th {\n",
       "        text-align: right;\n",
       "    }\n",
       "</style>\n",
       "<table border=\"1\" class=\"dataframe\">\n",
       "  <thead>\n",
       "    <tr style=\"text-align: right;\">\n",
       "      <th></th>\n",
       "      <th>CustID</th>\n",
       "      <th>City</th>\n",
       "      <th>Store Number</th>\n",
       "      <th>Sales (INR)</th>\n",
       "      <th>Customer Age</th>\n",
       "      <th>Gender</th>\n",
       "    </tr>\n",
       "  </thead>\n",
       "  <tbody>\n",
       "    <tr>\n",
       "      <th>0</th>\n",
       "      <td>1001</td>\n",
       "      <td>Mumbai</td>\n",
       "      <td>10</td>\n",
       "      <td>123</td>\n",
       "      <td>38</td>\n",
       "      <td>M</td>\n",
       "    </tr>\n",
       "    <tr>\n",
       "      <th>4</th>\n",
       "      <td>1009</td>\n",
       "      <td>Mumbai</td>\n",
       "      <td>11</td>\n",
       "      <td>269</td>\n",
       "      <td>28</td>\n",
       "      <td>F</td>\n",
       "    </tr>\n",
       "    <tr>\n",
       "      <th>6</th>\n",
       "      <td>1011</td>\n",
       "      <td>Mumbai</td>\n",
       "      <td>13</td>\n",
       "      <td>175</td>\n",
       "      <td>43</td>\n",
       "      <td>M</td>\n",
       "    </tr>\n",
       "    <tr>\n",
       "      <th>10</th>\n",
       "      <td>1015</td>\n",
       "      <td>Mumbai</td>\n",
       "      <td>11</td>\n",
       "      <td>160</td>\n",
       "      <td>49</td>\n",
       "      <td>M</td>\n",
       "    </tr>\n",
       "    <tr>\n",
       "      <th>13</th>\n",
       "      <td>1020</td>\n",
       "      <td>Mumbai</td>\n",
       "      <td>10</td>\n",
       "      <td>273</td>\n",
       "      <td>55</td>\n",
       "      <td>M</td>\n",
       "    </tr>\n",
       "  </tbody>\n",
       "</table>\n",
       "</div>"
      ],
      "text/plain": [
       "    CustID    City  Store Number  Sales (INR)  Customer Age Gender\n",
       "0     1001  Mumbai            10          123            38      M\n",
       "4     1009  Mumbai            11          269            28      F\n",
       "6     1011  Mumbai            13          175            43      M\n",
       "10    1015  Mumbai            11          160            49      M\n",
       "13    1020  Mumbai            10          273            55      M"
      ]
     },
     "execution_count": 7,
     "metadata": {},
     "output_type": "execute_result"
    }
   ],
   "source": [
    "xmart.groupby('City').get_group('Mumbai')"
   ]
  },
  {
   "cell_type": "code",
   "execution_count": 8,
   "id": "e20f8aa7",
   "metadata": {},
   "outputs": [
    {
     "data": {
      "text/html": [
       "<div>\n",
       "<style scoped>\n",
       "    .dataframe tbody tr th:only-of-type {\n",
       "        vertical-align: middle;\n",
       "    }\n",
       "\n",
       "    .dataframe tbody tr th {\n",
       "        vertical-align: top;\n",
       "    }\n",
       "\n",
       "    .dataframe thead th {\n",
       "        text-align: right;\n",
       "    }\n",
       "</style>\n",
       "<table border=\"1\" class=\"dataframe\">\n",
       "  <thead>\n",
       "    <tr style=\"text-align: right;\">\n",
       "      <th></th>\n",
       "      <th>CustID</th>\n",
       "      <th>City</th>\n",
       "      <th>Store Number</th>\n",
       "      <th>Sales (INR)</th>\n",
       "      <th>Customer Age</th>\n",
       "      <th>Gender</th>\n",
       "    </tr>\n",
       "  </thead>\n",
       "  <tbody>\n",
       "    <tr>\n",
       "      <th>5</th>\n",
       "      <td>1010</td>\n",
       "      <td>Bangalore</td>\n",
       "      <td>21</td>\n",
       "      <td>130</td>\n",
       "      <td>56</td>\n",
       "      <td>M</td>\n",
       "    </tr>\n",
       "    <tr>\n",
       "      <th>9</th>\n",
       "      <td>1014</td>\n",
       "      <td>Bangalore</td>\n",
       "      <td>21</td>\n",
       "      <td>150</td>\n",
       "      <td>29</td>\n",
       "      <td>F</td>\n",
       "    </tr>\n",
       "  </tbody>\n",
       "</table>\n",
       "</div>"
      ],
      "text/plain": [
       "   CustID       City  Store Number  Sales (INR)  Customer Age Gender\n",
       "5    1010  Bangalore            21          130            56      M\n",
       "9    1014  Bangalore            21          150            29      F"
      ]
     },
     "execution_count": 8,
     "metadata": {},
     "output_type": "execute_result"
    }
   ],
   "source": [
    "xmart.groupby(['City', 'Store Number']).get_group(('Bangalore', 21))"
   ]
  },
  {
   "cell_type": "code",
   "execution_count": 9,
   "id": "9b959eba",
   "metadata": {},
   "outputs": [],
   "source": [
    "\n",
    "bbt = pd.read_csv('big_bang_theory_episodes.csv')"
   ]
  },
  {
   "cell_type": "code",
   "execution_count": 10,
   "id": "b07d2890",
   "metadata": {},
   "outputs": [
    {
     "data": {
      "text/html": [
       "<div>\n",
       "<style scoped>\n",
       "    .dataframe tbody tr th:only-of-type {\n",
       "        vertical-align: middle;\n",
       "    }\n",
       "\n",
       "    .dataframe tbody tr th {\n",
       "        vertical-align: top;\n",
       "    }\n",
       "\n",
       "    .dataframe thead th {\n",
       "        text-align: right;\n",
       "    }\n",
       "</style>\n",
       "<table border=\"1\" class=\"dataframe\">\n",
       "  <thead>\n",
       "    <tr style=\"text-align: right;\">\n",
       "      <th></th>\n",
       "      <th>season</th>\n",
       "      <th>episode_num_in_season</th>\n",
       "      <th>episode_num_overall</th>\n",
       "      <th>title</th>\n",
       "      <th>directed_by</th>\n",
       "      <th>written_by</th>\n",
       "      <th>original_air_date</th>\n",
       "      <th>prod_code</th>\n",
       "      <th>us_viewers</th>\n",
       "    </tr>\n",
       "  </thead>\n",
       "  <tbody>\n",
       "    <tr>\n",
       "      <th>0</th>\n",
       "      <td>1</td>\n",
       "      <td>1</td>\n",
       "      <td>1</td>\n",
       "      <td>Pilot</td>\n",
       "      <td>James Burrows</td>\n",
       "      <td>Chuck Lorre &amp; Bill Prady</td>\n",
       "      <td>2007-09-24</td>\n",
       "      <td>276023</td>\n",
       "      <td>9520000.0</td>\n",
       "    </tr>\n",
       "    <tr>\n",
       "      <th>1</th>\n",
       "      <td>1</td>\n",
       "      <td>2</td>\n",
       "      <td>2</td>\n",
       "      <td>The Big Bran Hypothesis</td>\n",
       "      <td>Mark Cendrowski</td>\n",
       "      <td>Story by: Chuck Lorre &amp; Bill PradyTeleplay by:...</td>\n",
       "      <td>2007-10-01</td>\n",
       "      <td>3T6601</td>\n",
       "      <td>8580000.0</td>\n",
       "    </tr>\n",
       "    <tr>\n",
       "      <th>2</th>\n",
       "      <td>1</td>\n",
       "      <td>3</td>\n",
       "      <td>3</td>\n",
       "      <td>The Fuzzy Boots Corollary</td>\n",
       "      <td>Mark Cendrowski</td>\n",
       "      <td>Story by: Chuck LorreTeleplay by: Bill Prady &amp;...</td>\n",
       "      <td>2007-10-08</td>\n",
       "      <td>3T6602</td>\n",
       "      <td>8360000.0</td>\n",
       "    </tr>\n",
       "    <tr>\n",
       "      <th>3</th>\n",
       "      <td>1</td>\n",
       "      <td>4</td>\n",
       "      <td>4</td>\n",
       "      <td>The Luminous Fish Effect</td>\n",
       "      <td>Mark Cendrowski</td>\n",
       "      <td>Story by: Chuck Lorre &amp; Bill PradyTeleplay by:...</td>\n",
       "      <td>2007-10-15</td>\n",
       "      <td>3T6603</td>\n",
       "      <td>8150000.0</td>\n",
       "    </tr>\n",
       "    <tr>\n",
       "      <th>4</th>\n",
       "      <td>1</td>\n",
       "      <td>5</td>\n",
       "      <td>5</td>\n",
       "      <td>The Hamburger Postulate</td>\n",
       "      <td>Andrew D. Weyman</td>\n",
       "      <td>Story by: Jennifer GlickmanTeleplay by: Dave G...</td>\n",
       "      <td>2007-10-22</td>\n",
       "      <td>3T6604</td>\n",
       "      <td>8810000.0</td>\n",
       "    </tr>\n",
       "    <tr>\n",
       "      <th>...</th>\n",
       "      <td>...</td>\n",
       "      <td>...</td>\n",
       "      <td>...</td>\n",
       "      <td>...</td>\n",
       "      <td>...</td>\n",
       "      <td>...</td>\n",
       "      <td>...</td>\n",
       "      <td>...</td>\n",
       "      <td>...</td>\n",
       "    </tr>\n",
       "    <tr>\n",
       "      <th>274</th>\n",
       "      <td>12</td>\n",
       "      <td>20</td>\n",
       "      <td>275</td>\n",
       "      <td>The Decision Reverberation</td>\n",
       "      <td>Mark Cendrowski</td>\n",
       "      <td>Story by: Steven Molaro &amp; Steve Holland &amp; Tara...</td>\n",
       "      <td>2019-04-25</td>\n",
       "      <td>T12.16020</td>\n",
       "      <td>11840000.0</td>\n",
       "    </tr>\n",
       "    <tr>\n",
       "      <th>275</th>\n",
       "      <td>12</td>\n",
       "      <td>21</td>\n",
       "      <td>276</td>\n",
       "      <td>The Plagiarism Schism</td>\n",
       "      <td>Nikki Lorre</td>\n",
       "      <td>Story by: Eric Kaplan &amp; Maria Ferrari &amp; Adam F...</td>\n",
       "      <td>2019-05-02</td>\n",
       "      <td>T12.16021</td>\n",
       "      <td>12480000.0</td>\n",
       "    </tr>\n",
       "    <tr>\n",
       "      <th>276</th>\n",
       "      <td>12</td>\n",
       "      <td>22</td>\n",
       "      <td>277</td>\n",
       "      <td>The Maternal Conclusion</td>\n",
       "      <td>Kristy Cecil</td>\n",
       "      <td>Story by: Steve Holland &amp; Eric Kaplan &amp; Jeremy...</td>\n",
       "      <td>2019-05-09</td>\n",
       "      <td>T12.16022</td>\n",
       "      <td>12590000.0</td>\n",
       "    </tr>\n",
       "    <tr>\n",
       "      <th>277</th>\n",
       "      <td>12</td>\n",
       "      <td>23</td>\n",
       "      <td>278</td>\n",
       "      <td>The Change Constant</td>\n",
       "      <td>Mark Cendrowski</td>\n",
       "      <td>Chuck Lorre &amp; Steve Holland &amp; Steven Molaro &amp; ...</td>\n",
       "      <td>2019-05-16</td>\n",
       "      <td>T12.16023</td>\n",
       "      <td>18520000.0</td>\n",
       "    </tr>\n",
       "    <tr>\n",
       "      <th>278</th>\n",
       "      <td>12</td>\n",
       "      <td>24</td>\n",
       "      <td>279</td>\n",
       "      <td>The Stockholm Syndrome</td>\n",
       "      <td>Mark Cendrowski</td>\n",
       "      <td>Chuck Lorre &amp; Steve Holland &amp; Steven Molaro &amp; ...</td>\n",
       "      <td>2019-05-16</td>\n",
       "      <td>T12.16024</td>\n",
       "      <td>18520000.0</td>\n",
       "    </tr>\n",
       "  </tbody>\n",
       "</table>\n",
       "<p>279 rows × 9 columns</p>\n",
       "</div>"
      ],
      "text/plain": [
       "     season  episode_num_in_season  episode_num_overall  \\\n",
       "0         1                      1                    1   \n",
       "1         1                      2                    2   \n",
       "2         1                      3                    3   \n",
       "3         1                      4                    4   \n",
       "4         1                      5                    5   \n",
       "..      ...                    ...                  ...   \n",
       "274      12                     20                  275   \n",
       "275      12                     21                  276   \n",
       "276      12                     22                  277   \n",
       "277      12                     23                  278   \n",
       "278      12                     24                  279   \n",
       "\n",
       "                          title       directed_by  \\\n",
       "0                         Pilot     James Burrows   \n",
       "1       The Big Bran Hypothesis   Mark Cendrowski   \n",
       "2     The Fuzzy Boots Corollary   Mark Cendrowski   \n",
       "3      The Luminous Fish Effect   Mark Cendrowski   \n",
       "4       The Hamburger Postulate  Andrew D. Weyman   \n",
       "..                          ...               ...   \n",
       "274  The Decision Reverberation   Mark Cendrowski   \n",
       "275       The Plagiarism Schism       Nikki Lorre   \n",
       "276     The Maternal Conclusion      Kristy Cecil   \n",
       "277         The Change Constant   Mark Cendrowski   \n",
       "278      The Stockholm Syndrome   Mark Cendrowski   \n",
       "\n",
       "                                            written_by original_air_date  \\\n",
       "0                             Chuck Lorre & Bill Prady        2007-09-24   \n",
       "1    Story by: Chuck Lorre & Bill PradyTeleplay by:...        2007-10-01   \n",
       "2    Story by: Chuck LorreTeleplay by: Bill Prady &...        2007-10-08   \n",
       "3    Story by: Chuck Lorre & Bill PradyTeleplay by:...        2007-10-15   \n",
       "4    Story by: Jennifer GlickmanTeleplay by: Dave G...        2007-10-22   \n",
       "..                                                 ...               ...   \n",
       "274  Story by: Steven Molaro & Steve Holland & Tara...        2019-04-25   \n",
       "275  Story by: Eric Kaplan & Maria Ferrari & Adam F...        2019-05-02   \n",
       "276  Story by: Steve Holland & Eric Kaplan & Jeremy...        2019-05-09   \n",
       "277  Chuck Lorre & Steve Holland & Steven Molaro & ...        2019-05-16   \n",
       "278  Chuck Lorre & Steve Holland & Steven Molaro & ...        2019-05-16   \n",
       "\n",
       "     prod_code  us_viewers  \n",
       "0       276023   9520000.0  \n",
       "1       3T6601   8580000.0  \n",
       "2       3T6602   8360000.0  \n",
       "3       3T6603   8150000.0  \n",
       "4       3T6604   8810000.0  \n",
       "..         ...         ...  \n",
       "274  T12.16020  11840000.0  \n",
       "275  T12.16021  12480000.0  \n",
       "276  T12.16022  12590000.0  \n",
       "277  T12.16023  18520000.0  \n",
       "278  T12.16024  18520000.0  \n",
       "\n",
       "[279 rows x 9 columns]"
      ]
     },
     "execution_count": 10,
     "metadata": {},
     "output_type": "execute_result"
    }
   ],
   "source": [
    "bbt"
   ]
  },
  {
   "cell_type": "code",
   "execution_count": 12,
   "id": "0141410d",
   "metadata": {},
   "outputs": [
    {
     "data": {
      "text/html": [
       "<div>\n",
       "<style scoped>\n",
       "    .dataframe tbody tr th:only-of-type {\n",
       "        vertical-align: middle;\n",
       "    }\n",
       "\n",
       "    .dataframe tbody tr th {\n",
       "        vertical-align: top;\n",
       "    }\n",
       "\n",
       "    .dataframe thead th {\n",
       "        text-align: right;\n",
       "    }\n",
       "</style>\n",
       "<table border=\"1\" class=\"dataframe\">\n",
       "  <thead>\n",
       "    <tr style=\"text-align: right;\">\n",
       "      <th></th>\n",
       "      <th>season</th>\n",
       "      <th>episode_num_in_season</th>\n",
       "      <th>episode_num_overall</th>\n",
       "      <th>title</th>\n",
       "      <th>directed_by</th>\n",
       "      <th>written_by</th>\n",
       "      <th>original_air_date</th>\n",
       "      <th>prod_code</th>\n",
       "      <th>us_viewers</th>\n",
       "    </tr>\n",
       "  </thead>\n",
       "  <tbody>\n",
       "    <tr>\n",
       "      <th>1</th>\n",
       "      <td>1</td>\n",
       "      <td>2</td>\n",
       "      <td>2</td>\n",
       "      <td>The Big Bran Hypothesis</td>\n",
       "      <td>Mark Cendrowski</td>\n",
       "      <td>Story by: Chuck Lorre &amp; Bill PradyTeleplay by:...</td>\n",
       "      <td>2007-10-01</td>\n",
       "      <td>3T6601</td>\n",
       "      <td>8580000.0</td>\n",
       "    </tr>\n",
       "    <tr>\n",
       "      <th>2</th>\n",
       "      <td>1</td>\n",
       "      <td>3</td>\n",
       "      <td>3</td>\n",
       "      <td>The Fuzzy Boots Corollary</td>\n",
       "      <td>Mark Cendrowski</td>\n",
       "      <td>Story by: Chuck LorreTeleplay by: Bill Prady &amp;...</td>\n",
       "      <td>2007-10-08</td>\n",
       "      <td>3T6602</td>\n",
       "      <td>8360000.0</td>\n",
       "    </tr>\n",
       "    <tr>\n",
       "      <th>3</th>\n",
       "      <td>1</td>\n",
       "      <td>4</td>\n",
       "      <td>4</td>\n",
       "      <td>The Luminous Fish Effect</td>\n",
       "      <td>Mark Cendrowski</td>\n",
       "      <td>Story by: Chuck Lorre &amp; Bill PradyTeleplay by:...</td>\n",
       "      <td>2007-10-15</td>\n",
       "      <td>3T6603</td>\n",
       "      <td>8150000.0</td>\n",
       "    </tr>\n",
       "    <tr>\n",
       "      <th>5</th>\n",
       "      <td>1</td>\n",
       "      <td>6</td>\n",
       "      <td>6</td>\n",
       "      <td>The Middle Earth Paradigm</td>\n",
       "      <td>Mark Cendrowski</td>\n",
       "      <td>Story by: Dave GoetschTeleplay by: David Litt ...</td>\n",
       "      <td>2007-10-29</td>\n",
       "      <td>3T6605</td>\n",
       "      <td>8920000.0</td>\n",
       "    </tr>\n",
       "    <tr>\n",
       "      <th>6</th>\n",
       "      <td>1</td>\n",
       "      <td>7</td>\n",
       "      <td>7</td>\n",
       "      <td>The Dumpling Paradox</td>\n",
       "      <td>Mark Cendrowski</td>\n",
       "      <td>Story by: Chuck Lorre &amp; Bill PradyTeleplay by:...</td>\n",
       "      <td>2007-11-05</td>\n",
       "      <td>3T6606</td>\n",
       "      <td>9680000.0</td>\n",
       "    </tr>\n",
       "    <tr>\n",
       "      <th>...</th>\n",
       "      <td>...</td>\n",
       "      <td>...</td>\n",
       "      <td>...</td>\n",
       "      <td>...</td>\n",
       "      <td>...</td>\n",
       "      <td>...</td>\n",
       "      <td>...</td>\n",
       "      <td>...</td>\n",
       "      <td>...</td>\n",
       "    </tr>\n",
       "    <tr>\n",
       "      <th>272</th>\n",
       "      <td>12</td>\n",
       "      <td>18</td>\n",
       "      <td>273</td>\n",
       "      <td>The Laureate Accumulation</td>\n",
       "      <td>Mark Cendrowski</td>\n",
       "      <td>Story by: Steve Holland &amp; Adam Faberman &amp; Davi...</td>\n",
       "      <td>2019-04-04</td>\n",
       "      <td>T12.16018</td>\n",
       "      <td>12220000.0</td>\n",
       "    </tr>\n",
       "    <tr>\n",
       "      <th>273</th>\n",
       "      <td>12</td>\n",
       "      <td>19</td>\n",
       "      <td>274</td>\n",
       "      <td>The Inspiration Deprivation</td>\n",
       "      <td>Mark Cendrowski</td>\n",
       "      <td>Story by: Eric Kaplan &amp; Maria Ferrari &amp; Andy G...</td>\n",
       "      <td>2019-04-18</td>\n",
       "      <td>T12.16019</td>\n",
       "      <td>11440000.0</td>\n",
       "    </tr>\n",
       "    <tr>\n",
       "      <th>274</th>\n",
       "      <td>12</td>\n",
       "      <td>20</td>\n",
       "      <td>275</td>\n",
       "      <td>The Decision Reverberation</td>\n",
       "      <td>Mark Cendrowski</td>\n",
       "      <td>Story by: Steven Molaro &amp; Steve Holland &amp; Tara...</td>\n",
       "      <td>2019-04-25</td>\n",
       "      <td>T12.16020</td>\n",
       "      <td>11840000.0</td>\n",
       "    </tr>\n",
       "    <tr>\n",
       "      <th>277</th>\n",
       "      <td>12</td>\n",
       "      <td>23</td>\n",
       "      <td>278</td>\n",
       "      <td>The Change Constant</td>\n",
       "      <td>Mark Cendrowski</td>\n",
       "      <td>Chuck Lorre &amp; Steve Holland &amp; Steven Molaro &amp; ...</td>\n",
       "      <td>2019-05-16</td>\n",
       "      <td>T12.16023</td>\n",
       "      <td>18520000.0</td>\n",
       "    </tr>\n",
       "    <tr>\n",
       "      <th>278</th>\n",
       "      <td>12</td>\n",
       "      <td>24</td>\n",
       "      <td>279</td>\n",
       "      <td>The Stockholm Syndrome</td>\n",
       "      <td>Mark Cendrowski</td>\n",
       "      <td>Chuck Lorre &amp; Steve Holland &amp; Steven Molaro &amp; ...</td>\n",
       "      <td>2019-05-16</td>\n",
       "      <td>T12.16024</td>\n",
       "      <td>18520000.0</td>\n",
       "    </tr>\n",
       "  </tbody>\n",
       "</table>\n",
       "<p>244 rows × 9 columns</p>\n",
       "</div>"
      ],
      "text/plain": [
       "     season  episode_num_in_season  episode_num_overall  \\\n",
       "1         1                      2                    2   \n",
       "2         1                      3                    3   \n",
       "3         1                      4                    4   \n",
       "5         1                      6                    6   \n",
       "6         1                      7                    7   \n",
       "..      ...                    ...                  ...   \n",
       "272      12                     18                  273   \n",
       "273      12                     19                  274   \n",
       "274      12                     20                  275   \n",
       "277      12                     23                  278   \n",
       "278      12                     24                  279   \n",
       "\n",
       "                           title      directed_by  \\\n",
       "1        The Big Bran Hypothesis  Mark Cendrowski   \n",
       "2      The Fuzzy Boots Corollary  Mark Cendrowski   \n",
       "3       The Luminous Fish Effect  Mark Cendrowski   \n",
       "5      The Middle Earth Paradigm  Mark Cendrowski   \n",
       "6           The Dumpling Paradox  Mark Cendrowski   \n",
       "..                           ...              ...   \n",
       "272    The Laureate Accumulation  Mark Cendrowski   \n",
       "273  The Inspiration Deprivation  Mark Cendrowski   \n",
       "274   The Decision Reverberation  Mark Cendrowski   \n",
       "277          The Change Constant  Mark Cendrowski   \n",
       "278       The Stockholm Syndrome  Mark Cendrowski   \n",
       "\n",
       "                                            written_by original_air_date  \\\n",
       "1    Story by: Chuck Lorre & Bill PradyTeleplay by:...        2007-10-01   \n",
       "2    Story by: Chuck LorreTeleplay by: Bill Prady &...        2007-10-08   \n",
       "3    Story by: Chuck Lorre & Bill PradyTeleplay by:...        2007-10-15   \n",
       "5    Story by: Dave GoetschTeleplay by: David Litt ...        2007-10-29   \n",
       "6    Story by: Chuck Lorre & Bill PradyTeleplay by:...        2007-11-05   \n",
       "..                                                 ...               ...   \n",
       "272  Story by: Steve Holland & Adam Faberman & Davi...        2019-04-04   \n",
       "273  Story by: Eric Kaplan & Maria Ferrari & Andy G...        2019-04-18   \n",
       "274  Story by: Steven Molaro & Steve Holland & Tara...        2019-04-25   \n",
       "277  Chuck Lorre & Steve Holland & Steven Molaro & ...        2019-05-16   \n",
       "278  Chuck Lorre & Steve Holland & Steven Molaro & ...        2019-05-16   \n",
       "\n",
       "     prod_code  us_viewers  \n",
       "1       3T6601   8580000.0  \n",
       "2       3T6602   8360000.0  \n",
       "3       3T6603   8150000.0  \n",
       "5       3T6605   8920000.0  \n",
       "6       3T6606   9680000.0  \n",
       "..         ...         ...  \n",
       "272  T12.16018  12220000.0  \n",
       "273  T12.16019  11440000.0  \n",
       "274  T12.16020  11840000.0  \n",
       "277  T12.16023  18520000.0  \n",
       "278  T12.16024  18520000.0  \n",
       "\n",
       "[244 rows x 9 columns]"
      ]
     },
     "execution_count": 12,
     "metadata": {},
     "output_type": "execute_result"
    }
   ],
   "source": [
    "bbt.groupby('directed_by').get_group(('Mark Cendrowski'))"
   ]
  },
  {
   "cell_type": "code",
   "execution_count": 13,
   "id": "4eb3485e",
   "metadata": {},
   "outputs": [
    {
     "ename": "ValueError",
     "evalue": "must supply a tuple to get_group with multiple grouping keys",
     "output_type": "error",
     "traceback": [
      "\u001b[0;31m---------------------------------------------------------------------------\u001b[0m",
      "\u001b[0;31mValueError\u001b[0m                                Traceback (most recent call last)",
      "Cell \u001b[0;32mIn[13], line 1\u001b[0m\n\u001b[0;32m----> 1\u001b[0m bbt\u001b[38;5;241m.\u001b[39mgroupby([\u001b[38;5;124m'\u001b[39m\u001b[38;5;124mdirected_by\u001b[39m\u001b[38;5;124m'\u001b[39m, \u001b[38;5;124m'\u001b[39m\u001b[38;5;124mwritten_by\u001b[39m\u001b[38;5;124m'\u001b[39m])\u001b[38;5;241m.\u001b[39mget_group((\u001b[38;5;124m'\u001b[39m\u001b[38;5;124mus_viewers\u001b[39m\u001b[38;5;124m'\u001b[39m))\n",
      "File \u001b[0;32m~/anaconda3/lib/python3.11/site-packages/pandas/core/groupby/groupby.py:798\u001b[0m, in \u001b[0;36mBaseGroupBy.get_group\u001b[0;34m(self, name, obj)\u001b[0m\n\u001b[1;32m    795\u001b[0m \u001b[38;5;28;01mif\u001b[39;00m obj \u001b[38;5;129;01mis\u001b[39;00m \u001b[38;5;28;01mNone\u001b[39;00m:\n\u001b[1;32m    796\u001b[0m     obj \u001b[38;5;241m=\u001b[39m \u001b[38;5;28mself\u001b[39m\u001b[38;5;241m.\u001b[39m_selected_obj\n\u001b[0;32m--> 798\u001b[0m inds \u001b[38;5;241m=\u001b[39m \u001b[38;5;28mself\u001b[39m\u001b[38;5;241m.\u001b[39m_get_index(name)\n\u001b[1;32m    799\u001b[0m \u001b[38;5;28;01mif\u001b[39;00m \u001b[38;5;129;01mnot\u001b[39;00m \u001b[38;5;28mlen\u001b[39m(inds):\n\u001b[1;32m    800\u001b[0m     \u001b[38;5;28;01mraise\u001b[39;00m \u001b[38;5;167;01mKeyError\u001b[39;00m(name)\n",
      "File \u001b[0;32m~/anaconda3/lib/python3.11/site-packages/pandas/core/groupby/groupby.py:719\u001b[0m, in \u001b[0;36mBaseGroupBy._get_index\u001b[0;34m(self, name)\u001b[0m\n\u001b[1;32m    714\u001b[0m \u001b[38;5;129m@final\u001b[39m\n\u001b[1;32m    715\u001b[0m \u001b[38;5;28;01mdef\u001b[39;00m \u001b[38;5;21m_get_index\u001b[39m(\u001b[38;5;28mself\u001b[39m, name):\n\u001b[1;32m    716\u001b[0m \u001b[38;5;250m    \u001b[39m\u001b[38;5;124;03m\"\"\"\u001b[39;00m\n\u001b[1;32m    717\u001b[0m \u001b[38;5;124;03m    Safe get index, translate keys for datelike to underlying repr.\u001b[39;00m\n\u001b[1;32m    718\u001b[0m \u001b[38;5;124;03m    \"\"\"\u001b[39;00m\n\u001b[0;32m--> 719\u001b[0m     \u001b[38;5;28;01mreturn\u001b[39;00m \u001b[38;5;28mself\u001b[39m\u001b[38;5;241m.\u001b[39m_get_indices([name])[\u001b[38;5;241m0\u001b[39m]\n",
      "File \u001b[0;32m~/anaconda3/lib/python3.11/site-packages/pandas/core/groupby/groupby.py:692\u001b[0m, in \u001b[0;36mBaseGroupBy._get_indices\u001b[0;34m(self, names)\u001b[0m\n\u001b[1;32m    690\u001b[0m \u001b[38;5;28;01mif\u001b[39;00m \u001b[38;5;129;01mnot\u001b[39;00m \u001b[38;5;28misinstance\u001b[39m(name_sample, \u001b[38;5;28mtuple\u001b[39m):\n\u001b[1;32m    691\u001b[0m     msg \u001b[38;5;241m=\u001b[39m \u001b[38;5;124m\"\u001b[39m\u001b[38;5;124mmust supply a tuple to get_group with multiple grouping keys\u001b[39m\u001b[38;5;124m\"\u001b[39m\n\u001b[0;32m--> 692\u001b[0m     \u001b[38;5;28;01mraise\u001b[39;00m \u001b[38;5;167;01mValueError\u001b[39;00m(msg)\n\u001b[1;32m    693\u001b[0m \u001b[38;5;28;01mif\u001b[39;00m \u001b[38;5;129;01mnot\u001b[39;00m \u001b[38;5;28mlen\u001b[39m(name_sample) \u001b[38;5;241m==\u001b[39m \u001b[38;5;28mlen\u001b[39m(index_sample):\n\u001b[1;32m    694\u001b[0m     \u001b[38;5;28;01mtry\u001b[39;00m:\n\u001b[1;32m    695\u001b[0m         \u001b[38;5;66;03m# If the original grouper was a tuple\u001b[39;00m\n",
      "\u001b[0;31mValueError\u001b[0m: must supply a tuple to get_group with multiple grouping keys"
     ]
    }
   ],
   "source": [
    "bbt.groupby(['directed_by', 'written_by']).get_group(('us_viewers'))"
   ]
  },
  {
   "cell_type": "code",
   "execution_count": 15,
   "id": "4311bcfc",
   "metadata": {},
   "outputs": [
    {
     "data": {
      "text/plain": [
       "{('Andrew D. Weyman', 'Story by: Jennifer GlickmanTeleplay by: Dave Goetsch & Steven Molaro'): [4], ('Anthony Rich', 'Chuck Lorre & Bill Prady & Lee Aronsohn & Steven Molaro'): [59], ('Anthony Rich', 'Story by: Bill Prady & Eric Kaplan & Jim ReynoldsTeleplay by: Steven Molaro & Dave Goetsch & Steve Holland'): [153], ('Anthony Rich', 'Story by: Chuck Lorre & Bill Prady & Dave GoetschTeleplay by: Lee Aronsohn & Steven Molaro & Steve Holland'): [75], ('Anthony Rich', 'Story by: Chuck Lorre & Bill Prady & Steve HollandTeleplay by: Steven Molaro & Eric Kaplan & Anthony Del Broccolo'): [97], ('Anthony Rich', 'Story by: Chuck Lorre & Dave Goetsch & Anthony Del BroccoloTeleplay by: Steven Molaro & Steve Holland & Eric Kaplan'): [180], ('Anthony Rich', 'Story by: Chuck Lorre & Eric Kaplan & Tara HernandezTeleplay by: Steve Holland & Maria Ferrari & Jeremy Howe'): [238], ('Anthony Rich', 'Story by: Chuck Lorre & Jim Reynolds & Maria FerrariTeleplay by: Steven Molaro & Eric Kaplan & Steve Holland'): [133], ('Anthony Rich', 'Story by: Chuck Lorre & Jim Reynolds & Maria FerrariTeleplay by: Steven Molaro & Steve Holland & Eric Kaplan'): [129], ('Anthony Rich', 'Story by: Chuck Lorre & Steve Holland & Alex AyersTeleplay by: Steven Molaro & Jim Reynolds & Saladin K. Patterson'): [229], ('Anthony Rich', 'Story by: Steve Holland & Saladin K. Patterson & Tara HernandezTeleplay by: Steven Molaro & Eric Kaplan & Maria Ferrari'): [205], ('Anthony Rich', 'Story by: Steven Molaro & Bill Prady & Maria FerrariTeleplay by: Eric Kaplan & Steve Holland & Tara Hernandez'): [167], ('Anthony Rich', 'Story by: Steven Molaro & Tara Hernandez & Jeremy HoweTeleplay by: Chuck Lorre & Jim Reynolds & Maria Ferrari'): [181], ('Gay Linvill', 'Story by: Eric Kaplan & Maria Ferrari & Anthony Del BroccoloTeleplay by: Steve Holland & Tara Hernandez & Adam Faberman'): [246], ('Gay Linvill', 'Story by: Steven Molaro & Maria Ferrari & Tara HernandezTeleplay by: Chuck Lorre & Jim Reynolds & Steve Holland'): [150], ('Howard Murray', 'Story by: Bill Prady & Eric Kaplan & Jim ReynoldsTeleplay by: Chuck Lorre & Steven Molaro & Steve Holland'): [85], ('Howard Murray', 'Story by: Chuck Lorre & Eric Kaplan & Steve HollandTeleplay by: Bill Prady & Steven Molaro & Jim Reynolds'): [92], ('James Burrows', 'Chuck Lorre & Bill Prady'): [0], ('Joel Murray', 'Story by: Bill Prady & Stephen EngelTeleplay by: Chuck Lorre & Lee Aronsohn & Dave Goetsch'): [8], ('Kristy Cecil', 'Story by: Eric Kaplan & Tara Hernandez & Jeremy HoweTeleplay by: Steve Holland & Dave Goetsch & Maria Ferrari'): [263], ('Kristy Cecil', 'Story by: Steve Holland & Eric Kaplan & Jeremy HoweTeleplay by: Maria Ferrari & Andy Gordon & Anthony Del Broccolo'): [276], ('Mark Cendrowski', 'Chuck Lorre & Steve Holland & Steven Molaro & Bill Prady & Dave Goetsch & Eric Kaplan & Maria Ferrari & Andy Gordon & Anthony Del Broccolo & Tara Hernandez & Jeremy Howe & Adam Faberman'): [277, 278], ('Mark Cendrowski', 'Dave Goetsch'): [36], ('Mark Cendrowski', 'Eric Kaplan & Richard Rosenstock'): [39], ('Mark Cendrowski', 'Jim Reynolds'): [41], ('Mark Cendrowski', 'Steve Holland'): [43], ('Mark Cendrowski', 'Steven Molaro'): [35, 40], ('Mark Cendrowski', 'Story by: Bill Prady & Chuck LorreTeleplay by: Stephen Engel & Tim Doyle'): [20], ('Mark Cendrowski', 'Story by: Bill Prady & Dave Goetsch & Eddie GorodetskyTeleplay by: Chuck Lorre & Steven Molaro & Eric Kaplan'): [83], ('Mark Cendrowski', 'Story by: Bill Prady & Dave Goetsch & Maria FerrariTeleplay by: Chuck Lorre & Steven Molaro & Jim Reynolds'): [79], ('Mark Cendrowski', 'Story by: Bill Prady & Dave GoetschTeleplay by: Tim Doyle & Stephen Engel'): [33], ('Mark Cendrowski', 'Story by: Bill Prady & Eric Kaplan & Jim ReynoldsTeleplay by: Steven Molaro & Steve Holland & Maria Ferrari'): [170], ('Mark Cendrowski', 'Story by: Bill Prady & Eric Kaplan & Maria FerrariTeleplay by: Steven Molaro & Steve Holland & Saladin K. Patterson'): [201], ('Mark Cendrowski', 'Story by: Bill Prady & Eric Kaplan & Steve HollandTeleplay by: Chuck Lorre & Steven Molaro & Jim Reynolds'): [110], ('Mark Cendrowski', 'Story by: Bill Prady & Jeremy Howe & Adam FabermanTeleplay by: Steve Holland & Dave Goetsch & Maria Ferrari'): [269], ('Mark Cendrowski', 'Story by: Bill Prady & Jim Reynolds & Anthony Del BroccoloTeleplay by: Chuck Lorre & Steven Molaro & Eric Kaplan'): [114], ('Mark Cendrowski', 'Story by: Bill Prady & Lee Aronsohn & Dave GoetschTeleplay by: Chuck Lorre & Eric Kaplan & Steve Holland'): [77], ('Mark Cendrowski', 'Story by: Bill Prady & Lee Aronsohn & Dave GoetschTeleplay by: Chuck Lorre & Steven Molaro & Steve Holland'): [67], ('Mark Cendrowski', 'Story by: Bill Prady & Lee Aronsohn & Jim ReynoldsTeleplay by: Chuck Lorre & Steven Molaro & Steve Holland'): [52], ('Mark Cendrowski', 'Story by: Bill Prady & Lee Aronsohn & Steve HollandTeleplay by: Chuck Lorre & Steven Molaro & Jim Reynolds'): [64], ('Mark Cendrowski', 'Story by: Bill Prady & Lee AronsohnTeleplay by: Dave Goetsch & Steven Molaro'): [15], ('Mark Cendrowski', 'Story by: Bill Prady & Maria Ferrari & Adam FabermanTeleplay by: Steve Holland & Eric Kaplan & Tara Hernandez'): [240], ('Mark Cendrowski', 'Story by: Bill Prady & Maria Ferrari & Tara HernandezTeleplay by: Steve Holland & Eric Kaplan & Jeremy Howe'): [234], ('Mark Cendrowski', 'Story by: Bill Prady & Richard RosenstockTeleplay by: Chuck Lorre & Steven Molaro'): [29], ('Mark Cendrowski', 'Story by: Bill Prady & Richard RosenstockTeleplay by: Stephen Engel & Eric Kaplan'): [27], ('Mark Cendrowski', 'Story by: Bill Prady & Richard RosenstockTeleplay by: Steven Molaro & Daley Haggar'): [28], ('Mark Cendrowski', 'Story by: Bill Prady & Steve Holland & Eddie GorodetskyTeleplay by: Chuck Lorre & Steven Molaro & Eric Kaplan'): [80], ('Mark Cendrowski', 'Story by: Bill Prady & Steven Molaro & Jim ReynoldsTeleplay by: Chuck Lorre & Eric Kaplan & Maria Ferrari'): [91], ('Mark Cendrowski', 'Story by: Bill Prady & Steven Molaro & Maria FerrariTeleplay by: Chuck Lorre & Jim Reynolds & Steve Holland'): [88], ('Mark Cendrowski', 'Story by: Bill Prady & Steven Molaro & Steve HollandTeleplay by: Chuck Lorre & Eric Kaplan & Maria Ferrari'): [107], ('Mark Cendrowski', 'Story by: Bill Prady & Steven MolaroTeleplay by: Dave Goetsch & Richard Rosenstock'): [45], ('Mark Cendrowski', 'Story by: Bill Prady & Steven MolaroTeleplay by: Lee Aronsohn & Dave Goetsch'): [21], ('Mark Cendrowski', 'Story by: Bill Prady & Tim DoyleTeleplay by: Jennifer Glickman & Steven Molaro'): [23], ('Mark Cendrowski', 'Story by: Bill PradyTeleplay by: Dave Goetsch & Jennifer Glickman'): [24], ('Mark Cendrowski', 'Story by: Bill PradyTeleplay by: Dave Goetsch & Steven Molaro'): [17], ('Mark Cendrowski', 'Story by: Bill PradyTeleplay by: Stephen Engel & Steven Molaro'): [13], ('Mark Cendrowski', 'Story by: Chuck Lorre & Anthony Del Broccolo & Tara HernandezTeleplay by: Bill Prady & Steven Molaro & Maria Ferrari'): [102], ('Mark Cendrowski', 'Story by: Chuck Lorre & Bill Prady & Dave GoetschTeleplay by: Steven Molaro & Eric Kaplan & Maria Ferrari'): [47], ('Mark Cendrowski', 'Story by: Chuck Lorre & Bill Prady & Jim ReynoldsTeleplay by: Lee Aronsohn & Steven Molaro & Maria Ferrari'): [65], ('Mark Cendrowski', 'Story by: Chuck Lorre & Bill Prady & Jim ReynoldsTeleplay by: Lee Aronsohn & Steven Molaro & Steve Holland'): [70], ('Mark Cendrowski', 'Story by: Chuck Lorre & Bill Prady & Lee AronsohnTeleplay by: Steven Molaro & Jim Reynolds & Maria Ferrari'): [60], ('Mark Cendrowski', 'Story by: Chuck Lorre & Bill Prady & Maria FerrariTeleplay by: Steven Molaro & Jim Reynolds & Steve Holland'): [106], ('Mark Cendrowski', 'Story by: Chuck Lorre & Bill Prady & Steve HollandTeleplay by: Eric Kaplan & Richard Rosenstock & Jim Reynolds'): [57], ('Mark Cendrowski', 'Story by: Chuck Lorre & Bill Prady & Steve HollandTeleplay by: Steven Molaro & Eric Kaplan & Jim Reynolds'): [103], ('Mark Cendrowski', 'Story by: Chuck Lorre & Bill Prady & Steve HollandTeleplay by: Steven Molaro & Jim Reynolds & Eric Kaplan'): [116], ('Mark Cendrowski', 'Story by: Chuck Lorre & Bill Prady & Steve HollandTeleplay by: Steven Molaro & Jim Reynolds & Tara Hernandez'): [126], ('Mark Cendrowski', 'Story by: Chuck Lorre & Bill Prady & Tara HernandezTeleplay by: Steven Molaro & Eric Kaplan & Jim Reynolds'): [120], ('Mark Cendrowski', 'Story by: Chuck Lorre & Bill Prady & Tara HernandezTeleplay by: Steven Molaro & Eric Kaplan & Steve Holland'): [105], ('Mark Cendrowski', 'Story by: Chuck Lorre & Bill Prady & Tara HernandezTeleplay by: Steven Molaro & Jim Reynolds & Steve Holland'): [131], ('Mark Cendrowski', 'Story by: Chuck Lorre & Bill PradyTeleplay by: David Litt & Lee Aronsohn'): [3], ('Mark Cendrowski', 'Story by: Chuck Lorre & Bill PradyTeleplay by: Lee Aronsohn & Jennifer Glickman'): [6], ('Mark Cendrowski', 'Story by: Chuck Lorre & Bill PradyTeleplay by: Lee Aronsohn & Steven Molaro'): [16, 44], ('Mark Cendrowski', 'Story by: Chuck Lorre & Bill PradyTeleplay by: Richard Rosenstock & Steven Molaro'): [31], ('Mark Cendrowski', 'Story by: Chuck Lorre & Bill PradyTeleplay by: Robert Cohen & Dave Goetsch'): [1], ('Mark Cendrowski', 'Story by: Chuck Lorre & Dave Goetsch & Anthony Del BroccoloTeleplay by: Bill Prady & Steven Molaro & Eric Kaplan'): [95], ('Mark Cendrowski', 'Story by: Chuck Lorre & Dave Goetsch & Anthony Del BroccoloTeleplay by: Bill Prady & Steven Molaro & Steve Holland'): [90], ('Mark Cendrowski', 'Story by: Chuck Lorre & Dave Goetsch & Anthony Del BroccoloTeleplay by: Steven Molaro & Jim Reynolds & Steve Holland'): [118], ('Mark Cendrowski', 'Story by: Chuck Lorre & Dave Goetsch & Anthony Del BroccoloTeleplay by: Steven Molaro & Steve Holland & Saladin K. Patterson'): [219], ('Mark Cendrowski', 'Story by: Chuck Lorre & Dave Goetsch & Maria FerrariTeleplay by: Bill Prady & Steven Molaro & Steve Holland'): [93], ('Mark Cendrowski', 'Story by: Chuck Lorre & Dave Goetsch & Maria FerrariTeleplay by: Steven Molaro & Eric Kaplan & Steve Holland'): [127], ('Mark Cendrowski', 'Story by: Chuck Lorre & Dave Goetsch & Maria FerrariTeleplay by: Steven Molaro & Steve Holland & Tara Hernandez'): [210], ('Mark Cendrowski', 'Story by: Chuck Lorre & Dave Goetsch & Tara HernandezTeleplay by: Steven Molaro & Steve Holland & Jim Reynolds'): [202], ('Mark Cendrowski', 'Story by: Chuck Lorre & Eric Kaplan & Anthony Del BroccoloTeleplay by: Steven Molaro & Jim Reynolds & Steve Holland'): [124], ('Mark Cendrowski', 'Story by: Chuck Lorre & Eric Kaplan & Dave GoetschTeleplay by: Steven Molaro & Steve Holland & Saladin K. Patterson'): [195], ('Mark Cendrowski', 'Story by: Chuck Lorre & Eric Kaplan & Eddie GorodetskyTeleplay by: Bill Prady & Steven Molaro & Steve Holland'): [82], ('Mark Cendrowski', 'Story by: Chuck Lorre & Eric Kaplan & Jeremy HoweTeleplay by: Steve Holland & Maria Ferrari & Tara Hernandez'): [231], ('Mark Cendrowski', 'Story by: Chuck Lorre & Eric Kaplan & Jeremy HoweTeleplay by: Steven Molaro & Steve Holland & Maria Ferrari'): [115], ('Mark Cendrowski', 'Story by: Chuck Lorre & Eric Kaplan & Jeremy HoweTeleplay by: Steven Molaro & Steve Holland & Tara Hernandez'): [199], ('Mark Cendrowski', 'Story by: Chuck Lorre & Eric Kaplan & Jim ReynoldsTeleplay by: Bill Prady & Steven Molaro & Dave Goetsch'): [89], ('Mark Cendrowski', 'Story by: Chuck Lorre & Eric Kaplan & Jim ReynoldsTeleplay by: Bill Prady & Steven Molaro & Steve Holland'): [101], ('Mark Cendrowski', 'Story by: Chuck Lorre & Eric Kaplan & Jim ReynoldsTeleplay by: Steven Molaro & Bill Prady & Steve Holland'): [122], ('Mark Cendrowski', 'Story by: Chuck Lorre & Eric Kaplan & Jim ReynoldsTeleplay by: Steven Molaro & Steve Holland & Maria Ferrari'): [117, 136, 165, 208], ('Mark Cendrowski', 'Story by: Chuck Lorre & Eric Kaplan & Maria FerrariTeleplay by: Steven Molaro & Jim Reynolds & Saladin K. Patterson'): [187], ('Mark Cendrowski', 'Story by: Chuck Lorre & Eric Kaplan & Maria FerrariTeleplay by: Steven Molaro & Steve Holland & Tara Hernandez'): [244], ('Mark Cendrowski', 'Story by: Chuck Lorre & Eric Kaplan & Steve HollandTeleplay by: Steven Molaro & Jim Reynolds & Maria Ferrari'): [111, 121, 128], ('Mark Cendrowski', 'Story by: Chuck Lorre & Eric Kaplan & Steve HollandTeleplay by: Steven Molaro & Maria Ferrari & Adam Faberman'): [125], ('Mark Cendrowski', 'Story by: Chuck Lorre & Eric Kaplan & Tara HernandezTeleplay by: Bill Prady & Steven Molaro & Steve Holland'): [94], ('Mark Cendrowski', 'Story by: Chuck Lorre & Eric Kaplan & Tara HernandezTeleplay by: Steve Holland & Maria Ferrari & Jeremy Howe'): [255], ('Mark Cendrowski', 'Story by: Chuck Lorre & Erik Kaplan & Maria FerrariTeleplay by: Steve Holland & Jim Reynolds & Jeremy Howe'): [215], ('Mark Cendrowski', 'Story by: Chuck Lorre & Jim Reynolds & Anthony Del BroccoloTeleplay by: Steven Molaro & Steve Holland & Maria Ferrari'): [161], ...}"
      ]
     },
     "execution_count": 15,
     "metadata": {},
     "output_type": "execute_result"
    }
   ],
   "source": [
    "bbt.groupby(['directed_by', 'written_by']).groups"
   ]
  },
  {
   "cell_type": "code",
   "execution_count": 16,
   "id": "92b9aadc",
   "metadata": {},
   "outputs": [
    {
     "data": {
      "text/plain": [
       "title\n",
       "Pilot                             9520000.0\n",
       "The 2003 Approximation           16960000.0\n",
       "The 21-Second Excitation         13110000.0\n",
       "The 43 Peculiarity               17630000.0\n",
       "The Adhesive Duck Deficiency     13230000.0\n",
       "                                    ...    \n",
       "The Wildebeest Implementation    10500000.0\n",
       "The Work Song Nanocluster         9760000.0\n",
       "The Workplace Proximity          17800000.0\n",
       "The Zarnecki Incursion           11920000.0\n",
       "The Zazzy Substitution           12590000.0\n",
       "Name: us_viewers, Length: 279, dtype: float64"
      ]
     },
     "execution_count": 16,
     "metadata": {},
     "output_type": "execute_result"
    }
   ],
   "source": [
    "bbt.groupby('title')['us_viewers'].max()"
   ]
  },
  {
   "cell_type": "code",
   "execution_count": null,
   "id": "5f1f70dd",
   "metadata": {},
   "outputs": [],
   "source": []
  }
 ],
 "metadata": {
  "kernelspec": {
   "display_name": "Python 3 (ipykernel)",
   "language": "python",
   "name": "python3"
  },
  "language_info": {
   "codemirror_mode": {
    "name": "ipython",
    "version": 3
   },
   "file_extension": ".py",
   "mimetype": "text/x-python",
   "name": "python",
   "nbconvert_exporter": "python",
   "pygments_lexer": "ipython3",
   "version": "3.11.5"
  }
 },
 "nbformat": 4,
 "nbformat_minor": 5
}
