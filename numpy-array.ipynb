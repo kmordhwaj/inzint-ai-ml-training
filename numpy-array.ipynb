{
 "cells": [
  {
   "cell_type": "code",
   "execution_count": 1,
   "id": "22bdfff5",
   "metadata": {},
   "outputs": [],
   "source": [
    "import numpy as np"
   ]
  },
  {
   "cell_type": "code",
   "execution_count": 2,
   "id": "f07efbbf",
   "metadata": {},
   "outputs": [
    {
     "data": {
      "text/plain": [
       "array([1, 2, 3, 4, 5])"
      ]
     },
     "execution_count": 2,
     "metadata": {},
     "output_type": "execute_result"
    }
   ],
   "source": [
    "np.array([1,2, 3, 4, 5])"
   ]
  },
  {
   "cell_type": "code",
   "execution_count": 3,
   "id": "75aad05d",
   "metadata": {},
   "outputs": [],
   "source": [
    "arr = np.array([1,2, 3, 4])"
   ]
  },
  {
   "cell_type": "code",
   "execution_count": 4,
   "id": "2369313e",
   "metadata": {},
   "outputs": [
    {
     "data": {
      "text/plain": [
       "array([1, 2, 3, 4])"
      ]
     },
     "execution_count": 4,
     "metadata": {},
     "output_type": "execute_result"
    }
   ],
   "source": [
    "arr"
   ]
  },
  {
   "cell_type": "code",
   "execution_count": 5,
   "id": "51a01f19",
   "metadata": {},
   "outputs": [
    {
     "data": {
      "text/plain": [
       "array(['1', '2', '3', '4'], dtype='<U21')"
      ]
     },
     "execution_count": 5,
     "metadata": {},
     "output_type": "execute_result"
    }
   ],
   "source": [
    "arr = np.array([1,2, \"3\", 4])\n",
    "arr"
   ]
  },
  {
   "cell_type": "code",
   "execution_count": 6,
   "id": "4f25fa87",
   "metadata": {},
   "outputs": [
    {
     "data": {
      "text/plain": [
       "numpy.ndarray"
      ]
     },
     "execution_count": 6,
     "metadata": {},
     "output_type": "execute_result"
    }
   ],
   "source": [
    "type(arr)"
   ]
  },
  {
   "cell_type": "code",
   "execution_count": 7,
   "id": "0bdd67d4",
   "metadata": {},
   "outputs": [
    {
     "data": {
      "text/plain": [
       "1"
      ]
     },
     "execution_count": 7,
     "metadata": {},
     "output_type": "execute_result"
    }
   ],
   "source": [
    "#attributes\n",
    "arr.ndim"
   ]
  },
  {
   "cell_type": "code",
   "execution_count": 8,
   "id": "e5de5c9a",
   "metadata": {},
   "outputs": [
    {
     "data": {
      "text/plain": [
       "4"
      ]
     },
     "execution_count": 8,
     "metadata": {},
     "output_type": "execute_result"
    }
   ],
   "source": [
    "arr.size"
   ]
  },
  {
   "cell_type": "code",
   "execution_count": 9,
   "id": "3580dab8",
   "metadata": {},
   "outputs": [
    {
     "data": {
      "text/plain": [
       "dtype('<U21')"
      ]
     },
     "execution_count": 9,
     "metadata": {},
     "output_type": "execute_result"
    }
   ],
   "source": [
    "arr.dtype"
   ]
  },
  {
   "cell_type": "code",
   "execution_count": 10,
   "id": "aefd6719",
   "metadata": {},
   "outputs": [
    {
     "data": {
      "text/plain": [
       "84"
      ]
     },
     "execution_count": 10,
     "metadata": {},
     "output_type": "execute_result"
    }
   ],
   "source": [
    "arr.itemsize #memory bytes"
   ]
  },
  {
   "cell_type": "code",
   "execution_count": 11,
   "id": "ae44d391",
   "metadata": {},
   "outputs": [
    {
     "data": {
      "text/plain": [
       "504"
      ]
     },
     "execution_count": 11,
     "metadata": {},
     "output_type": "execute_result"
    }
   ],
   "source": [
    "arr.itemsize*6 # + bufffer memory"
   ]
  },
  {
   "cell_type": "code",
   "execution_count": 12,
   "id": "b22a32c2",
   "metadata": {},
   "outputs": [
    {
     "ename": "NameError",
     "evalue": "name 'sys' is not defined",
     "output_type": "error",
     "traceback": [
      "\u001b[0;31m---------------------------------------------------------------------------\u001b[0m",
      "\u001b[0;31mNameError\u001b[0m                                 Traceback (most recent call last)",
      "Cell \u001b[0;32mIn[12], line 1\u001b[0m\n\u001b[0;32m----> 1\u001b[0m sys\u001b[38;5;241m.\u001b[39mgetsizeof(arr)\n",
      "\u001b[0;31mNameError\u001b[0m: name 'sys' is not defined"
     ]
    }
   ],
   "source": [
    "sys.getsizeof(arr)"
   ]
  },
  {
   "cell_type": "code",
   "execution_count": 13,
   "id": "d24a8e82",
   "metadata": {},
   "outputs": [
    {
     "data": {
      "text/plain": [
       "448"
      ]
     },
     "execution_count": 13,
     "metadata": {},
     "output_type": "execute_result"
    }
   ],
   "source": [
    "import sys as sys\n",
    "sys.getsizeof(arr)"
   ]
  },
  {
   "cell_type": "code",
   "execution_count": 14,
   "id": "9f0686b1",
   "metadata": {},
   "outputs": [
    {
     "data": {
      "text/plain": [
       "array(['1', '2', '3', '4'], dtype='<U21')"
      ]
     },
     "execution_count": 14,
     "metadata": {},
     "output_type": "execute_result"
    }
   ],
   "source": [
    "arr"
   ]
  },
  {
   "cell_type": "code",
   "execution_count": 15,
   "id": "e17d33c4",
   "metadata": {},
   "outputs": [
    {
     "data": {
      "text/plain": [
       "(4,)"
      ]
     },
     "execution_count": 15,
     "metadata": {},
     "output_type": "execute_result"
    }
   ],
   "source": [
    "arr.shape"
   ]
  },
  {
   "cell_type": "code",
   "execution_count": 16,
   "id": "ba87c4cc",
   "metadata": {},
   "outputs": [
    {
     "data": {
      "text/plain": [
       "array([[1, 2],\n",
       "       [3, 4]])"
      ]
     },
     "execution_count": 16,
     "metadata": {},
     "output_type": "execute_result"
    }
   ],
   "source": [
    "#2d array\n",
    "np.array([[1,2], [3,4]])"
   ]
  },
  {
   "cell_type": "code",
   "execution_count": 17,
   "id": "0e987ded",
   "metadata": {},
   "outputs": [
    {
     "ename": "ValueError",
     "evalue": "setting an array element with a sequence. The requested array has an inhomogeneous shape after 1 dimensions. The detected shape was (2,) + inhomogeneous part.",
     "output_type": "error",
     "traceback": [
      "\u001b[0;31m---------------------------------------------------------------------------\u001b[0m",
      "\u001b[0;31mValueError\u001b[0m                                Traceback (most recent call last)",
      "Cell \u001b[0;32mIn[17], line 1\u001b[0m\n\u001b[0;32m----> 1\u001b[0m np\u001b[38;5;241m.\u001b[39marray([[\u001b[38;5;241m1\u001b[39m,\u001b[38;5;241m2\u001b[39m], [\u001b[38;5;241m3\u001b[39m,\u001b[38;5;241m4\u001b[39m, \u001b[38;5;241m5\u001b[39m]])\n",
      "\u001b[0;31mValueError\u001b[0m: setting an array element with a sequence. The requested array has an inhomogeneous shape after 1 dimensions. The detected shape was (2,) + inhomogeneous part."
     ]
    }
   ],
   "source": [
    "np.array([[1,2], [3,4, 5]])"
   ]
  },
  {
   "cell_type": "code",
   "execution_count": 18,
   "id": "53c2ba46",
   "metadata": {},
   "outputs": [],
   "source": [
    "arr2 =np.array([[1,2], [3,4]])"
   ]
  },
  {
   "cell_type": "code",
   "execution_count": 20,
   "id": "958547f5",
   "metadata": {},
   "outputs": [
    {
     "data": {
      "text/plain": [
       "(2, 2)"
      ]
     },
     "execution_count": 20,
     "metadata": {},
     "output_type": "execute_result"
    }
   ],
   "source": [
    "arr2.shape"
   ]
  },
  {
   "cell_type": "code",
   "execution_count": 21,
   "id": "55c93178",
   "metadata": {},
   "outputs": [
    {
     "ename": "AttributeError",
     "evalue": "'numpy.ndarray' object has no attribute 'dom'",
     "output_type": "error",
     "traceback": [
      "\u001b[0;31m---------------------------------------------------------------------------\u001b[0m",
      "\u001b[0;31mAttributeError\u001b[0m                            Traceback (most recent call last)",
      "Cell \u001b[0;32mIn[21], line 1\u001b[0m\n\u001b[0;32m----> 1\u001b[0m arr2\u001b[38;5;241m.\u001b[39mdom\n",
      "\u001b[0;31mAttributeError\u001b[0m: 'numpy.ndarray' object has no attribute 'dom'"
     ]
    }
   ],
   "source": [
    "arr2.dom"
   ]
  },
  {
   "cell_type": "code",
   "execution_count": 22,
   "id": "4792f85c",
   "metadata": {},
   "outputs": [
    {
     "ename": "AttributeError",
     "evalue": "'numpy.ndarray' object has no attribute 'dim'",
     "output_type": "error",
     "traceback": [
      "\u001b[0;31m---------------------------------------------------------------------------\u001b[0m",
      "\u001b[0;31mAttributeError\u001b[0m                            Traceback (most recent call last)",
      "Cell \u001b[0;32mIn[22], line 1\u001b[0m\n\u001b[0;32m----> 1\u001b[0m arr2\u001b[38;5;241m.\u001b[39mdim\n",
      "\u001b[0;31mAttributeError\u001b[0m: 'numpy.ndarray' object has no attribute 'dim'"
     ]
    }
   ],
   "source": [
    "arr2.dim"
   ]
  },
  {
   "cell_type": "code",
   "execution_count": 23,
   "id": "a400240a",
   "metadata": {},
   "outputs": [
    {
     "data": {
      "text/plain": [
       "array([[[1, 2, 3],\n",
       "        [1, 2, 3]]])"
      ]
     },
     "execution_count": 23,
     "metadata": {},
     "output_type": "execute_result"
    }
   ],
   "source": [
    "arr3 = np.array([[[1,2, 3], [1, 2, 3]]])\n",
    "arr3"
   ]
  },
  {
   "cell_type": "code",
   "execution_count": 24,
   "id": "54955863",
   "metadata": {},
   "outputs": [
    {
     "data": {
      "text/plain": [
       "(1, 2, 3)"
      ]
     },
     "execution_count": 24,
     "metadata": {},
     "output_type": "execute_result"
    }
   ],
   "source": [
    "arr3.shape"
   ]
  },
  {
   "cell_type": "code",
   "execution_count": 25,
   "id": "5a1050fe",
   "metadata": {},
   "outputs": [],
   "source": [
    "# array creation routines"
   ]
  },
  {
   "cell_type": "code",
   "execution_count": 26,
   "id": "8bd39507",
   "metadata": {},
   "outputs": [
    {
     "data": {
      "text/plain": [
       "array([10, 12, 14, 16, 18])"
      ]
     },
     "execution_count": 26,
     "metadata": {},
     "output_type": "execute_result"
    }
   ],
   "source": [
    "arr4 =np.arange(10, 20 , 2)"
   ]
  },
  {
   "cell_type": "code",
   "execution_count": 27,
   "id": "fb8ab5cf",
   "metadata": {},
   "outputs": [
    {
     "ename": "NameError",
     "evalue": "name 'arr4' is not defined",
     "output_type": "error",
     "traceback": [
      "\u001b[0;31m---------------------------------------------------------------------------\u001b[0m",
      "\u001b[0;31mNameError\u001b[0m                                 Traceback (most recent call last)",
      "Cell \u001b[0;32mIn[27], line 1\u001b[0m\n\u001b[0;32m----> 1\u001b[0m arr4\u001b[38;5;241m.\u001b[39mreshape(\u001b[38;5;241m10\u001b[39m, \u001b[38;5;241m2\u001b[39m)\n",
      "\u001b[0;31mNameError\u001b[0m: name 'arr4' is not defined"
     ]
    }
   ],
   "source": [
    "arr4.reshape(10, 2)"
   ]
  },
  {
   "cell_type": "code",
   "execution_count": 28,
   "id": "f66c1329",
   "metadata": {},
   "outputs": [],
   "source": [
    "arr4 =np.arange(10, 20)"
   ]
  },
  {
   "cell_type": "code",
   "execution_count": 29,
   "id": "202f326b",
   "metadata": {},
   "outputs": [
    {
     "data": {
      "text/plain": [
       "array([[10, 11],\n",
       "       [12, 13],\n",
       "       [14, 15],\n",
       "       [16, 17],\n",
       "       [18, 19]])"
      ]
     },
     "execution_count": 29,
     "metadata": {},
     "output_type": "execute_result"
    }
   ],
   "source": [
    "arr4.reshape(5, 2)"
   ]
  },
  {
   "cell_type": "code",
   "execution_count": 30,
   "id": "1a807be3",
   "metadata": {},
   "outputs": [
    {
     "data": {
      "text/plain": [
       "array([1., 4., 7.])"
      ]
     },
     "execution_count": 30,
     "metadata": {},
     "output_type": "execute_result"
    }
   ],
   "source": [
    "np.linspace(1, 7, 3)"
   ]
  },
  {
   "cell_type": "code",
   "execution_count": 31,
   "id": "feb5be35",
   "metadata": {},
   "outputs": [
    {
     "data": {
      "text/plain": [
       "array([1.        , 1.11111111, 1.22222222, 1.33333333, 1.44444444,\n",
       "       1.55555556, 1.66666667, 1.77777778, 1.88888889, 2.        ])"
      ]
     },
     "execution_count": 31,
     "metadata": {},
     "output_type": "execute_result"
    }
   ],
   "source": [
    "np.linspace(1, 2, 10)"
   ]
  },
  {
   "cell_type": "code",
   "execution_count": 32,
   "id": "857f8a93",
   "metadata": {},
   "outputs": [
    {
     "data": {
      "text/plain": [
       "array([-1, -1, -1, -1, -1, -1, -1, -1, -1, -1])"
      ]
     },
     "execution_count": 32,
     "metadata": {},
     "output_type": "execute_result"
    }
   ],
   "source": [
    "np.full(10, -1)"
   ]
  },
  {
   "cell_type": "code",
   "execution_count": 33,
   "id": "1bae5665",
   "metadata": {},
   "outputs": [
    {
     "data": {
      "text/plain": [
       "array([[-10, -10],\n",
       "       [-10, -10],\n",
       "       [-10, -10],\n",
       "       [-10, -10],\n",
       "       [-10, -10],\n",
       "       [-10, -10],\n",
       "       [-10, -10],\n",
       "       [-10, -10],\n",
       "       [-10, -10],\n",
       "       [-10, -10]])"
      ]
     },
     "execution_count": 33,
     "metadata": {},
     "output_type": "execute_result"
    }
   ],
   "source": [
    "np.full((10, 2), -10)"
   ]
  },
  {
   "cell_type": "code",
   "execution_count": 34,
   "id": "b7970274",
   "metadata": {},
   "outputs": [
    {
     "data": {
      "text/plain": [
       "array([[1., 1., 1.],\n",
       "       [1., 1., 1.],\n",
       "       [1., 1., 1.]])"
      ]
     },
     "execution_count": 34,
     "metadata": {},
     "output_type": "execute_result"
    }
   ],
   "source": [
    "np.ones((3, 3))"
   ]
  },
  {
   "cell_type": "code",
   "execution_count": 35,
   "id": "34ce65ef",
   "metadata": {},
   "outputs": [
    {
     "data": {
      "text/plain": [
       "array([[0., 0., 0.],\n",
       "       [0., 0., 0.],\n",
       "       [0., 0., 0.]])"
      ]
     },
     "execution_count": 35,
     "metadata": {},
     "output_type": "execute_result"
    }
   ],
   "source": [
    "np.zeros((3, 3))"
   ]
  },
  {
   "cell_type": "code",
   "execution_count": 36,
   "id": "6f374053",
   "metadata": {},
   "outputs": [
    {
     "data": {
      "text/plain": [
       "array([[1., 0.],\n",
       "       [0., 1.]])"
      ]
     },
     "execution_count": 36,
     "metadata": {},
     "output_type": "execute_result"
    }
   ],
   "source": [
    "np.eye(2, 2)"
   ]
  },
  {
   "cell_type": "code",
   "execution_count": 37,
   "id": "7bc60061",
   "metadata": {},
   "outputs": [],
   "source": [
    "#slice/index 2d array"
   ]
  },
  {
   "cell_type": "code",
   "execution_count": 38,
   "id": "7cb416c0",
   "metadata": {},
   "outputs": [],
   "source": [
    "arr = np.arange(25).reshape(5, 5)"
   ]
  },
  {
   "cell_type": "code",
   "execution_count": 39,
   "id": "7a473103",
   "metadata": {},
   "outputs": [
    {
     "data": {
      "text/plain": [
       "array([[ 0,  1,  2,  3,  4],\n",
       "       [ 5,  6,  7,  8,  9],\n",
       "       [10, 11, 12, 13, 14],\n",
       "       [15, 16, 17, 18, 19],\n",
       "       [20, 21, 22, 23, 24]])"
      ]
     },
     "execution_count": 39,
     "metadata": {},
     "output_type": "execute_result"
    }
   ],
   "source": [
    "arr"
   ]
  },
  {
   "cell_type": "code",
   "execution_count": 40,
   "id": "6bbb17ca",
   "metadata": {},
   "outputs": [
    {
     "data": {
      "text/plain": [
       "5"
      ]
     },
     "execution_count": 40,
     "metadata": {},
     "output_type": "execute_result"
    }
   ],
   "source": [
    "arr[1, 0]"
   ]
  },
  {
   "cell_type": "code",
   "execution_count": 41,
   "id": "a58edbef",
   "metadata": {},
   "outputs": [
    {
     "data": {
      "text/plain": [
       "array([5, 6, 7, 8, 9])"
      ]
     },
     "execution_count": 41,
     "metadata": {},
     "output_type": "execute_result"
    }
   ],
   "source": [
    "arr[1]"
   ]
  },
  {
   "cell_type": "code",
   "execution_count": 42,
   "id": "b41015c6",
   "metadata": {},
   "outputs": [
    {
     "data": {
      "text/plain": [
       "5"
      ]
     },
     "execution_count": 42,
     "metadata": {},
     "output_type": "execute_result"
    }
   ],
   "source": [
    "arr[1][0]"
   ]
  },
  {
   "cell_type": "code",
   "execution_count": 43,
   "id": "89345c08",
   "metadata": {},
   "outputs": [
    {
     "data": {
      "text/plain": [
       "5"
      ]
     },
     "execution_count": 43,
     "metadata": {},
     "output_type": "execute_result"
    }
   ],
   "source": [
    "arr[1, 0]"
   ]
  },
  {
   "cell_type": "code",
   "execution_count": 44,
   "id": "75845020",
   "metadata": {},
   "outputs": [
    {
     "data": {
      "text/plain": [
       "5"
      ]
     },
     "execution_count": 44,
     "metadata": {},
     "output_type": "execute_result"
    }
   ],
   "source": [
    "arr[-4, -5]"
   ]
  },
  {
   "cell_type": "code",
   "execution_count": 45,
   "id": "46e0ee5b",
   "metadata": {},
   "outputs": [],
   "source": [
    "#slicing\n",
    "#var_name[start:stop:step, start:stop:step]"
   ]
  },
  {
   "cell_type": "code",
   "execution_count": 46,
   "id": "125ae089",
   "metadata": {},
   "outputs": [
    {
     "data": {
      "text/plain": [
       "array([[ 5,  6,  7,  8,  9],\n",
       "       [10, 11, 12, 13, 14],\n",
       "       [15, 16, 17, 18, 19],\n",
       "       [20, 21, 22, 23, 24]])"
      ]
     },
     "execution_count": 46,
     "metadata": {},
     "output_type": "execute_result"
    }
   ],
   "source": [
    "arr[1:,]"
   ]
  },
  {
   "cell_type": "code",
   "execution_count": 47,
   "id": "9b70a041",
   "metadata": {},
   "outputs": [
    {
     "data": {
      "text/plain": [
       "array([[ 5,  6,  7,  8,  9],\n",
       "       [10, 11, 12, 13, 14]])"
      ]
     },
     "execution_count": 47,
     "metadata": {},
     "output_type": "execute_result"
    }
   ],
   "source": [
    "arr[1:3,]"
   ]
  },
  {
   "cell_type": "code",
   "execution_count": 48,
   "id": "e7e5c2e5",
   "metadata": {},
   "outputs": [
    {
     "data": {
      "text/plain": [
       "array([[ 6,  7,  8,  9],\n",
       "       [11, 12, 13, 14]])"
      ]
     },
     "execution_count": 48,
     "metadata": {},
     "output_type": "execute_result"
    }
   ],
   "source": [
    "arr[1:3, 1:]"
   ]
  },
  {
   "cell_type": "code",
   "execution_count": 49,
   "id": "12650be3",
   "metadata": {},
   "outputs": [
    {
     "data": {
      "text/plain": [
       "array([[ 6,  7],\n",
       "       [11, 12]])"
      ]
     },
     "execution_count": 49,
     "metadata": {},
     "output_type": "execute_result"
    }
   ],
   "source": [
    "arr[1:3, 1:3]"
   ]
  },
  {
   "cell_type": "raw",
   "id": "1ed33052",
   "metadata": {},
   "source": []
  },
  {
   "cell_type": "code",
   "execution_count": 50,
   "id": "f8a6009a",
   "metadata": {},
   "outputs": [
    {
     "data": {
      "text/plain": [
       "array([[ 0,  1,  2,  3,  4],\n",
       "       [ 5,  6,  7,  8,  9],\n",
       "       [10, 11, 12, 13, 14],\n",
       "       [15, 16, 17, 18, 19],\n",
       "       [20, 21, 22, 23, 24]])"
      ]
     },
     "execution_count": 50,
     "metadata": {},
     "output_type": "execute_result"
    }
   ],
   "source": [
    "arr = np.arange(25).reshape(5, 5)\n",
    "#slice first two rows, last two columns\n",
    "arr"
   ]
  },
  {
   "cell_type": "code",
   "execution_count": 51,
   "id": "b32239d0",
   "metadata": {},
   "outputs": [
    {
     "data": {
      "text/plain": [
       "array([[3, 4],\n",
       "       [8, 9]])"
      ]
     },
     "execution_count": 51,
     "metadata": {},
     "output_type": "execute_result"
    }
   ],
   "source": [
    "arr[0:2, 3:]"
   ]
  },
  {
   "cell_type": "code",
   "execution_count": 52,
   "id": "9e07ee88",
   "metadata": {},
   "outputs": [],
   "source": [
    "#math operations\n",
    "# multiply - by element, dot product --> h/w"
   ]
  },
  {
   "cell_type": "code",
   "execution_count": 53,
   "id": "98a6fb18",
   "metadata": {},
   "outputs": [],
   "source": [
    "#aggregation"
   ]
  },
  {
   "cell_type": "code",
   "execution_count": 54,
   "id": "16d08a5f",
   "metadata": {},
   "outputs": [
    {
     "data": {
      "text/plain": [
       "24"
      ]
     },
     "execution_count": 54,
     "metadata": {},
     "output_type": "execute_result"
    }
   ],
   "source": [
    "arr.max()"
   ]
  },
  {
   "cell_type": "code",
   "execution_count": 55,
   "id": "efe46882",
   "metadata": {},
   "outputs": [
    {
     "data": {
      "text/plain": [
       "7.211102550927978"
      ]
     },
     "execution_count": 55,
     "metadata": {},
     "output_type": "execute_result"
    }
   ],
   "source": [
    "arr.std() #standard deviation"
   ]
  },
  {
   "cell_type": "code",
   "execution_count": 56,
   "id": "91cbcfbb",
   "metadata": {},
   "outputs": [
    {
     "data": {
      "text/plain": [
       "52.0"
      ]
     },
     "execution_count": 56,
     "metadata": {},
     "output_type": "execute_result"
    }
   ],
   "source": [
    "arr.var() #variance"
   ]
  },
  {
   "cell_type": "code",
   "execution_count": 57,
   "id": "e1fba9f7",
   "metadata": {},
   "outputs": [],
   "source": [
    "#joining/splitting"
   ]
  },
  {
   "cell_type": "code",
   "execution_count": 58,
   "id": "9bf31d76",
   "metadata": {},
   "outputs": [],
   "source": [
    "a = np.arange(25).reshape(5, 5)\n",
    "b = np.arange(25, 50).reshape(5, 5)"
   ]
  },
  {
   "cell_type": "code",
   "execution_count": 59,
   "id": "ce04051d",
   "metadata": {},
   "outputs": [
    {
     "data": {
      "text/plain": [
       "array([[ 0,  1,  2,  3,  4],\n",
       "       [ 5,  6,  7,  8,  9],\n",
       "       [10, 11, 12, 13, 14],\n",
       "       [15, 16, 17, 18, 19],\n",
       "       [20, 21, 22, 23, 24]])"
      ]
     },
     "execution_count": 59,
     "metadata": {},
     "output_type": "execute_result"
    }
   ],
   "source": [
    "a"
   ]
  },
  {
   "cell_type": "code",
   "execution_count": 60,
   "id": "54c5654a",
   "metadata": {},
   "outputs": [
    {
     "data": {
      "text/plain": [
       "array([[25, 26, 27, 28, 29],\n",
       "       [30, 31, 32, 33, 34],\n",
       "       [35, 36, 37, 38, 39],\n",
       "       [40, 41, 42, 43, 44],\n",
       "       [45, 46, 47, 48, 49]])"
      ]
     },
     "execution_count": 60,
     "metadata": {},
     "output_type": "execute_result"
    }
   ],
   "source": [
    "b"
   ]
  },
  {
   "cell_type": "code",
   "execution_count": 62,
   "id": "1f12d373",
   "metadata": {},
   "outputs": [
    {
     "data": {
      "text/plain": [
       "array([[ 0,  1,  2,  3,  4],\n",
       "       [ 5,  6,  7,  8,  9],\n",
       "       [10, 11, 12, 13, 14],\n",
       "       [15, 16, 17, 18, 19],\n",
       "       [20, 21, 22, 23, 24],\n",
       "       [25, 26, 27, 28, 29],\n",
       "       [30, 31, 32, 33, 34],\n",
       "       [35, 36, 37, 38, 39],\n",
       "       [40, 41, 42, 43, 44],\n",
       "       [45, 46, 47, 48, 49]])"
      ]
     },
     "execution_count": 62,
     "metadata": {},
     "output_type": "execute_result"
    }
   ],
   "source": [
    "np.concatenate((a,b))"
   ]
  },
  {
   "cell_type": "code",
   "execution_count": 63,
   "id": "cdee0a47",
   "metadata": {},
   "outputs": [
    {
     "data": {
      "text/plain": [
       "array([[ 0,  1,  2,  3,  4, 25, 26, 27, 28, 29],\n",
       "       [ 5,  6,  7,  8,  9, 30, 31, 32, 33, 34],\n",
       "       [10, 11, 12, 13, 14, 35, 36, 37, 38, 39],\n",
       "       [15, 16, 17, 18, 19, 40, 41, 42, 43, 44],\n",
       "       [20, 21, 22, 23, 24, 45, 46, 47, 48, 49]])"
      ]
     },
     "execution_count": 63,
     "metadata": {},
     "output_type": "execute_result"
    }
   ],
   "source": [
    "np.concatenate((a,b), axis=1)"
   ]
  },
  {
   "cell_type": "code",
   "execution_count": 64,
   "id": "d7a626d7",
   "metadata": {},
   "outputs": [],
   "source": [
    "#stacking -> hstack(), vstack()"
   ]
  },
  {
   "cell_type": "code",
   "execution_count": 65,
   "id": "bb3f2498",
   "metadata": {},
   "outputs": [
    {
     "data": {
      "text/plain": [
       "array([[ 0,  1,  2,  3,  4, 25, 26, 27, 28, 29],\n",
       "       [ 5,  6,  7,  8,  9, 30, 31, 32, 33, 34],\n",
       "       [10, 11, 12, 13, 14, 35, 36, 37, 38, 39],\n",
       "       [15, 16, 17, 18, 19, 40, 41, 42, 43, 44],\n",
       "       [20, 21, 22, 23, 24, 45, 46, 47, 48, 49]])"
      ]
     },
     "execution_count": 65,
     "metadata": {},
     "output_type": "execute_result"
    }
   ],
   "source": [
    "np.hstack((a, b))"
   ]
  },
  {
   "cell_type": "code",
   "execution_count": 66,
   "id": "bfa747e6",
   "metadata": {},
   "outputs": [
    {
     "data": {
      "text/plain": [
       "array([[ 0,  1,  2,  3,  4],\n",
       "       [ 5,  6,  7,  8,  9],\n",
       "       [10, 11, 12, 13, 14],\n",
       "       [15, 16, 17, 18, 19],\n",
       "       [20, 21, 22, 23, 24],\n",
       "       [25, 26, 27, 28, 29],\n",
       "       [30, 31, 32, 33, 34],\n",
       "       [35, 36, 37, 38, 39],\n",
       "       [40, 41, 42, 43, 44],\n",
       "       [45, 46, 47, 48, 49]])"
      ]
     },
     "execution_count": 66,
     "metadata": {},
     "output_type": "execute_result"
    }
   ],
   "source": [
    "np.vstack((a,b))"
   ]
  },
  {
   "cell_type": "code",
   "execution_count": 67,
   "id": "6ed438f2",
   "metadata": {},
   "outputs": [
    {
     "data": {
      "text/plain": [
       "array([[[ 0,  1,  2,  3,  4],\n",
       "        [ 5,  6,  7,  8,  9],\n",
       "        [10, 11, 12, 13, 14],\n",
       "        [15, 16, 17, 18, 19],\n",
       "        [20, 21, 22, 23, 24]],\n",
       "\n",
       "       [[25, 26, 27, 28, 29],\n",
       "        [30, 31, 32, 33, 34],\n",
       "        [35, 36, 37, 38, 39],\n",
       "        [40, 41, 42, 43, 44],\n",
       "        [45, 46, 47, 48, 49]]])"
      ]
     },
     "execution_count": 67,
     "metadata": {},
     "output_type": "execute_result"
    }
   ],
   "source": [
    "np.stack((a, b))"
   ]
  },
  {
   "cell_type": "code",
   "execution_count": 68,
   "id": "488617dd",
   "metadata": {},
   "outputs": [
    {
     "data": {
      "text/plain": [
       "(2, 5, 5)"
      ]
     },
     "execution_count": 68,
     "metadata": {},
     "output_type": "execute_result"
    }
   ],
   "source": [
    "np.stack((a, b)).shape"
   ]
  },
  {
   "cell_type": "code",
   "execution_count": 70,
   "id": "72e52e64",
   "metadata": {},
   "outputs": [
    {
     "data": {
      "text/plain": [
       "(5, 10)"
      ]
     },
     "execution_count": 70,
     "metadata": {},
     "output_type": "execute_result"
    }
   ],
   "source": [
    "arr = np.column_stack((a, b))"
   ]
  },
  {
   "cell_type": "code",
   "execution_count": 71,
   "id": "f409d99c",
   "metadata": {},
   "outputs": [
    {
     "data": {
      "text/plain": [
       "[array([[0, 1, 2, 3, 4]]),\n",
       " array([[5, 6, 7, 8, 9]]),\n",
       " array([[10, 11, 12, 13, 14]]),\n",
       " array([[15, 16, 17, 18, 19]]),\n",
       " array([[20, 21, 22, 23, 24]])]"
      ]
     },
     "execution_count": 71,
     "metadata": {},
     "output_type": "execute_result"
    }
   ],
   "source": [
    "np.split(arr, 5)"
   ]
  },
  {
   "cell_type": "code",
   "execution_count": 72,
   "id": "e24c86a3",
   "metadata": {},
   "outputs": [
    {
     "data": {
      "text/plain": [
       "[array([[ 0],\n",
       "        [ 5],\n",
       "        [10],\n",
       "        [15],\n",
       "        [20]]),\n",
       " array([[ 1],\n",
       "        [ 6],\n",
       "        [11],\n",
       "        [16],\n",
       "        [21]]),\n",
       " array([[ 2],\n",
       "        [ 7],\n",
       "        [12],\n",
       "        [17],\n",
       "        [22]]),\n",
       " array([[ 3],\n",
       "        [ 8],\n",
       "        [13],\n",
       "        [18],\n",
       "        [23]]),\n",
       " array([[ 4],\n",
       "        [ 9],\n",
       "        [14],\n",
       "        [19],\n",
       "        [24]])]"
      ]
     },
     "execution_count": 72,
     "metadata": {},
     "output_type": "execute_result"
    }
   ],
   "source": [
    "np.hsplit(arr, 5)"
   ]
  },
  {
   "cell_type": "code",
   "execution_count": 73,
   "id": "56e2f4ba",
   "metadata": {},
   "outputs": [
    {
     "data": {
      "text/plain": [
       "[array([[0, 1, 2, 3, 4]]),\n",
       " array([[5, 6, 7, 8, 9]]),\n",
       " array([[10, 11, 12, 13, 14]]),\n",
       " array([[15, 16, 17, 18, 19]]),\n",
       " array([[20, 21, 22, 23, 24]])]"
      ]
     },
     "execution_count": 73,
     "metadata": {},
     "output_type": "execute_result"
    }
   ],
   "source": [
    "np.vsplit(arr, 5)"
   ]
  },
  {
   "cell_type": "code",
   "execution_count": 74,
   "id": "3fcbbe0e",
   "metadata": {},
   "outputs": [
    {
     "data": {
      "text/plain": [
       "array([[1, 2],\n",
       "       [3, 4]])"
      ]
     },
     "execution_count": 74,
     "metadata": {},
     "output_type": "execute_result"
    }
   ],
   "source": [
    "arr2"
   ]
  },
  {
   "cell_type": "code",
   "execution_count": 75,
   "id": "28c80029",
   "metadata": {},
   "outputs": [
    {
     "data": {
      "text/plain": [
       "array([1, 2, 3, 4])"
      ]
     },
     "execution_count": 75,
     "metadata": {},
     "output_type": "execute_result"
    }
   ],
   "source": [
    "arr2.flatten()"
   ]
  },
  {
   "cell_type": "code",
   "execution_count": 76,
   "id": "86d90a89",
   "metadata": {},
   "outputs": [
    {
     "data": {
      "text/plain": [
       "array([1, 2, 3, 4])"
      ]
     },
     "execution_count": 76,
     "metadata": {},
     "output_type": "execute_result"
    }
   ],
   "source": [
    "arr2.ravel()"
   ]
  },
  {
   "cell_type": "code",
   "execution_count": 77,
   "id": "9a93e4ea",
   "metadata": {},
   "outputs": [
    {
     "data": {
      "text/plain": [
       "array([[1, 2, 3, 4]])"
      ]
     },
     "execution_count": 77,
     "metadata": {},
     "output_type": "execute_result"
    }
   ],
   "source": [
    "arr2.reshape(1, -1)"
   ]
  },
  {
   "cell_type": "code",
   "execution_count": 78,
   "id": "0138deae",
   "metadata": {},
   "outputs": [
    {
     "data": {
      "text/plain": [
       "array([[1],\n",
       "       [2],\n",
       "       [3],\n",
       "       [4]])"
      ]
     },
     "execution_count": 78,
     "metadata": {},
     "output_type": "execute_result"
    }
   ],
   "source": [
    "arr2.reshape(-1, 1)"
   ]
  },
  {
   "cell_type": "code",
   "execution_count": 79,
   "id": "9ff39ade",
   "metadata": {},
   "outputs": [
    {
     "data": {
      "text/plain": [
       "array([[1, 3],\n",
       "       [2, 4]])"
      ]
     },
     "execution_count": 79,
     "metadata": {},
     "output_type": "execute_result"
    }
   ],
   "source": [
    "arr2.transpose()"
   ]
  },
  {
   "cell_type": "code",
   "execution_count": 80,
   "id": "11f5a7ee",
   "metadata": {},
   "outputs": [
    {
     "data": {
      "text/plain": [
       "array([[1, 3],\n",
       "       [2, 4]])"
      ]
     },
     "execution_count": 80,
     "metadata": {},
     "output_type": "execute_result"
    }
   ],
   "source": [
    "arr2.T"
   ]
  },
  {
   "cell_type": "code",
   "execution_count": 81,
   "id": "c41df040",
   "metadata": {},
   "outputs": [],
   "source": [
    "# u1 -> [1, -1, 4, ]"
   ]
  },
  {
   "cell_type": "code",
   "execution_count": 82,
   "id": "535be4f0",
   "metadata": {},
   "outputs": [],
   "source": [
    "movie_ids = np.arange(1300, 2300)"
   ]
  },
  {
   "cell_type": "code",
   "execution_count": 86,
   "id": "5f69e69e",
   "metadata": {},
   "outputs": [
    {
     "ename": "NameError",
     "evalue": "name 'movie_ids' is not defined",
     "output_type": "error",
     "traceback": [
      "\u001b[0;31m---------------------------------------------------------------------------\u001b[0m",
      "\u001b[0;31mNameError\u001b[0m                                 Traceback (most recent call last)",
      "Cell \u001b[0;32mIn[86], line 1\u001b[0m\n\u001b[0;32m----> 1\u001b[0m movie_ids\n",
      "\u001b[0;31mNameError\u001b[0m: name 'movie_ids' is not defined"
     ]
    }
   ],
   "source": [
    "movie_ids"
   ]
  },
  {
   "cell_type": "code",
   "execution_count": 87,
   "id": "32429c58",
   "metadata": {},
   "outputs": [],
   "source": [
    "movie_ids = np.arange(1300, 2300)"
   ]
  },
  {
   "cell_type": "code",
   "execution_count": 88,
   "id": "4be892af",
   "metadata": {},
   "outputs": [
    {
     "data": {
      "text/plain": [
       "array([1300, 1301, 1302, 1303, 1304, 1305, 1306, 1307, 1308, 1309, 1310,\n",
       "       1311, 1312, 1313, 1314, 1315, 1316, 1317, 1318, 1319, 1320, 1321,\n",
       "       1322, 1323, 1324, 1325, 1326, 1327, 1328, 1329, 1330, 1331, 1332,\n",
       "       1333, 1334, 1335, 1336, 1337, 1338, 1339, 1340, 1341, 1342, 1343,\n",
       "       1344, 1345, 1346, 1347, 1348, 1349, 1350, 1351, 1352, 1353, 1354,\n",
       "       1355, 1356, 1357, 1358, 1359, 1360, 1361, 1362, 1363, 1364, 1365,\n",
       "       1366, 1367, 1368, 1369, 1370, 1371, 1372, 1373, 1374, 1375, 1376,\n",
       "       1377, 1378, 1379, 1380, 1381, 1382, 1383, 1384, 1385, 1386, 1387,\n",
       "       1388, 1389, 1390, 1391, 1392, 1393, 1394, 1395, 1396, 1397, 1398,\n",
       "       1399, 1400, 1401, 1402, 1403, 1404, 1405, 1406, 1407, 1408, 1409,\n",
       "       1410, 1411, 1412, 1413, 1414, 1415, 1416, 1417, 1418, 1419, 1420,\n",
       "       1421, 1422, 1423, 1424, 1425, 1426, 1427, 1428, 1429, 1430, 1431,\n",
       "       1432, 1433, 1434, 1435, 1436, 1437, 1438, 1439, 1440, 1441, 1442,\n",
       "       1443, 1444, 1445, 1446, 1447, 1448, 1449, 1450, 1451, 1452, 1453,\n",
       "       1454, 1455, 1456, 1457, 1458, 1459, 1460, 1461, 1462, 1463, 1464,\n",
       "       1465, 1466, 1467, 1468, 1469, 1470, 1471, 1472, 1473, 1474, 1475,\n",
       "       1476, 1477, 1478, 1479, 1480, 1481, 1482, 1483, 1484, 1485, 1486,\n",
       "       1487, 1488, 1489, 1490, 1491, 1492, 1493, 1494, 1495, 1496, 1497,\n",
       "       1498, 1499, 1500, 1501, 1502, 1503, 1504, 1505, 1506, 1507, 1508,\n",
       "       1509, 1510, 1511, 1512, 1513, 1514, 1515, 1516, 1517, 1518, 1519,\n",
       "       1520, 1521, 1522, 1523, 1524, 1525, 1526, 1527, 1528, 1529, 1530,\n",
       "       1531, 1532, 1533, 1534, 1535, 1536, 1537, 1538, 1539, 1540, 1541,\n",
       "       1542, 1543, 1544, 1545, 1546, 1547, 1548, 1549, 1550, 1551, 1552,\n",
       "       1553, 1554, 1555, 1556, 1557, 1558, 1559, 1560, 1561, 1562, 1563,\n",
       "       1564, 1565, 1566, 1567, 1568, 1569, 1570, 1571, 1572, 1573, 1574,\n",
       "       1575, 1576, 1577, 1578, 1579, 1580, 1581, 1582, 1583, 1584, 1585,\n",
       "       1586, 1587, 1588, 1589, 1590, 1591, 1592, 1593, 1594, 1595, 1596,\n",
       "       1597, 1598, 1599, 1600, 1601, 1602, 1603, 1604, 1605, 1606, 1607,\n",
       "       1608, 1609, 1610, 1611, 1612, 1613, 1614, 1615, 1616, 1617, 1618,\n",
       "       1619, 1620, 1621, 1622, 1623, 1624, 1625, 1626, 1627, 1628, 1629,\n",
       "       1630, 1631, 1632, 1633, 1634, 1635, 1636, 1637, 1638, 1639, 1640,\n",
       "       1641, 1642, 1643, 1644, 1645, 1646, 1647, 1648, 1649, 1650, 1651,\n",
       "       1652, 1653, 1654, 1655, 1656, 1657, 1658, 1659, 1660, 1661, 1662,\n",
       "       1663, 1664, 1665, 1666, 1667, 1668, 1669, 1670, 1671, 1672, 1673,\n",
       "       1674, 1675, 1676, 1677, 1678, 1679, 1680, 1681, 1682, 1683, 1684,\n",
       "       1685, 1686, 1687, 1688, 1689, 1690, 1691, 1692, 1693, 1694, 1695,\n",
       "       1696, 1697, 1698, 1699, 1700, 1701, 1702, 1703, 1704, 1705, 1706,\n",
       "       1707, 1708, 1709, 1710, 1711, 1712, 1713, 1714, 1715, 1716, 1717,\n",
       "       1718, 1719, 1720, 1721, 1722, 1723, 1724, 1725, 1726, 1727, 1728,\n",
       "       1729, 1730, 1731, 1732, 1733, 1734, 1735, 1736, 1737, 1738, 1739,\n",
       "       1740, 1741, 1742, 1743, 1744, 1745, 1746, 1747, 1748, 1749, 1750,\n",
       "       1751, 1752, 1753, 1754, 1755, 1756, 1757, 1758, 1759, 1760, 1761,\n",
       "       1762, 1763, 1764, 1765, 1766, 1767, 1768, 1769, 1770, 1771, 1772,\n",
       "       1773, 1774, 1775, 1776, 1777, 1778, 1779, 1780, 1781, 1782, 1783,\n",
       "       1784, 1785, 1786, 1787, 1788, 1789, 1790, 1791, 1792, 1793, 1794,\n",
       "       1795, 1796, 1797, 1798, 1799, 1800, 1801, 1802, 1803, 1804, 1805,\n",
       "       1806, 1807, 1808, 1809, 1810, 1811, 1812, 1813, 1814, 1815, 1816,\n",
       "       1817, 1818, 1819, 1820, 1821, 1822, 1823, 1824, 1825, 1826, 1827,\n",
       "       1828, 1829, 1830, 1831, 1832, 1833, 1834, 1835, 1836, 1837, 1838,\n",
       "       1839, 1840, 1841, 1842, 1843, 1844, 1845, 1846, 1847, 1848, 1849,\n",
       "       1850, 1851, 1852, 1853, 1854, 1855, 1856, 1857, 1858, 1859, 1860,\n",
       "       1861, 1862, 1863, 1864, 1865, 1866, 1867, 1868, 1869, 1870, 1871,\n",
       "       1872, 1873, 1874, 1875, 1876, 1877, 1878, 1879, 1880, 1881, 1882,\n",
       "       1883, 1884, 1885, 1886, 1887, 1888, 1889, 1890, 1891, 1892, 1893,\n",
       "       1894, 1895, 1896, 1897, 1898, 1899, 1900, 1901, 1902, 1903, 1904,\n",
       "       1905, 1906, 1907, 1908, 1909, 1910, 1911, 1912, 1913, 1914, 1915,\n",
       "       1916, 1917, 1918, 1919, 1920, 1921, 1922, 1923, 1924, 1925, 1926,\n",
       "       1927, 1928, 1929, 1930, 1931, 1932, 1933, 1934, 1935, 1936, 1937,\n",
       "       1938, 1939, 1940, 1941, 1942, 1943, 1944, 1945, 1946, 1947, 1948,\n",
       "       1949, 1950, 1951, 1952, 1953, 1954, 1955, 1956, 1957, 1958, 1959,\n",
       "       1960, 1961, 1962, 1963, 1964, 1965, 1966, 1967, 1968, 1969, 1970,\n",
       "       1971, 1972, 1973, 1974, 1975, 1976, 1977, 1978, 1979, 1980, 1981,\n",
       "       1982, 1983, 1984, 1985, 1986, 1987, 1988, 1989, 1990, 1991, 1992,\n",
       "       1993, 1994, 1995, 1996, 1997, 1998, 1999, 2000, 2001, 2002, 2003,\n",
       "       2004, 2005, 2006, 2007, 2008, 2009, 2010, 2011, 2012, 2013, 2014,\n",
       "       2015, 2016, 2017, 2018, 2019, 2020, 2021, 2022, 2023, 2024, 2025,\n",
       "       2026, 2027, 2028, 2029, 2030, 2031, 2032, 2033, 2034, 2035, 2036,\n",
       "       2037, 2038, 2039, 2040, 2041, 2042, 2043, 2044, 2045, 2046, 2047,\n",
       "       2048, 2049, 2050, 2051, 2052, 2053, 2054, 2055, 2056, 2057, 2058,\n",
       "       2059, 2060, 2061, 2062, 2063, 2064, 2065, 2066, 2067, 2068, 2069,\n",
       "       2070, 2071, 2072, 2073, 2074, 2075, 2076, 2077, 2078, 2079, 2080,\n",
       "       2081, 2082, 2083, 2084, 2085, 2086, 2087, 2088, 2089, 2090, 2091,\n",
       "       2092, 2093, 2094, 2095, 2096, 2097, 2098, 2099, 2100, 2101, 2102,\n",
       "       2103, 2104, 2105, 2106, 2107, 2108, 2109, 2110, 2111, 2112, 2113,\n",
       "       2114, 2115, 2116, 2117, 2118, 2119, 2120, 2121, 2122, 2123, 2124,\n",
       "       2125, 2126, 2127, 2128, 2129, 2130, 2131, 2132, 2133, 2134, 2135,\n",
       "       2136, 2137, 2138, 2139, 2140, 2141, 2142, 2143, 2144, 2145, 2146,\n",
       "       2147, 2148, 2149, 2150, 2151, 2152, 2153, 2154, 2155, 2156, 2157,\n",
       "       2158, 2159, 2160, 2161, 2162, 2163, 2164, 2165, 2166, 2167, 2168,\n",
       "       2169, 2170, 2171, 2172, 2173, 2174, 2175, 2176, 2177, 2178, 2179,\n",
       "       2180, 2181, 2182, 2183, 2184, 2185, 2186, 2187, 2188, 2189, 2190,\n",
       "       2191, 2192, 2193, 2194, 2195, 2196, 2197, 2198, 2199, 2200, 2201,\n",
       "       2202, 2203, 2204, 2205, 2206, 2207, 2208, 2209, 2210, 2211, 2212,\n",
       "       2213, 2214, 2215, 2216, 2217, 2218, 2219, 2220, 2221, 2222, 2223,\n",
       "       2224, 2225, 2226, 2227, 2228, 2229, 2230, 2231, 2232, 2233, 2234,\n",
       "       2235, 2236, 2237, 2238, 2239, 2240, 2241, 2242, 2243, 2244, 2245,\n",
       "       2246, 2247, 2248, 2249, 2250, 2251, 2252, 2253, 2254, 2255, 2256,\n",
       "       2257, 2258, 2259, 2260, 2261, 2262, 2263, 2264, 2265, 2266, 2267,\n",
       "       2268, 2269, 2270, 2271, 2272, 2273, 2274, 2275, 2276, 2277, 2278,\n",
       "       2279, 2280, 2281, 2282, 2283, 2284, 2285, 2286, 2287, 2288, 2289,\n",
       "       2290, 2291, 2292, 2293, 2294, 2295, 2296, 2297, 2298, 2299])"
      ]
     },
     "execution_count": 88,
     "metadata": {},
     "output_type": "execute_result"
    }
   ],
   "source": [
    "movie_ids"
   ]
  },
  {
   "cell_type": "code",
   "execution_count": 89,
   "id": "0640eca8",
   "metadata": {},
   "outputs": [
    {
     "data": {
      "text/plain": [
       "array([1301, 1302, 1303, 1304, 1305, 1306, 1307, 1308, 1309, 1310, 1311,\n",
       "       1312, 1313, 1314, 1315, 1316, 1317, 1318, 1319, 1320, 1321, 1322,\n",
       "       1323, 1324, 1325, 1326, 1327, 1328, 1329, 1330, 1331, 1332, 1333,\n",
       "       1334, 1335, 1336, 1337, 1338, 1339, 1340, 1341, 1342, 1343, 1344,\n",
       "       1345, 1346, 1347, 1348, 1349, 1350, 1351, 1352, 1353, 1354, 1355,\n",
       "       1356, 1357, 1358, 1359, 1360, 1361, 1362, 1363, 1364, 1365, 1366,\n",
       "       1367, 1368, 1369, 1370, 1371, 1372, 1373, 1374, 1375, 1376, 1377,\n",
       "       1378, 1379, 1380, 1381, 1382, 1383, 1384, 1385, 1386, 1387, 1388,\n",
       "       1389, 1390, 1391, 1392, 1393, 1394, 1395, 1396, 1397, 1398, 1399,\n",
       "       1400, 1401, 1402, 1403, 1404, 1405, 1406, 1407, 1408, 1409, 1410,\n",
       "       1411, 1412, 1413, 1414, 1415, 1416, 1417, 1418, 1419, 1420, 1421,\n",
       "       1422, 1423, 1424, 1425, 1426, 1427, 1428, 1429, 1430, 1431, 1432,\n",
       "       1433, 1434, 1435, 1436, 1437, 1438, 1439, 1440, 1441, 1442, 1443,\n",
       "       1444, 1445, 1446, 1447, 1448, 1449, 1450, 1451, 1452, 1453, 1454,\n",
       "       1455, 1456, 1457, 1458, 1459, 1460, 1461, 1462, 1463, 1464, 1465,\n",
       "       1466, 1467, 1468, 1469, 1470, 1471, 1472, 1473, 1474, 1475, 1476,\n",
       "       1477, 1478, 1479, 1480, 1481, 1482, 1483, 1484, 1485, 1486, 1487,\n",
       "       1488, 1489, 1490, 1491, 1492, 1493, 1494, 1495, 1496, 1497, 1498,\n",
       "       1499, 1500, 1501, 1502, 1503, 1504, 1505, 1506, 1507, 1508, 1509,\n",
       "       1510, 1511, 1512, 1513, 1514, 1515, 1516, 1517, 1518, 1519, 1520,\n",
       "       1521, 1522, 1523, 1524, 1525, 1526, 1527, 1528, 1529, 1530, 1531,\n",
       "       1532, 1533, 1534, 1535, 1536, 1537, 1538, 1539, 1540, 1541, 1542,\n",
       "       1543, 1544, 1545, 1546, 1547, 1548, 1549, 1550, 1551, 1552, 1553,\n",
       "       1554, 1555, 1556, 1557, 1558, 1559, 1560, 1561, 1562, 1563, 1564,\n",
       "       1565, 1566, 1567, 1568, 1569, 1570, 1571, 1572, 1573, 1574, 1575,\n",
       "       1576, 1577, 1578, 1579, 1580, 1581, 1582, 1583, 1584, 1585, 1586,\n",
       "       1587, 1588, 1589, 1590, 1591, 1592, 1593, 1594, 1595, 1596, 1597,\n",
       "       1598, 1599, 1600, 1601, 1602, 1603, 1604, 1605, 1606, 1607, 1608,\n",
       "       1609, 1610, 1611, 1612, 1613, 1614, 1615, 1616, 1617, 1618, 1619,\n",
       "       1620, 1621, 1622, 1623, 1624, 1625, 1626, 1627, 1628, 1629, 1630,\n",
       "       1631, 1632, 1633, 1634, 1635, 1636, 1637, 1638, 1639, 1640, 1641,\n",
       "       1642, 1643, 1644, 1645, 1646, 1647, 1648, 1649, 1650, 1651, 1652,\n",
       "       1653, 1654, 1655, 1656, 1657, 1658, 1659, 1660, 1661, 1662, 1663,\n",
       "       1664, 1665, 1666, 1667, 1668, 1669, 1670, 1671, 1672, 1673, 1674,\n",
       "       1675, 1676, 1677, 1678, 1679, 1680, 1681, 1682, 1683, 1684, 1685,\n",
       "       1686, 1687, 1688, 1689, 1690, 1691, 1692, 1693, 1694, 1695, 1696,\n",
       "       1697, 1698, 1699, 1700, 1701, 1702, 1703, 1704, 1705, 1706, 1707,\n",
       "       1708, 1709, 1710, 1711, 1712, 1713, 1714, 1715, 1716, 1717, 1718,\n",
       "       1719, 1720, 1721, 1722, 1723, 1724, 1725, 1726, 1727, 1728, 1729,\n",
       "       1730, 1731, 1732, 1733, 1734, 1735, 1736, 1737, 1738, 1739, 1740,\n",
       "       1741, 1742, 1743, 1744, 1745, 1746, 1747, 1748, 1749, 1750, 1751,\n",
       "       1752, 1753, 1754, 1755, 1756, 1757, 1758, 1759, 1760, 1761, 1762,\n",
       "       1763, 1764, 1765, 1766, 1767, 1768, 1769, 1770, 1771, 1772, 1773,\n",
       "       1774, 1775, 1776, 1777, 1778, 1779, 1780, 1781, 1782, 1783, 1784,\n",
       "       1785, 1786, 1787, 1788, 1789, 1790, 1791, 1792, 1793, 1794, 1795,\n",
       "       1796, 1797, 1798, 1799, 1800, 1801, 1802, 1803, 1804, 1805, 1806,\n",
       "       1807, 1808, 1809, 1810, 1811, 1812, 1813, 1814, 1815, 1816, 1817,\n",
       "       1818, 1819, 1820, 1821, 1822, 1823, 1824, 1825, 1826, 1827, 1828,\n",
       "       1829, 1830, 1831, 1832, 1833, 1834, 1835, 1836, 1837, 1838, 1839,\n",
       "       1840, 1841, 1842, 1843, 1844, 1845, 1846, 1847, 1848, 1849, 1850,\n",
       "       1851, 1852, 1853, 1854, 1855, 1856, 1857, 1858, 1859, 1860, 1861,\n",
       "       1862, 1863, 1864, 1865, 1866, 1867, 1868, 1869, 1870, 1871, 1872,\n",
       "       1873, 1874, 1875, 1876, 1877, 1878, 1879, 1880, 1881, 1882, 1883,\n",
       "       1884, 1885, 1886, 1887, 1888, 1889, 1890, 1891, 1892, 1893, 1894,\n",
       "       1895, 1896, 1897, 1898, 1899, 1900, 1901, 1902, 1903, 1904, 1905,\n",
       "       1906, 1907, 1908, 1909, 1910, 1911, 1912, 1913, 1914, 1915, 1916,\n",
       "       1917, 1918, 1919, 1920, 1921, 1922, 1923, 1924, 1925, 1926, 1927,\n",
       "       1928, 1929, 1930, 1931, 1932, 1933, 1934, 1935, 1936, 1937, 1938,\n",
       "       1939, 1940, 1941, 1942, 1943, 1944, 1945, 1946, 1947, 1948, 1949,\n",
       "       1950, 1951, 1952, 1953, 1954, 1955, 1956, 1957, 1958, 1959, 1960,\n",
       "       1961, 1962, 1963, 1964, 1965, 1966, 1967, 1968, 1969, 1970, 1971,\n",
       "       1972, 1973, 1974, 1975, 1976, 1977, 1978, 1979, 1980, 1981, 1982,\n",
       "       1983, 1984, 1985, 1986, 1987, 1988, 1989, 1990, 1991, 1992, 1993,\n",
       "       1994, 1995, 1996, 1997, 1998, 1999, 2000, 2001, 2002, 2003, 2004,\n",
       "       2005, 2006, 2007, 2008, 2009, 2010, 2011, 2012, 2013, 2014, 2015,\n",
       "       2016, 2017, 2018, 2019, 2020, 2021, 2022, 2023, 2024, 2025, 2026,\n",
       "       2027, 2028, 2029, 2030, 2031, 2032, 2033, 2034, 2035, 2036, 2037,\n",
       "       2038, 2039, 2040, 2041, 2042, 2043, 2044, 2045, 2046, 2047, 2048,\n",
       "       2049, 2050, 2051, 2052, 2053, 2054, 2055, 2056, 2057, 2058, 2059,\n",
       "       2060, 2061, 2062, 2063, 2064, 2065, 2066, 2067, 2068, 2069, 2070,\n",
       "       2071, 2072, 2073, 2074, 2075, 2076, 2077, 2078, 2079, 2080, 2081,\n",
       "       2082, 2083, 2084, 2085, 2086, 2087, 2088, 2089, 2090, 2091, 2092,\n",
       "       2093, 2094, 2095, 2096, 2097, 2098, 2099, 2100, 2101, 2102, 2103,\n",
       "       2104, 2105, 2106, 2107, 2108, 2109, 2110, 2111, 2112, 2113, 2114,\n",
       "       2115, 2116, 2117, 2118, 2119, 2120, 2121, 2122, 2123, 2124, 2125,\n",
       "       2126, 2127, 2128, 2129, 2130, 2131, 2132, 2133, 2134, 2135, 2136,\n",
       "       2137, 2138, 2139, 2140, 2141, 2142, 2143, 2144, 2145, 2146, 2147,\n",
       "       2148, 2149, 2150, 2151, 2152, 2153, 2154, 2155, 2156, 2157, 2158,\n",
       "       2159, 2160, 2161, 2162, 2163, 2164, 2165, 2166, 2167, 2168, 2169,\n",
       "       2170, 2171, 2172, 2173, 2174, 2175, 2176, 2177, 2178, 2179, 2180,\n",
       "       2181, 2182, 2183, 2184, 2185, 2186, 2187, 2188, 2189, 2190, 2191,\n",
       "       2192, 2193, 2194, 2195, 2196, 2197, 2198, 2199, 2200, 2201, 2202,\n",
       "       2203, 2204, 2205, 2206, 2207, 2208, 2209, 2210, 2211, 2212, 2213,\n",
       "       2214, 2215, 2216, 2217, 2218, 2219, 2220, 2221, 2222, 2223, 2224,\n",
       "       2225, 2226, 2227, 2228, 2229, 2230, 2231, 2232, 2233, 2234, 2235,\n",
       "       2236, 2237, 2238, 2239, 2240, 2241, 2242, 2243, 2244, 2245, 2246,\n",
       "       2247, 2248, 2249, 2250, 2251, 2252, 2253, 2254, 2255, 2256, 2257,\n",
       "       2258, 2259, 2260, 2261, 2262, 2263, 2264, 2265, 2266, 2267, 2268,\n",
       "       2269, 2270, 2271, 2272, 2273, 2274, 2275, 2276, 2277, 2278, 2279,\n",
       "       2280, 2281, 2282, 2283, 2284, 2285, 2286, 2287, 2288, 2289, 2290,\n",
       "       2291, 2292, 2293, 2294, 2295, 2296, 2297, 2298, 2299, 2300])"
      ]
     },
     "execution_count": 89,
     "metadata": {},
     "output_type": "execute_result"
    }
   ],
   "source": [
    "movie_ids = np.arange(1301, 2301)\n",
    "movie_ids"
   ]
  },
  {
   "cell_type": "code",
   "execution_count": 90,
   "id": "871cfd6c",
   "metadata": {},
   "outputs": [],
   "source": [
    "import random as r"
   ]
  },
  {
   "cell_type": "code",
   "execution_count": 91,
   "id": "2eb1d77c",
   "metadata": {},
   "outputs": [],
   "source": [
    "user_ratings = np.full(1000, -1)"
   ]
  },
  {
   "cell_type": "code",
   "execution_count": 92,
   "id": "5a03ad05",
   "metadata": {},
   "outputs": [
    {
     "data": {
      "text/plain": [
       "array([-1, -1, -1, -1, -1, -1, -1, -1, -1, -1, -1, -1, -1, -1, -1, -1, -1,\n",
       "       -1, -1, -1, -1, -1, -1, -1, -1, -1, -1, -1, -1, -1, -1, -1, -1, -1,\n",
       "       -1, -1, -1, -1, -1, -1, -1, -1, -1, -1, -1, -1, -1, -1, -1, -1, -1,\n",
       "       -1, -1, -1, -1, -1, -1, -1, -1, -1, -1, -1, -1, -1, -1, -1, -1, -1,\n",
       "       -1, -1, -1, -1, -1, -1, -1, -1, -1, -1, -1, -1, -1, -1, -1, -1, -1,\n",
       "       -1, -1, -1, -1, -1, -1, -1, -1, -1, -1, -1, -1, -1, -1, -1, -1, -1,\n",
       "       -1, -1, -1, -1, -1, -1, -1, -1, -1, -1, -1, -1, -1, -1, -1, -1, -1,\n",
       "       -1, -1, -1, -1, -1, -1, -1, -1, -1, -1, -1, -1, -1, -1, -1, -1, -1,\n",
       "       -1, -1, -1, -1, -1, -1, -1, -1, -1, -1, -1, -1, -1, -1, -1, -1, -1,\n",
       "       -1, -1, -1, -1, -1, -1, -1, -1, -1, -1, -1, -1, -1, -1, -1, -1, -1,\n",
       "       -1, -1, -1, -1, -1, -1, -1, -1, -1, -1, -1, -1, -1, -1, -1, -1, -1,\n",
       "       -1, -1, -1, -1, -1, -1, -1, -1, -1, -1, -1, -1, -1, -1, -1, -1, -1,\n",
       "       -1, -1, -1, -1, -1, -1, -1, -1, -1, -1, -1, -1, -1, -1, -1, -1, -1,\n",
       "       -1, -1, -1, -1, -1, -1, -1, -1, -1, -1, -1, -1, -1, -1, -1, -1, -1,\n",
       "       -1, -1, -1, -1, -1, -1, -1, -1, -1, -1, -1, -1, -1, -1, -1, -1, -1,\n",
       "       -1, -1, -1, -1, -1, -1, -1, -1, -1, -1, -1, -1, -1, -1, -1, -1, -1,\n",
       "       -1, -1, -1, -1, -1, -1, -1, -1, -1, -1, -1, -1, -1, -1, -1, -1, -1,\n",
       "       -1, -1, -1, -1, -1, -1, -1, -1, -1, -1, -1, -1, -1, -1, -1, -1, -1,\n",
       "       -1, -1, -1, -1, -1, -1, -1, -1, -1, -1, -1, -1, -1, -1, -1, -1, -1,\n",
       "       -1, -1, -1, -1, -1, -1, -1, -1, -1, -1, -1, -1, -1, -1, -1, -1, -1,\n",
       "       -1, -1, -1, -1, -1, -1, -1, -1, -1, -1, -1, -1, -1, -1, -1, -1, -1,\n",
       "       -1, -1, -1, -1, -1, -1, -1, -1, -1, -1, -1, -1, -1, -1, -1, -1, -1,\n",
       "       -1, -1, -1, -1, -1, -1, -1, -1, -1, -1, -1, -1, -1, -1, -1, -1, -1,\n",
       "       -1, -1, -1, -1, -1, -1, -1, -1, -1, -1, -1, -1, -1, -1, -1, -1, -1,\n",
       "       -1, -1, -1, -1, -1, -1, -1, -1, -1, -1, -1, -1, -1, -1, -1, -1, -1,\n",
       "       -1, -1, -1, -1, -1, -1, -1, -1, -1, -1, -1, -1, -1, -1, -1, -1, -1,\n",
       "       -1, -1, -1, -1, -1, -1, -1, -1, -1, -1, -1, -1, -1, -1, -1, -1, -1,\n",
       "       -1, -1, -1, -1, -1, -1, -1, -1, -1, -1, -1, -1, -1, -1, -1, -1, -1,\n",
       "       -1, -1, -1, -1, -1, -1, -1, -1, -1, -1, -1, -1, -1, -1, -1, -1, -1,\n",
       "       -1, -1, -1, -1, -1, -1, -1, -1, -1, -1, -1, -1, -1, -1, -1, -1, -1,\n",
       "       -1, -1, -1, -1, -1, -1, -1, -1, -1, -1, -1, -1, -1, -1, -1, -1, -1,\n",
       "       -1, -1, -1, -1, -1, -1, -1, -1, -1, -1, -1, -1, -1, -1, -1, -1, -1,\n",
       "       -1, -1, -1, -1, -1, -1, -1, -1, -1, -1, -1, -1, -1, -1, -1, -1, -1,\n",
       "       -1, -1, -1, -1, -1, -1, -1, -1, -1, -1, -1, -1, -1, -1, -1, -1, -1,\n",
       "       -1, -1, -1, -1, -1, -1, -1, -1, -1, -1, -1, -1, -1, -1, -1, -1, -1,\n",
       "       -1, -1, -1, -1, -1, -1, -1, -1, -1, -1, -1, -1, -1, -1, -1, -1, -1,\n",
       "       -1, -1, -1, -1, -1, -1, -1, -1, -1, -1, -1, -1, -1, -1, -1, -1, -1,\n",
       "       -1, -1, -1, -1, -1, -1, -1, -1, -1, -1, -1, -1, -1, -1, -1, -1, -1,\n",
       "       -1, -1, -1, -1, -1, -1, -1, -1, -1, -1, -1, -1, -1, -1, -1, -1, -1,\n",
       "       -1, -1, -1, -1, -1, -1, -1, -1, -1, -1, -1, -1, -1, -1, -1, -1, -1,\n",
       "       -1, -1, -1, -1, -1, -1, -1, -1, -1, -1, -1, -1, -1, -1, -1, -1, -1,\n",
       "       -1, -1, -1, -1, -1, -1, -1, -1, -1, -1, -1, -1, -1, -1, -1, -1, -1,\n",
       "       -1, -1, -1, -1, -1, -1, -1, -1, -1, -1, -1, -1, -1, -1, -1, -1, -1,\n",
       "       -1, -1, -1, -1, -1, -1, -1, -1, -1, -1, -1, -1, -1, -1, -1, -1, -1,\n",
       "       -1, -1, -1, -1, -1, -1, -1, -1, -1, -1, -1, -1, -1, -1, -1, -1, -1,\n",
       "       -1, -1, -1, -1, -1, -1, -1, -1, -1, -1, -1, -1, -1, -1, -1, -1, -1,\n",
       "       -1, -1, -1, -1, -1, -1, -1, -1, -1, -1, -1, -1, -1, -1, -1, -1, -1,\n",
       "       -1, -1, -1, -1, -1, -1, -1, -1, -1, -1, -1, -1, -1, -1, -1, -1, -1,\n",
       "       -1, -1, -1, -1, -1, -1, -1, -1, -1, -1, -1, -1, -1, -1, -1, -1, -1,\n",
       "       -1, -1, -1, -1, -1, -1, -1, -1, -1, -1, -1, -1, -1, -1, -1, -1, -1,\n",
       "       -1, -1, -1, -1, -1, -1, -1, -1, -1, -1, -1, -1, -1, -1, -1, -1, -1,\n",
       "       -1, -1, -1, -1, -1, -1, -1, -1, -1, -1, -1, -1, -1, -1, -1, -1, -1,\n",
       "       -1, -1, -1, -1, -1, -1, -1, -1, -1, -1, -1, -1, -1, -1, -1, -1, -1,\n",
       "       -1, -1, -1, -1, -1, -1, -1, -1, -1, -1, -1, -1, -1, -1, -1, -1, -1,\n",
       "       -1, -1, -1, -1, -1, -1, -1, -1, -1, -1, -1, -1, -1, -1, -1, -1, -1,\n",
       "       -1, -1, -1, -1, -1, -1, -1, -1, -1, -1, -1, -1, -1, -1, -1, -1, -1,\n",
       "       -1, -1, -1, -1, -1, -1, -1, -1, -1, -1, -1, -1, -1, -1, -1, -1, -1,\n",
       "       -1, -1, -1, -1, -1, -1, -1, -1, -1, -1, -1, -1, -1, -1, -1, -1, -1,\n",
       "       -1, -1, -1, -1, -1, -1, -1, -1, -1, -1, -1, -1, -1, -1])"
      ]
     },
     "execution_count": 92,
     "metadata": {},
     "output_type": "execute_result"
    }
   ],
   "source": [
    "user_ratings"
   ]
  },
  {
   "cell_type": "code",
   "execution_count": 93,
   "id": "7c93ea09",
   "metadata": {},
   "outputs": [
    {
     "ename": "IndexError",
     "evalue": "index 1301 is out of bounds for axis 0 with size 1000",
     "output_type": "error",
     "traceback": [
      "\u001b[0;31m---------------------------------------------------------------------------\u001b[0m",
      "\u001b[0;31mIndexError\u001b[0m                                Traceback (most recent call last)",
      "Cell \u001b[0;32mIn[93], line 3\u001b[0m\n\u001b[1;32m      1\u001b[0m \u001b[38;5;28;01mfor\u001b[39;00m i \u001b[38;5;129;01min\u001b[39;00m \u001b[38;5;28mrange\u001b[39m(\u001b[38;5;241m1301\u001b[39m, \u001b[38;5;241m2301\u001b[39m):\n\u001b[1;32m      2\u001b[0m     rat \u001b[38;5;241m=\u001b[39m r\u001b[38;5;241m.\u001b[39mrandint(\u001b[38;5;241m0\u001b[39m, \u001b[38;5;241m10\u001b[39m)\n\u001b[0;32m----> 3\u001b[0m     user_ratings[i] \u001b[38;5;241m=\u001b[39m rat\n",
      "\u001b[0;31mIndexError\u001b[0m: index 1301 is out of bounds for axis 0 with size 1000"
     ]
    }
   ],
   "source": [
    "for i in range(1301, 2301):\n",
    "    rat = r.randint(0, 10)\n",
    "    user_ratings[i] = rat"
   ]
  },
  {
   "cell_type": "code",
   "execution_count": 94,
   "id": "51a7f57f",
   "metadata": {},
   "outputs": [],
   "source": [
    "for i in range(0, 1000):\n",
    "    rat = r.randint(-1, 10)\n",
    "    user_ratings[i] = rat"
   ]
  },
  {
   "cell_type": "code",
   "execution_count": 95,
   "id": "8bca4d3f",
   "metadata": {},
   "outputs": [
    {
     "data": {
      "text/plain": [
       "array([ 1,  7,  1,  2,  1,  2,  5,  4,  6,  0,  3,  4, 10,  9,  7,  3,  9,\n",
       "        8,  9,  1,  3,  9,  0,  2,  3,  9,  5,  4,  4,  3,  8, 10,  9,  9,\n",
       "        7,  2,  6,  1,  0,  4,  3,  4,  9,  8,  0,  0,  4,  9,  4,  6,  2,\n",
       "        2, 10,  3,  7,  7,  2,  9,  4,  4,  2,  3,  2,  8,  3,  9,  2,  0,\n",
       "        5,  9,  2, 10,  4,  8,  0,  2,  7,  0,  0,  9,  2,  2,  4,  8,  5,\n",
       "        2,  7,  2,  1,  2, 10,  3, 10,  4,  8,  5,  8,  7, 10,  6,  7,  1,\n",
       "        1,  0,  5, 10,  0,  6,  1,  5,  1,  4,  1,  9,  1,  5,  9,  5,  7,\n",
       "       10,  6,  0,  3,  7,  3,  9, 10,  4,  3,  1,  5,  9,  5,  6,  5,  2,\n",
       "       10,  0,  2,  8,  8,  8,  0,  4,  5,  1,  7,  0, 10,  6,  1,  4,  1,\n",
       "        4,  3,  4,  3,  0,  4,  4,  2,  3,  6,  1,  4,  0,  2,  7,  7,  1,\n",
       "        4, 10,  5,  7,  7,  3,  2,  4,  2,  5,  4, 10,  1,  8,  7,  9,  0,\n",
       "        1,  6, 10,  9,  1,  3,  6,  8,  2,  0,  5,  4,  0,  3,  1,  8,  2,\n",
       "        8,  1,  7,  9,  8,  2,  7,  8,  2,  5,  3,  7,  5,  6,  2,  9,  1,\n",
       "        8,  1,  4,  3,  5,  1,  1,  3,  8,  8,  8,  9,  6,  8,  8,  4,  5,\n",
       "       10,  0,  9, 10,  5,  1,  4,  5,  5,  6,  6,  1,  9, 10, 10,  5,  9,\n",
       "        0,  3,  3,  8,  7,  4,  7, 10,  9, 10,  2,  8,  3, 10,  5,  4,  5,\n",
       "        5,  1,  6,  5, 10,  2, 10,  8, 10,  4,  6,  3,  7,  8,  0,  9,  0,\n",
       "        0,  0,  4,  0,  6,  8, 10,  4,  2,  6,  4,  4,  0,  9,  0,  7,  5,\n",
       "        1,  3,  4,  7,  0,  5,  4,  8,  9,  1,  3,  2,  3, 10,  4, 10,  9,\n",
       "        4,  3,  4,  5,  1,  8,  5, 10, 10,  5,  9,  5,  4,  6,  5,  7,  5,\n",
       "        7,  2,  8,  4,  9,  2,  2,  7,  0,  0,  8,  4,  7,  7,  9,  4, 10,\n",
       "        6,  0,  0, 10,  0,  6,  8,  5,  0,  6,  1,  4,  0,  0,  1,  4,  8,\n",
       "       10,  6,  8, 10, 10,  3,  6,  0,  9,  2,  0,  5,  4,  6,  9,  8,  2,\n",
       "        3,  5,  6,  7,  1,  3,  1,  4,  7,  2,  5,  5,  8,  7,  8,  0,  3,\n",
       "        1,  8,  8,  0,  5,  9,  1,  3,  2,  9,  8,  5,  0,  4, 10,  9,  8,\n",
       "        0,  2,  6,  3,  5,  6,  0,  8,  0,  3,  1,  3,  0,  1,  8,  5,  8,\n",
       "        5,  3,  5,  6,  8,  9,  5,  7,  2,  3,  9,  5,  5,  2,  3, 10,  8,\n",
       "        5,  2,  3,  2,  6,  6,  8,  6,  5, 10,  8,  0,  9,  1,  9,  4,  1,\n",
       "       10,  3,  9,  8,  2,  5,  7,  5,  1,  7,  0,  2,  2,  2,  8,  4,  0,\n",
       "        7,  7,  8,  9,  8, 10,  5, 10,  5,  1,  9,  3,  0,  9,  4, 10, 10,\n",
       "        0,  2,  9,  5,  8,  5,  9,  7,  4,  7,  9, 10,  8, 10,  0,  3,  8,\n",
       "        9, 10, 10,  4,  3, 10,  1,  1,  3, 10,  8,  9,  3,  9,  6,  0,  3,\n",
       "        5,  4,  9,  5,  6,  9,  0,  4,  7,  2,  4,  6,  2,  6, 10,  6,  2,\n",
       "        9,  7,  8,  5,  4,  8,  0,  7,  5,  7,  3,  6,  4,  3,  1,  2,  0,\n",
       "        7,  4,  1,  6,  0,  3,  4,  4,  6,  3,  7,  5,  9,  5,  1,  9,  1,\n",
       "        1,  4,  8,  0,  3,  3,  7,  8,  2,  9,  4,  1,  3,  2,  3,  4,  4,\n",
       "        3, 10,  4,  2,  6,  4,  6,  6,  7,  2,  0, 10,  7,  7,  9,  0,  0,\n",
       "        6,  3,  0,  2,  0,  3,  1,  2,  6,  2,  0,  5,  0,  1,  8,  4,  1,\n",
       "        9,  4,  8,  3,  4,  2,  1, 10,  4,  3,  2,  1,  5,  3,  3,  4,  8,\n",
       "        9,  5,  0,  4, 10,  2,  9,  3,  0,  2,  4,  3,  9,  2, 10,  1,  9,\n",
       "        1, 10,  1, 10,  2, 10,  9,  8,  6,  5,  9,  8,  1, 10,  3,  1,  1,\n",
       "        8,  9,  9,  2, 10,  7,  5,  3,  5,  9,  4,  6,  0,  6,  2,  1,  4,\n",
       "        8,  4,  1,  7,  3,  9,  9,  0,  6,  9,  0,  5,  8,  5,  4, 10,  6,\n",
       "       10,  1,  2, 10,  4,  9,  4,  5,  0,  5,  7,  3,  7,  6,  0,  9,  4,\n",
       "       10,  1,  4,  2,  2,  3,  6,  2,  8,  5, 10,  5,  7,  9, 10,  3,  8,\n",
       "        1,  0,  1,  7,  3,  2,  5,  6,  3,  6, 10,  7,  7,  5,  3,  6,  8,\n",
       "        9,  4,  6,  1, 10,  6,  9,  0,  7,  4,  5,  2,  1,  1,  6,  4,  3,\n",
       "        6,  9,  4,  8,  6,  2, 10,  6,  5,  3,  6,  0,  8,  8,  5,  0,  1,\n",
       "       10,  9,  3, 10,  9,  0,  0,  2,  9,  5,  0,  4, 10,  5,  7,  6,  1,\n",
       "       10,  4,  2, 10,  5,  6,  4,  6,  4,  6,  6,  9, 10, 10,  6,  3,  4,\n",
       "        3,  2, 10,  3,  4,  7,  5,  1,  8,  8,  9,  0,  0,  8,  4,  1,  8,\n",
       "        4,  0,  3,  3,  3,  5,  0,  2,  8,  7,  3,  8,  6,  8, 10,  3, 10,\n",
       "        7,  5,  3,  3,  7,  7,  2,  7,  5,  6,  2,  2,  6,  8,  0,  1,  4,\n",
       "        9,  2,  6,  9,  2,  6,  4, 10,  3, 10,  9,  4,  7,  9,  6,  9,  6,\n",
       "        4,  3,  9,  9,  9,  1,  1,  3, 10, 10,  8,  1,  9,  4,  8,  9,  8,\n",
       "        5,  3,  6,  1,  8,  6,  3,  7, 10,  1,  0,  9, 10,  4,  5,  5,  4,\n",
       "        1,  7,  6, 10,  5,  8,  5,  2, 10,  4,  8,  1,  2,  8, 10,  0,  9,\n",
       "        5,  7,  6,  8,  7,  3,  0,  9,  4,  9,  1,  7,  8,  7, 10,  8,  9,\n",
       "        0,  2, 10,  1,  1,  0,  8,  5,  8, 10,  2,  4,  4, 10])"
      ]
     },
     "execution_count": 95,
     "metadata": {},
     "output_type": "execute_result"
    }
   ],
   "source": [
    "user_ratings"
   ]
  },
  {
   "cell_type": "code",
   "execution_count": 96,
   "id": "2fb4871b",
   "metadata": {},
   "outputs": [],
   "source": [
    "for i in range(0, 1000):\n",
    "    rat = r.randint(-1, 10)\n",
    "    user_ratings[i] = rat\n"
   ]
  },
  {
   "cell_type": "code",
   "execution_count": 97,
   "id": "0494ff30",
   "metadata": {},
   "outputs": [
    {
     "data": {
      "text/plain": [
       "array([ 2,  3,  2,  3,  5,  6,  8,  0,  6, 10, -1,  8, -1,  2,  4, -1,  4,\n",
       "        7,  8, 10,  9,  8,  8, -1,  7,  2,  6, -1, 10,  3,  2,  7,  1,  2,\n",
       "       -1,  7,  5,  2, -1,  3,  0,  8, 10,  2, 10,  9, 10,  1,  5,  8, 10,\n",
       "        0,  8,  5,  7, 10,  9,  1,  5,  1, 10,  6,  3,  9, -1, 10,  8,  1,\n",
       "        4,  5,  2,  8,  3,  8,  6,  2,  6,  7,  1, -1, 10,  1,  2,  9,  6,\n",
       "        3,  5,  5, 10, 10, 10,  2,  6,  6,  4,  9, 10,  6,  5, -1,  1,  4,\n",
       "       10,  5,  1, 10,  7,  2,  9,  7,  4,  5,  5,  5,  0,  4,  9,  6,  6,\n",
       "       10,  3,  1,  7,  4,  9,  7,  3, -1, -1,  4,  0,  1,  6,  0, 10,  1,\n",
       "        2,  4,  6,  1,  1,  5,  9,  9,  7,  3,  3, -1,  8,  7,  0,  9,  6,\n",
       "        9,  1,  4,  5,  1,  4,  6,  2,  3,  0,  0,  1,  2,  0,  8,  3,  0,\n",
       "        0,  7,  8, 10,  9,  6, -1,  2,  8,  8,  3,  6,  0,  0,  9,  4,  2,\n",
       "        9,  5,  4, 10,  0,  5,  6, 10, 10, -1,  2,  0,  4,  3,  2,  0,  2,\n",
       "        4, 10,  9, 10,  5,  1,  8,  5,  1,  2,  7,  2,  1,  6,  4,  7,  6,\n",
       "       10,  4,  5, 10, -1, -1,  8,  1,  2,  5, -1,  9,  9, 10, -1,  8,  7,\n",
       "        7,  0,  5,  2, 10,  5,  3,  3,  2, 10, 10,  7,  1,  2,  2, 10,  7,\n",
       "        7,  4,  6,  7,  2,  4,  3, 10,  1,  8, 10,  1, 10,  0,  1, 10,  7,\n",
       "        6,  9,  9,  0,  2,  9,  8,  0,  3,  0,  9,  8, -1,  6,  2,  9,  5,\n",
       "        5,  6,  7, 10, -1,  3,  5,  8,  7,  6,  5,  8,  2,  2,  7,  2, 10,\n",
       "       -1,  1,  2,  5,  6,  1,  6,  2,  0,  9,  6,  3,  4,  3,  9,  6,  4,\n",
       "        0,  5,  5,  4, -1, -1,  5,  6,  6,  7,  9,  8,  6,  6,  6,  3,  3,\n",
       "        5,  7,  8,  1, 10,  0,  6,  2,  9,  2,  3,  5, -1, 10, 10,  5,  4,\n",
       "        4,  0,  2,  9,  6,  2,  8,  4,  8,  9,  8,  6,  7,  1,  5,  9, 10,\n",
       "        6,  4,  0,  2,  4, 10,  6,  1,  2,  8,  2,  4,  9,  5,  3,  8,  6,\n",
       "       -1,  5, -1,  0, -1,  2,  5,  5,  6,  8,  6,  7,  9,  4,  3,  4, -1,\n",
       "        5,  7,  4,  8,  8,  4, -1,  6,  5,  2,  1, 10,  1,  1,  4,  8,  8,\n",
       "        1,  3,  7,  7,  2,  7,  0,  9, 10,  5,  4,  1,  6,  0,  7,  3,  9,\n",
       "        3,  2, 10,  3, 10,  6,  6, -1,  4,  3,  7,  0,  4,  3,  7, -1,  7,\n",
       "        9,  4, 10,  4,  4,  4,  7,  5,  4,  4, 10,  0,  1,  4,  3,  2,  7,\n",
       "        3,  9,  3,  4,  3,  2,  6, 10,  1,  6,  0,  4,  2,  2,  5,  7, -1,\n",
       "        1,  1,  4,  4,  1,  8,  8,  4,  0,  4,  1,  0,  8,  1,  8,  9,  3,\n",
       "        5,  3,  7, -1,  1,  9,  2,  4, -1,  5, -1,  2,  7,  7,  6,  7,  5,\n",
       "        4,  6, 10,  9,  3, -1, -1,  9,  1,  3,  8,  0,  1,  4, -1, -1,  8,\n",
       "        7,  1,  4,  8, 10,  5,  3,  9,  1,  8,  8, 10,  0,  4,  9,  0,  1,\n",
       "        0,  3, -1,  3,  3,  2,  4,  0,  2,  3,  3, -1,  2,  7,  0,  8,  4,\n",
       "        8,  9,  0,  6,  5,  0,  5,  1,  4,  7,  7,  5,  3,  6,  5,  8, 10,\n",
       "        2,  0, -1,  0,  1,  3,  5,  0,  8,  1,  6,  0,  9,  4,  3,  2, 10,\n",
       "        7,  0, -1,  8,  5,  3,  8,  1,  0,  3,  2,  9,  7,  1, 10,  9,  9,\n",
       "        0,  9,  5,  0,  3,  0,  9,  2,  0, 10, 10, -1, 10,  9,  9, 10,  4,\n",
       "        7,  4,  5,  4,  1,  0,  2,  0,  4,  6, 10,  1,  9, 10,  4,  9,  5,\n",
       "        6,  1,  4,  9,  4,  1,  9, -1,  0,  1,  5,  0,  0,  3,  2,  9,  7,\n",
       "        5,  4,  8,  2,  3,  5,  3,  1,  6,  8,  3,  3, 10,  0, -1,  5,  6,\n",
       "       -1, -1,  0,  9,  2,  3,  0,  5,  4,  2,  9,  7,  8,  7, -1,  1,  5,\n",
       "        2,  5,  7,  3,  7,  8,  6,  8, 10,  8,  8,  3,  5, 10,  3,  1,  2,\n",
       "        6, 10,  4, 10, 10,  0,  7,  9,  7,  5,  5,  9,  0,  9,  9,  3, 10,\n",
       "        8,  8, 10,  4, -1,  2, -1,  6,  9,  5,  0,  4,  6,  3,  3,  5,  1,\n",
       "       10,  1,  8,  0,  8, 10, -1,  9,  3,  8,  2,  8,  0,  3, -1, -1,  1,\n",
       "        2,  3, -1, -1,  5, -1, 10, -1,  0, 10,  8, 10,  1,  5,  1,  2,  2,\n",
       "        1,  5,  8,  0,  3,  8,  3, 10,  3,  4,  2,  8,  7,  6,  3,  9,  0,\n",
       "       10,  0, 10,  4,  8,  7,  4,  6,  0,  0,  3,  2,  8,  5,  5, -1,  5,\n",
       "        5,  1,  1,  3,  3,  9,  2, -1,  5,  8,  6,  2,  1,  0, 10,  1,  4,\n",
       "        7,  2,  1,  5,  6,  5,  2,  7,  5, -1,  9,  7,  1, -1,  2, 10, 10,\n",
       "       -1,  8,  0,  1,  4,  7,  3, -1,  5, -1,  0,  1,  4,  1,  3,  7, -1,\n",
       "        8, -1,  1,  9, 10,  2, -1,  2,  8,  6,  9,  7, 10,  4,  1,  0,  3,\n",
       "        0,  1,  0,  1,  2,  0,  6,  6,  0,  0,  9,  8, -1, -1,  1,  7,  7,\n",
       "        7,  6,  6,  3,  3,  9,  7,  5, 10,  5,  4, -1,  7,  3, -1,  4,  9,\n",
       "        5,  3,  1,  7,  0,  1, -1,  7,  3,  3, 10, 10, -1,  8,  9,  7, 10,\n",
       "        8, -1,  7,  9,  2,  0,  6,  4,  1,  4,  7,  3,  2,  3,  1,  0,  6,\n",
       "        7,  5,  7,  5,  6,  5,  1,  8,  1,  8,  2,  0, -1,  4,  7, -1,  7,\n",
       "        7,  2, -1,  9,  1, -1,  9,  6,  1,  1,  3, 10, 10,  7])"
      ]
     },
     "execution_count": 97,
     "metadata": {},
     "output_type": "execute_result"
    }
   ],
   "source": [
    "user_ratings"
   ]
  },
  {
   "cell_type": "code",
   "execution_count": 98,
   "id": "e07fd7dc",
   "metadata": {},
   "outputs": [
    {
     "ename": "NameError",
     "evalue": "name 'movie_ratings' is not defined",
     "output_type": "error",
     "traceback": [
      "\u001b[0;31m---------------------------------------------------------------------------\u001b[0m",
      "\u001b[0;31mNameError\u001b[0m                                 Traceback (most recent call last)",
      "Cell \u001b[0;32mIn[98], line 1\u001b[0m\n\u001b[0;32m----> 1\u001b[0m movie_ratings\u001b[38;5;241m.\u001b[39mconcatenate(user_ratings)\n",
      "\u001b[0;31mNameError\u001b[0m: name 'movie_ratings' is not defined"
     ]
    }
   ],
   "source": [
    "movie_ratings.concatenate(user_ratings)"
   ]
  },
  {
   "cell_type": "code",
   "execution_count": 100,
   "id": "837af276",
   "metadata": {},
   "outputs": [],
   "source": [
    "final = np.concatenate((movie_ids, user_ratings))"
   ]
  },
  {
   "cell_type": "code",
   "execution_count": 101,
   "id": "c29f0662",
   "metadata": {},
   "outputs": [
    {
     "data": {
      "text/plain": [
       "array([1301, 1302, 1303, ...,   10,   10,    7])"
      ]
     },
     "execution_count": 101,
     "metadata": {},
     "output_type": "execute_result"
    }
   ],
   "source": [
    "final"
   ]
  },
  {
   "cell_type": "code",
   "execution_count": 102,
   "id": "fa0a7857",
   "metadata": {},
   "outputs": [
    {
     "data": {
      "text/plain": [
       "array([[1301, 1302],\n",
       "       [1303, 1304],\n",
       "       [1305, 1306],\n",
       "       ...,\n",
       "       [   1,    1],\n",
       "       [   3,   10],\n",
       "       [  10,    7]])"
      ]
     },
     "execution_count": 102,
     "metadata": {},
     "output_type": "execute_result"
    }
   ],
   "source": [
    "final.reshape(1000, 2)"
   ]
  },
  {
   "cell_type": "code",
   "execution_count": null,
   "id": "0d98cd22",
   "metadata": {},
   "outputs": [],
   "source": []
  }
 ],
 "metadata": {
  "kernelspec": {
   "display_name": "Python 3 (ipykernel)",
   "language": "python",
   "name": "python3"
  },
  "language_info": {
   "codemirror_mode": {
    "name": "ipython",
    "version": 3
   },
   "file_extension": ".py",
   "mimetype": "text/x-python",
   "name": "python",
   "nbconvert_exporter": "python",
   "pygments_lexer": "ipython3",
   "version": "3.11.5"
  }
 },
 "nbformat": 4,
 "nbformat_minor": 5
}
